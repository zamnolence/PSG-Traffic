{
 "cells": [
  {
   "cell_type": "markdown",
   "id": "f28d8a24",
   "metadata": {},
   "source": [
    "# EDA & Visualisation"
   ]
  },
  {
   "cell_type": "code",
   "execution_count": null,
   "id": "a6768f4f",
   "metadata": {},
   "outputs": [],
   "source": [
    "%reset"
   ]
  },
  {
   "cell_type": "code",
   "execution_count": null,
   "id": "bd771912",
   "metadata": {
    "ExecuteTime": {
     "end_time": "2022-01-23T11:21:53.545514Z",
     "start_time": "2022-01-23T11:21:53.535551Z"
    }
   },
   "outputs": [],
   "source": [
    "# Python ≥3.5 is required\n",
    "import sys\n",
    "assert sys.version_info >= (3, 5)\n",
    "\n",
    "# Common imports\n",
    "import os\n",
    "import timeit\n",
    "import numpy as np\n",
    "import pandas as pd\n",
    "import seaborn as sns\n",
    "from math import sqrt\n",
    "from datetime import date\n",
    "import holidays\n",
    "sns.set()\n",
    "import warnings\n",
    "warnings.filterwarnings(\"ignore\")\n",
    "\n",
    "# To plot pretty figures\n",
    "import matplotlib as mpl\n",
    "import matplotlib.pyplot as plt\n",
    "import matplotlib.dates as mdates\n",
    "mpl.rcParams.update(mpl.rcParamsDefault)\n",
    "mpl.rcParams[\"font.family\"] = \"serif\"\n",
    "mpl.rcParams[\"font.sans-serif\"] = \"Verdana\"\n",
    "mpl.rcParams[\"lines.markersize\"] = 20"
   ]
  },
  {
   "cell_type": "markdown",
   "id": "5d61e91d",
   "metadata": {},
   "source": [
    "## Incident File\n",
    "\n",
    "Incident data of Kwinana Fwy (Inner) northbound from 2018-01-01 00:00:00 to 2018-10-25 23:59:00"
   ]
  },
  {
   "cell_type": "code",
   "execution_count": null,
   "id": "355572e3",
   "metadata": {
    "ExecuteTime": {
     "end_time": "2022-01-23T11:18:47.898807Z",
     "start_time": "2022-01-23T11:18:47.870083Z"
    }
   },
   "outputs": [],
   "source": [
    "df1 = pd.read_csv('data/Kwinana_Fwy_Historic_Incidents_2018_Wide.csv')\n",
    "df1 = df1[df1.Incident_Type != 'Duplicate Entry']\n",
    "df1 = df1.reset_index(drop=True)\n",
    "df1.WST_Start = pd.to_datetime(df1.WST_Start)\n",
    "df1.WST_End = pd.to_datetime(df1.WST_End)\n",
    "df1.Incident_Type = df1.Incident_Type.str.replace('/', '/\\n')\n",
    "df1.info()"
   ]
  },
  {
   "cell_type": "code",
   "execution_count": null,
   "id": "44061bb6",
   "metadata": {
    "ExecuteTime": {
     "end_time": "2022-01-23T03:29:11.871446Z",
     "start_time": "2022-01-23T03:29:11.635437Z"
    }
   },
   "outputs": [],
   "source": [
    "fig, ax = plt.subplots(figsize=(6,6))\n",
    "ax = sns.barplot(x=df1.Incident_Type.value_counts(),\n",
    "           y=df1.Incident_Type.value_counts().index)\n",
    "ax.set_xlabel('Frequency')\n",
    "ax.set_xlim(right=200)\n",
    "for p in ax.patches:\n",
    "  width = p.get_width()\n",
    "  ax.text(width + 1,\n",
    "          p.get_y() + p.get_height()/2,\n",
    "          int(width),\n",
    "          ha=\"left\",\n",
    "          va=\"center\")\n",
    "#plt.savefig('fig/incident_type_1.png', bbox_inches=\"tight\")\n",
    "plt.show()"
   ]
  },
  {
   "cell_type": "markdown",
   "id": "1d24427b",
   "metadata": {},
   "source": [
    "Since Special Event, Pothole / Road Surface Damage, and Hazmat (including spills) did not affect traffic congestion, these three categories are combined into one category called 'Special Event / Pothole / Hazmat'\n",
    "\n",
    "Also, Flooding and Storm are combined into one category called 'Flooding / Storm'"
   ]
  },
  {
   "cell_type": "code",
   "execution_count": null,
   "id": "8ced3bf7",
   "metadata": {
    "ExecuteTime": {
     "end_time": "2022-01-23T11:19:06.219232Z",
     "start_time": "2022-01-23T11:19:06.206267Z"
    }
   },
   "outputs": [],
   "source": [
    "df1.Incident_Type=df1.Incident_Type.replace(['Special Event',\n",
    "                                            'Pothole /\\n Road Surface Damage',\n",
    "                                            'Hazmat (including spills)'],\n",
    "                                           'Special Event /\\nPothole / Hazmat')\n",
    "\n",
    "df1.Incident_Type=df1.Incident_Type.replace(['Flooding', 'Storm'],\n",
    "                                           'Flooding /\\nStorm')"
   ]
  },
  {
   "cell_type": "code",
   "execution_count": null,
   "id": "a0c80e08",
   "metadata": {
    "ExecuteTime": {
     "end_time": "2022-01-23T13:14:22.098326Z",
     "start_time": "2022-01-23T13:14:21.911997Z"
    },
    "scrolled": false
   },
   "outputs": [],
   "source": [
    "cmp = mpl.colors.ListedColormap(['#4053d3', '#00b25d', '#b51d14', '#ddb310'])\n",
    "\n",
    "plt.rcParams.update({'font.size': 16})\n",
    "fig, ax = plt.subplots(figsize=(10,8))\n",
    "ax = sns.barplot(x=df1.Incident_Type.value_counts(),\n",
    "           y=df1.Incident_Type.value_counts().index,\n",
    "                palette=['#4053d3', '#00b25d', '#b51d14', '#ddb310'])\n",
    "ax.set_ylabel('Incident Type', size=18)\n",
    "ax.set_xlabel('Frequency', size=18)\n",
    "ax.set_xlim(right=200)\n",
    "for p in ax.patches:\n",
    "  width = p.get_width()\n",
    "  ax.text(width + 12,\n",
    "          p.get_y() + p.get_height()/2,\n",
    "          str(int(width)) + '\\n(' + str(np.round(width/371*100, 1)) + '%)',\n",
    "          ha=\"center\",\n",
    "          va=\"center\")\n",
    "plt.savefig('fig/incident_type.png', bbox_inches=\"tight\")\n",
    "plt.show()"
   ]
  },
  {
   "cell_type": "code",
   "execution_count": null,
   "id": "01414773",
   "metadata": {
    "ExecuteTime": {
     "end_time": "2022-01-23T13:07:20.468865Z",
     "start_time": "2022-01-23T13:07:20.456897Z"
    }
   },
   "outputs": [],
   "source": [
    "df1.Incident_Type = df1.Incident_Type.replace([\n",
    "    'Flooding /\\nStorm', 'Special Event /\\nPothole / Hazmat',\n",
    "    'Special Event /\\nPothole / Hazmat', 'Animal /\\n Livestock',\n",
    "    'Vehicle Fire'], 'Miscellaneous')"
   ]
  },
  {
   "cell_type": "code",
   "execution_count": null,
   "id": "2b420c8c",
   "metadata": {
    "ExecuteTime": {
     "end_time": "2022-01-23T13:20:22.070746Z",
     "start_time": "2022-01-23T13:20:21.791339Z"
    }
   },
   "outputs": [],
   "source": [
    "temp2 = df1.groupby(['Incident_Type', 'Congestion']).size().unstack()\n",
    "temp2['sum'] = temp2.sum(axis=1)\n",
    "\n",
    "plt.rcParams[\"figure.figsize\"] = (10,8)\n",
    "plt.rcParams.update({'font.size': 16})\n",
    "\n",
    "cmp = mpl.colors.ListedColormap(['#efe645', '#e1562c', '#537eff'])\n",
    "\n",
    "ax=(temp2.sort_values(by='sum').iloc[:,:-1]\n",
    "    .plot(kind='barh', stacked=True, width=0.7,\n",
    "          cmap=cmp))\n",
    "ax.set_xlim(right=200)\n",
    "ax.set_ylabel('Incident Type', size=18)\n",
    "ax.set_xlabel('Frequency', size=18)\n",
    "ax.legend(title='')\n",
    "for i, v in enumerate(temp2.sort_values('sum')['sum']):\n",
    "    ax.text(v+12, i, \n",
    "            str(int(v)) + '\\n(' + str(np.round(v/temp2['sum'].sum()*100, 1)) + '%)',\n",
    "            va = 'center', ha = 'center', fontsize = 14)\n",
    "    \n",
    "for n in temp2.iloc[:,:-1]: # for each column\n",
    "    for i, (cs, ab) in enumerate(zip(temp2.sort_values(by='sum').cumsum(1)[n], \n",
    "                                     temp2.sort_values(by='sum')[n])):\n",
    "        if ~np.isnan(cs) and ab > 4:\n",
    "            ax.text(cs - ab / 2, i,\n",
    "                 str(int(ab)) + '\\n(' + str(np.round(ab/temp2['sum'].sum()*100, 1)) + '%)', \n",
    "                 va = 'center', ha = 'center', rotation = 20, fontsize = 12)   \n",
    "\n",
    "plt.savefig('fig/incident_congestion_2.png', bbox_inches=\"tight\")\n",
    "plt.show()"
   ]
  },
  {
   "cell_type": "code",
   "execution_count": null,
   "id": "012226bc",
   "metadata": {
    "ExecuteTime": {
     "end_time": "2022-01-23T11:19:15.083324Z",
     "start_time": "2022-01-23T11:19:15.061384Z"
    }
   },
   "outputs": [],
   "source": [
    "df1.TrafficCondition=df1.TrafficCondition.replace(['Left Emergency Lane Blocked',\n",
    "                                             'Right Emergency Lane Blocked'],\n",
    "                                             'Emergency Lane Blocked')\n",
    "\n",
    "df1.TrafficCondition=df1.TrafficCondition.replace(['Left Lane(s) Blocked',\n",
    "                                             'Right Lane(s) Blocked',\n",
    "                                             'Centre Lane(s) Blocked',\n",
    "                                             'Left Centre Lane(s) Blocked',\n",
    "                                             'Right Centre Lane(s) Blocked',\n",
    "                                             'Bus Lane Blocked'],\n",
    "                                             'Lane(s) Blocked')\n",
    "\n",
    "df1.TrafficCondition=df1.TrafficCondition.replace(['Left Turning Pocket Blocked',\n",
    "                                             'Right Turning Pocket Blocked'],\n",
    "                                             'Turning Pocket Blocked')"
   ]
  },
  {
   "cell_type": "code",
   "execution_count": null,
   "id": "164a5363",
   "metadata": {
    "ExecuteTime": {
     "end_time": "2022-01-23T13:21:30.751883Z",
     "start_time": "2022-01-23T13:21:30.447662Z"
    },
    "scrolled": false
   },
   "outputs": [],
   "source": [
    "temp2 = df1.groupby(['Incident_Type', 'TrafficCondition']).size().unstack()\n",
    "temp2['sum'] = temp2.sum(axis=1)\n",
    "\n",
    "plt.rcParams[\"figure.figsize\"] = (10,8)\n",
    "plt.rcParams.update({'font.size': 16})\n",
    "\n",
    "cmp = mpl.colors.ListedColormap(['#00cb85', '#efe645', '#537eff',\n",
    "                                '#e1562c', '#00e3ff'])\n",
    "\n",
    "ax=(temp2.sort_values(by='sum').iloc[:,:-1]\n",
    "    .plot(kind='barh', stacked=True, width=0.7,\n",
    "          cmap=cmp))\n",
    "ax.set_xlim(right=200)\n",
    "ax.set_ylabel('Incident Type', size=18)\n",
    "ax.set_xlabel('Frequency', size=18)\n",
    "ax.legend(title='Traffic Condition')\n",
    "for i, v in enumerate(temp2.sort_values('sum')['sum']):\n",
    "    ax.text(v+12, i, \n",
    "            str(int(v)) + '\\n(' + str(np.round(v/temp2['sum'].sum()*100, 1)) + '%)',\n",
    "            va = 'center', ha = 'center', fontsize = 14)\n",
    "    \n",
    "for n in temp2.iloc[:,:-1]: # for each column\n",
    "    for i, (cs, ab) in enumerate(zip(temp2.sort_values(by='sum').cumsum(1)[n], \n",
    "                                     temp2.sort_values(by='sum')[n])):\n",
    "        if ~np.isnan(cs) and ab > 6:\n",
    "            ax.text(cs - ab / 2, i,\n",
    "                 str(int(ab)) + '\\n(' + str(np.round(ab/temp2['sum'].sum()*100, 1)) + '%)', \n",
    "                 va = 'center', ha = 'center', rotation = 20, fontsize = 12)   \n",
    "\n",
    "#plt.savefig('fig/incident_condition_2.png', bbox_inches=\"tight\")\n",
    "plt.show()"
   ]
  },
  {
   "cell_type": "code",
   "execution_count": null,
   "id": "7b6f3cee",
   "metadata": {
    "ExecuteTime": {
     "end_time": "2022-01-23T11:24:21.792633Z",
     "start_time": "2022-01-23T11:24:21.485810Z"
    }
   },
   "outputs": [],
   "source": [
    "temp2 = df1.groupby(['TrafficCondition', 'Congestion']).size().unstack()\n",
    "temp2['sum'] = temp2.sum(axis=1)\n",
    "\n",
    "plt.rcParams[\"figure.figsize\"] = (10,8)\n",
    "plt.rcParams.update({'font.size': 16})\n",
    "\n",
    "cmp = mpl.colors.ListedColormap(['#efe645', '#e1562c', '#537eff'])\n",
    "\n",
    "ax=(temp2.sort_values(by='sum').iloc[:,:-1]\n",
    "    .plot(kind='barh', stacked=True, width=0.7,\n",
    "          cmap=cmp))\n",
    "ax.set_xlim(right=200)\n",
    "ax.set_ylabel('Traffic Condition', size=18)\n",
    "ax.set_xlabel('Frequency', size=18)\n",
    "ax.legend(title='')\n",
    "for i, v in enumerate(temp2.sort_values('sum')['sum']):\n",
    "    ax.text(v+12, i, \n",
    "            str(int(v)) + '\\n(' + str(np.round(v/temp2['sum'].sum()*100, 1)) + '%)',\n",
    "            va = 'center', ha = 'center', fontsize = 14)\n",
    "    \n",
    "for n in temp2.iloc[:,:-1]: # for each column\n",
    "    for i, (cs, ab) in enumerate(zip(temp2.sort_values(by='sum').cumsum(1)[n], \n",
    "                                     temp2.sort_values(by='sum')[n])):\n",
    "        if ~np.isnan(cs) and ab > 6:\n",
    "            ax.text(cs - ab / 2, i,\n",
    "                 str(int(ab)) + '\\n(' + str(np.round(ab/temp2['sum'].sum()*100, 1)) + '%)', \n",
    "                 va = 'center', ha = 'center', rotation = 20, fontsize = 12)   \n",
    "\n",
    "#plt.savefig('fig/condition_congestion.png', bbox_inches=\"tight\")\n",
    "plt.show()"
   ]
  },
  {
   "cell_type": "code",
   "execution_count": null,
   "id": "8664ab39",
   "metadata": {
    "ExecuteTime": {
     "end_time": "2022-01-23T11:19:21.711199Z",
     "start_time": "2022-01-23T11:19:21.684620Z"
    },
    "scrolled": true
   },
   "outputs": [],
   "source": [
    "def func2(a):\n",
    "    if -32.091154 <= a < -32.080696:\n",
    "        return \"1\"\n",
    "    elif -32.080696 <= a < -32.074042:\n",
    "        return \"2\"\n",
    "    elif -32.074042 <= a < -32.071075:\n",
    "        return \"3\"\n",
    "    elif -32.071075 <= a < -32.057092:\n",
    "        return \"4\"\n",
    "    elif -32.057092 <= a < -32.052286:\n",
    "        return \"5\"\n",
    "    elif -32.052286 <= a < -32.043637:\n",
    "        return \"6\"\n",
    "    elif -32.043637 <= a < -32.040758:\n",
    "        return \"7\"\n",
    "    elif -32.040758 <= a < -32.030254:\n",
    "        return \"8\"\n",
    "    elif -32.030254 <= a < -32.012242:\n",
    "        return \"9\"\n",
    "    elif -32.012242 <= a < -32.010690:\n",
    "        return \"10\"\n",
    "    elif -32.010690 <= a < -32.003147:\n",
    "        return \"11\"\n",
    "    elif -32.003147 <= a < -31.969905:\n",
    "        return \"12\"\n",
    "    elif -31.969905 <= a < -31.966753:\n",
    "        return \"13\"\n",
    "    elif a >= -31.966753 :\n",
    "        return \"14\"\n",
    "    else:\n",
    "        return \"Other\"\n",
    "\n",
    "df1['ID'] = df1['Lat'].apply(lambda x: func2(x))\n",
    "df1.ID = df1.ID.astype(int)\n",
    "df1.head()"
   ]
  },
  {
   "cell_type": "code",
   "execution_count": null,
   "id": "bb9747b9",
   "metadata": {
    "ExecuteTime": {
     "end_time": "2022-01-23T12:00:22.728010Z",
     "start_time": "2022-01-23T12:00:22.692142Z"
    }
   },
   "outputs": [],
   "source": [
    "df1.describe()"
   ]
  },
  {
   "cell_type": "code",
   "execution_count": null,
   "id": "eaa9707c",
   "metadata": {
    "ExecuteTime": {
     "end_time": "2022-01-23T13:17:43.488204Z",
     "start_time": "2022-01-23T13:17:42.951945Z"
    }
   },
   "outputs": [],
   "source": [
    "temp2 = df1.groupby(['ID', 'Incident_Type']).size().unstack()\n",
    "temp2['sum'] = temp2.sum(axis=1)\n",
    "\n",
    "plt.rcParams[\"figure.figsize\"] = (10,10)\n",
    "plt.rcParams.update({'font.size': 16})\n",
    "\n",
    "cmp = mpl.colors.ListedColormap(['#4053d3', '#00b25d', '#ddb310', '#b51d14'])\n",
    "\n",
    "ax=(temp2.sort_values(by='sum').iloc[:,:-1]\n",
    "    .plot(kind='barh', stacked=True, width=0.7,\n",
    "          cmap=cmp))\n",
    "ax.set_xlim(right=90)\n",
    "ax.set_ylabel('Link', size=18)\n",
    "ax.set_xlabel('Frequency', size=18)\n",
    "ax.legend(title='Incident Type')\n",
    "for i, v in enumerate(temp2.sort_values('sum')['sum']):\n",
    "    ax.text(v+5, i, \n",
    "            str(int(v)) + '\\n(' + str(np.round(v/temp2['sum'].sum()*100, 1)) + '%)',\n",
    "            va = 'center', ha = 'center', fontsize = 12)\n",
    "    \n",
    "for n in temp2.iloc[:,:-1]: # for each column\n",
    "    for i, (cs, ab) in enumerate(zip(temp2.sort_values(by='sum').cumsum(1)[n], \n",
    "                                     temp2.sort_values(by='sum')[n])):\n",
    "        if ~np.isnan(cs) and ab >= 5:\n",
    "            ax.text(cs - ab / 2, i-.01,\n",
    "                 str(int(ab)) + '\\n(' + str(np.round(ab/temp2['sum'].sum()*100, 1)) + '%)', \n",
    "                 va = 'center', ha = 'center', rotation=15, fontsize = 11)   \n",
    "\n",
    "#plt.savefig('fig/incident_link_2.png', bbox_inches=\"tight\")\n",
    "plt.show()"
   ]
  },
  {
   "cell_type": "code",
   "execution_count": null,
   "id": "881ac27b",
   "metadata": {
    "ExecuteTime": {
     "end_time": "2022-01-23T05:07:41.656497Z",
     "start_time": "2022-01-23T05:07:41.639364Z"
    }
   },
   "outputs": [],
   "source": [
    "del temp2"
   ]
  },
  {
   "cell_type": "code",
   "execution_count": null,
   "id": "61e1abbe",
   "metadata": {
    "ExecuteTime": {
     "end_time": "2022-01-23T05:08:03.356552Z",
     "start_time": "2022-01-23T05:08:03.158885Z"
    },
    "scrolled": false
   },
   "outputs": [],
   "source": [
    "import matplotlib.cm as cm\n",
    "import matplotlib.colors as mcolors\n",
    "\n",
    "def colorbar_index(ncolors, cmap):\n",
    "    cmap = cmap_discretize(cmap, ncolors)\n",
    "    mappable = cm.ScalarMappable(cmap=cmap)\n",
    "    mappable.set_array([])\n",
    "    mappable.set_clim(-0.5, ncolors+0.5)\n",
    "    colorbar = plt.colorbar(mappable)\n",
    "    colorbar.set_ticks(np.linspace(0, ncolors, ncolors))\n",
    "    colorbar.set_ticklabels(range(1, ncolors+1))\n",
    "    colorbar.set_label('Link')\n",
    "    \n",
    "def cmap_discretize(cmap, N):\n",
    "    \"\"\"Return a discrete colormap from the continuous colormap cmap.\n",
    "\n",
    "        cmap: colormap instance, eg. cm.jet. \n",
    "        N: number of colors.\n",
    "\n",
    "    Example\n",
    "        x = resize(arange(100), (5,100))\n",
    "        djet = cmap_discretize(cm.jet, 5)\n",
    "        imshow(x, cmap=djet)\n",
    "    \"\"\"\n",
    "\n",
    "    if type(cmap) == str:\n",
    "        cmap = plt.get_cmap(cmap)\n",
    "    colors_i = np.concatenate((np.linspace(0, 1., N), (0.,0.,0.,0.)))\n",
    "    colors_rgba = cmap(colors_i)\n",
    "    indices = np.linspace(0, 1., N+1)\n",
    "    cdict = {}\n",
    "    for ki,key in enumerate(('red','green','blue')):\n",
    "        cdict[key] = [ (indices[i], colors_rgba[i-1,ki], colors_rgba[i,ki])\n",
    "                       for i in range(N+1) ]\n",
    "    # Return colormap object.\n",
    "    return mcolors.LinearSegmentedColormap(cmap.name + \"_%d\"%N, cdict, 1024)\n",
    "\n",
    "\n",
    "cmp = mpl.colors.ListedColormap(['#ebac23', '#b80058', '#008cf9',\n",
    "                                 '#006e00', '#00bbad', '#d163e6',\n",
    "                                 '#b24502', '#ff9287', '#5954d6',\n",
    "                                 '#00c6f8', '#878500', '#00a76c',\n",
    "                                 '#bdbdbd', '#000078', '#b51d14'])\n",
    "df1.plot(kind='scatter', x='Long', y='Lat', alpha=0.5,\n",
    "        s='Duration', c='ID', label='Duration',\n",
    "        cmap=cmp, colorbar=False, rot=45)\n",
    "plt.ticklabel_format(useOffset=False)\n",
    "plt.xlabel('Longitude')\n",
    "plt.ylabel('Latitude')\n",
    "plt.legend(markerscale=0.2)\n",
    "colorbar_index(ncolors=14, cmap=cmp)\n",
    "#plt.savefig('fig/incident_loc_link_2.png', bbox_inches=\"tight\")\n",
    "plt.show()"
   ]
  },
  {
   "cell_type": "markdown",
   "id": "1a6348ca",
   "metadata": {},
   "source": [
    "## Traffic + Incident data"
   ]
  },
  {
   "cell_type": "code",
   "execution_count": null,
   "id": "7715ae4e",
   "metadata": {
    "ExecuteTime": {
     "end_time": "2022-01-23T05:53:32.593728Z",
     "start_time": "2022-01-23T05:53:23.550135Z"
    }
   },
   "outputs": [],
   "source": [
    "df = pd.read_csv('data/LAD+incident2.csv', index_col=0)\n",
    "df.DateTime = pd.to_datetime(df.DateTime)\n",
    "df.info()"
   ]
  },
  {
   "cell_type": "code",
   "execution_count": null,
   "id": "321fc6fb",
   "metadata": {
    "ExecuteTime": {
     "end_time": "2022-01-23T10:18:43.284625Z",
     "start_time": "2022-01-23T10:18:43.265638Z"
    },
    "scrolled": false
   },
   "outputs": [],
   "source": [
    "df.head()"
   ]
  },
  {
   "cell_type": "code",
   "execution_count": null,
   "id": "e354edd0",
   "metadata": {
    "ExecuteTime": {
     "end_time": "2022-01-23T10:10:39.067182Z",
     "start_time": "2022-01-23T10:10:38.675000Z"
    }
   },
   "outputs": [],
   "source": [
    "df.iloc[:,3:6] \\\n",
    "    .describe() \\\n",
    "    .apply(lambda s: s.apply('{0:.4f}'.format))"
   ]
  },
  {
   "cell_type": "code",
   "execution_count": null,
   "id": "a0390772",
   "metadata": {
    "ExecuteTime": {
     "end_time": "2022-01-23T13:23:26.795795Z",
     "start_time": "2022-01-23T13:23:26.439547Z"
    }
   },
   "outputs": [],
   "source": [
    "df.iloc[:,2:6].corr()"
   ]
  },
  {
   "cell_type": "markdown",
   "id": "f3b25849",
   "metadata": {
    "ExecuteTime": {
     "end_time": "2022-01-23T06:32:52.235209Z",
     "start_time": "2022-01-23T06:32:52.218255Z"
    }
   },
   "source": [
    "- Moderate positive correlation between volume and occupancy\n",
    "- High negative correlation between speed and occupancy"
   ]
  },
  {
   "cell_type": "code",
   "execution_count": null,
   "id": "a482899b",
   "metadata": {
    "ExecuteTime": {
     "end_time": "2022-01-23T10:10:16.059481Z",
     "start_time": "2022-01-23T10:07:50.848759Z"
    }
   },
   "outputs": [],
   "source": [
    "# pd.plotting.scatter_matrix(df.iloc[:,3:6], alpha=0.05)\n",
    "# plt.show()"
   ]
  },
  {
   "cell_type": "code",
   "execution_count": null,
   "id": "d81de2ee",
   "metadata": {
    "ExecuteTime": {
     "end_time": "2022-01-23T10:24:15.640816Z",
     "start_time": "2022-01-23T10:20:11.664405Z"
    }
   },
   "outputs": [],
   "source": [
    "# variables = ['Volume', 'Speed', 'Occupancy']\n",
    "# g = sns.PairGrid(df, hue=\"Volume\", vars=variables)\n",
    "# g.map_diag(sns.histplot, hue=None, color=\".3\")\n",
    "# g.map_offdiag(sns.scatterplot)\n",
    "# g.add_legend()"
   ]
  },
  {
   "cell_type": "code",
   "execution_count": null,
   "id": "434b4a17",
   "metadata": {
    "ExecuteTime": {
     "end_time": "2022-01-23T13:24:44.634755Z",
     "start_time": "2022-01-23T13:24:43.519450Z"
    }
   },
   "outputs": [],
   "source": [
    "df.iloc[:,3:6].plot.box(figsize=(6,6))\n",
    "plt.show()"
   ]
  },
  {
   "cell_type": "code",
   "execution_count": null,
   "id": "a5ce5445",
   "metadata": {
    "ExecuteTime": {
     "end_time": "2022-01-23T13:24:11.618280Z",
     "start_time": "2022-01-23T13:24:11.553825Z"
    }
   },
   "outputs": [],
   "source": [
    "plt.rcParams.update({'font.size': 14,\n",
    "                    'lines.markersize': 5})\n",
    "fig, ax = plt.subplots(1, 3, figsize=(6,8))\n",
    "ax.boxplot(df.Volume)\n",
    "ax.boxplot(df.Speed)\n",
    "ax.boxplot(df.Occupancy)\n",
    "\n",
    "plt.show()"
   ]
  },
  {
   "cell_type": "markdown",
   "id": "4785ae06",
   "metadata": {},
   "source": [
    "### Prepare the data for deep learning algorithms"
   ]
  },
  {
   "cell_type": "code",
   "execution_count": null,
   "id": "c9f427f7",
   "metadata": {
    "ExecuteTime": {
     "end_time": "2022-01-23T11:28:52.794647Z",
     "start_time": "2022-01-23T11:28:52.637906Z"
    }
   },
   "outputs": [],
   "source": [
    "# Drop Congestion column\n",
    "df.drop('Congestion', axis=1, inplace=True)"
   ]
  },
  {
   "cell_type": "code",
   "execution_count": null,
   "id": "6b87f515",
   "metadata": {
    "ExecuteTime": {
     "end_time": "2022-01-23T10:29:23.297334Z",
     "start_time": "2022-01-23T10:29:22.879256Z"
    }
   },
   "outputs": [],
   "source": [
    "# NaN TrafficCondition == 'All Lanes Open'\n",
    "\n",
    "df.TrafficCondition = df.TrafficCondition.replace({\n",
    "    np.nan: 'All Lanes Open',\n",
    "    'All Lanes Open, Emergency Lane Blocked': 'Emergency Lane Blocked',\n",
    "    'Lane Closures Unknown, Lane(s) Blocked': 'Lane(s) Blocked',\n",
    "    'Lane(s) Blocked, All Lanes Open': 'Lane(s) Blocked',\n",
    "    'All Lanes Open, Lane(s) Blocked': 'Lane(s) Blocked',\n",
    "    'Emergency Lane Blocked, Emergency Lane Blocked': 'Emergency Lane Blocked',\n",
    "    'Lane Closures Unknown, All Lanes Open': 'All Lanes Open',\n",
    "    'Lane(s) Blocked, Lane(s) Blocked': 'Lane(s) Blocked'\n",
    "})\n",
    "\n",
    "df.TrafficCondition.value_counts()"
   ]
  },
  {
   "cell_type": "code",
   "execution_count": null,
   "id": "1ee479e1",
   "metadata": {
    "ExecuteTime": {
     "end_time": "2022-01-23T10:24:32.062589Z",
     "start_time": "2022-01-23T10:24:31.967172Z"
    }
   },
   "outputs": [],
   "source": [
    "df.Incident_Type.value_counts()"
   ]
  },
  {
   "cell_type": "code",
   "execution_count": null,
   "id": "fbb9b064",
   "metadata": {
    "ExecuteTime": {
     "end_time": "2022-01-23T12:52:36.475607Z",
     "start_time": "2022-01-23T12:52:36.009260Z"
    }
   },
   "outputs": [],
   "source": [
    "df.Incident_Type = df.Incident_Type.replace([\n",
    "    'Flooding /\\nStorm', 'Special Event /\\nPothole / Hazmat',\n",
    "    'Special Event /\\nPothole / Hazmat', 'Animal /\\n Livestock',\n",
    "    'Vehicle Fire'], 'Miscellaneous')\n",
    "\n",
    "df.Incident_Type = df.Incident_Type.replace({\n",
    "    'Flooding /\\nStorm, Road Crash': 'Road Crash, Miscellaneous',\n",
    "    'Miscellaneous, Break Down /\\n Tow Away': 'Break Down /\\n Tow Away, Miscellaneous',\n",
    "    'Flooding /\\nStorm, Break Down /\\n Tow Away': 'Break Down /\\n Tow Away, Miscellaneous',\n",
    "})\n",
    "df.Incident_Type.value_counts()"
   ]
  },
  {
   "cell_type": "code",
   "execution_count": null,
   "id": "7c65a326",
   "metadata": {
    "ExecuteTime": {
     "end_time": "2022-01-23T12:33:29.530276Z",
     "start_time": "2022-01-23T12:33:28.882333Z"
    }
   },
   "outputs": [],
   "source": [
    "df['Num_Incidents'] = df.Incident_Type.str.count(', ')\n",
    "df['Num_Incidents'] = df['Num_Incidents'] + 1\n",
    "df['Num_Incidents'] = df['Num_Incidents'].replace(np.nan, 0)\n",
    "df['Num_Incidents'].value_counts()"
   ]
  },
  {
   "cell_type": "code",
   "execution_count": null,
   "id": "d5f77372",
   "metadata": {
    "ExecuteTime": {
     "end_time": "2022-01-23T12:53:11.643974Z",
     "start_time": "2022-01-23T12:53:04.482344Z"
    },
    "scrolled": true
   },
   "outputs": [],
   "source": [
    "df[['Incident_Type1','Incident_Type2']]=df['Incident_Type'].str.split(', ', 1, expand=True)"
   ]
  },
  {
   "cell_type": "code",
   "execution_count": null,
   "id": "07c5c272",
   "metadata": {
    "ExecuteTime": {
     "end_time": "2022-01-23T12:54:21.170308Z",
     "start_time": "2022-01-23T12:54:20.624380Z"
    }
   },
   "outputs": [],
   "source": [
    "df.Incident_Type1 = df.Incident_Type1.replace(np.nan, 'No Incidents')\n",
    "df.Incident_Type2 = df.Incident_Type2.replace(np.nan, 'No Incidents')\n",
    "\n",
    "df.Incident_Type1.value_counts()"
   ]
  },
  {
   "cell_type": "code",
   "execution_count": null,
   "id": "93c525c4",
   "metadata": {
    "ExecuteTime": {
     "end_time": "2022-01-23T12:54:09.118743Z",
     "start_time": "2022-01-23T12:54:08.936687Z"
    }
   },
   "outputs": [],
   "source": [
    "df.Incident_Type2.value_counts()"
   ]
  },
  {
   "cell_type": "code",
   "execution_count": null,
   "id": "5b379c05",
   "metadata": {
    "ExecuteTime": {
     "end_time": "2022-01-23T12:58:22.362826Z",
     "start_time": "2022-01-23T12:58:21.969221Z"
    }
   },
   "outputs": [],
   "source": [
    "# Drop Incident_Type column\n",
    "df.drop('Incident_Type', axis=1, inplace=True)"
   ]
  },
  {
   "cell_type": "code",
   "execution_count": null,
   "id": "a14795bb",
   "metadata": {
    "ExecuteTime": {
     "end_time": "2022-01-23T13:25:09.525787Z",
     "start_time": "2022-01-23T13:25:09.502711Z"
    },
    "scrolled": true
   },
   "outputs": [],
   "source": [
    "df.info()"
   ]
  },
  {
   "cell_type": "markdown",
   "id": "de8b1ae3",
   "metadata": {},
   "source": [
    "#### Link 11"
   ]
  },
  {
   "cell_type": "markdown",
   "id": "c62c8d8c",
   "metadata": {},
   "source": [
    "Consider\n",
    "\n",
    "- Link 11 and Link 12 (downstream)\n",
    "- Incident_Type1, Incident_Type2\n",
    "    + No Incidents\n",
    "    + Break Down / Tow Away\n",
    "    + Debris / Trees / Lost Loads\n",
    "    + Road Crash\n",
    "    + miscellaneous: everything else"
   ]
  },
  {
   "cell_type": "code",
   "execution_count": null,
   "id": "3941cc42",
   "metadata": {
    "ExecuteTime": {
     "end_time": "2022-01-23T13:27:02.920061Z",
     "start_time": "2022-01-23T13:27:02.817179Z"
    }
   },
   "outputs": [],
   "source": [
    "df11 = df[df.ID==11]\n",
    "df11.info()"
   ]
  },
  {
   "cell_type": "code",
   "execution_count": null,
   "id": "909f1f65",
   "metadata": {
    "ExecuteTime": {
     "end_time": "2022-01-23T13:31:07.174400Z",
     "start_time": "2022-01-23T13:31:07.079244Z"
    }
   },
   "outputs": [],
   "source": [
    "df11.drop('ID', axis=1, inplace=True)\n",
    "df11 = df11.set_index('DateTime')\n",
    "df11.index = pd.to_datetime(df11.index)\n",
    "if not df11.index.is_monotonic:\n",
    "    df11 = df11.sort_index()\n",
    "\n",
    "df11.info()"
   ]
  },
  {
   "cell_type": "code",
   "execution_count": null,
   "id": "0dd79966",
   "metadata": {
    "ExecuteTime": {
     "end_time": "2022-01-23T13:34:06.441135Z",
     "start_time": "2022-01-23T13:33:58.092956Z"
    },
    "scrolled": true
   },
   "outputs": [],
   "source": [
    "from sklearn.preprocessing import LabelBinarizer\n",
    "\n",
    "encoder = LabelBinarizer()\n",
    "df11 = df11.join(pd.DataFrame(encoder.fit_transform(df11['TrafficCondition']),\n",
    "                             columns=encoder.classes_,\n",
    "                             index=df11.index))\n",
    "df11.info()"
   ]
  },
  {
   "cell_type": "code",
   "execution_count": 311,
   "id": "9b304fa1",
   "metadata": {
    "ExecuteTime": {
     "end_time": "2022-01-23T13:38:20.836620Z",
     "start_time": "2022-01-23T13:38:20.767924Z"
    }
   },
   "outputs": [
    {
     "name": "stdout",
     "output_type": "stream",
     "text": [
      "<class 'pandas.core.frame.DataFrame'>\n",
      "DatetimeIndex: 429120 entries, 2018-01-01 00:00:00 to 2018-10-25 23:59:00\n",
      "Data columns (total 13 columns):\n",
      " #   Column                  Non-Null Count   Dtype  \n",
      "---  ------                  --------------   -----  \n",
      " 0   Length                  429120 non-null  float64\n",
      " 1   Volume                  429120 non-null  float64\n",
      " 2   Speed                   429120 non-null  float64\n",
      " 3   Occupancy               429120 non-null  float64\n",
      " 4   TrafficCondition        429120 non-null  object \n",
      " 5   Num_Incidents           429120 non-null  float64\n",
      " 6   Incident_Type1          429120 non-null  object \n",
      " 7   Incident_Type2          429120 non-null  object \n",
      " 8   All Lanes Open          429120 non-null  int32  \n",
      " 9   Emergency Lane Blocked  429120 non-null  int32  \n",
      " 10  Lane Closures Unknown   429120 non-null  int32  \n",
      " 11  Lane(s) Blocked         429120 non-null  int32  \n",
      " 12  Turning Pocket Blocked  429120 non-null  int32  \n",
      "dtypes: float64(5), int32(5), object(3)\n",
      "memory usage: 37.7+ MB\n"
     ]
    }
   ],
   "source": [
    "df11.info()"
   ]
  },
  {
   "cell_type": "code",
   "execution_count": 308,
   "id": "84376e75",
   "metadata": {
    "ExecuteTime": {
     "end_time": "2022-01-23T13:37:12.009695Z",
     "start_time": "2022-01-23T13:37:11.968812Z"
    }
   },
   "outputs": [
    {
     "data": {
      "text/plain": [
       "No Incidents                       426712\n",
       "Break Down /\\n Tow Away              1023\n",
       "Debris /\\n Trees /\\n Lost Loads       833\n",
       "Road Crash                            297\n",
       "Miscellaneous                         255\n",
       "Name: Incident_Type1, dtype: int64"
      ]
     },
     "execution_count": 308,
     "metadata": {},
     "output_type": "execute_result"
    }
   ],
   "source": [
    "df11.Incident_Type1.value_counts()"
   ]
  },
  {
   "cell_type": "code",
   "execution_count": 310,
   "id": "b22ba992",
   "metadata": {
    "ExecuteTime": {
     "end_time": "2022-01-23T13:37:25.576137Z",
     "start_time": "2022-01-23T13:37:25.543198Z"
    }
   },
   "outputs": [
    {
     "data": {
      "text/plain": [
       "No Incidents    429110\n",
       "Road Crash          10\n",
       "Name: Incident_Type2, dtype: int64"
      ]
     },
     "execution_count": 310,
     "metadata": {},
     "output_type": "execute_result"
    }
   ],
   "source": [
    "df11.Incident_Type2.value_counts()"
   ]
  },
  {
   "cell_type": "code",
   "execution_count": null,
   "id": "fbdb208b",
   "metadata": {},
   "outputs": [],
   "source": [
    "df11.to_csv('data/df11.csv')"
   ]
  }
 ],
 "metadata": {
  "hide_input": false,
  "kernelspec": {
   "display_name": "Python 3 (ipykernel)",
   "language": "python",
   "name": "python3"
  },
  "language_info": {
   "codemirror_mode": {
    "name": "ipython",
    "version": 3
   },
   "file_extension": ".py",
   "mimetype": "text/x-python",
   "name": "python",
   "nbconvert_exporter": "python",
   "pygments_lexer": "ipython3",
   "version": "3.8.5"
  },
  "latex_envs": {
   "LaTeX_envs_menu_present": true,
   "autoclose": false,
   "autocomplete": true,
   "bibliofile": "biblio.bib",
   "cite_by": "apalike",
   "current_citInitial": 1,
   "eqLabelWithNumbers": true,
   "eqNumInitial": 1,
   "hotkeys": {
    "equation": "Ctrl-E",
    "itemize": "Ctrl-I"
   },
   "labels_anchors": false,
   "latex_user_defs": false,
   "report_style_numbering": false,
   "user_envs_cfg": false
  },
  "toc": {
   "base_numbering": 1,
   "nav_menu": {},
   "number_sections": true,
   "sideBar": true,
   "skip_h1_title": false,
   "title_cell": "Table of Contents",
   "title_sidebar": "Contents",
   "toc_cell": false,
   "toc_position": {},
   "toc_section_display": true,
   "toc_window_display": false
  },
  "varInspector": {
   "cols": {
    "lenName": 16,
    "lenType": 16,
    "lenVar": 40
   },
   "kernels_config": {
    "python": {
     "delete_cmd_postfix": "",
     "delete_cmd_prefix": "del ",
     "library": "var_list.py",
     "varRefreshCmd": "print(var_dic_list())"
    },
    "r": {
     "delete_cmd_postfix": ") ",
     "delete_cmd_prefix": "rm(",
     "library": "var_list.r",
     "varRefreshCmd": "cat(var_dic_list()) "
    }
   },
   "position": {
    "height": "269.855px",
    "left": "543.136px",
    "right": "20px",
    "top": "120px",
    "width": "334.007px"
   },
   "types_to_exclude": [
    "module",
    "function",
    "builtin_function_or_method",
    "instance",
    "_Feature"
   ],
   "window_display": false
  }
 },
 "nbformat": 4,
 "nbformat_minor": 5
}
