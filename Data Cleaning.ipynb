{
 "cells": [
  {
   "cell_type": "markdown",
   "id": "afff71ea",
   "metadata": {},
   "source": [
    "# Data Cleaning\n",
    "\n",
    "<b>Contents</b>\n",
    "\n",
    "2. [Smart Freeways Data 2018 - Links All Days.xlsx](#2) <br>\n",
    "    2.1. [Unpivot data](#2.1) <br>\n",
    "    2.2. [Merge Volume, Speed and Occupancy](#2.2) <br>\n",
    "    2.3. [Dealing with missing data: Interpolation() and fillna()](#2.3) <br>\n",
    "3. [Minor_Incidents_Log2.xlsx](#3) <br>\n",
    "    3.1. [Merge incident type to Link All Days data by ID and DateTime](#3.1) \n",
    "\n",
    "<b>Input:</b>\n",
    "\n",
    "- Smart Freeways Data 2018 - Links All Days.xlsx\n",
    "\n",
    "14 Links' per minute time series data from 1 Jan 2018 to 25 Oct 2018\n",
    "\n",
    "       - Sheet 1: NPI Links - Volume    (data available upto 1 Nov 18)\n",
    "       - Sheet 2: NPI Links - Speed     (data available upto 25 Oct 18)\n",
    "       - Sheet 3: NPI Links - Occupancy (data available upto 25 Oct 18)\n",
    "    \n",
    "- [Minor_Incidents_Log2.xlsx](data/Minor_Incidents_Log2.xlsx)\n",
    "\n",
    "Incident Data on Kwinana Fwy from 1 Jan 2018 to 30 Nov 2018)\n",
    "\n",
    "<b>Output:</b>\n",
    "\n",
    "- [LAD.csv](data/LAD.csv)\n",
    "\n",
    "The new dataframe consists of 298 days $\\times$ 1440 mins $\\times$ 14 links = 6007680 rows\n",
    "\n",
    "|ID|DateTime|Length|Volume|Speed|Occupancy|\n",
    "|--|--------|------|------|-----|---------|\n",
    "|1-14|2018-01-01 to 2018-10-25||||\n",
    "\n",
    "- [LAD+incident.csv](data/LAD+incident.csv)\n",
    "|ID|DateTime|Length|Volume|Speed|Occupancy|Incident_type|\n",
    "|--|--------|------|------|-----|---------|--------|\n",
    "|1-14|2018-01-01 to 2018-10-25|||||\n",
    "\n",
    "\n",
    "<b>Data Mapping</b>\n",
    "\n",
    "Map Link name to ID for convenience sake\n",
    "\n",
    "| Link ID | NPI Link Name |\n",
    "|---------|---------------|\n",
    "|1|Kwinana Fwy NB between Kwinana Fwy Nth Bnd H015 Nth Bnd - H018 East Bnd & Kwinana Fwy Nth Bnd H018 W|\n",
    "|2|Kwinana Fwy NB between Kwinana Fwy Nth Bnd H018 West Bnd - H015 Nth Bnd & Farrington Rd On - H015 Nt|\n",
    "|3|Kwinana Fwy NB between Farrington Rd On - H015 Nth Bo & H015 Nth Bound - South St Off|\n",
    "|4|Kwinana Fwy NB between H015 Nth Bound - South St Off & South St On - H015 Nth Bound|\n",
    "|5|Kwinana Fwy NB between South St On - H015 Nth Bound & H015 Nth Bound - Leach Hwy Off|\n",
    "|6|Kwinana Fwy NB between H015 Nth Bound - Leach Hwy Off & Leach Hwy West Bound On - H015|\n",
    "|7|Kwinana Fwy NB between Leach Hwy West Bound On - H015 & Leach Hwy East Bound On - H015|\n",
    "|8|Kwinana Fwy NB between Leach Hwy East Bound On - H015 & Cranford Av On - H015 Nth Bou|\n",
    "|9|Kwinana Fwy NB between Cranford Av On - H015 Nth Bou & H015 Sth Bound - H548|\n",
    "|10|Kwinana Fwy NB between H015 Sth Bound - H548 & Manning Rd - H547 On Kwinana Fwy Nth Bound|\n",
    "|11|Kwinana Fwy NWB between Manning Rd - H547 On Kwinana Fwy Nth Bound & Canning Hwy - H549 On Kwinana F|\n",
    "|12|Kwinana Fwy NB between Kwinana Fwy (northbound) Bus Ln From Canning Hwy: H013 On To H015 Northbound|\n",
    "|13|Kwinana Fwy NB between Mill Pt Rd - H500 On Kwinana Fwy Nth Bound & Kwinana Fwy Nth Bound H503 Off -|\n",
    "|14|Kwinana Fwy NB between Kwinana Fwy Nth Bound H503 Off - Mill Pt Rd & Mitchell Fwy Nth Bound|\n",
    "\n"
   ]
  },
  {
   "cell_type": "code",
   "execution_count": 4,
   "id": "125d1a2e",
   "metadata": {},
   "outputs": [],
   "source": [
    "# Python ≥3.5 is required\n",
    "import sys\n",
    "assert sys.version_info >= (3, 5)\n",
    "\n",
    "# Scikit-Learn ≥0.20 is required\n",
    "import sklearn\n",
    "assert sklearn.__version__ >= \"0.20\"\n",
    "\n",
    "from sklearn.preprocessing import MinMaxScaler\n",
    "from sklearn.model_selection import GridSearchCV\n",
    "from sklearn.metrics import mean_squared_error\n",
    "\n",
    "# tensorflow\n",
    "import tensorflow as tf\n",
    "from tensorflow import keras\n",
    "\n",
    "from keras import backend as K\n",
    "from keras.models import Sequential, load_model\n",
    "from keras.layers import Dense, LSTM, Dropout, Conv1D, RepeatVector, TimeDistributed\n",
    "from keras.callbacks import ModelCheckpoint, EarlyStopping\n",
    "from keras.wrappers.scikit_learn import KerasRegressor\n",
    "\n",
    "# Common imports\n",
    "import os\n",
    "import timeit\n",
    "import numpy as np\n",
    "import pandas as pd\n",
    "import seaborn as sns\n",
    "from math import sqrt\n",
    "from datetime import date\n",
    "import holidays\n",
    "sns.set()\n",
    "import warnings\n",
    "warnings.filterwarnings(\"ignore\")\n",
    "\n",
    "# To plot pretty figures\n",
    "import matplotlib as mpl\n",
    "import matplotlib.pyplot as plt\n",
    "import matplotlib.dates as mdates\n",
    "mpl.rcParams.update(mpl.rcParamsDefault)\n",
    "mpl.rcParams[\"font.family\"] = \"serif\"\n",
    "mpl.rcParams[\"font.sans-serif\"] = \"Verdana\"\n",
    "mpl.rcParams[\"lines.markersize\"] = 20\n",
    "# mpl.rc('axes', labelsize=14)\n",
    "# mpl.rc('xtick', labelsize=12)\n",
    "# mpl.rc('ytick', labelsize=12)"
   ]
  },
  {
   "cell_type": "markdown",
   "id": "00d5b9d8",
   "metadata": {},
   "source": [
    "# Smart Freeways Data 2018 - Links All Days.xlsx <a class=\"anchor\" id=\"1\"></a>\n",
    "\n",
    "The <b>Smart Freeways Data 2018 - Links All Days.xlsx</b> consists of \n",
    "\n",
    "\n",
    "consists of 299 columns and 20427 rows.\n"
   ]
  },
  {
   "cell_type": "code",
   "execution_count": null,
   "id": "f0f6ca56",
   "metadata": {},
   "outputs": [],
   "source": [
    "df = pd.read_excel(\"data/Smart Freeways Data 2018 - Links All Days.xlsx\",\n",
    "                   sheet_name='NPI Links - Volume', skiprows=2, header=0)\n",
    "df2 = pd.read_excel(\"data/Smart Freeways Data 2018 - Links All Days.xlsx\",\n",
    "                   sheet_name='NPI Links - Speed', skiprows=2, header=0)\n",
    "df3 = pd.read_excel(\"data/Smart Freeways Data 2018 - Links All Days.xlsx\",\n",
    "                   sheet_name='NPI Links - Occupancy', skiprows=2, header=0)"
   ]
  },
  {
   "cell_type": "markdown",
   "id": "0a325fd4",
   "metadata": {},
   "source": [
    "# Unpivot dataframe <a class=\"anchor\" id=\"1.1\"></a>"
   ]
  },
  {
   "cell_type": "code",
   "execution_count": null,
   "id": "eaa201ef",
   "metadata": {},
   "outputs": [],
   "source": [
    "cols1 = df.columns[:3]\n",
    "cols2 = [d.strftime('%d %b %y') for d in pd.date_range(start='2018-01-01',\n",
    "                                               end='2018-10-25',\n",
    "                                               freq='D')]\n",
    "cols = [*cols1, *cols2]; cols"
   ]
  },
  {
   "cell_type": "code",
   "execution_count": null,
   "id": "3b15d091",
   "metadata": {},
   "outputs": [],
   "source": [
    "def unpivot_data(df):\n",
    "    \"\"\"\n",
    "    Function to add missing date columns and unpivot\n",
    "    Smart Freeways Data 2018 - Links All Days.xlsx data file\n",
    "    \"\"\"\n",
    "    # Missing Row Labels and NPI Link Length filled \n",
    "    df[['Row Labels', 'NPI Link Length']] = df[['Row Labels', 'NPI Link Length']].fillna(method='ffill')\n",
    "    \n",
    "    # Keep rows that have %H:%M time format\n",
    "    df = df[df['Hour Formatted'].notna()]\n",
    "    df = df[df['Hour Formatted'].str.len() <= 5]\n",
    "    \n",
    "    # Add 25 Mar 18 and/or 26 Mar 18 if one of either of them do not exist\n",
    "    df = df.reindex(df.columns.union(cols, sort=False), axis=1)\n",
    "    \n",
    "    # Replace 24-27 Mar with 17-20 Mar\n",
    "    df['24 Mar 18'] = df['17 Mar 18']\n",
    "    df['25 Mar 18'] = df['18 Mar 18']\n",
    "    df['26 Mar 18'] = df['19 Mar 18']\n",
    "    df['27 Mar 18'] = df['20 Mar 18']\n",
    "    \n",
    "    # Change date columns' format from %d %b %y to %Y-%m-%d datetime\n",
    "    aslist = df.columns.tolist()\n",
    "    aslist[3:] = pd.to_datetime(df.columns[3:])\n",
    "    df.columns = aslist\n",
    "    \n",
    "    # Change Hour Formatted column to datetime object\n",
    "    df['Hour Formatted'] = pd.to_datetime(df['Hour Formatted'],\n",
    "                                              format='%H:%M')\n",
    "    \n",
    "    # Melt (unpivot) dataframe\n",
    "    df = df.melt(id_vars=['Row Labels', 'NPI Link Length', 'Hour Formatted'],\n",
    "                  var_name='DateTime', value_name='Value')\n",
    "    # Create DateTime column from date columns and HourFormatted\n",
    "    df['DateTime'] = (pd.to_datetime(df['DateTime']) +  \n",
    "                       pd.to_timedelta(df.pop('Hour Formatted')\n",
    "                                       .dt.strftime('%H:%M:%S')))\n",
    "    # Sort dataframe by Row Labels and DateTime\n",
    "    df = df.sort_values(['Row Labels', 'DateTime'], \n",
    "                          ascending=[True, True])\n",
    "    df.reset_index(drop=True, inplace=True)\n",
    "    \n",
    "    return df"
   ]
  },
  {
   "cell_type": "code",
   "execution_count": null,
   "id": "f80dac87",
   "metadata": {},
   "outputs": [],
   "source": [
    "vol_df = unpivot_data(df)  # 1 Jan 2018 - 1 Nov 2018\n",
    "spe_df = unpivot_data(df2) # 1 Jan 2018 - 25 Oct 2018\n",
    "occ_df = unpivot_data(df3) # 1 Jan 2018 - 25 Oct 2018"
   ]
  },
  {
   "cell_type": "code",
   "execution_count": null,
   "id": "8d498e9a",
   "metadata": {},
   "outputs": [],
   "source": [
    "# Rename columns\n",
    "vol_df.rename({'Row Labels': 'Link',\n",
    "               'NPI Link Length': 'Length',\n",
    "               'Value': 'Volume'}, axis=1, inplace=True)\n",
    "spe_df.rename({'Row Labels': 'Link',\n",
    "               'NPI Link Length': 'Length',\n",
    "               'Value': 'Speed'}, axis=1, inplace=True)\n",
    "occ_df.rename({'Row Labels': 'Link',\n",
    "               'NPI Link Length': 'Length',\n",
    "               'Value': 'Occupancy'}, axis=1, inplace=True)"
   ]
  },
  {
   "cell_type": "code",
   "execution_count": null,
   "id": "fefefc9d",
   "metadata": {},
   "outputs": [],
   "source": [
    "vol_df # 305 days * 1440 mins * 14 Links = 6148800"
   ]
  },
  {
   "cell_type": "code",
   "execution_count": null,
   "id": "fe13652a",
   "metadata": {},
   "outputs": [],
   "source": [
    "spe_df # 298 days * 1440 mins * 14 Links = 6007680"
   ]
  },
  {
   "cell_type": "code",
   "execution_count": null,
   "id": "c23c2e5c",
   "metadata": {},
   "outputs": [],
   "source": [
    "occ_df # 298 days * 1440 mins * 14 Links = 6007680"
   ]
  },
  {
   "cell_type": "markdown",
   "id": "e4b1c566",
   "metadata": {},
   "source": [
    "### Merge Volume, Speed and Occupancy <a class=\"anchor\" id=\"1.2\"></a>"
   ]
  },
  {
   "cell_type": "code",
   "execution_count": null,
   "id": "5d1c9d63",
   "metadata": {},
   "outputs": [],
   "source": [
    "# Merge volume and speed\n",
    "dataset = vol_df.merge(spe_df, on=['Link','Length','DateTime'])\n",
    "\n",
    "# Merge dataset and occupancy\n",
    "dataset = dataset.merge(occ_df, on=['Link','Length','DateTime'])"
   ]
  },
  {
   "cell_type": "code",
   "execution_count": null,
   "id": "9bc0859f",
   "metadata": {},
   "outputs": [],
   "source": [
    "dataset"
   ]
  },
  {
   "cell_type": "code",
   "execution_count": null,
   "id": "b1c7ee3f",
   "metadata": {},
   "outputs": [],
   "source": [
    "# Check all links' name\n",
    "dataset.Link.unique()"
   ]
  },
  {
   "cell_type": "code",
   "execution_count": null,
   "id": "9db6fefc",
   "metadata": {},
   "outputs": [],
   "source": [
    "# Map Link name to ID for convenience sake\n",
    "dataset['ID'] = dataset['Link']\n",
    "dataset = dataset.replace({'ID':{\n",
    "    'Kwinana Fwy NB between Kwinana Fwy Nth Bnd H015 Nth Bnd - H018 East Bnd & Kwinana Fwy Nth Bnd H018 W': 1,\n",
    "    'Kwinana Fwy NB between Kwinana Fwy Nth Bnd H018 West Bnd - H015 Nth Bnd & Farrington Rd On - H015 Nt': 2,\n",
    "    'Kwinana Fwy NB between Farrington Rd On - H015 Nth Bo & H015 Nth Bound - South St Off': 3,\n",
    "    'Kwinana Fwy NB between H015 Nth Bound - South St Off & South St On - H015 Nth Bound': 4,\n",
    "    'Kwinana Fwy NB between South St On - H015 Nth Bound & H015 Nth Bound - Leach Hwy Off': 5,\n",
    "    'Kwinana Fwy NB between H015 Nth Bound - Leach Hwy Off & Leach Hwy West Bound On - H015': 6,\n",
    "    'Kwinana Fwy NB between Leach Hwy West Bound On - H015 & Leach Hwy East Bound On - H015': 7,\n",
    "    'Kwinana Fwy NB between Leach Hwy East Bound On - H015 & Cranford Av On - H015 Nth Bou': 8,\n",
    "    'Kwinana Fwy NB between Cranford Av On - H015 Nth Bou & H015 Sth Bound - H548': 9,\n",
    "    'Kwinana Fwy NB between H015 Sth Bound - H548 & Manning Rd - H547 On Kwinana Fwy Nth Bound': 10,\n",
    "    'Kwinana Fwy NWB between Manning Rd - H547 On Kwinana Fwy Nth Bound & Canning Hwy - H549 On Kwinana F': 11,\n",
    "    'Kwinana Fwy NB between Kwinana Fwy (northbound) Bus Ln From Canning Hwy: H013 On To H015 Northbound': 12,\n",
    "    'Kwinana Fwy NB between Mill Pt Rd - H500 On Kwinana Fwy Nth Bound & Kwinana Fwy Nth Bound H503 Off -': 13,\n",
    "    'Kwinana Fwy NB between Kwinana Fwy Nth Bound H503 Off - Mill Pt Rd & Mitchell Fwy Nth Bound': 14,\n",
    "}})"
   ]
  },
  {
   "cell_type": "code",
   "execution_count": null,
   "id": "d1cd9bd2",
   "metadata": {},
   "outputs": [],
   "source": [
    "# Rearrange columns\n",
    "dataset = dataset[['DateTime', 'ID', 'Link', 'Length',\n",
    "                   'Volume', 'Speed', 'Occupancy']]\n",
    "dataset.info()"
   ]
  },
  {
   "cell_type": "markdown",
   "id": "119f7279",
   "metadata": {},
   "source": [
    "### 1.3. Dealing with missing data: Interpolation() and fillna() <a class=\"anchor\" id=\"1.3\"></a>\n",
    "\n",
    "- Assume that volume will never be zero at all time (at least 1), so 0s are replaced with NaNs.\n",
    "- For small missing data gap (<5 consecutive NaNs), interpolate/extrapolate with hard limit = 5\n",
    "- For large missing data gap (>=5 consecutive NaNs), fill NaNs with average (mean) values grouped by ID, day of week and timestamp.\n",
    "- Round Volume and Occupancy values to integer and to 1 decimal place, respectively."
   ]
  },
  {
   "cell_type": "code",
   "execution_count": null,
   "id": "80f0ff5c",
   "metadata": {},
   "outputs": [],
   "source": [
    "# Change 0s in Volume column to NaNs\n",
    "dataset['Volume'].replace(0, np.nan, inplace=True)"
   ]
  },
  {
   "cell_type": "code",
   "execution_count": null,
   "id": "3c3e9d64",
   "metadata": {},
   "outputs": [],
   "source": [
    "# Check number of consecutive NaNs\n",
    "vol_check = (dataset.Volume.isnull().astype(int)\n",
    "             .groupby(dataset.Volume.notnull().astype(int).cumsum()).sum())\n",
    "vol_check.value_counts().sort_index()"
   ]
  },
  {
   "cell_type": "code",
   "execution_count": null,
   "id": "fddb5557",
   "metadata": {},
   "outputs": [],
   "source": [
    "# Multiindex dataframe\n",
    "dat = dataset.set_index(['ID', 'DateTime'])\n",
    "dat = dat.sort_index()\n",
    "\n",
    "# Retrieve only Length, Volume, Speed, and Occupancy\n",
    "dat = dat.iloc[:,-4:]; dat"
   ]
  },
  {
   "cell_type": "code",
   "execution_count": null,
   "id": "3ba1b74c",
   "metadata": {
    "scrolled": true
   },
   "outputs": [],
   "source": [
    "# For small missing data gap (<5 consecutive NaNs),\n",
    "# interpolate/extrapolate with hard limit = 5\n",
    "mask = dat.copy()\n",
    "grp = ((mask.notnull() != mask.shift().notnull()).cumsum())\n",
    "grp['ones'] = 1\n",
    "for i in dat.columns:\n",
    "    mask[i] = (grp.groupby(i)['ones'].transform('count') < 5) | dat[i].notnull()\n",
    "\n",
    "dat = dat.interpolate().bfill()[mask]"
   ]
  },
  {
   "cell_type": "code",
   "execution_count": null,
   "id": "c3af78a2",
   "metadata": {},
   "outputs": [],
   "source": [
    "# Only >=5 consecutive NaNs left\n",
    "(dat.Volume.isnull().astype(int)\n",
    " .groupby(dat.Volume.notnull().astype(int).cumsum()).sum()\n",
    " .value_counts().sort_index())"
   ]
  },
  {
   "cell_type": "code",
   "execution_count": null,
   "id": "a82fc2bc",
   "metadata": {},
   "outputs": [],
   "source": [
    "# Check average (mean) of values grouped by ID, day of week and timestamp\n",
    "(dat.groupby([dat.index.get_level_values(0), \n",
    "             dat.index.get_level_values(1).strftime('%A %H:%M')])\n",
    " [['Volume','Speed','Occupancy']].mean())"
   ]
  },
  {
   "cell_type": "code",
   "execution_count": null,
   "id": "93fc062b",
   "metadata": {},
   "outputs": [],
   "source": [
    "# For big missing data gap (>=5 consecutive NaNs),\n",
    "# fill with average (mean) of the same day of week and time\n",
    "# Group by index 0 and index 1 (ID and day of week timestamp)\n",
    "dat[['Volume','Speed','Occupancy']] = (dat[['Volume','Speed','Occupancy']]\n",
    "    .fillna(dat.groupby([dat.index.get_level_values(0), \n",
    "                         dat.index.get_level_values(1).strftime('%A %H:%M')])\n",
    "           [['Volume','Speed','Occupancy']].transform('mean')))"
   ]
  },
  {
   "cell_type": "code",
   "execution_count": null,
   "id": "238a3b41",
   "metadata": {},
   "outputs": [],
   "source": [
    "# Check number of consecutive NaNs for Volume\n",
    "(dat.Volume.isnull().astype(int)\n",
    " .groupby(dat.Volume.notnull().astype(int).cumsum()).sum()\n",
    " .value_counts().sort_index())"
   ]
  },
  {
   "cell_type": "code",
   "execution_count": null,
   "id": "de563d8a",
   "metadata": {},
   "outputs": [],
   "source": [
    "# Check number of consecutive NaNs for Speed\n",
    "(dat.Speed.isnull().astype(int)\n",
    " .groupby(dat.Speed.notnull().astype(int).cumsum()).sum()\n",
    " .value_counts().sort_index())"
   ]
  },
  {
   "cell_type": "code",
   "execution_count": null,
   "id": "ae7d1256",
   "metadata": {},
   "outputs": [],
   "source": [
    "# Check number of consecutive NaNs for Occupancy\n",
    "(dat.Occupancy.isnull().astype(int)\n",
    " .groupby(dat.Occupancy.notnull().astype(int).cumsum()).sum()\n",
    " .value_counts().sort_index())"
   ]
  },
  {
   "cell_type": "code",
   "execution_count": null,
   "id": "99891f16",
   "metadata": {},
   "outputs": [],
   "source": [
    "dat['Volume'] = round(dat['Volume']) # round to nearest integer\n",
    "dat['Occupancy'] = round(dat['Occupancy']) # round to 1 dp"
   ]
  },
  {
   "cell_type": "code",
   "execution_count": null,
   "id": "2640f549",
   "metadata": {},
   "outputs": [],
   "source": [
    "dat"
   ]
  },
  {
   "cell_type": "code",
   "execution_count": null,
   "id": "b290c4cd",
   "metadata": {},
   "outputs": [],
   "source": [
    "# Save data as CSV\n",
    "dat.to_csv('data/LAD.csv')"
   ]
  },
  {
   "cell_type": "markdown",
   "id": "bebf4937",
   "metadata": {},
   "source": [
    "## 2. Minor_Incidents_Log2.xlsx <a class=\"anchor\" id=\"2\"></a>"
   ]
  },
  {
   "cell_type": "code",
   "execution_count": 5,
   "id": "a9470b9a",
   "metadata": {},
   "outputs": [],
   "source": [
    "# Read LAD file if have not run from the beginning\n",
    "df = pd.read_csv(\"data/LAD.csv\", header=0)"
   ]
  },
  {
   "cell_type": "code",
   "execution_count": 6,
   "id": "438c7c53",
   "metadata": {},
   "outputs": [
    {
     "data": {
      "text/html": [
       "<div>\n",
       "<style scoped>\n",
       "    .dataframe tbody tr th:only-of-type {\n",
       "        vertical-align: middle;\n",
       "    }\n",
       "\n",
       "    .dataframe tbody tr th {\n",
       "        vertical-align: top;\n",
       "    }\n",
       "\n",
       "    .dataframe thead th {\n",
       "        text-align: right;\n",
       "    }\n",
       "</style>\n",
       "<table border=\"1\" class=\"dataframe\">\n",
       "  <thead>\n",
       "    <tr style=\"text-align: right;\">\n",
       "      <th></th>\n",
       "      <th>ID</th>\n",
       "      <th>DateTime</th>\n",
       "      <th>Length</th>\n",
       "      <th>Volume</th>\n",
       "      <th>Speed</th>\n",
       "      <th>Occupancy</th>\n",
       "    </tr>\n",
       "  </thead>\n",
       "  <tbody>\n",
       "    <tr>\n",
       "      <th>0</th>\n",
       "      <td>1</td>\n",
       "      <td>2018-01-01 00:00:00</td>\n",
       "      <td>960.0</td>\n",
       "      <td>7.0</td>\n",
       "      <td>96.000000</td>\n",
       "      <td>1.0</td>\n",
       "    </tr>\n",
       "    <tr>\n",
       "      <th>1</th>\n",
       "      <td>1</td>\n",
       "      <td>2018-01-01 00:01:00</td>\n",
       "      <td>960.0</td>\n",
       "      <td>6.0</td>\n",
       "      <td>94.999998</td>\n",
       "      <td>1.0</td>\n",
       "    </tr>\n",
       "    <tr>\n",
       "      <th>2</th>\n",
       "      <td>1</td>\n",
       "      <td>2018-01-01 00:02:00</td>\n",
       "      <td>960.0</td>\n",
       "      <td>5.0</td>\n",
       "      <td>90.999999</td>\n",
       "      <td>1.0</td>\n",
       "    </tr>\n",
       "    <tr>\n",
       "      <th>3</th>\n",
       "      <td>1</td>\n",
       "      <td>2018-01-01 00:03:00</td>\n",
       "      <td>960.0</td>\n",
       "      <td>5.0</td>\n",
       "      <td>94.999997</td>\n",
       "      <td>1.0</td>\n",
       "    </tr>\n",
       "    <tr>\n",
       "      <th>4</th>\n",
       "      <td>1</td>\n",
       "      <td>2018-01-01 00:04:00</td>\n",
       "      <td>960.0</td>\n",
       "      <td>5.0</td>\n",
       "      <td>92.999999</td>\n",
       "      <td>1.0</td>\n",
       "    </tr>\n",
       "    <tr>\n",
       "      <th>...</th>\n",
       "      <td>...</td>\n",
       "      <td>...</td>\n",
       "      <td>...</td>\n",
       "      <td>...</td>\n",
       "      <td>...</td>\n",
       "      <td>...</td>\n",
       "    </tr>\n",
       "    <tr>\n",
       "      <th>6007675</th>\n",
       "      <td>14</td>\n",
       "      <td>2018-10-25 23:55:00</td>\n",
       "      <td>567.0</td>\n",
       "      <td>6.0</td>\n",
       "      <td>82.999997</td>\n",
       "      <td>0.0</td>\n",
       "    </tr>\n",
       "    <tr>\n",
       "      <th>6007676</th>\n",
       "      <td>14</td>\n",
       "      <td>2018-10-25 23:56:00</td>\n",
       "      <td>567.0</td>\n",
       "      <td>6.0</td>\n",
       "      <td>78.000003</td>\n",
       "      <td>0.0</td>\n",
       "    </tr>\n",
       "    <tr>\n",
       "      <th>6007677</th>\n",
       "      <td>14</td>\n",
       "      <td>2018-10-25 23:57:00</td>\n",
       "      <td>567.0</td>\n",
       "      <td>5.0</td>\n",
       "      <td>78.000001</td>\n",
       "      <td>0.0</td>\n",
       "    </tr>\n",
       "    <tr>\n",
       "      <th>6007678</th>\n",
       "      <td>14</td>\n",
       "      <td>2018-10-25 23:58:00</td>\n",
       "      <td>567.0</td>\n",
       "      <td>6.0</td>\n",
       "      <td>74.000000</td>\n",
       "      <td>0.0</td>\n",
       "    </tr>\n",
       "    <tr>\n",
       "      <th>6007679</th>\n",
       "      <td>14</td>\n",
       "      <td>2018-10-25 23:59:00</td>\n",
       "      <td>567.0</td>\n",
       "      <td>7.0</td>\n",
       "      <td>82.999997</td>\n",
       "      <td>0.0</td>\n",
       "    </tr>\n",
       "  </tbody>\n",
       "</table>\n",
       "<p>6007680 rows × 6 columns</p>\n",
       "</div>"
      ],
      "text/plain": [
       "         ID             DateTime  Length  Volume      Speed  Occupancy\n",
       "0         1  2018-01-01 00:00:00   960.0     7.0  96.000000        1.0\n",
       "1         1  2018-01-01 00:01:00   960.0     6.0  94.999998        1.0\n",
       "2         1  2018-01-01 00:02:00   960.0     5.0  90.999999        1.0\n",
       "3         1  2018-01-01 00:03:00   960.0     5.0  94.999997        1.0\n",
       "4         1  2018-01-01 00:04:00   960.0     5.0  92.999999        1.0\n",
       "...      ..                  ...     ...     ...        ...        ...\n",
       "6007675  14  2018-10-25 23:55:00   567.0     6.0  82.999997        0.0\n",
       "6007676  14  2018-10-25 23:56:00   567.0     6.0  78.000003        0.0\n",
       "6007677  14  2018-10-25 23:57:00   567.0     5.0  78.000001        0.0\n",
       "6007678  14  2018-10-25 23:58:00   567.0     6.0  74.000000        0.0\n",
       "6007679  14  2018-10-25 23:59:00   567.0     7.0  82.999997        0.0\n",
       "\n",
       "[6007680 rows x 6 columns]"
      ]
     },
     "execution_count": 6,
     "metadata": {},
     "output_type": "execute_result"
    }
   ],
   "source": [
    "df"
   ]
  },
  {
   "cell_type": "code",
   "execution_count": 7,
   "id": "9154e316",
   "metadata": {},
   "outputs": [],
   "source": [
    "# Read Incident file\n",
    "inc_df = pd.read_excel(\"data/Minor_Incidents_Log2.xlsx\",\n",
    "                   sheet_name='Sheet1', header=0)"
   ]
  },
  {
   "cell_type": "code",
   "execution_count": 8,
   "id": "ecc17f11",
   "metadata": {},
   "outputs": [
    {
     "data": {
      "text/html": [
       "<div>\n",
       "<style scoped>\n",
       "    .dataframe tbody tr th:only-of-type {\n",
       "        vertical-align: middle;\n",
       "    }\n",
       "\n",
       "    .dataframe tbody tr th {\n",
       "        vertical-align: top;\n",
       "    }\n",
       "\n",
       "    .dataframe thead th {\n",
       "        text-align: right;\n",
       "    }\n",
       "</style>\n",
       "<table border=\"1\" class=\"dataframe\">\n",
       "  <thead>\n",
       "    <tr style=\"text-align: right;\">\n",
       "      <th></th>\n",
       "      <th>ID</th>\n",
       "      <th>DateTime</th>\n",
       "      <th>Incident_type</th>\n",
       "    </tr>\n",
       "  </thead>\n",
       "  <tbody>\n",
       "    <tr>\n",
       "      <th>0</th>\n",
       "      <td>14</td>\n",
       "      <td>2018-01-01 08:21:41</td>\n",
       "      <td>Break Down / Tow Away</td>\n",
       "    </tr>\n",
       "    <tr>\n",
       "      <th>1</th>\n",
       "      <td>9</td>\n",
       "      <td>2018-01-03 07:41:15</td>\n",
       "      <td>Break Down / Tow Away</td>\n",
       "    </tr>\n",
       "    <tr>\n",
       "      <th>2</th>\n",
       "      <td>9</td>\n",
       "      <td>2018-01-04 09:10:22</td>\n",
       "      <td>Break Down / Tow Away</td>\n",
       "    </tr>\n",
       "    <tr>\n",
       "      <th>3</th>\n",
       "      <td>7</td>\n",
       "      <td>2018-01-04 21:19:42</td>\n",
       "      <td>Road Crash</td>\n",
       "    </tr>\n",
       "    <tr>\n",
       "      <th>4</th>\n",
       "      <td>11</td>\n",
       "      <td>2018-01-09 01:10:00</td>\n",
       "      <td>Debris / Trees / Lost Loads</td>\n",
       "    </tr>\n",
       "    <tr>\n",
       "      <th>...</th>\n",
       "      <td>...</td>\n",
       "      <td>...</td>\n",
       "      <td>...</td>\n",
       "    </tr>\n",
       "    <tr>\n",
       "      <th>420</th>\n",
       "      <td>14</td>\n",
       "      <td>2018-11-23 09:32:18</td>\n",
       "      <td>Road Crash</td>\n",
       "    </tr>\n",
       "    <tr>\n",
       "      <th>421</th>\n",
       "      <td>11</td>\n",
       "      <td>2018-11-26 08:40:15</td>\n",
       "      <td>Break Down / Tow Away</td>\n",
       "    </tr>\n",
       "    <tr>\n",
       "      <th>422</th>\n",
       "      <td>11</td>\n",
       "      <td>2018-11-28 01:16:50</td>\n",
       "      <td>Break Down / Tow Away</td>\n",
       "    </tr>\n",
       "    <tr>\n",
       "      <th>423</th>\n",
       "      <td>11</td>\n",
       "      <td>2018-11-28 22:34:50</td>\n",
       "      <td>Break Down / Tow Away</td>\n",
       "    </tr>\n",
       "    <tr>\n",
       "      <th>424</th>\n",
       "      <td>9</td>\n",
       "      <td>2018-11-30 00:23:37</td>\n",
       "      <td>Break Down / Tow Away</td>\n",
       "    </tr>\n",
       "  </tbody>\n",
       "</table>\n",
       "<p>425 rows × 3 columns</p>\n",
       "</div>"
      ],
      "text/plain": [
       "     ID            DateTime                Incident_type\n",
       "0    14 2018-01-01 08:21:41        Break Down / Tow Away\n",
       "1     9 2018-01-03 07:41:15        Break Down / Tow Away\n",
       "2     9 2018-01-04 09:10:22        Break Down / Tow Away\n",
       "3     7 2018-01-04 21:19:42                   Road Crash\n",
       "4    11 2018-01-09 01:10:00  Debris / Trees / Lost Loads\n",
       "..   ..                 ...                          ...\n",
       "420  14 2018-11-23 09:32:18                   Road Crash\n",
       "421  11 2018-11-26 08:40:15        Break Down / Tow Away\n",
       "422  11 2018-11-28 01:16:50        Break Down / Tow Away\n",
       "423  11 2018-11-28 22:34:50        Break Down / Tow Away\n",
       "424   9 2018-11-30 00:23:37        Break Down / Tow Away\n",
       "\n",
       "[425 rows x 3 columns]"
      ]
     },
     "execution_count": 8,
     "metadata": {},
     "output_type": "execute_result"
    }
   ],
   "source": [
    "# Drop crossRoadRef and rearrange columns\n",
    "inc_df = inc_df[['ID', 'DateTime', 'Incident_type']]\n",
    "inc_df"
   ]
  },
  {
   "cell_type": "code",
   "execution_count": 15,
   "id": "fe014656",
   "metadata": {},
   "outputs": [
    {
     "data": {
      "text/html": [
       "<div>\n",
       "<style scoped>\n",
       "    .dataframe tbody tr th:only-of-type {\n",
       "        vertical-align: middle;\n",
       "    }\n",
       "\n",
       "    .dataframe tbody tr th {\n",
       "        vertical-align: top;\n",
       "    }\n",
       "\n",
       "    .dataframe thead th {\n",
       "        text-align: right;\n",
       "    }\n",
       "</style>\n",
       "<table border=\"1\" class=\"dataframe\">\n",
       "  <thead>\n",
       "    <tr style=\"text-align: right;\">\n",
       "      <th></th>\n",
       "      <th>ID</th>\n",
       "      <th>DateTime</th>\n",
       "      <th>Incident_type</th>\n",
       "    </tr>\n",
       "  </thead>\n",
       "  <tbody>\n",
       "    <tr>\n",
       "      <th>0</th>\n",
       "      <td>14</td>\n",
       "      <td>2018-01-01 08:22:00</td>\n",
       "      <td>Break Down / Tow Away</td>\n",
       "    </tr>\n",
       "    <tr>\n",
       "      <th>1</th>\n",
       "      <td>9</td>\n",
       "      <td>2018-01-03 07:41:00</td>\n",
       "      <td>Break Down / Tow Away</td>\n",
       "    </tr>\n",
       "    <tr>\n",
       "      <th>2</th>\n",
       "      <td>9</td>\n",
       "      <td>2018-01-04 09:10:00</td>\n",
       "      <td>Break Down / Tow Away</td>\n",
       "    </tr>\n",
       "    <tr>\n",
       "      <th>3</th>\n",
       "      <td>7</td>\n",
       "      <td>2018-01-04 21:20:00</td>\n",
       "      <td>Road Crash</td>\n",
       "    </tr>\n",
       "    <tr>\n",
       "      <th>4</th>\n",
       "      <td>11</td>\n",
       "      <td>2018-01-09 01:10:00</td>\n",
       "      <td>Debris / Trees / Lost Loads</td>\n",
       "    </tr>\n",
       "    <tr>\n",
       "      <th>...</th>\n",
       "      <td>...</td>\n",
       "      <td>...</td>\n",
       "      <td>...</td>\n",
       "    </tr>\n",
       "    <tr>\n",
       "      <th>420</th>\n",
       "      <td>14</td>\n",
       "      <td>2018-11-23 09:32:00</td>\n",
       "      <td>Road Crash</td>\n",
       "    </tr>\n",
       "    <tr>\n",
       "      <th>421</th>\n",
       "      <td>11</td>\n",
       "      <td>2018-11-26 08:40:00</td>\n",
       "      <td>Break Down / Tow Away</td>\n",
       "    </tr>\n",
       "    <tr>\n",
       "      <th>422</th>\n",
       "      <td>11</td>\n",
       "      <td>2018-11-28 01:17:00</td>\n",
       "      <td>Break Down / Tow Away</td>\n",
       "    </tr>\n",
       "    <tr>\n",
       "      <th>423</th>\n",
       "      <td>11</td>\n",
       "      <td>2018-11-28 22:35:00</td>\n",
       "      <td>Break Down / Tow Away</td>\n",
       "    </tr>\n",
       "    <tr>\n",
       "      <th>424</th>\n",
       "      <td>9</td>\n",
       "      <td>2018-11-30 00:24:00</td>\n",
       "      <td>Break Down / Tow Away</td>\n",
       "    </tr>\n",
       "  </tbody>\n",
       "</table>\n",
       "<p>425 rows × 3 columns</p>\n",
       "</div>"
      ],
      "text/plain": [
       "     ID            DateTime                Incident_type\n",
       "0    14 2018-01-01 08:22:00        Break Down / Tow Away\n",
       "1     9 2018-01-03 07:41:00        Break Down / Tow Away\n",
       "2     9 2018-01-04 09:10:00        Break Down / Tow Away\n",
       "3     7 2018-01-04 21:20:00                   Road Crash\n",
       "4    11 2018-01-09 01:10:00  Debris / Trees / Lost Loads\n",
       "..   ..                 ...                          ...\n",
       "420  14 2018-11-23 09:32:00                   Road Crash\n",
       "421  11 2018-11-26 08:40:00        Break Down / Tow Away\n",
       "422  11 2018-11-28 01:17:00        Break Down / Tow Away\n",
       "423  11 2018-11-28 22:35:00        Break Down / Tow Away\n",
       "424   9 2018-11-30 00:24:00        Break Down / Tow Away\n",
       "\n",
       "[425 rows x 3 columns]"
      ]
     },
     "execution_count": 15,
     "metadata": {},
     "output_type": "execute_result"
    }
   ],
   "source": [
    "# Round DateTime timestamp to the nearest minute\n",
    "inc_df.DateTime = inc_df.DateTime.round('min')\n",
    "inc_df"
   ]
  },
  {
   "cell_type": "code",
   "execution_count": 35,
   "id": "f0b52cf7",
   "metadata": {},
   "outputs": [
    {
     "data": {
      "text/html": [
       "<div>\n",
       "<style scoped>\n",
       "    .dataframe tbody tr th:only-of-type {\n",
       "        vertical-align: middle;\n",
       "    }\n",
       "\n",
       "    .dataframe tbody tr th {\n",
       "        vertical-align: top;\n",
       "    }\n",
       "\n",
       "    .dataframe thead th {\n",
       "        text-align: right;\n",
       "    }\n",
       "</style>\n",
       "<table border=\"1\" class=\"dataframe\">\n",
       "  <thead>\n",
       "    <tr style=\"text-align: right;\">\n",
       "      <th></th>\n",
       "      <th>ID</th>\n",
       "      <th>DateTime</th>\n",
       "      <th>Incident_type</th>\n",
       "    </tr>\n",
       "  </thead>\n",
       "  <tbody>\n",
       "    <tr>\n",
       "      <th>271</th>\n",
       "      <td>14</td>\n",
       "      <td>2018-07-21 22:56:00</td>\n",
       "      <td>Miscellaneous</td>\n",
       "    </tr>\n",
       "    <tr>\n",
       "      <th>272</th>\n",
       "      <td>14</td>\n",
       "      <td>2018-07-21 22:56:00</td>\n",
       "      <td>Road Crash</td>\n",
       "    </tr>\n",
       "  </tbody>\n",
       "</table>\n",
       "</div>"
      ],
      "text/plain": [
       "     ID            DateTime  Incident_type\n",
       "271  14 2018-07-21 22:56:00  Miscellaneous\n",
       "272  14 2018-07-21 22:56:00     Road Crash"
      ]
     },
     "execution_count": 35,
     "metadata": {},
     "output_type": "execute_result"
    }
   ],
   "source": [
    "# Check whether we have duplicate entries\n",
    "# We does!\n",
    "inc_df[inc_df.duplicated(subset=['ID','DateTime'], keep=False)]"
   ]
  },
  {
   "cell_type": "code",
   "execution_count": 49,
   "id": "ffb02422",
   "metadata": {},
   "outputs": [],
   "source": [
    "inc_df.iloc[271,1] = inc_df.iloc[271,1].replace(minute=55)"
   ]
  },
  {
   "cell_type": "code",
   "execution_count": 50,
   "id": "ad179788",
   "metadata": {},
   "outputs": [
    {
     "data": {
      "text/html": [
       "<div>\n",
       "<style scoped>\n",
       "    .dataframe tbody tr th:only-of-type {\n",
       "        vertical-align: middle;\n",
       "    }\n",
       "\n",
       "    .dataframe tbody tr th {\n",
       "        vertical-align: top;\n",
       "    }\n",
       "\n",
       "    .dataframe thead th {\n",
       "        text-align: right;\n",
       "    }\n",
       "</style>\n",
       "<table border=\"1\" class=\"dataframe\">\n",
       "  <thead>\n",
       "    <tr style=\"text-align: right;\">\n",
       "      <th></th>\n",
       "      <th>ID</th>\n",
       "      <th>DateTime</th>\n",
       "      <th>Incident_type</th>\n",
       "    </tr>\n",
       "  </thead>\n",
       "  <tbody>\n",
       "  </tbody>\n",
       "</table>\n",
       "</div>"
      ],
      "text/plain": [
       "Empty DataFrame\n",
       "Columns: [ID, DateTime, Incident_type]\n",
       "Index: []"
      ]
     },
     "execution_count": 50,
     "metadata": {},
     "output_type": "execute_result"
    }
   ],
   "source": [
    "# Check again for duplicate ID and time\n",
    "inc_df[inc_df.duplicated(subset=['ID','DateTime'], keep=False)]"
   ]
  },
  {
   "cell_type": "code",
   "execution_count": 51,
   "id": "f84e9ab0",
   "metadata": {},
   "outputs": [],
   "source": [
    "df.DateTime = pd.to_datetime(df.DateTime)\n",
    "inc_df.DateTime = pd.to_datetime(inc_df.DateTime)\n",
    "inc_df.sort_values('DateTime', inplace=True)"
   ]
  },
  {
   "cell_type": "code",
   "execution_count": 52,
   "id": "058818cb",
   "metadata": {},
   "outputs": [
    {
     "name": "stdout",
     "output_type": "stream",
     "text": [
      "<class 'pandas.core.frame.DataFrame'>\n",
      "RangeIndex: 6007680 entries, 0 to 6007679\n",
      "Data columns (total 6 columns):\n",
      " #   Column     Dtype         \n",
      "---  ------     -----         \n",
      " 0   ID         int64         \n",
      " 1   DateTime   datetime64[ns]\n",
      " 2   Length     float64       \n",
      " 3   Volume     float64       \n",
      " 4   Speed      float64       \n",
      " 5   Occupancy  float64       \n",
      "dtypes: datetime64[ns](1), float64(4), int64(1)\n",
      "memory usage: 275.0 MB\n"
     ]
    }
   ],
   "source": [
    "df.info()"
   ]
  },
  {
   "cell_type": "code",
   "execution_count": 53,
   "id": "f092a936",
   "metadata": {},
   "outputs": [
    {
     "name": "stdout",
     "output_type": "stream",
     "text": [
      "<class 'pandas.core.frame.DataFrame'>\n",
      "Int64Index: 425 entries, 0 to 424\n",
      "Data columns (total 3 columns):\n",
      " #   Column         Non-Null Count  Dtype         \n",
      "---  ------         --------------  -----         \n",
      " 0   ID             425 non-null    int64         \n",
      " 1   DateTime       425 non-null    datetime64[ns]\n",
      " 2   Incident_type  425 non-null    object        \n",
      "dtypes: datetime64[ns](1), int64(1), object(1)\n",
      "memory usage: 13.3+ KB\n"
     ]
    }
   ],
   "source": [
    "inc_df.info()"
   ]
  },
  {
   "cell_type": "markdown",
   "id": "d60dc60f",
   "metadata": {},
   "source": [
    "### 2.1. Merge incident type to Link All Days data by ID and nearest DateTime <a class=\"anchor\" id=\"2.1\"></a>"
   ]
  },
  {
   "cell_type": "code",
   "execution_count": 54,
   "id": "9765c128",
   "metadata": {},
   "outputs": [
    {
     "data": {
      "text/html": [
       "<div>\n",
       "<style scoped>\n",
       "    .dataframe tbody tr th:only-of-type {\n",
       "        vertical-align: middle;\n",
       "    }\n",
       "\n",
       "    .dataframe tbody tr th {\n",
       "        vertical-align: top;\n",
       "    }\n",
       "\n",
       "    .dataframe thead th {\n",
       "        text-align: right;\n",
       "    }\n",
       "</style>\n",
       "<table border=\"1\" class=\"dataframe\">\n",
       "  <thead>\n",
       "    <tr style=\"text-align: right;\">\n",
       "      <th></th>\n",
       "      <th>index</th>\n",
       "      <th>ID</th>\n",
       "      <th>DateTime</th>\n",
       "      <th>Length</th>\n",
       "      <th>Volume</th>\n",
       "      <th>Speed</th>\n",
       "      <th>Occupancy</th>\n",
       "      <th>Incident_type</th>\n",
       "    </tr>\n",
       "  </thead>\n",
       "  <tbody>\n",
       "    <tr>\n",
       "      <th>0</th>\n",
       "      <td>0</td>\n",
       "      <td>1</td>\n",
       "      <td>2018-01-01 00:00:00</td>\n",
       "      <td>960.0</td>\n",
       "      <td>7.0</td>\n",
       "      <td>96.000000</td>\n",
       "      <td>1.0</td>\n",
       "      <td>NaN</td>\n",
       "    </tr>\n",
       "    <tr>\n",
       "      <th>1</th>\n",
       "      <td>1</td>\n",
       "      <td>1</td>\n",
       "      <td>2018-01-01 00:01:00</td>\n",
       "      <td>960.0</td>\n",
       "      <td>6.0</td>\n",
       "      <td>94.999998</td>\n",
       "      <td>1.0</td>\n",
       "      <td>NaN</td>\n",
       "    </tr>\n",
       "    <tr>\n",
       "      <th>2</th>\n",
       "      <td>2</td>\n",
       "      <td>1</td>\n",
       "      <td>2018-01-01 00:02:00</td>\n",
       "      <td>960.0</td>\n",
       "      <td>5.0</td>\n",
       "      <td>90.999999</td>\n",
       "      <td>1.0</td>\n",
       "      <td>NaN</td>\n",
       "    </tr>\n",
       "    <tr>\n",
       "      <th>3</th>\n",
       "      <td>3</td>\n",
       "      <td>1</td>\n",
       "      <td>2018-01-01 00:03:00</td>\n",
       "      <td>960.0</td>\n",
       "      <td>5.0</td>\n",
       "      <td>94.999997</td>\n",
       "      <td>1.0</td>\n",
       "      <td>NaN</td>\n",
       "    </tr>\n",
       "    <tr>\n",
       "      <th>4</th>\n",
       "      <td>4</td>\n",
       "      <td>1</td>\n",
       "      <td>2018-01-01 00:04:00</td>\n",
       "      <td>960.0</td>\n",
       "      <td>5.0</td>\n",
       "      <td>92.999999</td>\n",
       "      <td>1.0</td>\n",
       "      <td>NaN</td>\n",
       "    </tr>\n",
       "    <tr>\n",
       "      <th>...</th>\n",
       "      <td>...</td>\n",
       "      <td>...</td>\n",
       "      <td>...</td>\n",
       "      <td>...</td>\n",
       "      <td>...</td>\n",
       "      <td>...</td>\n",
       "      <td>...</td>\n",
       "      <td>...</td>\n",
       "    </tr>\n",
       "    <tr>\n",
       "      <th>6007675</th>\n",
       "      <td>6007675</td>\n",
       "      <td>14</td>\n",
       "      <td>2018-10-25 23:55:00</td>\n",
       "      <td>567.0</td>\n",
       "      <td>6.0</td>\n",
       "      <td>82.999997</td>\n",
       "      <td>0.0</td>\n",
       "      <td>NaN</td>\n",
       "    </tr>\n",
       "    <tr>\n",
       "      <th>6007676</th>\n",
       "      <td>6007676</td>\n",
       "      <td>14</td>\n",
       "      <td>2018-10-25 23:56:00</td>\n",
       "      <td>567.0</td>\n",
       "      <td>6.0</td>\n",
       "      <td>78.000003</td>\n",
       "      <td>0.0</td>\n",
       "      <td>NaN</td>\n",
       "    </tr>\n",
       "    <tr>\n",
       "      <th>6007677</th>\n",
       "      <td>6007677</td>\n",
       "      <td>14</td>\n",
       "      <td>2018-10-25 23:57:00</td>\n",
       "      <td>567.0</td>\n",
       "      <td>5.0</td>\n",
       "      <td>78.000001</td>\n",
       "      <td>0.0</td>\n",
       "      <td>NaN</td>\n",
       "    </tr>\n",
       "    <tr>\n",
       "      <th>6007678</th>\n",
       "      <td>6007678</td>\n",
       "      <td>14</td>\n",
       "      <td>2018-10-25 23:58:00</td>\n",
       "      <td>567.0</td>\n",
       "      <td>6.0</td>\n",
       "      <td>74.000000</td>\n",
       "      <td>0.0</td>\n",
       "      <td>NaN</td>\n",
       "    </tr>\n",
       "    <tr>\n",
       "      <th>6007679</th>\n",
       "      <td>6007679</td>\n",
       "      <td>14</td>\n",
       "      <td>2018-10-25 23:59:00</td>\n",
       "      <td>567.0</td>\n",
       "      <td>7.0</td>\n",
       "      <td>82.999997</td>\n",
       "      <td>0.0</td>\n",
       "      <td>NaN</td>\n",
       "    </tr>\n",
       "  </tbody>\n",
       "</table>\n",
       "<p>6007680 rows × 8 columns</p>\n",
       "</div>"
      ],
      "text/plain": [
       "           index  ID            DateTime  Length  Volume      Speed  \\\n",
       "0              0   1 2018-01-01 00:00:00   960.0     7.0  96.000000   \n",
       "1              1   1 2018-01-01 00:01:00   960.0     6.0  94.999998   \n",
       "2              2   1 2018-01-01 00:02:00   960.0     5.0  90.999999   \n",
       "3              3   1 2018-01-01 00:03:00   960.0     5.0  94.999997   \n",
       "4              4   1 2018-01-01 00:04:00   960.0     5.0  92.999999   \n",
       "...          ...  ..                 ...     ...     ...        ...   \n",
       "6007675  6007675  14 2018-10-25 23:55:00   567.0     6.0  82.999997   \n",
       "6007676  6007676  14 2018-10-25 23:56:00   567.0     6.0  78.000003   \n",
       "6007677  6007677  14 2018-10-25 23:57:00   567.0     5.0  78.000001   \n",
       "6007678  6007678  14 2018-10-25 23:58:00   567.0     6.0  74.000000   \n",
       "6007679  6007679  14 2018-10-25 23:59:00   567.0     7.0  82.999997   \n",
       "\n",
       "         Occupancy Incident_type  \n",
       "0              1.0           NaN  \n",
       "1              1.0           NaN  \n",
       "2              1.0           NaN  \n",
       "3              1.0           NaN  \n",
       "4              1.0           NaN  \n",
       "...            ...           ...  \n",
       "6007675        0.0           NaN  \n",
       "6007676        0.0           NaN  \n",
       "6007677        0.0           NaN  \n",
       "6007678        0.0           NaN  \n",
       "6007679        0.0           NaN  \n",
       "\n",
       "[6007680 rows x 8 columns]"
      ]
     },
     "execution_count": 54,
     "metadata": {},
     "output_type": "execute_result"
    }
   ],
   "source": [
    "df_merged = (pd.merge(df.sort_values(['ID', 'DateTime']),\n",
    "                      inc_df.sort_values(['ID', 'DateTime']),\n",
    "                      how='left',\n",
    "                      on=['ID', 'DateTime'])\n",
    "             .sort_values(['ID', 'DateTime'])\n",
    "             .reset_index()\n",
    "            )\n",
    "df_merged"
   ]
  },
  {
   "cell_type": "code",
   "execution_count": 62,
   "id": "2a9d7c62",
   "metadata": {},
   "outputs": [],
   "source": [
    "df_merged = df_merged.iloc[:,1:]"
   ]
  },
  {
   "cell_type": "code",
   "execution_count": 55,
   "id": "07b8bf91",
   "metadata": {},
   "outputs": [
    {
     "data": {
      "text/plain": [
       "397"
      ]
     },
     "execution_count": 55,
     "metadata": {},
     "output_type": "execute_result"
    }
   ],
   "source": [
    "df_merged.Incident_type.count()"
   ]
  },
  {
   "cell_type": "code",
   "execution_count": 63,
   "id": "5422e8fd",
   "metadata": {},
   "outputs": [],
   "source": [
    "# Save data as CSV\n",
    "df_merged.to_csv('data/LAD+incident.csv', index=False)"
   ]
  },
  {
   "cell_type": "markdown",
   "id": "af6f9aee",
   "metadata": {},
   "source": [
    "## 3. Visualisation <a class=\"anchor\" id=\"3\"></a>"
   ]
  },
  {
   "cell_type": "code",
   "execution_count": null,
   "id": "28f204cb",
   "metadata": {},
   "outputs": [],
   "source": [
    "# Read LAD+incident file if have not run from the beginning\n",
    "df = pd.read_csv(\"data/LAD+incident.csv\", header=0)"
   ]
  }
 ],
 "metadata": {
  "hide_input": true,
  "kernelspec": {
   "display_name": "Python 3 (ipykernel)",
   "language": "python",
   "name": "python3"
  },
  "language_info": {
   "codemirror_mode": {
    "name": "ipython",
    "version": 3
   },
   "file_extension": ".py",
   "mimetype": "text/x-python",
   "name": "python",
   "nbconvert_exporter": "python",
   "pygments_lexer": "ipython3",
   "version": "3.8.5"
  },
  "latex_envs": {
   "LaTeX_envs_menu_present": true,
   "autoclose": false,
   "autocomplete": true,
   "bibliofile": "biblio.bib",
   "cite_by": "apalike",
   "current_citInitial": 1,
   "eqLabelWithNumbers": true,
   "eqNumInitial": 1,
   "hotkeys": {
    "equation": "Ctrl-E",
    "itemize": "Ctrl-I"
   },
   "labels_anchors": false,
   "latex_user_defs": false,
   "report_style_numbering": false,
   "user_envs_cfg": false
  },
  "toc": {
   "base_numbering": 1,
   "nav_menu": {},
   "number_sections": true,
   "sideBar": true,
   "skip_h1_title": false,
   "title_cell": "Table of Contents",
   "title_sidebar": "Contents",
   "toc_cell": false,
   "toc_position": {},
   "toc_section_display": true,
   "toc_window_display": false
  },
  "varInspector": {
   "cols": {
    "lenName": 16,
    "lenType": 16,
    "lenVar": 40
   },
   "kernels_config": {
    "python": {
     "delete_cmd_postfix": "",
     "delete_cmd_prefix": "del ",
     "library": "var_list.py",
     "varRefreshCmd": "print(var_dic_list())"
    },
    "r": {
     "delete_cmd_postfix": ") ",
     "delete_cmd_prefix": "rm(",
     "library": "var_list.r",
     "varRefreshCmd": "cat(var_dic_list()) "
    }
   },
   "types_to_exclude": [
    "module",
    "function",
    "builtin_function_or_method",
    "instance",
    "_Feature"
   ],
   "window_display": false
  }
 },
 "nbformat": 4,
 "nbformat_minor": 5
}
