{
 "cells": [
  {
   "cell_type": "code",
   "execution_count": null,
   "id": "7bd47890",
   "metadata": {
    "ExecuteTime": {
     "end_time": "2022-01-27T12:02:23.216883Z",
     "start_time": "2022-01-27T12:02:23.196886Z"
    }
   },
   "outputs": [],
   "source": [
    "# Python ≥3.5 is required\n",
    "import sys\n",
    "assert sys.version_info >= (3, 5)\n",
    "\n",
    "# Common imports\n",
    "import os\n",
    "import timeit\n",
    "import numpy as np\n",
    "import pandas as pd\n",
    "import seaborn as sns\n",
    "from math import sqrt\n",
    "from datetime import date\n",
    "import holidays\n",
    "sns.set()\n",
    "import warnings\n",
    "warnings.filterwarnings(\"ignore\")\n",
    "\n",
    "# To plot pretty figures\n",
    "import matplotlib as mpl\n",
    "import matplotlib.pyplot as plt\n",
    "import matplotlib.dates as mdates\n",
    "mpl.rcParams.update(mpl.rcParamsDefault)\n",
    "mpl.rcParams[\"font.family\"] = \"serif\"\n",
    "mpl.rcParams[\"font.sans-serif\"] = \"Verdana\"\n",
    "# mpl.rcParams[\"lines.markersize\"] = 20"
   ]
  },
  {
   "cell_type": "markdown",
   "id": "dd50bce0",
   "metadata": {},
   "source": [
    "## Explore Link 11"
   ]
  },
  {
   "cell_type": "code",
   "execution_count": null,
   "id": "21068dc5",
   "metadata": {
    "ExecuteTime": {
     "end_time": "2022-01-27T07:10:52.121809Z",
     "start_time": "2022-01-27T07:10:51.274556Z"
    }
   },
   "outputs": [],
   "source": [
    "# Load traffic data + Incident (long format)\n",
    "df = pd.read_csv('data/clean/df11ds.csv', index_col=0)\n",
    "df.DateTime = pd.to_datetime(df.DateTime, format=\"%Y-%m-%d %H:%M:%S\")\n",
    "# Set DateTime as index and sort\n",
    "df = df.set_index('DateTime')\n",
    "df.index = pd.to_datetime(df.index)\n",
    "if not df.index.is_monotonic:\n",
    "    df = df.sort_index()\n",
    "    \n",
    "df.info()"
   ]
  },
  {
   "cell_type": "code",
   "execution_count": null,
   "id": "b31304cd",
   "metadata": {
    "ExecuteTime": {
     "end_time": "2022-01-27T07:11:00.481562Z",
     "start_time": "2022-01-27T07:11:00.458920Z"
    }
   },
   "outputs": [],
   "source": [
    "inc11 = pd.read_csv('data/clean/inc11_wide.csv', index_col=0)\n",
    "inc12 = pd.read_csv('data/clean/inc12_wide.csv', index_col=0)\n",
    "\n",
    "inc11.WST_Start = pd.to_datetime(inc11.WST_Start)\n",
    "inc11.WST_End = pd.to_datetime(inc11.WST_End)\n",
    "inc12.WST_Start = pd.to_datetime(inc12.WST_Start)\n",
    "inc12.WST_End = pd.to_datetime(inc12.WST_End)\n",
    "\n",
    "inc11.info()"
   ]
  },
  {
   "cell_type": "code",
   "execution_count": null,
   "id": "db7a40ed",
   "metadata": {},
   "outputs": [],
   "source": [
    "# inc11.Incident_Type = inc11.Incident_Type.replace([\n",
    "#     'Flooding /\\nStorm', 'Special Event /\\nPothole / Hazmat',\n",
    "#     'Special Event /\\nPothole / Hazmat', 'Animal /\\n Livestock',\n",
    "#     'Vehicle Fire'], 'Miscellaneous')"
   ]
  },
  {
   "cell_type": "code",
   "execution_count": null,
   "id": "bc11a176",
   "metadata": {
    "ExecuteTime": {
     "end_time": "2022-01-27T11:56:50.351429Z",
     "start_time": "2022-01-27T11:56:50.196679Z"
    }
   },
   "outputs": [],
   "source": [
    "df.iloc[:,1:] \\\n",
    "    .describe() \\\n",
    "    .apply(lambda s: s.apply('{0:.4f}'.format))"
   ]
  },
  {
   "cell_type": "code",
   "execution_count": null,
   "id": "4e7c5a89",
   "metadata": {
    "ExecuteTime": {
     "end_time": "2022-01-27T11:55:29.038859Z",
     "start_time": "2022-01-27T11:55:28.773644Z"
    }
   },
   "outputs": [],
   "source": [
    "df.corr()['Volume']"
   ]
  },
  {
   "cell_type": "code",
   "execution_count": null,
   "id": "b199ff4b",
   "metadata": {
    "ExecuteTime": {
     "end_time": "2022-01-27T11:55:48.948173Z",
     "start_time": "2022-01-27T11:55:48.685377Z"
    }
   },
   "outputs": [],
   "source": [
    "df.corr()['Speed']"
   ]
  },
  {
   "cell_type": "code",
   "execution_count": null,
   "id": "266bbec2",
   "metadata": {
    "ExecuteTime": {
     "end_time": "2022-01-27T11:56:06.265936Z",
     "start_time": "2022-01-27T11:56:06.013419Z"
    }
   },
   "outputs": [],
   "source": [
    "df.corr()['Occupancy']"
   ]
  },
  {
   "cell_type": "code",
   "execution_count": null,
   "id": "c0f9b400",
   "metadata": {
    "ExecuteTime": {
     "end_time": "2022-01-27T12:56:42.685968Z",
     "start_time": "2022-01-27T12:56:35.940161Z"
    },
    "scrolled": false
   },
   "outputs": [],
   "source": [
    "pd.plotting.scatter_matrix(df.iloc[:,1:4], alpha=0.05)\n",
    "plt.show()"
   ]
  },
  {
   "cell_type": "code",
   "execution_count": null,
   "id": "bb35ae1e",
   "metadata": {
    "ExecuteTime": {
     "end_time": "2022-01-27T13:18:27.804531Z",
     "start_time": "2022-01-27T13:18:13.825231Z"
    }
   },
   "outputs": [],
   "source": [
    "sns.pairplot(df, vars=['Volume','Speed','Occupancy'],\n",
    "             kind='scatter', diag_kind=\"kde\",\n",
    "             plot_kws={'color':'b', 'edgecolor':'face'})\n",
    "plt.savefig('fig/Pair_diagram/L11.png')\n",
    "plt.show()"
   ]
  },
  {
   "cell_type": "code",
   "execution_count": null,
   "id": "e2cae471",
   "metadata": {
    "ExecuteTime": {
     "end_time": "2022-01-27T13:19:09.761313Z",
     "start_time": "2022-01-27T13:19:06.218140Z"
    }
   },
   "outputs": [],
   "source": [
    "df2 = pd.read_csv('data/clean/LAD.csv')\n",
    "df2['Density'] = df2['Occupancy']*4000/700\n",
    "df2.info()"
   ]
  },
  {
   "cell_type": "code",
   "execution_count": null,
   "id": "31192dfe",
   "metadata": {
    "ExecuteTime": {
     "end_time": "2022-01-27T14:59:42.375247Z",
     "start_time": "2022-01-27T14:56:47.837128Z"
    }
   },
   "outputs": [],
   "source": [
    "def fund_plot(df, link):\n",
    "    plt.rcParams[\"lines.markersize\"] = 12\n",
    "    temp = df[df.ID==link]\n",
    "    v = temp.Volume.max()\n",
    "    sv = round(temp[temp.Volume==v].iloc[0]['Speed'],1)\n",
    "    dv = round(temp[temp.Volume==v].iloc[0]['Density'],1)\n",
    "    d = temp.Density.max()\n",
    "    sd = round(temp[temp.Density==d].iloc[0]['Speed'],1)\n",
    "    s = temp.Speed.max()\n",
    "    fig, ax = plt.subplots(nrows=1, ncols=3, figsize=(18,4))\n",
    "    ax[0].scatter(temp.Volume, temp.Speed, alpha=0.5)\n",
    "    ax[0].set_xlabel('Volume (veh/min)')\n",
    "    ax[0].set_ylabel('Speed (km/hr)')  \n",
    "    ax[0].annotate(f'Max Volume = {v}\\nwith Speed={sv}',\n",
    "                   xy=(v, sv), xytext=(v, s-50), ha='right',\n",
    "                   arrowprops=dict(arrowstyle=\"->\"))\n",
    "    ax[1].scatter(temp.Density, temp.Volume, alpha=0.5)\n",
    "    ax[1].set_xlabel('Density (veh/km)')\n",
    "    ax[1].set_ylabel('Volume (veh/min)')\n",
    "    ax[1].annotate(f'Max Volume = {v}\\nwith Density={dv}',\n",
    "                   xy=(dv, v), xytext=(dv+20, v-10), ha='left',\n",
    "                   arrowprops=dict(arrowstyle=\"->\"))\n",
    "    ax[2].scatter(temp.Density, temp.Speed, alpha=0.15)\n",
    "    ax[2].set_xlabel('Density (veh/km)')\n",
    "    ax[2].set_ylabel('Speed (km/hr)')\n",
    "    ax[2].annotate(f'Max Density = {round(d,1)}',\n",
    "                   xy=(d, sd), xytext=(d, 100), ha='right',\n",
    "                   arrowprops=dict(arrowstyle=\"->\"))\n",
    "    plt.savefig(f'fig/Pair_diagram/L{link}.png', bbox_inches='tight')\n",
    "    plt.show()\n",
    "\n",
    "for i in range(1,15):\n",
    "    fund_plot(df2, i)"
   ]
  },
  {
   "cell_type": "code",
   "execution_count": null,
   "id": "16014879",
   "metadata": {
    "ExecuteTime": {
     "end_time": "2022-01-27T12:00:15.036614Z",
     "start_time": "2022-01-27T11:59:45.247966Z"
    },
    "scrolled": true
   },
   "outputs": [],
   "source": [
    "df.iloc[:,1:4].plot.box(figsize=(6,6))\n",
    "plt.show()"
   ]
  },
  {
   "cell_type": "code",
   "execution_count": null,
   "id": "a3aff9fd",
   "metadata": {},
   "outputs": [],
   "source": []
  },
  {
   "cell_type": "code",
   "execution_count": null,
   "id": "75b53f46",
   "metadata": {
    "ExecuteTime": {
     "end_time": "2022-01-27T07:09:09.033017Z",
     "start_time": "2022-01-27T07:09:09.026831Z"
    }
   },
   "outputs": [],
   "source": [
    "# list of days that have incident(s)\n",
    "date_ls = inc11['WST_Start'].dt.date.unique()"
   ]
  },
  {
   "cell_type": "code",
   "execution_count": null,
   "id": "cff11264",
   "metadata": {
    "ExecuteTime": {
     "end_time": "2022-01-27T13:24:39.888258Z",
     "start_time": "2022-01-27T13:24:39.248843Z"
    },
    "scrolled": false
   },
   "outputs": [],
   "source": [
    "def day_plot(df, idx):\n",
    "    plt.rcParams[\"lines.markersize\"] = 12\n",
    "    plt.rcParams[\"font.size\"] = 14\n",
    "    fig, ax = plt.subplots(figsize=(10,4))\n",
    "    ax.set_title(f'{date_ls[idx].strftime(\"%d %B %Y\")}',\n",
    "                 loc='right', fontsize=14)\n",
    "    ax.set_ylim(-10,120)\n",
    "    ax.xaxis.set_major_formatter(mdates.DateFormatter('%H:%M'))\n",
    "    # Base plot (no incidents)\n",
    "    temp = df[(df.index.date == date_ls[idx])]\n",
    "    ax.plot(temp.Volume, color='k', zorder=1)\n",
    "    ax.vlines(x=pd.Timestamp('2018-08-27 08:30:00'),\n",
    "             ymin=-10, ymax=120, color='darkgrey', linestyle='--',\n",
    "             label='Investigated\\n period', linewidth=2)\n",
    "    ax.vlines(x=pd.Timestamp('2018-08-27 13:30:00'),\n",
    "             ymin=-10, ymax=120, color='darkgrey', linestyle='--', linewidth=2)\n",
    "    \n",
    "    # Main section incident 1\n",
    "    temp1 = df[(df.index.date == date_ls[idx]) &\n",
    "              (df.Incident_Type1 != 'None1')]\n",
    "    if temp1.shape[0] != 0:\n",
    "        temp1 = temp1.reindex(pd.date_range(temp1.index.min(),\n",
    "                                    temp1.index.max(),\n",
    "                                    freq='1min'), fill_value=np.nan)\n",
    "        m1 = (temp1.loc[temp1['Incident_Type1'].shift(1) != temp1['Incident_Type1']]).dropna()\n",
    "        ax.plot(temp1.Volume, color='r',  zorder=1)\n",
    "        ax.scatter(m1.index, m1.Volume, color='red', marker=\"*\", zorder=2)\n",
    "        ax.annotate('Road Crash\\n(Study Road)', \n",
    "               xy=(m1.index[0],m1.Volume[0]),\n",
    "               xytext=(pd.to_datetime('2018-08-27 07:45:00'),10), ha='center',\n",
    "               arrowprops=dict(color='darkred', arrowstyle=\"->\", lw=2))\n",
    "        ax.annotate('Animal /\\nLivestock\\n(Study Road)', \n",
    "               xy=(m1.index[1],m1.Volume[1]),\n",
    "               xytext=(pd.to_datetime('2018-08-27 14:00:00'),10), ha='center',\n",
    "               arrowprops=dict(color='darkred', arrowstyle=\"->\", lw=2))\n",
    "        \n",
    "    # Main section incident 2\n",
    "    temp2 = df[(df.index.date == date_ls[idx]) &\n",
    "              (df.Incident_Type2 != 'None2')]\n",
    "    if temp2.shape[0] != 0:\n",
    "        temp2 = temp2.reindex(pd.date_range(temp2.index.min(),\n",
    "                                    temp2.index.max(),\n",
    "                                    freq='1min'), fill_value=np.nan)\n",
    "        m2 = (temp2.loc[temp2['Incident_Type2'].shift(1) != temp2['Incident_Type2']]).dropna()\n",
    "        ax.plot(temp2.Volume+2, color='r', zorder=1)\n",
    "        ax.scatter(m2.index, m2.Volume, color='red', marker=\"*\", zorder=2)\n",
    "        \n",
    "    # Downstream incident\n",
    "    temp3 = df[(df.index.date == date_ls[idx]) &\n",
    "              (df.Downstream_Incident == 1)]\n",
    "    if temp3.shape[0] != 0:\n",
    "        temp3 = temp3.reindex(pd.date_range(temp3.index.min(),\n",
    "                                    temp3.index.max(),\n",
    "                                    freq='1min'),fill_value=np.nan)\n",
    "        d = (temp3.loc[temp3['Downstream_Incident'].shift(1) != temp3['Downstream_Incident']]).dropna()\n",
    "        ax.plot(temp3.Volume, color='b', zorder=1)\n",
    "        ax.scatter(d.index, d.Volume, color='blue', marker=\"*\", zorder=2)\n",
    "        ax.annotate('Road Crash\\n(Downstream)', \n",
    "               xy=(d.index[0],d.Volume[0]),\n",
    "               xytext=(pd.to_datetime('2018-08-27 07:45:00'),100), ha='center',\n",
    "               arrowprops=dict(color='navy', arrowstyle=\"->\", lw=2))\n",
    "        ax.annotate('Break Down /\\nTow Away\\n(Downstream)',\n",
    "               xy=(d.index[1],d.Volume[1]),\n",
    "               xytext=(pd.to_datetime('2018-08-27 14:00:00'),90), ha='center',\n",
    "               arrowprops=dict(color='navy', arrowstyle=\"->\", lw=2))\n",
    "        \n",
    "    ax.legend(fontsize=12)\n",
    "    plt.savefig('fig/L11/27Aug_volume.png', bbox_inches='tight')\n",
    "    plt.show()\n",
    "\n",
    "day_plot(df, 41)"
   ]
  },
  {
   "cell_type": "code",
   "execution_count": null,
   "id": "d6e0834f",
   "metadata": {
    "ExecuteTime": {
     "end_time": "2022-01-27T13:25:00.449123Z",
     "start_time": "2022-01-27T13:24:59.865099Z"
    }
   },
   "outputs": [],
   "source": [
    "def period_plot(df, idx, start_dt, end_dt):\n",
    "    plt.rcParams[\"lines.markersize\"] = 12\n",
    "    plt.rcParams[\"font.size\"] = 14\n",
    "    fig, ax = plt.subplots(figsize=(10,4))\n",
    "    ax.set_title(f'{date_ls[idx].strftime(\"%d %B %Y\")}',\n",
    "                 loc='right', fontsize=14)\n",
    "    ax.set_ylim(-10,120)\n",
    "    ax.set_xticks(pd.date_range('2018-08-27 08:30:00', '2018-08-27 13:30:00', freq='1H'),\n",
    "                  ['08:30', '09:30', '10:30', '11:30', '12:30', '13:30'])\n",
    "    \n",
    "    # Base plot (no incidents)\n",
    "    temp = df[(df.index.date == date_ls[idx]) &\n",
    "              (df.index >= start_dt) & (df.index < end_dt)]\n",
    "    ax.plot(temp.Volume, color='k', zorder=1)\n",
    "    ax.grid()\n",
    "    \n",
    "    # Main section incident 1\n",
    "    temp1 = df[(df.index.date == date_ls[idx]) &\n",
    "              (df.Incident_Type1 != 'None1')]\n",
    "    if temp1.shape[0] != 0:\n",
    "        temp1 = temp1.reindex(pd.date_range(temp1.index.min(),\n",
    "                                    temp1.index.max(),\n",
    "                                    freq='1min'), fill_value=np.nan)\n",
    "        m1 = (temp1.loc[temp1['Incident_Type1'].shift(1) != temp1['Incident_Type1']]).dropna()\n",
    "        ax.plot(temp1.Volume, color='r',  zorder=1)\n",
    "        ax.scatter(m1.index, m1.Volume, color='red', marker=\"*\", zorder=2)\n",
    "        ax.annotate('Road Crash\\n(Study Road)', \n",
    "               xy=(m1.index[0],m1.Volume[0]),\n",
    "               xytext=(m1.index[0],10), ha='center',\n",
    "               arrowprops=dict(color='darkred', arrowstyle=\"-|>\", lw=2))\n",
    "        ax.annotate('Animal /\\nLivestock\\n(Study Road)', \n",
    "               xy=(m1.index[1],m1.Volume[1]),\n",
    "               xytext=(m1.index[1],80), ha='center',\n",
    "               arrowprops=dict(color='darkred', arrowstyle=\"-|>\", lw=2))\n",
    "        \n",
    "    # Main section incident 2\n",
    "    temp2 = df[(df.index.date == date_ls[idx]) &\n",
    "              (df.Incident_Type2 != 'None2')]\n",
    "    if temp2.shape[0] != 0:\n",
    "        temp2 = temp2.reindex(pd.date_range(temp2.index.min(),\n",
    "                                    temp2.index.max(),\n",
    "                                    freq='1min'), fill_value=np.nan)\n",
    "        m2 = (temp2.loc[temp2['Incident_Type2'].shift(1) != temp2['Incident_Type2']]).dropna()\n",
    "        ax.plot(temp2.Volume+2, color='r', zorder=1)\n",
    "        ax.scatter(m2.index, m2.Volume, color='red', marker=\"*\", zorder=2)\n",
    "        \n",
    "    # Downstream incident\n",
    "    temp3 = df[(df.index.date == date_ls[idx]) &\n",
    "              (df.Downstream_Incident == 1)]\n",
    "    if temp3.shape[0] != 0:\n",
    "        temp3 = temp3.reindex(pd.date_range(temp3.index.min(),\n",
    "                                    temp3.index.max(),\n",
    "                                    freq='1min'),fill_value=np.nan)\n",
    "        d = (temp3.loc[temp3['Downstream_Incident'].shift(1) != temp3['Downstream_Incident']]).dropna()\n",
    "        ax.plot(temp3.Volume, color='b', zorder=1)\n",
    "        ax.scatter(d.index, d.Volume, color='blue', marker=\"*\", zorder=2)\n",
    "        ax.annotate('Road Crash\\n(Downstream)', \n",
    "               xy=(d.index[0],d.Volume[0]),\n",
    "               xytext=(d.index[0],10), ha='center',\n",
    "               arrowprops=dict(color='navy', arrowstyle=\"-|>\", lw=2))\n",
    "        ax.annotate('Break Down /\\nTow Away\\n(Downstream)',\n",
    "               xy=(d.index[1],d.Volume[1]),\n",
    "               xytext=(d.index[1],80), ha='center',\n",
    "               arrowprops=dict(color='navy', arrowstyle=\"-|>\", lw=2))\n",
    "    \n",
    "    plt.savefig('fig/L11/27Aug_volume_2.png', bbox_inches='tight')\n",
    "    plt.show()\n",
    "\n",
    "period_plot(df, 41, '2018-08-27 08:30:00', '2018-08-27 13:30:00')"
   ]
  }
 ],
 "metadata": {
  "hide_input": false,
  "kernelspec": {
   "display_name": "Python 3 (ipykernel)",
   "language": "python",
   "name": "python3"
  },
  "language_info": {
   "codemirror_mode": {
    "name": "ipython",
    "version": 3
   },
   "file_extension": ".py",
   "mimetype": "text/x-python",
   "name": "python",
   "nbconvert_exporter": "python",
   "pygments_lexer": "ipython3",
   "version": "3.8.5"
  },
  "latex_envs": {
   "LaTeX_envs_menu_present": true,
   "autoclose": false,
   "autocomplete": true,
   "bibliofile": "biblio.bib",
   "cite_by": "apalike",
   "current_citInitial": 1,
   "eqLabelWithNumbers": true,
   "eqNumInitial": 1,
   "hotkeys": {
    "equation": "Ctrl-E",
    "itemize": "Ctrl-I"
   },
   "labels_anchors": false,
   "latex_user_defs": false,
   "report_style_numbering": false,
   "user_envs_cfg": false
  },
  "toc": {
   "base_numbering": 1,
   "nav_menu": {},
   "number_sections": true,
   "sideBar": true,
   "skip_h1_title": false,
   "title_cell": "Table of Contents",
   "title_sidebar": "Contents",
   "toc_cell": false,
   "toc_position": {},
   "toc_section_display": true,
   "toc_window_display": false
  },
  "varInspector": {
   "cols": {
    "lenName": 16,
    "lenType": 16,
    "lenVar": 40
   },
   "kernels_config": {
    "python": {
     "delete_cmd_postfix": "",
     "delete_cmd_prefix": "del ",
     "library": "var_list.py",
     "varRefreshCmd": "print(var_dic_list())"
    },
    "r": {
     "delete_cmd_postfix": ") ",
     "delete_cmd_prefix": "rm(",
     "library": "var_list.r",
     "varRefreshCmd": "cat(var_dic_list()) "
    }
   },
   "types_to_exclude": [
    "module",
    "function",
    "builtin_function_or_method",
    "instance",
    "_Feature"
   ],
   "window_display": false
  }
 },
 "nbformat": 4,
 "nbformat_minor": 5
}
