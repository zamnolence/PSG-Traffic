{
 "cells": [
  {
   "cell_type": "markdown",
   "id": "5c22ce63",
   "metadata": {},
   "source": [
    "# Explore New Incident File"
   ]
  },
  {
   "cell_type": "code",
   "execution_count": null,
   "id": "5c4cc04b",
   "metadata": {
    "ExecuteTime": {
     "end_time": "2022-01-22T07:09:49.974005Z",
     "start_time": "2022-01-22T07:09:48.456154Z"
    }
   },
   "outputs": [],
   "source": [
    "# Python ≥3.5 is required\n",
    "import sys\n",
    "assert sys.version_info >= (3, 5)\n",
    "\n",
    "# Common imports\n",
    "import os\n",
    "import timeit\n",
    "import numpy as np\n",
    "import pandas as pd\n",
    "import seaborn as sns\n",
    "from math import sqrt\n",
    "from datetime import date\n",
    "import holidays\n",
    "sns.set()\n",
    "import warnings\n",
    "warnings.filterwarnings(\"ignore\")\n",
    "\n",
    "# To plot pretty figures\n",
    "import matplotlib as mpl\n",
    "import matplotlib.pyplot as plt\n",
    "import matplotlib.dates as mdates\n",
    "mpl.rcParams.update(mpl.rcParamsDefault)\n",
    "mpl.rcParams[\"font.family\"] = \"serif\"\n",
    "mpl.rcParams[\"font.sans-serif\"] = \"Verdana\"\n",
    "mpl.rcParams[\"lines.markersize\"] = 20\n",
    "# mpl.rc('axes', labelsize=14)\n",
    "# mpl.rc('xtick', labelsize=12)\n",
    "# mpl.rc('ytick', labelsize=12)"
   ]
  },
  {
   "cell_type": "code",
   "execution_count": null,
   "id": "83aa94bd",
   "metadata": {
    "ExecuteTime": {
     "end_time": "2022-01-22T11:23:35.579601Z",
     "start_time": "2022-01-22T11:23:35.355037Z"
    }
   },
   "outputs": [],
   "source": [
    "#https://thedatafrog.com/en/articles/show-data-google-map-python/\n",
    "from bokeh.io import show\n",
    "from bokeh.plotting import gmap\n",
    "from bokeh.models import GMapOptions"
   ]
  },
  {
   "cell_type": "markdown",
   "id": "bd8298fb",
   "metadata": {
    "heading_collapsed": true
   },
   "source": [
    "## VDS Lat Long.csv"
   ]
  },
  {
   "cell_type": "code",
   "execution_count": null,
   "id": "be28c5f8",
   "metadata": {
    "ExecuteTime": {
     "end_time": "2022-01-22T07:09:56.405437Z",
     "start_time": "2022-01-22T07:09:56.391476Z"
    },
    "hidden": true
   },
   "outputs": [],
   "source": [
    "loc_df = pd.read_csv(\"data/VDS Lat Long.csv\", header=0)"
   ]
  },
  {
   "cell_type": "code",
   "execution_count": null,
   "id": "ee136205",
   "metadata": {
    "ExecuteTime": {
     "end_time": "2022-01-22T07:09:58.376300Z",
     "start_time": "2022-01-22T07:09:58.368321Z"
    },
    "hidden": true
   },
   "outputs": [],
   "source": [
    "# Extract only Kwinana Northbound (inner) main road\n",
    "loc_df = loc_df[(loc_df['Short Name'].str.contains(\"KWN-M\")) &\n",
    "      (loc_df['Latitude'] >= -32.091154) & \n",
    "      (loc_df['Latitude'] <= -31.96255087)]"
   ]
  },
  {
   "cell_type": "code",
   "execution_count": null,
   "id": "54d4e762",
   "metadata": {
    "ExecuteTime": {
     "end_time": "2022-01-22T07:09:59.989472Z",
     "start_time": "2022-01-22T07:09:59.968566Z"
    },
    "hidden": true
   },
   "outputs": [],
   "source": [
    "# Check minimum and maximum latitude\n",
    "loc_df.describe()"
   ]
  },
  {
   "cell_type": "code",
   "execution_count": null,
   "id": "42741dd0",
   "metadata": {
    "ExecuteTime": {
     "end_time": "2022-01-22T07:10:03.134585Z",
     "start_time": "2022-01-22T07:10:03.128646Z"
    },
    "hidden": true
   },
   "outputs": [],
   "source": [
    "loc_df=loc_df.reset_index(drop=True)"
   ]
  },
  {
   "cell_type": "markdown",
   "id": "d25b5737",
   "metadata": {},
   "source": [
    "## Historic_Incidents_2016_-_2019__Points_.csv"
   ]
  },
  {
   "cell_type": "code",
   "execution_count": null,
   "id": "073d87e8",
   "metadata": {
    "ExecuteTime": {
     "end_time": "2022-01-19T23:58:38.477105Z",
     "start_time": "2022-01-19T23:58:38.323756Z"
    }
   },
   "outputs": [],
   "source": [
    "inc_df=pd.read_csv(\"data/Historic_Incidents_2016_-_2019__Points_.csv\", header=0)\n",
    "inc_df.head()"
   ]
  },
  {
   "cell_type": "code",
   "execution_count": null,
   "id": "05caf63a",
   "metadata": {
    "ExecuteTime": {
     "end_time": "2022-01-19T23:58:40.401323Z",
     "start_time": "2022-01-19T23:58:40.363253Z"
    }
   },
   "outputs": [],
   "source": [
    "df = inc_df[['OBJECTID','Lat', 'Long', 'WST_Start', 'WST_End',\n",
    "             'Incident_Type', 'Description', 'Road', 'Location',\n",
    "             'TrafficCondition']]; df.info()"
   ]
  },
  {
   "cell_type": "code",
   "execution_count": null,
   "id": "f7faf1b4",
   "metadata": {
    "ExecuteTime": {
     "end_time": "2022-01-19T23:58:42.523445Z",
     "start_time": "2022-01-19T23:58:42.482177Z"
    }
   },
   "outputs": [],
   "source": [
    "df.WST_Start = pd.to_datetime(df.WST_Start)\n",
    "df.WST_End = pd.to_datetime(df.WST_End)"
   ]
  },
  {
   "cell_type": "code",
   "execution_count": null,
   "id": "1c9d8cd4",
   "metadata": {
    "ExecuteTime": {
     "end_time": "2022-01-19T23:58:43.810777Z",
     "start_time": "2022-01-19T23:58:43.746436Z"
    }
   },
   "outputs": [],
   "source": [
    "# Extract only study period\n",
    "df2 = df[(df.Road == 'Kwinana Fwy') &\n",
    "  (df.Lat >= -32.091154) &                  # 0080KWN-MU\n",
    "  (df.Lat <= -31.96323) &                   # Narrow Bridge\n",
    "  (df.WST_Start >= '2018-01-01 00:00:00') & # between 1 Jan 2018\n",
    "  (df.WST_End <= '2018-10-25 23:59:00') &   # to 25 Oct 2018\n",
    "  (df.Description.str.contains('Kwinana Fwy northbound') |\n",
    "  df.Description.str.contains('Kwinana Fwy both directions'))]; df2"
   ]
  },
  {
   "cell_type": "code",
   "execution_count": null,
   "id": "8eb00a3e",
   "metadata": {
    "ExecuteTime": {
     "end_time": "2022-01-19T23:58:50.745431Z",
     "start_time": "2022-01-19T23:58:50.715512Z"
    }
   },
   "outputs": [],
   "source": [
    "df2[['Condition', 'Congestion', 'Caution']] = (df2['Location']\n",
    "                                               .str\n",
    "                                               .split('[.]\\s\\s', 2,\n",
    "                                                      expand=True))\n",
    "df2.head()"
   ]
  },
  {
   "cell_type": "code",
   "execution_count": null,
   "id": "62982746",
   "metadata": {
    "ExecuteTime": {
     "end_time": "2022-01-19T23:58:57.948723Z",
     "start_time": "2022-01-19T23:58:57.931751Z"
    }
   },
   "outputs": [],
   "source": [
    "df2 = df2[['OBJECTID', 'Lat', 'Long', 'WST_Start', 'WST_End',\n",
    "          'Incident_Type', 'TrafficCondition',\n",
    "           'Congestion']]; df2.head()"
   ]
  },
  {
   "cell_type": "code",
   "execution_count": null,
   "id": "faeca650",
   "metadata": {
    "ExecuteTime": {
     "end_time": "2022-01-19T23:59:04.004520Z",
     "start_time": "2022-01-19T23:59:03.994542Z"
    }
   },
   "outputs": [],
   "source": [
    "# Duplicate entries\n",
    "df2.WST_Start.round('min').value_counts()"
   ]
  },
  {
   "cell_type": "code",
   "execution_count": null,
   "id": "71d4472e",
   "metadata": {
    "ExecuteTime": {
     "end_time": "2022-01-20T01:56:20.600220Z",
     "start_time": "2022-01-20T01:56:20.580998Z"
    }
   },
   "outputs": [],
   "source": [
    "# Drop duplicates\n",
    "df3 = df2.drop_duplicates(subset=['WST_Start', 'WST_End', 'Incident_Type',\n",
    "                                  'TrafficCondition','Congestion'])\n",
    "df3.WST_Start.round('min').value_counts()"
   ]
  },
  {
   "cell_type": "code",
   "execution_count": null,
   "id": "1cf447be",
   "metadata": {
    "ExecuteTime": {
     "end_time": "2022-01-20T01:56:22.447172Z",
     "start_time": "2022-01-20T01:56:22.437199Z"
    }
   },
   "outputs": [],
   "source": [
    "df3.WST_Start = df3.WST_Start.round('min')\n",
    "df3.WST_End = df3.WST_End.round('min')"
   ]
  },
  {
   "cell_type": "code",
   "execution_count": null,
   "id": "83167205",
   "metadata": {
    "ExecuteTime": {
     "end_time": "2022-01-20T01:56:23.721529Z",
     "start_time": "2022-01-20T01:56:23.702005Z"
    }
   },
   "outputs": [],
   "source": [
    "df3.head()"
   ]
  },
  {
   "cell_type": "code",
   "execution_count": null,
   "id": "393de71d",
   "metadata": {
    "ExecuteTime": {
     "end_time": "2022-01-20T01:56:25.841140Z",
     "start_time": "2022-01-20T01:56:25.821151Z"
    }
   },
   "outputs": [],
   "source": [
    "# Duration = time difference in minute\n",
    "df3['Duration'] = (df3.WST_End-df3.WST_Start).astype('timedelta64[m]') \n",
    "df3.head()"
   ]
  },
  {
   "cell_type": "code",
   "execution_count": null,
   "id": "d563916a",
   "metadata": {
    "ExecuteTime": {
     "end_time": "2022-01-20T01:56:29.207738Z",
     "start_time": "2022-01-20T01:56:29.189174Z"
    }
   },
   "outputs": [],
   "source": [
    "df3.reset_index(drop=True, inplace=True); df3.head()"
   ]
  },
  {
   "cell_type": "code",
   "execution_count": null,
   "id": "cf4bfd35",
   "metadata": {
    "ExecuteTime": {
     "end_time": "2022-01-20T01:34:27.836814Z",
     "start_time": "2022-01-20T01:34:27.826831Z"
    }
   },
   "outputs": [],
   "source": [
    "df3.Duration.sum()"
   ]
  },
  {
   "cell_type": "code",
   "execution_count": null,
   "id": "b73f447a",
   "metadata": {
    "ExecuteTime": {
     "end_time": "2022-01-20T01:56:32.456258Z",
     "start_time": "2022-01-20T01:56:32.437447Z"
    }
   },
   "outputs": [],
   "source": [
    "df3.to_csv('data/Kwinana_Fwy_Historic_Incidents_2018_Wide.csv', index=False)"
   ]
  },
  {
   "cell_type": "code",
   "execution_count": null,
   "id": "9d91c59c",
   "metadata": {
    "ExecuteTime": {
     "end_time": "2022-01-19T10:31:27.387198Z",
     "start_time": "2022-01-19T10:31:27.317833Z"
    }
   },
   "outputs": [],
   "source": [
    "# df4 = df3.copy()\n",
    "# for i, r in df4.iterrows(): # i=index, r=row\n",
    "#     temp = pd.date_range(start=r.WST_Start, end=r.WST_End, freq='1min')\n",
    "#     df4.append(pd.date_range(start=r.WST_Start, end=r.WST_End, freq='1min'))"
   ]
  },
  {
   "cell_type": "code",
   "execution_count": null,
   "id": "34c119bc",
   "metadata": {
    "ExecuteTime": {
     "end_time": "2022-01-20T01:34:32.528772Z",
     "start_time": "2022-01-20T01:34:32.500782Z"
    }
   },
   "outputs": [],
   "source": [
    "df3 = pd.melt(df3, id_vars=['OBJECTID', 'Lat', 'Long', 'Incident_Type',\n",
    "                           'TrafficCondition', 'Congestion', 'Duration'],\n",
    "              value_name='DateTime').drop('variable', axis=1)\n",
    "#df3.DateTime = pd.to_datetime(df3.DateTime)\n",
    "#df3.set_index('DateTime', inplace=True)\n",
    "df3"
   ]
  },
  {
   "cell_type": "code",
   "execution_count": null,
   "id": "fa3decc1",
   "metadata": {
    "ExecuteTime": {
     "end_time": "2022-01-20T01:41:28.997412Z",
     "start_time": "2022-01-20T01:41:28.359200Z"
    }
   },
   "outputs": [],
   "source": [
    "df4 = (df3.groupby('OBJECTID').apply(lambda x: x.drop_duplicates('DateTime')\n",
    "                              .set_index('DateTime')\n",
    "                              .resample('1min')\n",
    "                              .ffill())); df4"
   ]
  },
  {
   "cell_type": "code",
   "execution_count": null,
   "id": "bf8a5b3c",
   "metadata": {
    "ExecuteTime": {
     "end_time": "2022-01-20T01:51:46.197052Z",
     "start_time": "2022-01-20T01:51:46.180095Z"
    }
   },
   "outputs": [],
   "source": [
    "df4.iloc[:,1:]"
   ]
  },
  {
   "cell_type": "code",
   "execution_count": null,
   "id": "773a41f3",
   "metadata": {
    "ExecuteTime": {
     "end_time": "2022-01-20T01:54:56.371232Z",
     "start_time": "2022-01-20T01:54:56.237323Z"
    }
   },
   "outputs": [],
   "source": [
    "df4.iloc[:,1:].to_csv('data/Kwinana_Fwy_Historic_Incidents_2018_Long.csv')"
   ]
  },
  {
   "cell_type": "markdown",
   "id": "c475a918",
   "metadata": {},
   "source": [
    "### Visualisation"
   ]
  },
  {
   "cell_type": "code",
   "execution_count": null,
   "id": "53f4da9f",
   "metadata": {
    "ExecuteTime": {
     "end_time": "2022-01-20T01:57:39.748608Z",
     "start_time": "2022-01-20T01:57:38.221448Z"
    }
   },
   "outputs": [],
   "source": [
    "%reset"
   ]
  },
  {
   "cell_type": "code",
   "execution_count": null,
   "id": "f5e5ed6b",
   "metadata": {
    "ExecuteTime": {
     "end_time": "2022-01-22T11:47:59.557652Z",
     "start_time": "2022-01-22T11:47:59.533687Z"
    }
   },
   "outputs": [],
   "source": [
    "df1 = pd.read_csv('data/Kwinana_Fwy_Historic_Incidents_2018_Wide.csv')\n",
    "df1.head()"
   ]
  },
  {
   "cell_type": "code",
   "execution_count": null,
   "id": "b89125d2",
   "metadata": {
    "ExecuteTime": {
     "end_time": "2022-01-22T11:48:01.624132Z",
     "start_time": "2022-01-22T11:48:01.619180Z"
    }
   },
   "outputs": [],
   "source": [
    "# Drop Duplicate Entry\n",
    "df1 = df1[df1.Incident_Type != 'Duplicate Entry']\n",
    "df1 = df1.reset_index(drop=True)"
   ]
  },
  {
   "cell_type": "code",
   "execution_count": null,
   "id": "79fc99b4",
   "metadata": {
    "ExecuteTime": {
     "end_time": "2022-01-22T11:48:03.096921Z",
     "start_time": "2022-01-22T11:48:03.075941Z"
    }
   },
   "outputs": [],
   "source": [
    "df1.info()"
   ]
  },
  {
   "cell_type": "code",
   "execution_count": null,
   "id": "ec558c01",
   "metadata": {
    "ExecuteTime": {
     "end_time": "2022-01-22T11:48:07.948494Z",
     "start_time": "2022-01-22T11:48:07.938488Z"
    }
   },
   "outputs": [],
   "source": [
    "df1.WST_Start = pd.to_datetime(df1.WST_Start)\n",
    "df1.WST_End = pd.to_datetime(df1.WST_End)\n",
    "# df1.Incident_Type = df1.Incident_Type.astype('category').cat.codes\n",
    "# df1.TrafficCondition = df1.TrafficCondition.astype('category').cat.codes\n",
    "# df1.Congestion = df1.Congestion.astype('category').cat.codes"
   ]
  },
  {
   "cell_type": "code",
   "execution_count": null,
   "id": "2487d11f",
   "metadata": {
    "ExecuteTime": {
     "end_time": "2022-01-22T11:48:10.409596Z",
     "start_time": "2022-01-22T11:48:10.394643Z"
    }
   },
   "outputs": [],
   "source": [
    "df1.Incident_Type = df1.Incident_Type.str.replace('/', '/\\n')"
   ]
  },
  {
   "cell_type": "code",
   "execution_count": null,
   "id": "6426f9ae",
   "metadata": {
    "ExecuteTime": {
     "end_time": "2022-01-22T11:48:13.997902Z",
     "start_time": "2022-01-22T11:48:13.881315Z"
    }
   },
   "outputs": [],
   "source": [
    "fig, ax = plt.subplots(figsize=(6,6))\n",
    "ax = sns.barplot(x=df1.Incident_Type.value_counts(),\n",
    "           y=df1.Incident_Type.value_counts().index)\n",
    "ax.set_xlabel('Frequency')\n",
    "ax.set_xlim(right=200)\n",
    "for p in ax.patches:\n",
    "  width = p.get_width()\n",
    "  ax.text(width + 1,\n",
    "          p.get_y() + p.get_height()/2,\n",
    "          int(width),\n",
    "          ha=\"left\",\n",
    "          va=\"center\")\n",
    "#plt.savefig('fig/incident_type_1.png', bbox_inches=\"tight\")\n",
    "plt.show()"
   ]
  },
  {
   "cell_type": "code",
   "execution_count": null,
   "id": "af8ca167",
   "metadata": {
    "ExecuteTime": {
     "end_time": "2022-01-22T11:48:17.597297Z",
     "start_time": "2022-01-22T11:48:17.588323Z"
    }
   },
   "outputs": [],
   "source": [
    "# Since Special Event, Pothole / Road Surface Damage,\n",
    "# and Hazmat (including spills) did not affect traffic congestion,\n",
    "# these three categories are combined into\n",
    "# Special Event / Pothole / Hazmat\n",
    "df1.Incident_Type=df1.Incident_Type.replace(['Special Event',\n",
    "                                            'Pothole /\\n Road Surface Damage',\n",
    "                                            'Hazmat (including spills)'],\n",
    "                                           'Special Event /\\nPothole / Hazmat')"
   ]
  },
  {
   "cell_type": "code",
   "execution_count": null,
   "id": "0af4f10d",
   "metadata": {
    "ExecuteTime": {
     "end_time": "2022-01-22T11:48:19.253486Z",
     "start_time": "2022-01-22T11:48:19.234505Z"
    }
   },
   "outputs": [],
   "source": [
    "df1.Incident_Type=df1.Incident_Type.replace(['Flooding', 'Storm'],\n",
    "                                           'Flooding /\\nStorm')"
   ]
  },
  {
   "cell_type": "code",
   "execution_count": null,
   "id": "5c901cbc",
   "metadata": {
    "ExecuteTime": {
     "end_time": "2022-01-22T11:48:22.192562Z",
     "start_time": "2022-01-22T11:48:22.083818Z"
    }
   },
   "outputs": [],
   "source": [
    "fig, ax = plt.subplots(figsize=(6,6))\n",
    "ax = sns.barplot(x=df1.Incident_Type.value_counts(),\n",
    "           y=df1.Incident_Type.value_counts().index)\n",
    "ax.set_xlabel('Frequency')\n",
    "ax.set_xlim(right=200)\n",
    "for p in ax.patches:\n",
    "  width = p.get_width()\n",
    "  ax.text(width + 1,\n",
    "          p.get_y() + p.get_height()/2,\n",
    "          int(width),\n",
    "          ha=\"left\",\n",
    "          va=\"center\")\n",
    "#plt.savefig('fig/incident_type_2.png', bbox_inches=\"tight\")\n",
    "plt.show()"
   ]
  },
  {
   "cell_type": "code",
   "execution_count": null,
   "id": "77070f3a",
   "metadata": {
    "ExecuteTime": {
     "end_time": "2022-01-22T11:48:29.005828Z",
     "start_time": "2022-01-22T11:48:28.980933Z"
    },
    "scrolled": true
   },
   "outputs": [],
   "source": [
    "custom_dict = {'Break Down /\\n Tow Away': 7,\n",
    "               'Debris /\\n Trees /\\n Lost Loads': 6,\n",
    "               'Road Crash': 5,\n",
    "               'Miscellaneous': 4,\n",
    "               'Animal /\\n Livestock': 3,\n",
    "               'Flooding /\\nStorm': 2,\n",
    "               'Special Event /\\nPothole / Hazmat': 1,\n",
    "               'Vehicle Fire': 0}\n",
    "\n",
    "df = (df1.groupby(['Incident_Type', 'Congestion'])\n",
    " .size().unstack().sort_values(by='Incident_Type',\n",
    "                               key=lambda x: x.map(custom_dict)))"
   ]
  },
  {
   "cell_type": "code",
   "execution_count": null,
   "id": "6586f868",
   "metadata": {
    "ExecuteTime": {
     "end_time": "2022-01-22T12:39:02.401637Z",
     "start_time": "2022-01-22T12:39:02.395640Z"
    }
   },
   "outputs": [],
   "source": [
    "temp2 = df1.groupby(['Incident_Type', 'Congestion']).size().unstack()\n",
    "temp2['sum'] = temp2.sum(axis=1)"
   ]
  },
  {
   "cell_type": "code",
   "execution_count": null,
   "id": "37d6f521",
   "metadata": {
    "ExecuteTime": {
     "end_time": "2022-01-22T12:39:17.173679Z",
     "start_time": "2022-01-22T12:39:16.929178Z"
    }
   },
   "outputs": [],
   "source": [
    "plt.rcParams[\"figure.figsize\"] = (6,6)\n",
    "(temp2.sort_values(by='sum').iloc[:,:-1]\n",
    " .plot(kind='barh', stacked=True, width=0.7))\n",
    "plt.ylabel('')\n",
    "plt.xlabel('Frequency')\n",
    "plt.xlim(right=200)\n",
    "plt.legend(title='Traffic Condition')\n",
    "for i, v in enumerate(temp2.sort_values('sum')['sum']):\n",
    "    plt.text(v+1, i-.15, int(v))\n",
    "#plt.savefig('fig/incident_congestion_1.png', bbox_inches=\"tight\")\n",
    "plt.show()"
   ]
  },
  {
   "cell_type": "code",
   "execution_count": null,
   "id": "0225b90d",
   "metadata": {
    "ExecuteTime": {
     "end_time": "2022-01-22T11:48:37.721474Z",
     "start_time": "2022-01-22T11:48:37.557959Z"
    }
   },
   "outputs": [],
   "source": [
    "df_total = df.sum(axis=1)\n",
    "df_rel = df.div(df_total, 0) * 100\n",
    "\n",
    "plt.rcParams[\"figure.figsize\"] = (6,6)\n",
    "df_rel.plot(kind='barh', stacked=True)\n",
    "plt.ylabel('')\n",
    "plt.xlabel('Percentage')\n",
    "plt.legend(loc='lower right')\n",
    "\n",
    "for n in df_rel: # for each column\n",
    "    for i, (cs, ab, pc) in enumerate(zip(df_rel.cumsum(1)[n], \n",
    "                                         df_rel[n], df[n])):\n",
    "        if ~np.isnan(cs):\n",
    "            plt.text(cs - ab / 2, i,\n",
    "                 str(int(pc)) + '\\n(' + str(np.round(ab, 1)) + '%)', \n",
    "                 va = 'center', ha = 'center', rotation = 16, fontsize = 8)\n",
    "#plt.savefig('fig/incident_congestion_2.png', bbox_inches=\"tight\")\n",
    "plt.show()"
   ]
  },
  {
   "cell_type": "code",
   "execution_count": null,
   "id": "bec2fc18",
   "metadata": {
    "ExecuteTime": {
     "end_time": "2022-01-22T11:48:44.179595Z",
     "start_time": "2022-01-22T11:48:44.162604Z"
    }
   },
   "outputs": [],
   "source": [
    "df1.TrafficCondition=df1.TrafficCondition.replace(['Left Emergency Lane Blocked',\n",
    "                                             'Right Emergency Lane Blocked'],\n",
    "                                             'Emergency Lane Blocked')\n",
    "\n",
    "df1.TrafficCondition=df1.TrafficCondition.replace(['Left Lane(s) Blocked',\n",
    "                                             'Right Lane(s) Blocked',\n",
    "                                             'Centre Lane(s) Blocked',\n",
    "                                             'Left Centre Lane(s) Blocked',\n",
    "                                             'Right Centre Lane(s) Blocked',\n",
    "                                             'Bus Lane Blocked'],\n",
    "                                             'Lane(s) Blocked')\n",
    "\n",
    "df1.TrafficCondition=df1.TrafficCondition.replace(['Left Turning Pocket Blocked',\n",
    "                                             'Right Turning Pocket Blocked'],\n",
    "                                             'Turning Pocket Blocked')"
   ]
  },
  {
   "cell_type": "code",
   "execution_count": null,
   "id": "1537c25f",
   "metadata": {
    "ExecuteTime": {
     "end_time": "2022-01-22T11:48:47.255675Z",
     "start_time": "2022-01-22T11:48:47.249696Z"
    }
   },
   "outputs": [],
   "source": [
    "df1.TrafficCondition.value_counts()"
   ]
  },
  {
   "cell_type": "code",
   "execution_count": null,
   "id": "8aff0b1b",
   "metadata": {
    "ExecuteTime": {
     "end_time": "2022-01-22T11:48:49.086537Z",
     "start_time": "2022-01-22T11:48:49.061572Z"
    }
   },
   "outputs": [],
   "source": [
    "df1.groupby(['TrafficCondition', 'Congestion']).size().unstack()"
   ]
  },
  {
   "cell_type": "code",
   "execution_count": null,
   "id": "870d3bac",
   "metadata": {
    "ExecuteTime": {
     "end_time": "2022-01-22T11:48:51.710398Z",
     "start_time": "2022-01-22T11:48:51.683905Z"
    }
   },
   "outputs": [],
   "source": [
    "df1.groupby(['TrafficCondition', 'Incident_Type']).size().unstack()"
   ]
  },
  {
   "cell_type": "code",
   "execution_count": null,
   "id": "326c2857",
   "metadata": {
    "ExecuteTime": {
     "end_time": "2022-01-22T12:33:52.762290Z",
     "start_time": "2022-01-22T12:33:52.753310Z"
    }
   },
   "outputs": [],
   "source": [
    "temp1 = df1.groupby(['Incident_Type', 'TrafficCondition']).size().unstack()\n",
    "temp1['sum'] = temp1.sum(axis=1)"
   ]
  },
  {
   "cell_type": "code",
   "execution_count": null,
   "id": "1322d7cf",
   "metadata": {
    "ExecuteTime": {
     "end_time": "2022-01-22T12:35:20.693226Z",
     "start_time": "2022-01-22T12:35:20.401015Z"
    }
   },
   "outputs": [],
   "source": [
    "plt.rcParams[\"figure.figsize\"] = (6,6)\n",
    "(temp1.sort_values(by='sum').iloc[:,:-1]\n",
    " .plot(kind='barh', stacked=True, width=0.7))\n",
    "plt.ylabel('')\n",
    "plt.xlabel('Frequency')\n",
    "plt.xlim(right=200)\n",
    "plt.legend(title='Traffic Condition')\n",
    "for i, v in enumerate(temp1.sort_values('sum')['sum']):\n",
    "    plt.text(v+1, i-.15, int(v))\n",
    "plt.savefig('fig/incident_condition_1.png', bbox_inches=\"tight\")\n",
    "plt.show()"
   ]
  },
  {
   "cell_type": "code",
   "execution_count": null,
   "id": "5fc59c01",
   "metadata": {
    "ExecuteTime": {
     "end_time": "2022-01-22T11:49:02.769805Z",
     "start_time": "2022-01-22T11:49:02.580496Z"
    }
   },
   "outputs": [],
   "source": [
    "df = (df1.groupby(['Incident_Type', 'TrafficCondition'])\n",
    " .size().unstack().sort_values(by='Incident_Type',\n",
    "                               key=lambda x: x.map(custom_dict)))\n",
    "\n",
    "df_total = df.sum(axis=1)\n",
    "df_rel = df.div(df_total, 0) * 100\n",
    "\n",
    "plt.rcParams[\"figure.figsize\"] = (6,6)\n",
    "df_rel.plot(kind='barh', stacked=True)\n",
    "plt.ylabel('')\n",
    "plt.xlabel('Percentage')\n",
    "\n",
    "plt.legend(loc='lower left', bbox_to_anchor=(0.55, 0.001))\n",
    "\n",
    "for n in df_rel: # for each column\n",
    "    for i, (cs, ab, pc) in enumerate(zip(df_rel.cumsum(1)[n], \n",
    "                                         df_rel[n], df[n])):\n",
    "        if ~np.isnan(cs):\n",
    "            plt.text((cs - ab / 2)+1.2, i,\n",
    "                 str(int(pc)) + '\\n(' + str(np.round(ab, 1)) + '%)', \n",
    "                 va = 'center', ha = 'center', rotation = 25, fontsize = 8)\n",
    "#plt.savefig('fig/incident_condition_2.png', bbox_inches=\"tight\")\n",
    "plt.show()"
   ]
  },
  {
   "cell_type": "code",
   "execution_count": null,
   "id": "d5e1648b",
   "metadata": {
    "ExecuteTime": {
     "end_time": "2022-01-22T11:49:06.387776Z",
     "start_time": "2022-01-22T11:49:06.362844Z"
    }
   },
   "outputs": [],
   "source": [
    "def func2(a):\n",
    "    if -32.091154 <= a < -32.080696:\n",
    "        return \"1\"\n",
    "    elif -32.080696 <= a < -32.074042:\n",
    "        return \"2\"\n",
    "    elif -32.074042 <= a < -32.071075:\n",
    "        return \"3\"\n",
    "    elif -32.071075 <= a < -32.057092:\n",
    "        return \"4\"\n",
    "    elif -32.057092 <= a < -32.052286:\n",
    "        return \"5\"\n",
    "    elif -32.052286 <= a < -32.043637:\n",
    "        return \"6\"\n",
    "    elif -32.043637 <= a < -32.040758:\n",
    "        return \"7\"\n",
    "    elif -32.040758 <= a < -32.030254:\n",
    "        return \"8\"\n",
    "    elif -32.030254 <= a < -32.012242:\n",
    "        return \"9\"\n",
    "    elif -32.012242 <= a < -32.010690:\n",
    "        return \"10\"\n",
    "    elif -32.010690 <= a < -32.003147:\n",
    "        return \"11\"\n",
    "    elif -32.003147 <= a < -31.969905:\n",
    "        return \"12\"\n",
    "    elif -31.969905 <= a < -31.966753:\n",
    "        return \"13\"\n",
    "    elif a >= -31.966753 :\n",
    "        return \"14\"\n",
    "    else:\n",
    "        return \"Other\"\n",
    "\n",
    "df1['ID'] = df1['Lat'].apply(lambda x: func2(x))\n",
    "df1.head()"
   ]
  },
  {
   "cell_type": "code",
   "execution_count": null,
   "id": "c13e520e",
   "metadata": {
    "ExecuteTime": {
     "end_time": "2022-01-22T11:49:13.119331Z",
     "start_time": "2022-01-22T11:49:13.114376Z"
    }
   },
   "outputs": [],
   "source": [
    "df1.ID = df1.ID.astype(int)"
   ]
  },
  {
   "cell_type": "code",
   "execution_count": null,
   "id": "c96fd516",
   "metadata": {
    "ExecuteTime": {
     "end_time": "2022-01-22T11:49:14.853510Z",
     "start_time": "2022-01-22T11:49:14.836528Z"
    }
   },
   "outputs": [],
   "source": [
    "df1.info()"
   ]
  },
  {
   "cell_type": "code",
   "execution_count": null,
   "id": "85e7b4c4",
   "metadata": {
    "ExecuteTime": {
     "end_time": "2022-01-22T11:49:17.292026Z",
     "start_time": "2022-01-22T11:49:17.268105Z"
    },
    "scrolled": true
   },
   "outputs": [],
   "source": [
    "df1.describe()"
   ]
  },
  {
   "cell_type": "code",
   "execution_count": null,
   "id": "b619bf46",
   "metadata": {
    "ExecuteTime": {
     "end_time": "2022-01-22T11:56:22.452375Z",
     "start_time": "2022-01-22T11:56:22.443433Z"
    }
   },
   "outputs": [],
   "source": [
    "df1.ID.value_counts()"
   ]
  },
  {
   "cell_type": "code",
   "execution_count": null,
   "id": "81afd2a9",
   "metadata": {
    "ExecuteTime": {
     "end_time": "2022-01-22T11:59:30.308797Z",
     "start_time": "2022-01-22T11:59:30.083205Z"
    },
    "scrolled": false
   },
   "outputs": [],
   "source": [
    "fig, ax = plt.subplots(figsize=(6,6))\n",
    "ax = sns.barplot(x=df1.ID.astype(str).value_counts(),\n",
    "           y=df1.ID.astype(str).value_counts().index)\n",
    "ax.set_xlabel('Frequency')\n",
    "ax.set_ylabel('Link')\n",
    "ax.set_xlim(right=85)\n",
    "for p in ax.patches:\n",
    "  width = p.get_width()\n",
    "  ax.text(width + 1,\n",
    "          p.get_y() + p.get_height()/2,\n",
    "          int(width),\n",
    "          ha=\"left\",\n",
    "          va=\"center\")\n",
    "#plt.savefig('fig/incident_link_1.png', bbox_inches=\"tight\")\n",
    "plt.show()"
   ]
  },
  {
   "cell_type": "code",
   "execution_count": null,
   "id": "558f39d2",
   "metadata": {
    "ExecuteTime": {
     "end_time": "2022-01-22T13:59:03.271028Z",
     "start_time": "2022-01-22T13:59:03.253068Z"
    }
   },
   "outputs": [],
   "source": [
    "temp = df1.groupby(['ID', 'Incident_Type']).size().unstack()\n",
    "temp['sum'] = temp.sum(axis=1)"
   ]
  },
  {
   "cell_type": "code",
   "execution_count": null,
   "id": "3ad0338c",
   "metadata": {
    "ExecuteTime": {
     "end_time": "2022-01-22T13:59:33.655223Z",
     "start_time": "2022-01-22T13:59:33.253348Z"
    }
   },
   "outputs": [],
   "source": [
    "plt.rcParams[\"figure.figsize\"] = (6,6)\n",
    "(temp.sort_values(by='sum').iloc[:,:-1]\n",
    " .plot(kind='barh', stacked=True, width=0.7))\n",
    "plt.ylabel('Link')\n",
    "plt.xlabel('Frequency')\n",
    "plt.xlim(right=85)\n",
    "plt.legend(title='Incident Type', loc='lower left',\n",
    "           bbox_to_anchor=(0.61, -0.012))\n",
    "for i, v in enumerate(temp.sort_values('sum')['sum']):\n",
    "    plt.text(v+1, i-.15, int(v))\n",
    "#plt.savefig('fig/incident_link_2.png', bbox_inches=\"tight\")\n",
    "plt.show()"
   ]
  },
  {
   "cell_type": "code",
   "execution_count": null,
   "id": "f251391d",
   "metadata": {},
   "outputs": [],
   "source": [
    "del temp, temp1, temp2"
   ]
  },
  {
   "cell_type": "code",
   "execution_count": null,
   "id": "e84ea23d",
   "metadata": {
    "ExecuteTime": {
     "end_time": "2022-01-22T14:19:19.776761Z",
     "start_time": "2022-01-22T14:19:19.509171Z"
    },
    "scrolled": false
   },
   "outputs": [],
   "source": [
    "import matplotlib.cm as cm\n",
    "import matplotlib.colors as mcolors\n",
    "\n",
    "def colorbar_index(ncolors, cmap):\n",
    "    cmap = cmap_discretize(cmap, ncolors)\n",
    "    mappable = cm.ScalarMappable(cmap=cmap)\n",
    "    mappable.set_array([])\n",
    "    mappable.set_clim(-0.5, ncolors+0.5)\n",
    "    colorbar = plt.colorbar(mappable)\n",
    "    colorbar.set_ticks(np.linspace(0, ncolors, ncolors))\n",
    "    colorbar.set_ticklabels(range(1, ncolors+1))\n",
    "    colorbar.set_label('Link')\n",
    "    \n",
    "def cmap_discretize(cmap, N):\n",
    "    \"\"\"Return a discrete colormap from the continuous colormap cmap.\n",
    "\n",
    "        cmap: colormap instance, eg. cm.jet. \n",
    "        N: number of colors.\n",
    "\n",
    "    Example\n",
    "        x = resize(arange(100), (5,100))\n",
    "        djet = cmap_discretize(cm.jet, 5)\n",
    "        imshow(x, cmap=djet)\n",
    "    \"\"\"\n",
    "\n",
    "    if type(cmap) == str:\n",
    "        cmap = plt.get_cmap(cmap)\n",
    "    colors_i = np.concatenate((np.linspace(0, 1., N), (0.,0.,0.,0.)))\n",
    "    colors_rgba = cmap(colors_i)\n",
    "    indices = np.linspace(0, 1., N+1)\n",
    "    cdict = {}\n",
    "    for ki,key in enumerate(('red','green','blue')):\n",
    "        cdict[key] = [ (indices[i], colors_rgba[i-1,ki], colors_rgba[i,ki])\n",
    "                       for i in range(N+1) ]\n",
    "    # Return colormap object.\n",
    "    return mcolors.LinearSegmentedColormap(cmap.name + \"_%d\"%N, cdict, 1024)\n",
    "\n",
    "\n",
    "cmp = mpl.colors.ListedColormap(['#ebac23', '#b80058', '#008cf9',\n",
    "                                 '#006e00', '#00bbad', '#d163e6',\n",
    "                                 '#b24502', '#ff9287', '#5954d6',\n",
    "                                 '#00c6f8', '#878500', '#00a76c',\n",
    "                                 '#bdbdbd', '#000078', '#b51d14'])\n",
    "df1.plot(kind='scatter', x='Long', y='Lat', alpha=0.5,\n",
    "        s='Duration', c='ID', label='Duration',\n",
    "        cmap=cmp, colorbar=False, rot=45)\n",
    "plt.ticklabel_format(useOffset=False)\n",
    "plt.xlabel('Longitude')\n",
    "plt.ylabel('Latitude')\n",
    "plt.legend(markerscale=0.2)\n",
    "colorbar_index(ncolors=14, cmap=cmp)\n",
    "#plt.savefig('fig/incident_loc_link_2.png', bbox_inches=\"tight\")\n",
    "plt.show()"
   ]
  },
  {
   "cell_type": "code",
   "execution_count": null,
   "id": "367cbfb1",
   "metadata": {
    "ExecuteTime": {
     "end_time": "2022-01-22T14:15:07.036447Z",
     "start_time": "2022-01-22T14:15:07.028502Z"
    }
   },
   "outputs": [],
   "source": [
    "# cmp = plt.get_cmap('prism')\n",
    "# df1.plot(kind='scatter', x='Long', y='Lat', alpha=0.5,\n",
    "#         s='Duration', c='ID', label='Duration',\n",
    "#         cmap=cmp, colorbar=False, rot=45)\n",
    "# plt.ticklabel_format(useOffset=False)\n",
    "# plt.xlabel('Longitude')\n",
    "# plt.ylabel('Latitude')\n",
    "# plt.legend(markerscale=0.2)\n",
    "# colorbar_index(ncolors=14, cmap=cmp)\n",
    "#plt.savefig('fig/incident_loc_link_1.png', bbox_inches=\"tight\")\n",
    "# plt.show()"
   ]
  },
  {
   "cell_type": "code",
   "execution_count": null,
   "id": "c589c107",
   "metadata": {
    "ExecuteTime": {
     "end_time": "2022-01-22T13:32:59.348340Z",
     "start_time": "2022-01-22T13:32:59.119936Z"
    }
   },
   "outputs": [],
   "source": [
    "# lat, lon = -32.016343, 115.852842\n",
    "# bokeh_width, bokeh_height = 500,400\n",
    "# from bokeh.models import ColumnDataSource\n",
    "\n",
    "# def plot(lat, lng, zoom=10, map_type='roadmap'):\n",
    "#     gmap_options = GMapOptions(lat=lat, lng=lng, \n",
    "#                                map_type=map_type, zoom=zoom)\n",
    "#     p = gmap(api_key, gmap_options, title='Pays de Gex', \n",
    "#              width=bokeh_width, height=bokeh_height)\n",
    "#     # definition of the column data source: \n",
    "#     source = ColumnDataSource(df1)\n",
    "#     # see how we specify the x and y columns as strings, \n",
    "#     # and how to declare as a source the ColumnDataSource:\n",
    "#     center = p.circle('lon', 'lat', size=4, alpha=0.2, \n",
    "#                       color='yellow', source=source)\n",
    "#     show(p)\n",
    "#     return p\n",
    "\n",
    "# p = plot(lat, lon, map_type='satellite')"
   ]
  },
  {
   "cell_type": "markdown",
   "id": "4574b0bd",
   "metadata": {},
   "source": [
    "## Merge Traffic data with new incident file"
   ]
  },
  {
   "cell_type": "code",
   "execution_count": null,
   "id": "919f55aa",
   "metadata": {
    "ExecuteTime": {
     "end_time": "2022-01-22T07:10:21.686577Z",
     "start_time": "2022-01-22T07:10:21.632730Z"
    }
   },
   "outputs": [],
   "source": [
    "df2 = pd.read_csv('data/Kwinana_Fwy_Historic_Incidents_2018_Long.csv')\n",
    "df2.head()"
   ]
  },
  {
   "cell_type": "code",
   "execution_count": null,
   "id": "d3d8d22c",
   "metadata": {
    "ExecuteTime": {
     "end_time": "2022-01-22T07:10:25.606431Z",
     "start_time": "2022-01-22T07:10:25.584873Z"
    }
   },
   "outputs": [],
   "source": [
    "# Remove Lat, Long, Congestion, and Duration\n",
    "df2 = df2[['DateTime', 'Lat', 'Incident_Type', 'TrafficCondition', 'Congestion']]\n",
    "df2.head()"
   ]
  },
  {
   "cell_type": "code",
   "execution_count": null,
   "id": "9ef0d85b",
   "metadata": {
    "ExecuteTime": {
     "end_time": "2022-01-22T07:10:30.738557Z",
     "start_time": "2022-01-22T07:10:30.688509Z"
    }
   },
   "outputs": [],
   "source": [
    "df2 = df2[df2.Incident_Type != 'Duplicate Entry']\n",
    "df2.reset_index(drop=True)\n",
    "\n",
    "df2.DateTime = pd.to_datetime(df2.DateTime)\n",
    "\n",
    "df2.Incident_Type = df2.Incident_Type.str.replace('/', '/\\n')\n",
    "\n",
    "df2.Incident_Type=df2.Incident_Type.replace(['Special Event',\n",
    "                                            'Pothole /\\n Road Surface Damage',\n",
    "                                            'Hazmat (including spills)'],\n",
    "                                           'Special Event /\\nPothole / Hazmat')\n",
    "\n",
    "df2.Incident_Type=df2.Incident_Type.replace(['Flooding', 'Storm'],\n",
    "                                           'Flooding /\\nStorm')\n",
    "\n",
    "df2.TrafficCondition=df2.TrafficCondition.replace(['Left Emergency Lane Blocked',\n",
    "                                             'Right Emergency Lane Blocked'],\n",
    "                                             'Emergency Lane Blocked')\n",
    "\n",
    "df2.TrafficCondition=df2.TrafficCondition.replace(['Left Lane(s) Blocked',\n",
    "                                             'Right Lane(s) Blocked',\n",
    "                                             'Centre Lane(s) Blocked',\n",
    "                                             'Left Centre Lane(s) Blocked',\n",
    "                                             'Right Centre Lane(s) Blocked',\n",
    "                                             'Bus Lane Blocked'],\n",
    "                                             'Lane(s) Blocked')\n",
    "\n",
    "df2.TrafficCondition=df2.TrafficCondition.replace(['Left Turning Pocket Blocked',\n",
    "                                             'Right Turning Pocket Blocked'],\n",
    "                                             'Turning Pocket Blocked')"
   ]
  },
  {
   "cell_type": "code",
   "execution_count": null,
   "id": "81df2b84",
   "metadata": {
    "ExecuteTime": {
     "end_time": "2022-01-22T07:10:45.540602Z",
     "start_time": "2022-01-22T07:10:42.168855Z"
    }
   },
   "outputs": [],
   "source": [
    "# Traffic data file\n",
    "df3 = pd.read_csv('data/LAD.csv')"
   ]
  },
  {
   "cell_type": "code",
   "execution_count": null,
   "id": "f6a23b56",
   "metadata": {
    "ExecuteTime": {
     "end_time": "2022-01-22T07:10:47.110104Z",
     "start_time": "2022-01-22T07:10:46.920827Z"
    }
   },
   "outputs": [],
   "source": [
    "df3 = df3[['ID', 'DateTime', 'Length', 'Volume', 'Speed', 'Occupancy']]\n",
    "df3.head()"
   ]
  },
  {
   "cell_type": "code",
   "execution_count": null,
   "id": "a8eb5a37",
   "metadata": {
    "ExecuteTime": {
     "end_time": "2022-01-22T09:00:37.994792Z",
     "start_time": "2022-01-22T09:00:37.979826Z"
    }
   },
   "outputs": [],
   "source": [
    "df3.info()"
   ]
  },
  {
   "cell_type": "code",
   "execution_count": null,
   "id": "e3bb7255",
   "metadata": {
    "ExecuteTime": {
     "end_time": "2022-01-22T07:10:56.095758Z",
     "start_time": "2022-01-22T07:10:56.064841Z"
    }
   },
   "outputs": [],
   "source": [
    "def func(a):\n",
    "    if \"0220\" in a or \"0210\" in a:\n",
    "        return \"1\"\n",
    "    elif \"0091\" in a or \"0200\" in a:\n",
    "        return \"2\"\n",
    "    elif \"0090\" in a:\n",
    "        return \"3\"\n",
    "    elif \"0190\" in a or \"0089\" in a:\n",
    "        return \"4\"\n",
    "    elif \"0180\" in a or \"0700\" in a:\n",
    "        return \"5\"\n",
    "    elif \"0170\" in a or \"0702\" in a:\n",
    "        return \"6\"\n",
    "    elif \"0160\" in a:\n",
    "        return \"7\"\n",
    "    elif \"0088\" in a or \"0150\" in a:\n",
    "        return \"8\"\n",
    "    elif \"0087\" in a or \"0140\" in a or \"0086\" in a:\n",
    "        return \"9\"\n",
    "    elif \"0130\" in a:\n",
    "        return \"10\"\n",
    "    elif \"0085\" in a or \"0084\" in a:\n",
    "        return \"11\"\n",
    "    elif \"0120\" in a or \"0003\" in a or \"0083\" in a or \"0100\" in a or \"0082\" in a or \"0081\" in a:\n",
    "        return \"12\"\n",
    "    elif \"0002\" in a:\n",
    "        return \"13\"\n",
    "    elif \"0080\" in a:\n",
    "        return \"14\"\n",
    "    else:\n",
    "        return \"Other\"\n",
    "    \n",
    "loc_df['ID'] = loc_df['Short Name'].apply(lambda x: func(x))\n",
    "loc_df"
   ]
  },
  {
   "cell_type": "code",
   "execution_count": null,
   "id": "e550796e",
   "metadata": {
    "ExecuteTime": {
     "end_time": "2022-01-22T07:11:00.970009Z",
     "start_time": "2022-01-22T07:11:00.936519Z"
    }
   },
   "outputs": [],
   "source": [
    "# Get the minimum and maximum latitude of each ID\n",
    "minloc=loc_df.groupby('ID').Latitude.describe()[['min','max']].reset_index()\n",
    "minloc.ID = minloc.ID.astype(int)\n",
    "minloc=minloc.sort_values(by='ID')"
   ]
  },
  {
   "cell_type": "code",
   "execution_count": null,
   "id": "5c65db11",
   "metadata": {
    "ExecuteTime": {
     "end_time": "2022-01-22T07:11:02.294896Z",
     "start_time": "2022-01-22T07:11:02.271619Z"
    }
   },
   "outputs": [],
   "source": [
    "minloc"
   ]
  },
  {
   "cell_type": "code",
   "execution_count": null,
   "id": "7e6e7e73",
   "metadata": {
    "ExecuteTime": {
     "end_time": "2022-01-22T07:11:04.409961Z",
     "start_time": "2022-01-22T07:11:04.370064Z"
    }
   },
   "outputs": [],
   "source": [
    "def func2(a):\n",
    "    if -32.091154 <= a < -32.080696:\n",
    "        return \"1\"\n",
    "    elif -32.080696 <= a < -32.074042:\n",
    "        return \"2\"\n",
    "    elif -32.074042 <= a < -32.071075:\n",
    "        return \"3\"\n",
    "    elif -32.071075 <= a < -32.057092:\n",
    "        return \"4\"\n",
    "    elif -32.057092 <= a < -32.052286:\n",
    "        return \"5\"\n",
    "    elif -32.052286 <= a < -32.043637:\n",
    "        return \"6\"\n",
    "    elif -32.043637 <= a < -32.040758:\n",
    "        return \"7\"\n",
    "    elif -32.040758 <= a < -32.030254:\n",
    "        return \"8\"\n",
    "    elif -32.030254 <= a < -32.012242:\n",
    "        return \"9\"\n",
    "    elif -32.012242 <= a < -32.010690:\n",
    "        return \"10\"\n",
    "    elif -32.010690 <= a < -32.003147:\n",
    "        return \"11\"\n",
    "    elif -32.003147 <= a < -31.969905:\n",
    "        return \"12\"\n",
    "    elif -31.969905 <= a < -31.966753:\n",
    "        return \"13\"\n",
    "    elif a >= -31.966753 :\n",
    "        return \"14\"\n",
    "    else:\n",
    "        return \"Other\"\n",
    "\n",
    "df2['ID'] = df2['Lat'].apply(lambda x: func2(x))\n",
    "df2.head()"
   ]
  },
  {
   "cell_type": "code",
   "execution_count": null,
   "id": "accce390",
   "metadata": {
    "ExecuteTime": {
     "end_time": "2022-01-22T07:11:13.025512Z",
     "start_time": "2022-01-22T07:11:13.008562Z"
    }
   },
   "outputs": [],
   "source": [
    "df2.Incident_Type.unique()"
   ]
  },
  {
   "cell_type": "code",
   "execution_count": null,
   "id": "12691e19",
   "metadata": {
    "ExecuteTime": {
     "end_time": "2022-01-22T07:11:14.539044Z",
     "start_time": "2022-01-22T07:11:14.528038Z"
    }
   },
   "outputs": [],
   "source": [
    "df2.TrafficCondition.unique()"
   ]
  },
  {
   "cell_type": "code",
   "execution_count": null,
   "id": "4fed4be6",
   "metadata": {
    "ExecuteTime": {
     "end_time": "2022-01-22T07:11:15.950908Z",
     "start_time": "2022-01-22T07:11:15.934974Z"
    }
   },
   "outputs": [],
   "source": [
    "df2.Congestion.unique()"
   ]
  },
  {
   "cell_type": "code",
   "execution_count": null,
   "id": "e0da2557",
   "metadata": {
    "ExecuteTime": {
     "end_time": "2022-01-22T07:11:25.369905Z",
     "start_time": "2022-01-22T07:11:25.352951Z"
    }
   },
   "outputs": [],
   "source": [
    "df2 = df2[['ID', 'DateTime', 'Incident_Type', 'TrafficCondition', 'Congestion']]\n",
    "df2.head()"
   ]
  },
  {
   "cell_type": "code",
   "execution_count": null,
   "id": "071e0e1a",
   "metadata": {
    "ExecuteTime": {
     "end_time": "2022-01-22T07:11:33.551104Z",
     "start_time": "2022-01-22T07:11:33.536146Z"
    }
   },
   "outputs": [],
   "source": [
    "# Incident data\n",
    "df2.shape"
   ]
  },
  {
   "cell_type": "code",
   "execution_count": null,
   "id": "adbc4e55",
   "metadata": {
    "ExecuteTime": {
     "end_time": "2022-01-22T07:11:34.839292Z",
     "start_time": "2022-01-22T07:11:34.824848Z"
    }
   },
   "outputs": [],
   "source": [
    "# Traffic data\n",
    "df3.shape"
   ]
  },
  {
   "cell_type": "code",
   "execution_count": null,
   "id": "ffaf9433",
   "metadata": {
    "ExecuteTime": {
     "end_time": "2022-01-22T08:59:35.561920Z",
     "start_time": "2022-01-22T08:59:35.531639Z"
    }
   },
   "outputs": [],
   "source": [
    "# Check duplicate entries\n",
    "df2[df2.duplicated(subset=['ID', 'DateTime'], keep=False)]"
   ]
  },
  {
   "cell_type": "code",
   "execution_count": null,
   "id": "db5b1faa",
   "metadata": {
    "ExecuteTime": {
     "end_time": "2022-01-22T07:11:48.667646Z",
     "start_time": "2022-01-22T07:11:48.649696Z"
    }
   },
   "outputs": [],
   "source": [
    "df2.ID = df2.ID.astype('int64')\n",
    "df2.info()"
   ]
  },
  {
   "cell_type": "code",
   "execution_count": null,
   "id": "5f96b30a",
   "metadata": {
    "ExecuteTime": {
     "end_time": "2022-01-22T07:11:57.367674Z",
     "start_time": "2022-01-22T07:11:55.247349Z"
    }
   },
   "outputs": [],
   "source": [
    "df3.DateTime = pd.to_datetime(df3.DateTime)\n",
    "df3.info()"
   ]
  },
  {
   "cell_type": "code",
   "execution_count": null,
   "id": "65d10185",
   "metadata": {
    "ExecuteTime": {
     "end_time": "2022-01-22T07:12:48.506834Z",
     "start_time": "2022-01-22T07:12:45.416657Z"
    }
   },
   "outputs": [],
   "source": [
    "df_merged = (pd.merge(df3.sort_values(['ID', 'DateTime']),\n",
    "                      df2.sort_values(['ID', 'DateTime']),\n",
    "                      how='left',\n",
    "                      on=['ID', 'DateTime'])\n",
    "             .sort_values(['ID', 'DateTime'])\n",
    "             .reset_index(drop=True)\n",
    "            )\n",
    "df_merged.shape"
   ]
  },
  {
   "cell_type": "code",
   "execution_count": null,
   "id": "912186ae",
   "metadata": {
    "ExecuteTime": {
     "end_time": "2022-01-22T09:12:01.337467Z",
     "start_time": "2022-01-22T09:12:01.309230Z"
    }
   },
   "outputs": [],
   "source": [
    "df_merged.head()"
   ]
  },
  {
   "cell_type": "code",
   "execution_count": null,
   "id": "59fc38a4",
   "metadata": {
    "ExecuteTime": {
     "end_time": "2022-01-22T07:12:59.344212Z",
     "start_time": "2022-01-22T07:12:59.063667Z"
    }
   },
   "outputs": [],
   "source": [
    "# Duplicate entries\n",
    "df_merged[((df_merged.ID==12) & (df_merged.DateTime == '2018-01-23 13:38:00')) | \n",
    "         ((df_merged.ID==12) & (df_merged.DateTime == '2018-05-25 10:47:00')) |\n",
    "         ((df_merged.ID==12) & (df_merged.DateTime == '2018-06-06 11:56:00')) |\n",
    "         ((df_merged.ID==12) & (df_merged.DateTime == '2018-06-20 12:20:00')) |\n",
    "         ((df_merged.ID==14) & (df_merged.DateTime == '2018-07-22 06:55:00')) |\n",
    "         ((df_merged.ID==9) & (df_merged.DateTime == '2018-09-20 10:19:00')) |\n",
    "         ((df_merged.ID==1) & (df_merged.DateTime == '2018-09-25 06:34:00')) |\n",
    "         ((df_merged.ID==14) & (df_merged.DateTime == '2018-10-03 18:06:00')) |\n",
    "         ((df_merged.ID==11) & (df_merged.DateTime == '2018-10-08 08:46:00'))]"
   ]
  },
  {
   "cell_type": "code",
   "execution_count": null,
   "id": "850a572f",
   "metadata": {
    "ExecuteTime": {
     "end_time": "2022-01-22T09:23:43.280401Z",
     "start_time": "2022-01-22T09:15:32.402594Z"
    }
   },
   "outputs": [],
   "source": [
    "df_merged2 = (df_merged.set_index(['ID', 'DateTime', 'Length',\n",
    "                                'Volume', 'Speed', 'Occupancy'])\n",
    "              .astype(str)\n",
    "              .groupby(['ID', 'DateTime', 'Length',\n",
    "                                'Volume', 'Speed', 'Occupancy'])\n",
    "              .agg(', '.join)\n",
    "              .reset_index())\n",
    "df_merged2.shape"
   ]
  },
  {
   "cell_type": "code",
   "execution_count": null,
   "id": "a627ff3d",
   "metadata": {
    "ExecuteTime": {
     "end_time": "2022-01-22T09:23:43.327836Z",
     "start_time": "2022-01-22T09:23:43.312875Z"
    },
    "scrolled": false
   },
   "outputs": [],
   "source": [
    "df_merged2.head()"
   ]
  },
  {
   "cell_type": "code",
   "execution_count": null,
   "id": "ef2acf01",
   "metadata": {
    "ExecuteTime": {
     "end_time": "2022-01-22T09:31:25.060675Z",
     "start_time": "2022-01-22T09:31:24.942031Z"
    }
   },
   "outputs": [],
   "source": [
    "# Check duplicate entries\n",
    "df_merged2[((df_merged2.ID==12) & (df_merged2.DateTime == '2018-01-23 13:38:00'))]"
   ]
  },
  {
   "cell_type": "code",
   "execution_count": null,
   "id": "c89722ec",
   "metadata": {
    "ExecuteTime": {
     "end_time": "2022-01-22T09:34:10.536661Z",
     "start_time": "2022-01-22T09:34:10.210124Z"
    }
   },
   "outputs": [],
   "source": [
    "df_merged2.Incident_Type.value_counts()"
   ]
  },
  {
   "cell_type": "code",
   "execution_count": null,
   "id": "a51fd3d8",
   "metadata": {
    "ExecuteTime": {
     "end_time": "2022-01-22T09:35:30.352170Z",
     "start_time": "2022-01-22T09:35:29.938222Z"
    }
   },
   "outputs": [],
   "source": [
    "df_merged2.TrafficCondition.value_counts()"
   ]
  },
  {
   "cell_type": "code",
   "execution_count": null,
   "id": "d6c5e2a8",
   "metadata": {},
   "outputs": [],
   "source": [
    "df_merged2.TrafficCondition=df_merged2.TrafficCondition.replace({\n",
    "    'All Lanes Open, Emergency Lane Blocked': 'Emergency Lane Blocked'\n",
    "})"
   ]
  },
  {
   "cell_type": "code",
   "execution_count": null,
   "id": "3a1f7be3",
   "metadata": {
    "ExecuteTime": {
     "end_time": "2022-01-22T13:39:00.660714Z",
     "start_time": "2022-01-22T13:38:36.294720Z"
    }
   },
   "outputs": [],
   "source": [
    "df_merged2.to_csv('data/LAD+incident2.csv')"
   ]
  }
 ],
 "metadata": {
  "hide_input": false,
  "kernelspec": {
   "display_name": "Python 3 (ipykernel)",
   "language": "python",
   "name": "python3"
  },
  "language_info": {
   "codemirror_mode": {
    "name": "ipython",
    "version": 3
   },
   "file_extension": ".py",
   "mimetype": "text/x-python",
   "name": "python",
   "nbconvert_exporter": "python",
   "pygments_lexer": "ipython3",
   "version": "3.8.5"
  },
  "latex_envs": {
   "LaTeX_envs_menu_present": true,
   "autoclose": false,
   "autocomplete": true,
   "bibliofile": "biblio.bib",
   "cite_by": "apalike",
   "current_citInitial": 1,
   "eqLabelWithNumbers": true,
   "eqNumInitial": 1,
   "hotkeys": {
    "equation": "Ctrl-E",
    "itemize": "Ctrl-I"
   },
   "labels_anchors": false,
   "latex_user_defs": false,
   "report_style_numbering": false,
   "user_envs_cfg": false
  },
  "toc": {
   "base_numbering": 1,
   "nav_menu": {},
   "number_sections": true,
   "sideBar": true,
   "skip_h1_title": false,
   "title_cell": "Table of Contents",
   "title_sidebar": "Contents",
   "toc_cell": false,
   "toc_position": {},
   "toc_section_display": true,
   "toc_window_display": false
  },
  "varInspector": {
   "cols": {
    "lenName": 16,
    "lenType": 16,
    "lenVar": 40
   },
   "kernels_config": {
    "python": {
     "delete_cmd_postfix": "",
     "delete_cmd_prefix": "del ",
     "library": "var_list.py",
     "varRefreshCmd": "print(var_dic_list())"
    },
    "r": {
     "delete_cmd_postfix": ") ",
     "delete_cmd_prefix": "rm(",
     "library": "var_list.r",
     "varRefreshCmd": "cat(var_dic_list()) "
    }
   },
   "position": {
    "height": "224.855px",
    "left": "456.127px",
    "right": "20px",
    "top": "139px",
    "width": "355px"
   },
   "types_to_exclude": [
    "module",
    "function",
    "builtin_function_or_method",
    "instance",
    "_Feature"
   ],
   "window_display": false
  }
 },
 "nbformat": 4,
 "nbformat_minor": 5
}
