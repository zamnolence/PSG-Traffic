{
 "cells": [
  {
   "cell_type": "code",
   "execution_count": null,
   "id": "79e4533b",
   "metadata": {
    "ExecuteTime": {
     "end_time": "2022-01-26T06:53:00.445554Z",
     "start_time": "2022-01-26T06:52:57.299507Z"
    }
   },
   "outputs": [],
   "source": [
    "# Python ≥3.5 is required\n",
    "import sys\n",
    "assert sys.version_info >= (3, 5)\n",
    "\n",
    "# Scikit-Learn ≥0.20 is required\n",
    "import sklearn\n",
    "assert sklearn.__version__ >= \"0.20\"\n",
    "\n",
    "from sklearn.preprocessing import MinMaxScaler\n",
    "from sklearn.model_selection import GridSearchCV\n",
    "from sklearn.metrics import mean_squared_error\n",
    "\n",
    "# tensorflow\n",
    "import tensorflow as tf\n",
    "from tensorflow import keras\n",
    "\n",
    "from keras import backend as K\n",
    "from keras.models import Sequential, load_model\n",
    "from keras.layers import Dense, LSTM, Dropout, Conv1D, RepeatVector, TimeDistributed\n",
    "from keras.callbacks import ModelCheckpoint, EarlyStopping\n",
    "from keras.wrappers.scikit_learn import KerasRegressor\n",
    "\n",
    "# Common imports\n",
    "import os\n",
    "import timeit\n",
    "import numpy as np\n",
    "import pandas as pd\n",
    "import seaborn as sns\n",
    "from math import sqrt\n",
    "from datetime import date\n",
    "import holidays\n",
    "sns.set()\n",
    "import warnings\n",
    "warnings.filterwarnings(\"ignore\")\n",
    "\n",
    "# To plot pretty figures\n",
    "import matplotlib as mpl\n",
    "import matplotlib.pyplot as plt\n",
    "import matplotlib.dates as mdates\n",
    "mpl.rcParams.update(mpl.rcParamsDefault)\n",
    "mpl.rcParams[\"font.family\"] = \"serif\"\n",
    "mpl.rcParams[\"font.sans-serif\"] = \"Verdana\""
   ]
  },
  {
   "cell_type": "code",
   "execution_count": null,
   "id": "ef2ec506",
   "metadata": {
    "ExecuteTime": {
     "end_time": "2022-01-26T06:54:37.873289Z",
     "start_time": "2022-01-26T06:54:31.303497Z"
    }
   },
   "outputs": [],
   "source": [
    "df = pd.read_excel(\"data/Smart Freeways Data 2018 - Ramps All Days.xlsx\",\n",
    "                   skiprows=3, header=0)\n",
    "df.head()"
   ]
  },
  {
   "cell_type": "markdown",
   "id": "86bff74b",
   "metadata": {},
   "source": [
    "## 27 Aug"
   ]
  },
  {
   "cell_type": "code",
   "execution_count": null,
   "id": "26fa4c0e",
   "metadata": {
    "ExecuteTime": {
     "end_time": "2022-01-26T06:57:10.741196Z",
     "start_time": "2022-01-26T06:57:10.731254Z"
    }
   },
   "outputs": [],
   "source": [
    "df1 = df[['Row Labels', '27 Aug 18']]\n",
    "df1['Time'] = df1['Row Labels']\n",
    "df1 = df1[['Row Labels', 'Time', '27 Aug 18']]\n",
    "df1.head()"
   ]
  },
  {
   "cell_type": "code",
   "execution_count": null,
   "id": "cdbd3d21",
   "metadata": {
    "ExecuteTime": {
     "end_time": "2022-01-26T06:57:49.003122Z",
     "start_time": "2022-01-26T06:57:48.973356Z"
    }
   },
   "outputs": [],
   "source": [
    "# For Row Labels, replace time format %H:%M - %H:%M with NaN\n",
    "# For DateTime, replace everything else as NaN\n",
    "\n",
    "df1['Row Labels'] = df1['Row Labels'].replace(\n",
    "    '([01]?[0-9]|2[0-4]):[0-5][0-9](:[0-5][0-9])?\\s-\\s([01]?[0-9]|2[0-4]):[0-5][0-9](:[0-5][0-9])?',\n",
    "    np.nan, regex=True)\n",
    "df1['Row Labels'] = df1['Row Labels'].ffill(axis=0)\n",
    "df1 = df1[~df1['Row Labels'].str.contains('KwN ', na=False)]\n",
    "df1 = df1[~df1['Row Labels'].str.contains('Grand Total', na=False)]\n",
    "df1['Row Labels'].unique()"
   ]
  },
  {
   "cell_type": "code",
   "execution_count": null,
   "id": "9b24d1db",
   "metadata": {
    "ExecuteTime": {
     "end_time": "2022-01-26T06:58:22.982285Z",
     "start_time": "2022-01-26T06:58:22.940572Z"
    }
   },
   "outputs": [],
   "source": [
    "# 27 Aug\n",
    "OR_df = df1.copy()\n",
    "OR_df = OR_df[~OR_df['Row Labels'].str.contains('XR', na=False)]\n",
    "OR_df = OR_df[~OR_df['Row Labels'].str.contains('210', na=False)]\n",
    "OR_df = OR_df[OR_df['27 Aug 18'].notnull()]\n",
    "OR_df.Time = OR_df.Time.str[:5]\n",
    "OR_df = OR_df[OR_df.Time.str.contains(':', na=False)]\n",
    "OR_df = OR_df[~OR_df['Row Labels'].str.contains('T', na=False)]"
   ]
  },
  {
   "cell_type": "code",
   "execution_count": null,
   "id": "9f00e95b",
   "metadata": {
    "ExecuteTime": {
     "end_time": "2022-01-26T06:58:24.881138Z",
     "start_time": "2022-01-26T06:58:24.868177Z"
    }
   },
   "outputs": [],
   "source": [
    "OR_df['Row Labels'].value_counts().sort_index()"
   ]
  },
  {
   "cell_type": "code",
   "execution_count": null,
   "id": "56517697",
   "metadata": {
    "ExecuteTime": {
     "end_time": "2022-01-26T06:58:27.104205Z",
     "start_time": "2022-01-26T06:58:27.092270Z"
    }
   },
   "outputs": [],
   "source": [
    "OR_df.Time.value_counts()"
   ]
  },
  {
   "cell_type": "code",
   "execution_count": null,
   "id": "f3ae1f9b",
   "metadata": {
    "ExecuteTime": {
     "end_time": "2022-01-26T06:58:54.361157Z",
     "start_time": "2022-01-26T06:58:54.325167Z"
    }
   },
   "outputs": [],
   "source": [
    "OR_df['Time'] = pd.to_datetime(OR_df['Time'], format='%H:%M')\n",
    "OR_df = OR_df.melt(id_vars=['Row Labels', 'Time'],\n",
    "                  var_name='DateTime', value_name='Volume')\n",
    "OR_df.DateTime = (pd.to_datetime(OR_df['DateTime']) +  \n",
    "              pd.to_timedelta(OR_df.pop('Time').dt.strftime('%H:%M:%S')))\n",
    "\n",
    "OR_df = OR_df.sort_values(['Row Labels', 'DateTime'], \n",
    "                          ascending=[True, True])\n",
    "OR_df.reset_index(drop=True, inplace=True)"
   ]
  },
  {
   "cell_type": "code",
   "execution_count": null,
   "id": "50c6b49b",
   "metadata": {
    "ExecuteTime": {
     "end_time": "2022-01-26T06:58:56.860844Z",
     "start_time": "2022-01-26T06:58:56.844481Z"
    }
   },
   "outputs": [],
   "source": [
    "new = OR_df[(OR_df.DateTime >= '2018-08-27 8:30:00') &\n",
    "     (OR_df.DateTime <= '2018-08-27 13:30:00')]\n",
    "new = pd.pivot_table(new, values='Volume', index='DateTime',\n",
    "               columns='Row Labels').reset_index()\n",
    "\n",
    "g = new.set_index('DateTime')\n",
    "g['0084KWN-ORL'] = g['0084KWN-OR1L'] + g['0084KWN-OR2L']\n",
    "g['0089KWN-ORL'] = g['0089KWN-OR1L'] + g['0089KWN-OR2L']\n",
    "g = g[['0081KWN-OR1L', '0084KWN-ORL', '0089KWN-ORL', '0130KWN-OR1',\n",
    "       '0150KWN-OR1', '0160KWN-OR1L', '0200KWN-OR1L', '0702KWN-OR1L']]\n",
    "g.columns = ['H500', 'H549', 'H617', 'H547', 'H553', 'H554', 'H622', 'H558']\n",
    "g = g*4\n",
    "g"
   ]
  },
  {
   "cell_type": "code",
   "execution_count": null,
   "id": "b8f9acc0",
   "metadata": {
    "ExecuteTime": {
     "end_time": "2022-01-26T06:59:47.892547Z",
     "start_time": "2022-01-26T06:59:47.700170Z"
    }
   },
   "outputs": [],
   "source": [
    "plt.rcParams.update({'font.size': 16})\n",
    "plt.rcParams.update({'lines.linewidth': 2})\n",
    "fig, ax = plt.subplots(figsize=(10,5))\n",
    "p = sns.lineplot(data=g, ax=ax, linewidth = 2)\n",
    "ax.legend(loc='upper right', \n",
    "               ncol=round(len(g.columns)/2)).set_title('')\n",
    "ax.xaxis.set_major_formatter(mdates.DateFormatter('%H:%M'))\n",
    "ax.xaxis.set_major_locator(mdates.MinuteLocator(byminute=[30])) \n",
    "ax.set_ylabel('Volume (veh/hr)', fontsize=20)\n",
    "ax.set_xlabel('Time (HH:MM)', fontsize=18)\n",
    "ax.grid()\n",
    "#plt.savefig('fig/27Aug_Ramps_Volume', bbox_inches=\"tight\")\n",
    "plt.show()"
   ]
  },
  {
   "cell_type": "code",
   "execution_count": null,
   "id": "fadae630",
   "metadata": {
    "ExecuteTime": {
     "end_time": "2022-01-26T07:00:47.684590Z",
     "start_time": "2022-01-26T07:00:47.677607Z"
    }
   },
   "outputs": [],
   "source": [
    "g.to_csv('out_data/27Aug_OR.csv', index=True)"
   ]
  },
  {
   "cell_type": "markdown",
   "id": "371eaee8",
   "metadata": {},
   "source": [
    "## 3 Sep"
   ]
  },
  {
   "cell_type": "code",
   "execution_count": null,
   "id": "e6b490ce",
   "metadata": {
    "ExecuteTime": {
     "end_time": "2022-01-26T07:02:25.156575Z",
     "start_time": "2022-01-26T07:02:25.139658Z"
    }
   },
   "outputs": [],
   "source": [
    "df1 = df[['Row Labels', '03 Sep 18']]\n",
    "df1['Time'] = df1['Row Labels']\n",
    "df1 = df1[['Row Labels', 'Time', '03 Sep 18']]\n",
    "df1.head()"
   ]
  },
  {
   "cell_type": "code",
   "execution_count": null,
   "id": "71b041e4",
   "metadata": {
    "ExecuteTime": {
     "end_time": "2022-01-26T07:03:00.745755Z",
     "start_time": "2022-01-26T07:03:00.717537Z"
    }
   },
   "outputs": [],
   "source": [
    "# For Row Labels, replace time format %H:%M - %H:%M with NaN\n",
    "# For DateTime, replace everything else as NaN\n",
    "\n",
    "df1['Row Labels'] = df1['Row Labels'].replace(\n",
    "    '([01]?[0-9]|2[0-4]):[0-5][0-9](:[0-5][0-9])?\\s-\\s([01]?[0-9]|2[0-4]):[0-5][0-9](:[0-5][0-9])?',\n",
    "    np.nan, regex=True)\n",
    "df1['Row Labels'] = df1['Row Labels'].ffill(axis=0)\n",
    "df1 = df1[~df1['Row Labels'].str.contains('KwN ', na=False)]\n",
    "df1 = df1[~df1['Row Labels'].str.contains('Grand Total', na=False)]\n",
    "df1['Row Labels'].unique()"
   ]
  },
  {
   "cell_type": "code",
   "execution_count": null,
   "id": "8cdce74b",
   "metadata": {
    "ExecuteTime": {
     "end_time": "2022-01-26T07:03:26.681054Z",
     "start_time": "2022-01-26T07:03:26.668089Z"
    }
   },
   "outputs": [],
   "source": [
    "# 3 Aug\n",
    "OR_df = df1.copy()\n",
    "OR_df = OR_df[~OR_df['Row Labels'].str.contains('XR', na=False)]\n",
    "OR_df = OR_df[~OR_df['Row Labels'].str.contains('210', na=False)]\n",
    "OR_df = OR_df[OR_df['03 Sep 18'].notnull()]\n",
    "OR_df.Time = OR_df.Time.str[:5]\n",
    "OR_df = OR_df[OR_df.Time.str.contains(':', na=False)]\n",
    "OR_df = OR_df[~OR_df['Row Labels'].str.contains('T', na=False)]"
   ]
  },
  {
   "cell_type": "code",
   "execution_count": null,
   "id": "8e8045e8",
   "metadata": {
    "ExecuteTime": {
     "end_time": "2022-01-26T07:03:41.320061Z",
     "start_time": "2022-01-26T07:03:41.299734Z"
    }
   },
   "outputs": [],
   "source": [
    "OR_df['Row Labels'].value_counts().sort_index()"
   ]
  },
  {
   "cell_type": "code",
   "execution_count": null,
   "id": "d8df8383",
   "metadata": {
    "ExecuteTime": {
     "end_time": "2022-01-26T07:03:48.723844Z",
     "start_time": "2022-01-26T07:03:48.715828Z"
    }
   },
   "outputs": [],
   "source": [
    "OR_df['Time'].value_counts().sort_index()"
   ]
  },
  {
   "cell_type": "code",
   "execution_count": null,
   "id": "481c697b",
   "metadata": {
    "ExecuteTime": {
     "end_time": "2022-01-26T07:03:58.930758Z",
     "start_time": "2022-01-26T07:03:58.907832Z"
    }
   },
   "outputs": [],
   "source": [
    "OR_df['Time'] = pd.to_datetime(OR_df['Time'], format='%H:%M')\n",
    "OR_df = OR_df.melt(id_vars=['Row Labels', 'Time'],\n",
    "                  var_name='DateTime', value_name='Volume')\n",
    "OR_df.DateTime = (pd.to_datetime(OR_df['DateTime']) +  \n",
    "              pd.to_timedelta(OR_df.pop('Time').dt.strftime('%H:%M:%S')))\n",
    "\n",
    "OR_df = OR_df.sort_values(['Row Labels', 'DateTime'], \n",
    "                          ascending=[True, True])\n",
    "OR_df.reset_index(drop=True, inplace=True)"
   ]
  },
  {
   "cell_type": "code",
   "execution_count": null,
   "id": "3d24cc6a",
   "metadata": {
    "ExecuteTime": {
     "end_time": "2022-01-26T07:04:52.268180Z",
     "start_time": "2022-01-26T07:04:52.235270Z"
    }
   },
   "outputs": [],
   "source": [
    "new = OR_df[(OR_df.DateTime >= '2018-09-03 8:30:00') &\n",
    "     (OR_df.DateTime <= '2018-09-03 13:30:00')]\n",
    "new = pd.pivot_table(new, values='Volume', index='DateTime',\n",
    "               columns='Row Labels').reset_index()\n",
    "\n",
    "g = new.set_index('DateTime')\n",
    "g['0084KWN-ORL'] = g['0084KWN-OR1L'] + g['0084KWN-OR2L']\n",
    "g['0089KWN-ORL'] = g['0089KWN-OR1L'] + g['0089KWN-OR2L']\n",
    "g = g[['0081KWN-OR1L', '0084KWN-ORL', '0089KWN-ORL', '0130KWN-OR1',\n",
    "       '0150KWN-OR1', '0160KWN-OR1L', '0200KWN-OR1L', '0702KWN-OR1L']]\n",
    "g.columns = ['H500', 'H549', 'H617', 'H547', 'H553', 'H554', 'H622', 'H558']\n",
    "g = g*4\n",
    "g"
   ]
  },
  {
   "cell_type": "code",
   "execution_count": null,
   "id": "064bc79c",
   "metadata": {
    "ExecuteTime": {
     "end_time": "2022-01-26T07:05:40.329006Z",
     "start_time": "2022-01-26T07:05:40.036008Z"
    }
   },
   "outputs": [],
   "source": [
    "plt.rcParams.update({'font.size': 16})\n",
    "plt.rcParams.update({'lines.linewidth': 2})\n",
    "fig, ax = plt.subplots(figsize=(10,5))\n",
    "p = sns.lineplot(data=g, ax=ax, linewidth = 2)\n",
    "ax.legend(loc='upper right', \n",
    "               ncol=round(len(g.columns)/2)).set_title('')\n",
    "ax.xaxis.set_major_formatter(mdates.DateFormatter('%H:%M'))\n",
    "ax.xaxis.set_major_locator(mdates.MinuteLocator(byminute=[30])) \n",
    "ax.set_ylabel('Volume (veh/hr)', fontsize=20)\n",
    "ax.set_xlabel('Time (HH:MM)', fontsize=18)\n",
    "ax.grid()\n",
    "#plt.savefig('fig/3Sep/3Sep_Ramps_Volume', bbox_inches=\"tight\")\n",
    "plt.show()"
   ]
  },
  {
   "cell_type": "code",
   "execution_count": null,
   "id": "fddc7c85",
   "metadata": {
    "ExecuteTime": {
     "end_time": "2022-01-26T07:05:55.834498Z",
     "start_time": "2022-01-26T07:05:55.828480Z"
    }
   },
   "outputs": [],
   "source": [
    "g.to_csv('out_data/3Sep_OR.csv', index=True)"
   ]
  }
 ],
 "metadata": {
  "hide_input": false,
  "kernelspec": {
   "display_name": "Python 3 (ipykernel)",
   "language": "python",
   "name": "python3"
  },
  "language_info": {
   "codemirror_mode": {
    "name": "ipython",
    "version": 3
   },
   "file_extension": ".py",
   "mimetype": "text/x-python",
   "name": "python",
   "nbconvert_exporter": "python",
   "pygments_lexer": "ipython3",
   "version": "3.8.5"
  },
  "latex_envs": {
   "LaTeX_envs_menu_present": true,
   "autoclose": false,
   "autocomplete": true,
   "bibliofile": "biblio.bib",
   "cite_by": "apalike",
   "current_citInitial": 1,
   "eqLabelWithNumbers": true,
   "eqNumInitial": 1,
   "hotkeys": {
    "equation": "Ctrl-E",
    "itemize": "Ctrl-I"
   },
   "labels_anchors": false,
   "latex_user_defs": false,
   "report_style_numbering": false,
   "user_envs_cfg": false
  },
  "toc": {
   "base_numbering": 1,
   "nav_menu": {},
   "number_sections": true,
   "sideBar": true,
   "skip_h1_title": false,
   "title_cell": "Table of Contents",
   "title_sidebar": "Contents",
   "toc_cell": false,
   "toc_position": {},
   "toc_section_display": true,
   "toc_window_display": false
  },
  "varInspector": {
   "cols": {
    "lenName": 16,
    "lenType": 16,
    "lenVar": 40
   },
   "kernels_config": {
    "python": {
     "delete_cmd_postfix": "",
     "delete_cmd_prefix": "del ",
     "library": "var_list.py",
     "varRefreshCmd": "print(var_dic_list())"
    },
    "r": {
     "delete_cmd_postfix": ") ",
     "delete_cmd_prefix": "rm(",
     "library": "var_list.r",
     "varRefreshCmd": "cat(var_dic_list()) "
    }
   },
   "types_to_exclude": [
    "module",
    "function",
    "builtin_function_or_method",
    "instance",
    "_Feature"
   ],
   "window_display": false
  }
 },
 "nbformat": 4,
 "nbformat_minor": 5
}
