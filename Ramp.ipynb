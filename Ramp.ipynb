{
 "cells": [
  {
   "cell_type": "code",
   "execution_count": null,
   "id": "79e4533b",
   "metadata": {
    "ExecuteTime": {
     "end_time": "2022-02-18T15:31:01.241833Z",
     "start_time": "2022-02-18T15:30:58.561165Z"
    }
   },
   "outputs": [],
   "source": [
    "# Python ≥3.5 is required\n",
    "import sys\n",
    "assert sys.version_info >= (3, 5)\n",
    "\n",
    "# Scikit-Learn ≥0.20 is required\n",
    "import sklearn\n",
    "assert sklearn.__version__ >= \"0.20\"\n",
    "\n",
    "from sklearn.preprocessing import MinMaxScaler\n",
    "from sklearn.model_selection import GridSearchCV\n",
    "from sklearn.metrics import mean_squared_error\n",
    "\n",
    "# tensorflow\n",
    "import tensorflow as tf\n",
    "from tensorflow import keras\n",
    "\n",
    "from keras import backend as K\n",
    "from keras.models import Sequential, load_model\n",
    "from keras.layers import Dense, LSTM, Dropout, Conv1D, RepeatVector, TimeDistributed\n",
    "from keras.callbacks import ModelCheckpoint, EarlyStopping\n",
    "from keras.wrappers.scikit_learn import KerasRegressor\n",
    "\n",
    "# Common imports\n",
    "import os\n",
    "import timeit\n",
    "import numpy as np\n",
    "import pandas as pd\n",
    "import seaborn as sns\n",
    "from math import sqrt\n",
    "from datetime import date\n",
    "import holidays\n",
    "sns.set()\n",
    "import warnings\n",
    "warnings.filterwarnings(\"ignore\")\n",
    "\n",
    "# To plot pretty figures\n",
    "import matplotlib as mpl\n",
    "import matplotlib.pyplot as plt\n",
    "import matplotlib.dates as mdates\n",
    "mpl.rcParams.update(mpl.rcParamsDefault)\n",
    "mpl.rcParams[\"font.family\"] = \"serif\"\n",
    "mpl.rcParams[\"font.sans-serif\"] = \"Verdana\""
   ]
  },
  {
   "cell_type": "code",
   "execution_count": null,
   "id": "ef2ec506",
   "metadata": {
    "ExecuteTime": {
     "end_time": "2022-02-18T15:31:20.090173Z",
     "start_time": "2022-02-18T15:31:13.361169Z"
    }
   },
   "outputs": [],
   "source": [
    "df = pd.read_excel(\"data/Smart Freeways Data 2018 - Ramps All Days.xlsx\",\n",
    "                   skiprows=3, header=0)\n",
    "df.head()"
   ]
  },
  {
   "cell_type": "code",
   "execution_count": null,
   "id": "e5012db4",
   "metadata": {
    "ExecuteTime": {
     "end_time": "2022-02-18T15:31:31.052313Z",
     "start_time": "2022-02-18T15:31:25.424365Z"
    }
   },
   "outputs": [],
   "source": [
    "df2 = pd.read_csv('data/clean/LAD.csv')\n",
    "df2.DateTime = pd.to_datetime(df2.DateTime)\n",
    "df2.head()"
   ]
  },
  {
   "cell_type": "markdown",
   "id": "86bff74b",
   "metadata": {},
   "source": [
    "## 27 Aug"
   ]
  },
  {
   "cell_type": "code",
   "execution_count": null,
   "id": "26fa4c0e",
   "metadata": {},
   "outputs": [],
   "source": [
    "df1 = df[['Row Labels', '27 Aug 18']]\n",
    "df1['Time'] = df1['Row Labels']\n",
    "df1 = df1[['Row Labels', 'Time', '27 Aug 18']]\n",
    "\n",
    "# For Row Labels, replace time format %H:%M - %H:%M with NaN\n",
    "# For DateTime, replace everything else as NaN\n",
    "\n",
    "df1['Row Labels'] = df1['Row Labels'].replace(\n",
    "    '([01]?[0-9]|2[0-4]):[0-5][0-9](:[0-5][0-9])?\\s-\\s([01]?[0-9]|2[0-4]):[0-5][0-9](:[0-5][0-9])?',\n",
    "    np.nan, regex=True)\n",
    "df1['Row Labels'] = df1['Row Labels'].ffill(axis=0)\n",
    "df1 = df1[~df1['Row Labels'].str.contains('KwN ', na=False)]\n",
    "df1 = df1[~df1['Row Labels'].str.contains('Grand Total', na=False)]\n",
    "df1['Row Labels'].unique()"
   ]
  },
  {
   "cell_type": "code",
   "execution_count": null,
   "id": "9b24d1db",
   "metadata": {},
   "outputs": [],
   "source": [
    "# 27 Aug\n",
    "OR_df = df1.copy()\n",
    "OR_df = OR_df[~OR_df['Row Labels'].str.contains('XR', na=False)]\n",
    "OR_df = OR_df[~OR_df['Row Labels'].str.contains('210', na=False)]\n",
    "OR_df = OR_df[OR_df['27 Aug 18'].notnull()]\n",
    "OR_df.Time = OR_df.Time.str[:5]\n",
    "OR_df = OR_df[OR_df.Time.str.contains(':', na=False)]\n",
    "OR_df = OR_df[~OR_df['Row Labels'].str.contains('T', na=False)]\n",
    "\n",
    "OR_df['Time'] = pd.to_datetime(OR_df['Time'], format='%H:%M')\n",
    "OR_df = OR_df.melt(id_vars=['Row Labels', 'Time'],\n",
    "                  var_name='DateTime', value_name='Volume')\n",
    "OR_df.DateTime = (pd.to_datetime(OR_df['DateTime']) +  \n",
    "              pd.to_timedelta(OR_df.pop('Time').dt.strftime('%H:%M:%S')))\n",
    "\n",
    "OR_df = OR_df.sort_values(['Row Labels', 'DateTime'], \n",
    "                          ascending=[True, True])\n",
    "OR_df.reset_index(drop=True, inplace=True)"
   ]
  },
  {
   "cell_type": "code",
   "execution_count": null,
   "id": "50c6b49b",
   "metadata": {},
   "outputs": [],
   "source": [
    "# new = OR_df[(OR_df.DateTime >= '2018-08-27 8:30:00') &\n",
    "#      (OR_df.DateTime <= '2018-08-27 13:30:00')]\n",
    "new = OR_df[(OR_df.DateTime >= '2018-08-27 8:30:00') &\n",
    "      (OR_df.DateTime <= '2018-08-27 09:30:00')]\n",
    "new = pd.pivot_table(new, values='Volume', index='DateTime',\n",
    "               columns='Row Labels').reset_index()\n",
    "\n",
    "g = new.set_index('DateTime')\n",
    "g['0084KWN-ORL'] = g['0084KWN-OR1L'] + g['0084KWN-OR2L']\n",
    "g['0089KWN-ORL'] = g['0089KWN-OR1L'] + g['0089KWN-OR2L']\n",
    "g = g[['0081KWN-OR1L', '0084KWN-ORL', '0089KWN-ORL', '0130KWN-OR1',\n",
    "       '0150KWN-OR1', '0160KWN-OR1L', '0200KWN-OR1L', '0702KWN-OR1L']]\n",
    "g.columns = ['H500', 'H549', 'H617', 'H547', 'H553', 'H554', 'H622', 'H558']\n",
    "# g = g*4\n",
    "g"
   ]
  },
  {
   "cell_type": "code",
   "execution_count": null,
   "id": "38c9fde6",
   "metadata": {},
   "outputs": [],
   "source": [
    "# g.to_csv('out_data/27Aug_OR.csv', index=True)"
   ]
  },
  {
   "cell_type": "code",
   "execution_count": null,
   "id": "b8f9acc0",
   "metadata": {},
   "outputs": [],
   "source": [
    "plt.rcParams.update({'font.size': 14})\n",
    "plt.rcParams.update({'lines.linewidth': 2})\n",
    "fig, ax = plt.subplots(figsize=(8,5))\n",
    "p = sns.lineplot(data=g, ax=ax, linewidth = 2)\n",
    "ax.legend(loc='upper right', \n",
    "               ncol=round(len(g.columns)/4)).set_title('')\n",
    "ax.xaxis.set_major_formatter(mdates.DateFormatter('%H:%M'))\n",
    "# ax.xaxis.set_major_locator(mdates.MinuteLocator(byminute=[30])) \n",
    "ax.set_ylabel('Volume (veh/hr)', fontsize=20)\n",
    "ax.set_xlabel('Time (HH:MM)', fontsize=18)\n",
    "ax.grid()\n",
    "#plt.savefig('fig/27Aug_Ramps_Volume', bbox_inches=\"tight\")\n",
    "plt.show()"
   ]
  },
  {
   "cell_type": "code",
   "execution_count": null,
   "id": "fee851f8",
   "metadata": {},
   "outputs": [],
   "source": [
    "dr = pd.date_range('2018-08-27 08:30:00', '2018-08-27 09:30:00', freq='1T')\n",
    "newg = g.reindex(dr).interpolate()"
   ]
  },
  {
   "cell_type": "code",
   "execution_count": null,
   "id": "a0ba6299",
   "metadata": {},
   "outputs": [],
   "source": [
    "plt.rcParams.update({'font.size': 14})\n",
    "plt.rcParams.update({'lines.linewidth': 2})\n",
    "fig, ax = plt.subplots(figsize=(8,5))\n",
    "p = sns.lineplot(data=newg, ax=ax, linewidth = 2)\n",
    "ax.legend(loc='upper right', \n",
    "               ncol=round(len(newg.columns)/4)).set_title('')\n",
    "ax.xaxis.set_major_formatter(mdates.DateFormatter('%H:%M'))\n",
    "# ax.xaxis.set_major_locator(mdates.MinuteLocator(byminute=[30])) \n",
    "ax.set_ylabel('Volume (veh/hr)', fontsize=20)\n",
    "ax.set_xlabel('Time (HH:MM)', fontsize=18)\n",
    "plt.savefig('fig/830-930_27Aug_Ramps_Volume', bbox_inches=\"tight\")\n",
    "plt.show()"
   ]
  },
  {
   "cell_type": "markdown",
   "id": "5f0134f0",
   "metadata": {},
   "source": [
    "### demand file"
   ]
  },
  {
   "cell_type": "code",
   "execution_count": null,
   "id": "977319b8",
   "metadata": {},
   "outputs": [],
   "source": [
    "df2 = df2[(df2.ID == 1) &\n",
    "          (df2.DateTime >= '2018-08-27 08:30:00') &\n",
    "          (df2.DateTime <= '2018-08-27 09:30:00')]\n",
    "\n",
    "df2['corridor_id'] = 'KWN'\n",
    "df2['demand'] = df2.Volume.astype(int)\n",
    "df2['volume'] = df2.Volume.astype(int)\n",
    "df2['speed'] = df2.Speed\n",
    "df2['time'] = (df2.DateTime - pd.to_datetime('2018-08-27 08:30:00')).astype('timedelta64[m]').astype(int)"
   ]
  },
  {
   "cell_type": "code",
   "execution_count": null,
   "id": "b8178a9b",
   "metadata": {},
   "outputs": [],
   "source": [
    "df3 = df2[['time', 'corridor_id', 'demand']]\n",
    "df3"
   ]
  },
  {
   "cell_type": "code",
   "execution_count": null,
   "id": "14ca0ebd",
   "metadata": {},
   "outputs": [],
   "source": [
    "dr = pd.date_range('2018-08-27 08:30:00', '2018-08-27 09:30:00', freq='1T')\n",
    "newg = g.reindex(dr).interpolate()"
   ]
  },
  {
   "cell_type": "code",
   "execution_count": null,
   "id": "5c9f9e8f",
   "metadata": {},
   "outputs": [],
   "source": [
    "# demand file\n",
    "newg = newg.unstack().reset_index(name='demand')\n",
    "newg.rename(columns={'level_0': 'corridor_id', 'level_1': 'dt'}, inplace=True)\n",
    "newg['time'] = (newg.dt - pd.to_datetime('2018-08-27 08:30:00')).astype('timedelta64[m]').astype(int)\n",
    "newg = newg[['time', 'corridor_id', 'demand']]\n",
    "newg.demand = np.ceil(newg.demand).astype(int)\n",
    "newg"
   ]
  },
  {
   "cell_type": "code",
   "execution_count": null,
   "id": "3ec0e704",
   "metadata": {},
   "outputs": [],
   "source": [
    "# demand file\n",
    "# pd.concat([df3, newg]).to_csv('out_data/CaseII_27Aug_demand.csv', index=False)"
   ]
  },
  {
   "cell_type": "markdown",
   "id": "54e47f7e",
   "metadata": {},
   "source": [
    "### supply file"
   ]
  },
  {
   "cell_type": "code",
   "execution_count": null,
   "id": "f95df402",
   "metadata": {},
   "outputs": [],
   "source": [
    "newg = g.reindex(dr).interpolate()"
   ]
  },
  {
   "cell_type": "code",
   "execution_count": null,
   "id": "594d50ff",
   "metadata": {},
   "outputs": [],
   "source": [
    "# supply file\n",
    "import datetime as dt\n",
    "newg = newg.unstack().reset_index(name='volume')\n",
    "newg.rename(columns={'level_0': 'corridor_id', 'level_1': 'dt'}, inplace=True)\n",
    "newg.volume = np.ceil(newg.volume).astype(int)\n",
    "\n",
    "newg['date'] = '27/08/2018'\n",
    "newg['time_period'] = newg['dt'].dt.strftime('%H%M_') + (newg['dt'] + dt.timedelta(minutes=1)).dt.strftime('%H%M')\n",
    "newg.time_period = newg.time_period.replace({'0930_0931':'0930_0830'})"
   ]
  },
  {
   "cell_type": "code",
   "execution_count": null,
   "id": "89b21574",
   "metadata": {},
   "outputs": [],
   "source": [
    "s = pd.read_csv('data1min/CaseII_supply27Aug1Min.csv')\n",
    "s.groupby(['link_id_tmc', 'corridor_id', 'corridor_link_order',\n",
    "           'from_node_id', 'to_node_id', 'geometry', \n",
    "           'num_of_lanes', 'reference_speed']).count()"
   ]
  },
  {
   "cell_type": "code",
   "execution_count": null,
   "id": "18b1f98e",
   "metadata": {},
   "outputs": [],
   "source": [
    "s.groupby(['link_id_tmc', 'corridor_id', 'corridor_link_order',\n",
    "           'from_node_id', 'to_node_id', 'geometry', \n",
    "           'num_of_lanes', 'reference_speed']).count().iloc[:,0].to_csv('out_data/test.csv')"
   ]
  },
  {
   "cell_type": "code",
   "execution_count": null,
   "id": "bb1be16e",
   "metadata": {},
   "outputs": [],
   "source": [
    "s = pd.read_csv('out_data/test.csv')\n",
    "s.head()"
   ]
  },
  {
   "cell_type": "code",
   "execution_count": null,
   "id": "fc29ed3a",
   "metadata": {
    "scrolled": true
   },
   "outputs": [],
   "source": [
    "from itertools import cycle, islice\n",
    "news = pd.DataFrame(np.repeat(s.values, 61, axis=0),columns=s.columns)\n",
    "\n",
    "tp = list(newg.time_period.unique())\n",
    "it = cycle(tp)\n",
    "news['time_period'] = list(islice(it, len(news)))\n",
    "\n",
    "news['date'] = '27/08/2018'\n",
    "news['travel_time'] = np.nan\n",
    "news['reference_speed'] = 60\n",
    "news['queue'] = np.nan\n",
    "news['notes'] = np.nan"
   ]
  },
  {
   "cell_type": "code",
   "execution_count": null,
   "id": "ef37fd0e",
   "metadata": {},
   "outputs": [],
   "source": [
    "newg = newg[['corridor_id', 'date', 'time_period', 'volume']]; newg"
   ]
  },
  {
   "cell_type": "code",
   "execution_count": null,
   "id": "8257d1ce",
   "metadata": {},
   "outputs": [],
   "source": [
    "df3 = df2[['time', 'corridor_id', 'volume', 'speed']]\n",
    "df3.reset_index(inplace=True)\n",
    "df3['time_period'] = tp\n",
    "df3['date'] = '27/08/2018'\n",
    "df3 = df3[['corridor_id', 'date', 'time_period', 'volume', 'speed']]\n",
    "df3"
   ]
  },
  {
   "cell_type": "code",
   "execution_count": null,
   "id": "6ec9e49c",
   "metadata": {},
   "outputs": [],
   "source": [
    "dat = pd.concat([newg, df3]); dat"
   ]
  },
  {
   "cell_type": "code",
   "execution_count": null,
   "id": "2e69edc4",
   "metadata": {},
   "outputs": [],
   "source": [
    "odf = news.merge(dat, on=['corridor_id', 'date', 'time_period'], how='left')"
   ]
  },
  {
   "cell_type": "code",
   "execution_count": null,
   "id": "2d52367c",
   "metadata": {},
   "outputs": [],
   "source": [
    "odf['density'] = np.nan\n",
    "odf = odf[['link_id_tmc', 'corridor_id', 'corridor_link_order',\n",
    "           'from_node_id', 'to_node_id', 'time_period', 'date',\n",
    "           'geometry', 'volume', 'num_of_lanes', 'travel_time',\n",
    "           'speed', 'reference_speed', 'density', 'queue', 'notes']]\n",
    "odf.volume = odf.volume.fillna(87)\n",
    "odf.info()"
   ]
  },
  {
   "cell_type": "code",
   "execution_count": null,
   "id": "fe98312a",
   "metadata": {},
   "outputs": [],
   "source": [
    "# odf.to_csv('out_data/CaseII_27Aug_Supply.csv', index=False)"
   ]
  },
  {
   "cell_type": "markdown",
   "id": "371eaee8",
   "metadata": {},
   "source": [
    "## 3 Sep"
   ]
  },
  {
   "cell_type": "code",
   "execution_count": null,
   "id": "e6b490ce",
   "metadata": {
    "ExecuteTime": {
     "end_time": "2022-02-18T15:44:22.926750Z",
     "start_time": "2022-02-18T15:44:22.912788Z"
    }
   },
   "outputs": [],
   "source": [
    "df1 = df[['Row Labels', '03 Sep 18']]\n",
    "df1['Time'] = df1['Row Labels']\n",
    "df1 = df1[['Row Labels', 'Time', '03 Sep 18']]\n",
    "df1.head()"
   ]
  },
  {
   "cell_type": "code",
   "execution_count": null,
   "id": "71b041e4",
   "metadata": {
    "ExecuteTime": {
     "end_time": "2022-02-18T15:44:24.678909Z",
     "start_time": "2022-02-18T15:44:24.655934Z"
    }
   },
   "outputs": [],
   "source": [
    "# For Row Labels, replace time format %H:%M - %H:%M with NaN\n",
    "# For DateTime, replace everything else as NaN\n",
    "\n",
    "df1['Row Labels'] = df1['Row Labels'].replace(\n",
    "    '([01]?[0-9]|2[0-4]):[0-5][0-9](:[0-5][0-9])?\\s-\\s([01]?[0-9]|2[0-4]):[0-5][0-9](:[0-5][0-9])?',\n",
    "    np.nan, regex=True)\n",
    "df1['Row Labels'] = df1['Row Labels'].ffill(axis=0)\n",
    "df1 = df1[~df1['Row Labels'].str.contains('KwN ', na=False)]\n",
    "df1 = df1[~df1['Row Labels'].str.contains('Grand Total', na=False)]\n",
    "df1['Row Labels'].unique()"
   ]
  },
  {
   "cell_type": "code",
   "execution_count": null,
   "id": "8cdce74b",
   "metadata": {
    "ExecuteTime": {
     "end_time": "2022-02-18T15:44:26.211495Z",
     "start_time": "2022-02-18T15:44:26.191548Z"
    }
   },
   "outputs": [],
   "source": [
    "# 3 Aug\n",
    "OR_df = df1.copy()\n",
    "OR_df = OR_df[~OR_df['Row Labels'].str.contains('XR', na=False)]\n",
    "OR_df = OR_df[~OR_df['Row Labels'].str.contains('210', na=False)]\n",
    "OR_df = OR_df[OR_df['03 Sep 18'].notnull()]\n",
    "OR_df.Time = OR_df.Time.str[:5]\n",
    "OR_df = OR_df[OR_df.Time.str.contains(':', na=False)]\n",
    "OR_df = OR_df[~OR_df['Row Labels'].str.contains('T', na=False)]"
   ]
  },
  {
   "cell_type": "code",
   "execution_count": null,
   "id": "8e8045e8",
   "metadata": {},
   "outputs": [],
   "source": [
    "OR_df['Row Labels'].value_counts().sort_index()"
   ]
  },
  {
   "cell_type": "code",
   "execution_count": null,
   "id": "d8df8383",
   "metadata": {},
   "outputs": [],
   "source": [
    "OR_df['Time'].value_counts().sort_index()"
   ]
  },
  {
   "cell_type": "code",
   "execution_count": null,
   "id": "481c697b",
   "metadata": {
    "ExecuteTime": {
     "end_time": "2022-02-18T15:44:28.573805Z",
     "start_time": "2022-02-18T15:44:28.551897Z"
    }
   },
   "outputs": [],
   "source": [
    "OR_df['Time'] = pd.to_datetime(OR_df['Time'], format='%H:%M')\n",
    "OR_df = OR_df.melt(id_vars=['Row Labels', 'Time'],\n",
    "                  var_name='DateTime', value_name='Volume')\n",
    "OR_df.DateTime = (pd.to_datetime(OR_df['DateTime']) +  \n",
    "              pd.to_timedelta(OR_df.pop('Time').dt.strftime('%H:%M:%S')))\n",
    "\n",
    "OR_df = OR_df.sort_values(['Row Labels', 'DateTime'], \n",
    "                          ascending=[True, True])\n",
    "OR_df.reset_index(drop=True, inplace=True)"
   ]
  },
  {
   "cell_type": "code",
   "execution_count": null,
   "id": "3d24cc6a",
   "metadata": {
    "ExecuteTime": {
     "end_time": "2022-02-18T15:45:02.235609Z",
     "start_time": "2022-02-18T15:45:02.201686Z"
    }
   },
   "outputs": [],
   "source": [
    "# new = OR_df[(OR_df.DateTime >= '2018-09-03 8:30:00') &\n",
    "#      (OR_df.DateTime <= '2018-09-03 13:30:00')]\n",
    "new = OR_df[(OR_df.DateTime >= '2018-09-03 8:30:00') &\n",
    "     (OR_df.DateTime <= '2018-09-03 09:30:00')]\n",
    "new = pd.pivot_table(new, values='Volume', index='DateTime',\n",
    "               columns='Row Labels').reset_index()\n",
    "\n",
    "g = new.set_index('DateTime')\n",
    "g['0084KWN-ORL'] = g['0084KWN-OR1L'] + g['0084KWN-OR2L']\n",
    "g['0089KWN-ORL'] = g['0089KWN-OR1L'] + g['0089KWN-OR2L']\n",
    "g = g[['0081KWN-OR1L', '0084KWN-ORL', '0089KWN-ORL', '0130KWN-OR1',\n",
    "       '0150KWN-OR1', '0160KWN-OR1L', '0200KWN-OR1L', '0702KWN-OR1L']]\n",
    "g.columns = ['H500', 'H549', 'H617', 'H547', 'H553', 'H554', 'H622', 'H558']\n",
    "# g = g*4\n",
    "g"
   ]
  },
  {
   "cell_type": "code",
   "execution_count": null,
   "id": "064bc79c",
   "metadata": {
    "ExecuteTime": {
     "end_time": "2022-02-18T15:46:34.762420Z",
     "start_time": "2022-02-18T15:46:34.488423Z"
    }
   },
   "outputs": [],
   "source": [
    "plt.rcParams.update({'font.size': 14})\n",
    "plt.rcParams.update({'lines.linewidth': 2})\n",
    "fig, ax = plt.subplots(figsize=(8,5))\n",
    "p = sns.lineplot(data=g, ax=ax, linewidth = 2)\n",
    "ax.legend(loc='upper right', \n",
    "               ncol=round(len(g.columns)/4)).set_title('')\n",
    "ax.xaxis.set_major_formatter(mdates.DateFormatter('%H:%M'))\n",
    "# ax.xaxis.set_major_locator(mdates.MinuteLocator(byminute=[30])) \n",
    "ax.set_ylabel('Volume (veh/hr)', fontsize=20)\n",
    "ax.set_xlabel('Time (HH:MM)', fontsize=18)\n",
    "plt.savefig('fig/3Sep/830-930_3Sep_Ramps_Volume', bbox_inches=\"tight\")\n",
    "plt.show()"
   ]
  },
  {
   "cell_type": "code",
   "execution_count": null,
   "id": "fddc7c85",
   "metadata": {},
   "outputs": [],
   "source": [
    "# g.to_csv('out_data/3Sep_OR.csv', index=True)"
   ]
  },
  {
   "cell_type": "markdown",
   "id": "f4f72f8a",
   "metadata": {},
   "source": [
    "### demand file"
   ]
  },
  {
   "cell_type": "code",
   "execution_count": null,
   "id": "aa35b082",
   "metadata": {
    "ExecuteTime": {
     "end_time": "2022-02-18T15:42:23.523630Z",
     "start_time": "2022-02-18T15:42:23.432871Z"
    }
   },
   "outputs": [],
   "source": [
    "df2 = df2[(df2.ID == 1) &\n",
    "          (df2.DateTime >= '2018-09-03 08:30:00') &\n",
    "          (df2.DateTime <= '2018-09-03 09:30:00')]\n",
    "\n",
    "df2['corridor_id'] = 'KWN'\n",
    "df2['demand'] = df2.Volume.astype(int)\n",
    "df2['volume'] = df2.Volume.astype(int)\n",
    "df2['speed'] = df2.Speed\n",
    "df2['time'] = (df2.DateTime - pd.to_datetime('2018-09-03 08:30:00')).astype('timedelta64[m]').astype(int)"
   ]
  },
  {
   "cell_type": "code",
   "execution_count": null,
   "id": "beaa6114",
   "metadata": {
    "ExecuteTime": {
     "end_time": "2022-02-18T15:42:41.596595Z",
     "start_time": "2022-02-18T15:42:41.576697Z"
    }
   },
   "outputs": [],
   "source": [
    "df3 = df2[['time', 'corridor_id', 'demand']]\n",
    "df3"
   ]
  },
  {
   "cell_type": "code",
   "execution_count": null,
   "id": "b8d006e2",
   "metadata": {
    "ExecuteTime": {
     "end_time": "2022-02-18T15:46:58.537783Z",
     "start_time": "2022-02-18T15:46:58.528787Z"
    }
   },
   "outputs": [],
   "source": [
    "dr = pd.date_range('2018-09-03 08:30:00', '2018-09-03 09:30:00', freq='1T')\n",
    "newg = g.reindex(dr).interpolate()"
   ]
  },
  {
   "cell_type": "code",
   "execution_count": null,
   "id": "c85a24a8",
   "metadata": {
    "ExecuteTime": {
     "end_time": "2022-02-18T15:47:09.507551Z",
     "start_time": "2022-02-18T15:47:09.479662Z"
    }
   },
   "outputs": [],
   "source": [
    "# demand file\n",
    "newg = newg.unstack().reset_index(name='demand')\n",
    "newg.rename(columns={'level_0': 'corridor_id', 'level_1': 'dt'}, inplace=True)\n",
    "newg['time'] = (newg.dt - pd.to_datetime('2018-09-03 08:30:00')).astype('timedelta64[m]').astype(int)\n",
    "newg = newg[['time', 'corridor_id', 'demand']]\n",
    "newg.demand = np.ceil(newg.demand).astype(int)\n",
    "newg"
   ]
  },
  {
   "cell_type": "code",
   "execution_count": null,
   "id": "440a448f",
   "metadata": {
    "ExecuteTime": {
     "end_time": "2022-02-18T15:50:33.573547Z",
     "start_time": "2022-02-18T15:50:33.553596Z"
    }
   },
   "outputs": [],
   "source": [
    "# demand file\n",
    "pd.concat([df3, newg]).to_csv('out_data/CaseII_3Sep_demand.csv', index=False)"
   ]
  },
  {
   "cell_type": "markdown",
   "id": "ba9b8249",
   "metadata": {},
   "source": [
    "### supply file"
   ]
  },
  {
   "cell_type": "code",
   "execution_count": null,
   "id": "129440b2",
   "metadata": {
    "ExecuteTime": {
     "end_time": "2022-02-18T16:09:18.400664Z",
     "start_time": "2022-02-18T16:09:18.391690Z"
    }
   },
   "outputs": [],
   "source": [
    "newg = g.reindex(dr).interpolate()"
   ]
  },
  {
   "cell_type": "code",
   "execution_count": null,
   "id": "ae66bd3c",
   "metadata": {
    "ExecuteTime": {
     "end_time": "2022-02-18T16:09:19.919776Z",
     "start_time": "2022-02-18T16:09:19.904812Z"
    }
   },
   "outputs": [],
   "source": [
    "# supply file\n",
    "import datetime as dt\n",
    "newg = newg.unstack().reset_index(name='volume')\n",
    "newg.rename(columns={'level_0': 'corridor_id', 'level_1': 'dt'}, inplace=True)\n",
    "newg.volume = np.ceil(newg.volume).astype(int)\n",
    "\n",
    "newg['date'] = '03/09/2018'\n",
    "newg['time_period'] = newg['dt'].dt.strftime('%H%M_') + (newg['dt'] + dt.timedelta(minutes=1)).dt.strftime('%H%M')\n",
    "newg.time_period = newg.time_period.replace({'0930_0931':'0930_0830'})"
   ]
  },
  {
   "cell_type": "code",
   "execution_count": null,
   "id": "3e323656",
   "metadata": {
    "ExecuteTime": {
     "end_time": "2022-02-18T16:09:21.575475Z",
     "start_time": "2022-02-18T16:09:21.560516Z"
    }
   },
   "outputs": [],
   "source": [
    "df3 = df2[['time', 'corridor_id', 'volume', 'speed']]\n",
    "df3.reset_index(inplace=True)\n",
    "df3['time_period'] = tp\n",
    "df3['date'] = '03/09/2018'\n",
    "df3 = df3[['corridor_id', 'date', 'time_period', 'volume', 'speed']]\n",
    "df3"
   ]
  },
  {
   "cell_type": "code",
   "execution_count": null,
   "id": "48a436e8",
   "metadata": {
    "ExecuteTime": {
     "end_time": "2022-02-18T16:09:23.868235Z",
     "start_time": "2022-02-18T16:09:23.856299Z"
    }
   },
   "outputs": [],
   "source": [
    "s = pd.read_csv('out_data/test.csv')\n",
    "s.head()"
   ]
  },
  {
   "cell_type": "code",
   "execution_count": null,
   "id": "de73d4de",
   "metadata": {
    "ExecuteTime": {
     "end_time": "2022-02-18T16:09:33.796969Z",
     "start_time": "2022-02-18T16:09:33.784012Z"
    }
   },
   "outputs": [],
   "source": [
    "from itertools import cycle, islice\n",
    "news = pd.DataFrame(np.repeat(s.values, 61, axis=0),columns=s.columns)\n",
    "\n",
    "tp = list(newg.time_period.unique())\n",
    "it = cycle(tp)\n",
    "news['time_period'] = list(islice(it, len(news)))\n",
    "\n",
    "news['date'] = '03/09/2018'\n",
    "news['travel_time'] = np.nan\n",
    "news['reference_speed'] = 60\n",
    "news['queue'] = np.nan\n",
    "news['notes'] = np.nan"
   ]
  },
  {
   "cell_type": "code",
   "execution_count": null,
   "id": "28953f49",
   "metadata": {
    "ExecuteTime": {
     "end_time": "2022-02-18T16:09:35.887328Z",
     "start_time": "2022-02-18T16:09:35.872369Z"
    }
   },
   "outputs": [],
   "source": [
    "newg = newg[['corridor_id', 'date', 'time_period', 'volume']]; newg"
   ]
  },
  {
   "cell_type": "code",
   "execution_count": null,
   "id": "cb527b28",
   "metadata": {
    "ExecuteTime": {
     "end_time": "2022-02-18T16:09:38.401819Z",
     "start_time": "2022-02-18T16:09:38.383843Z"
    }
   },
   "outputs": [],
   "source": [
    "df3 = df2[['time', 'corridor_id', 'volume', 'speed']]\n",
    "df3.reset_index(inplace=True)\n",
    "df3['time_period'] = tp\n",
    "df3['date'] = '03/09/2018'\n",
    "df3 = df3[['corridor_id', 'date', 'time_period', 'volume', 'speed']]\n",
    "df3"
   ]
  },
  {
   "cell_type": "code",
   "execution_count": null,
   "id": "b1ae0633",
   "metadata": {
    "ExecuteTime": {
     "end_time": "2022-02-18T16:09:42.738700Z",
     "start_time": "2022-02-18T16:09:42.728747Z"
    }
   },
   "outputs": [],
   "source": [
    "dat = pd.concat([newg, df3]); dat"
   ]
  },
  {
   "cell_type": "code",
   "execution_count": null,
   "id": "82fdae02",
   "metadata": {
    "ExecuteTime": {
     "end_time": "2022-02-18T16:09:47.474255Z",
     "start_time": "2022-02-18T16:09:47.455307Z"
    }
   },
   "outputs": [],
   "source": [
    "odf = news.merge(dat, on=['corridor_id', 'date', 'time_period'], how='left')"
   ]
  },
  {
   "cell_type": "code",
   "execution_count": null,
   "id": "481684f5",
   "metadata": {
    "ExecuteTime": {
     "end_time": "2022-02-18T16:09:48.917313Z",
     "start_time": "2022-02-18T16:09:48.896369Z"
    }
   },
   "outputs": [],
   "source": [
    "odf.info()"
   ]
  },
  {
   "cell_type": "code",
   "execution_count": null,
   "id": "5aa83b95",
   "metadata": {
    "ExecuteTime": {
     "end_time": "2022-02-18T16:09:55.750968Z",
     "start_time": "2022-02-18T16:09:55.737006Z"
    }
   },
   "outputs": [],
   "source": [
    "odf['density'] = np.nan\n",
    "odf = odf[['link_id_tmc', 'corridor_id', 'corridor_link_order',\n",
    "           'from_node_id', 'to_node_id', 'time_period', 'date',\n",
    "           'geometry', 'volume', 'num_of_lanes', 'travel_time',\n",
    "           'speed', 'reference_speed', 'density', 'queue', 'notes']]\n",
    "odf.volume = odf.volume.fillna(87)\n",
    "odf.info()"
   ]
  },
  {
   "cell_type": "code",
   "execution_count": null,
   "id": "dc2d174c",
   "metadata": {
    "ExecuteTime": {
     "end_time": "2022-02-18T16:10:22.549820Z",
     "start_time": "2022-02-18T16:10:22.503945Z"
    }
   },
   "outputs": [],
   "source": [
    "# odf.to_csv('out_data/CaseII_3Sep_Supply.csv', index=False)"
   ]
  }
 ],
 "metadata": {
  "hide_input": false,
  "kernelspec": {
   "display_name": "Python 3 (ipykernel)",
   "language": "python",
   "name": "python3"
  },
  "language_info": {
   "codemirror_mode": {
    "name": "ipython",
    "version": 3
   },
   "file_extension": ".py",
   "mimetype": "text/x-python",
   "name": "python",
   "nbconvert_exporter": "python",
   "pygments_lexer": "ipython3",
   "version": "3.8.5"
  },
  "latex_envs": {
   "LaTeX_envs_menu_present": true,
   "autoclose": false,
   "autocomplete": true,
   "bibliofile": "biblio.bib",
   "cite_by": "apalike",
   "current_citInitial": 1,
   "eqLabelWithNumbers": true,
   "eqNumInitial": 1,
   "hotkeys": {
    "equation": "Ctrl-E",
    "itemize": "Ctrl-I"
   },
   "labels_anchors": false,
   "latex_user_defs": false,
   "report_style_numbering": false,
   "user_envs_cfg": false
  },
  "toc": {
   "base_numbering": 1,
   "nav_menu": {},
   "number_sections": true,
   "sideBar": true,
   "skip_h1_title": false,
   "title_cell": "Table of Contents",
   "title_sidebar": "Contents",
   "toc_cell": false,
   "toc_position": {},
   "toc_section_display": true,
   "toc_window_display": false
  },
  "varInspector": {
   "cols": {
    "lenName": 16,
    "lenType": 16,
    "lenVar": 40
   },
   "kernels_config": {
    "python": {
     "delete_cmd_postfix": "",
     "delete_cmd_prefix": "del ",
     "library": "var_list.py",
     "varRefreshCmd": "print(var_dic_list())"
    },
    "r": {
     "delete_cmd_postfix": ") ",
     "delete_cmd_prefix": "rm(",
     "library": "var_list.r",
     "varRefreshCmd": "cat(var_dic_list()) "
    }
   },
   "types_to_exclude": [
    "module",
    "function",
    "builtin_function_or_method",
    "instance",
    "_Feature"
   ],
   "window_display": false
  }
 },
 "nbformat": 4,
 "nbformat_minor": 5
}
