{
 "cells": [
  {
   "cell_type": "code",
   "execution_count": 1,
   "id": "79e4533b",
   "metadata": {
    "ExecuteTime": {
     "end_time": "2022-03-05T04:47:41.499016Z",
     "start_time": "2022-03-05T04:47:35.757375Z"
    }
   },
   "outputs": [],
   "source": [
    "# Python ≥3.5 is required\n",
    "import sys\n",
    "assert sys.version_info >= (3, 5)\n",
    "\n",
    "# Scikit-Learn ≥0.20 is required\n",
    "import sklearn\n",
    "assert sklearn.__version__ >= \"0.20\"\n",
    "\n",
    "from sklearn.preprocessing import MinMaxScaler\n",
    "from sklearn.model_selection import GridSearchCV\n",
    "from sklearn.metrics import mean_squared_error\n",
    "\n",
    "# tensorflow\n",
    "import tensorflow as tf\n",
    "from tensorflow import keras\n",
    "\n",
    "from keras import backend as K\n",
    "from keras.models import Sequential, load_model\n",
    "from keras.layers import Dense, LSTM, Dropout, Conv1D, RepeatVector, TimeDistributed\n",
    "from keras.callbacks import ModelCheckpoint, EarlyStopping\n",
    "from keras.wrappers.scikit_learn import KerasRegressor\n",
    "\n",
    "# Common imports\n",
    "import os\n",
    "import timeit\n",
    "import numpy as np\n",
    "import pandas as pd\n",
    "import seaborn as sns\n",
    "from math import sqrt\n",
    "from datetime import date\n",
    "import holidays\n",
    "sns.set()\n",
    "import warnings\n",
    "warnings.filterwarnings(\"ignore\")\n",
    "\n",
    "# To plot pretty figures\n",
    "import matplotlib as mpl\n",
    "import matplotlib.pyplot as plt\n",
    "import matplotlib.dates as mdates\n",
    "mpl.rcParams.update(mpl.rcParamsDefault)\n",
    "mpl.rcParams[\"font.family\"] = \"serif\"\n",
    "mpl.rcParams[\"font.sans-serif\"] = \"Verdana\""
   ]
  },
  {
   "cell_type": "code",
   "execution_count": 2,
   "id": "ef2ec506",
   "metadata": {
    "ExecuteTime": {
     "end_time": "2022-03-05T04:47:48.666339Z",
     "start_time": "2022-03-05T04:47:41.532617Z"
    }
   },
   "outputs": [
    {
     "data": {
      "text/html": [
       "<div>\n",
       "<style scoped>\n",
       "    .dataframe tbody tr th:only-of-type {\n",
       "        vertical-align: middle;\n",
       "    }\n",
       "\n",
       "    .dataframe tbody tr th {\n",
       "        vertical-align: top;\n",
       "    }\n",
       "\n",
       "    .dataframe thead th {\n",
       "        text-align: right;\n",
       "    }\n",
       "</style>\n",
       "<table border=\"1\" class=\"dataframe\">\n",
       "  <thead>\n",
       "    <tr style=\"text-align: right;\">\n",
       "      <th></th>\n",
       "      <th>Row Labels</th>\n",
       "      <th>01 Jan 18</th>\n",
       "      <th>02 Jan 18</th>\n",
       "      <th>03 Jan 18</th>\n",
       "      <th>04 Jan 18</th>\n",
       "      <th>05 Jan 18</th>\n",
       "      <th>06 Jan 18</th>\n",
       "      <th>07 Jan 18</th>\n",
       "      <th>08 Jan 18</th>\n",
       "      <th>09 Jan 18</th>\n",
       "      <th>...</th>\n",
       "      <th>23 Oct 18</th>\n",
       "      <th>24 Oct 18</th>\n",
       "      <th>25 Oct 18</th>\n",
       "      <th>26 Oct 18</th>\n",
       "      <th>27 Oct 18</th>\n",
       "      <th>28 Oct 18</th>\n",
       "      <th>29 Oct 18</th>\n",
       "      <th>30 Oct 18</th>\n",
       "      <th>31 Oct 18</th>\n",
       "      <th>01 Nov 18</th>\n",
       "    </tr>\n",
       "  </thead>\n",
       "  <tbody>\n",
       "    <tr>\n",
       "      <th>0</th>\n",
       "      <td>KwN Manning On (130) (H547@310)</td>\n",
       "      <td>3986.0</td>\n",
       "      <td>4988.0</td>\n",
       "      <td>5496.0</td>\n",
       "      <td>5685.0</td>\n",
       "      <td>5931.0</td>\n",
       "      <td>5324.0</td>\n",
       "      <td>4364.0</td>\n",
       "      <td>6188.0</td>\n",
       "      <td>6741.0</td>\n",
       "      <td>...</td>\n",
       "      <td>8808.0</td>\n",
       "      <td>8926.0</td>\n",
       "      <td>9306.0</td>\n",
       "      <td>9222.0</td>\n",
       "      <td>7147.0</td>\n",
       "      <td>5691.0</td>\n",
       "      <td>8532.0</td>\n",
       "      <td>8878.0</td>\n",
       "      <td>9133.0</td>\n",
       "      <td>9100.0</td>\n",
       "    </tr>\n",
       "    <tr>\n",
       "      <th>1</th>\n",
       "      <td>0130KWN-OR</td>\n",
       "      <td>NaN</td>\n",
       "      <td>NaN</td>\n",
       "      <td>NaN</td>\n",
       "      <td>NaN</td>\n",
       "      <td>NaN</td>\n",
       "      <td>NaN</td>\n",
       "      <td>NaN</td>\n",
       "      <td>NaN</td>\n",
       "      <td>NaN</td>\n",
       "      <td>...</td>\n",
       "      <td>NaN</td>\n",
       "      <td>NaN</td>\n",
       "      <td>NaN</td>\n",
       "      <td>NaN</td>\n",
       "      <td>NaN</td>\n",
       "      <td>NaN</td>\n",
       "      <td>NaN</td>\n",
       "      <td>NaN</td>\n",
       "      <td>NaN</td>\n",
       "      <td>NaN</td>\n",
       "    </tr>\n",
       "    <tr>\n",
       "      <th>2</th>\n",
       "      <td>0130KWN-OR1</td>\n",
       "      <td>3986.0</td>\n",
       "      <td>4988.0</td>\n",
       "      <td>5496.0</td>\n",
       "      <td>5685.0</td>\n",
       "      <td>5931.0</td>\n",
       "      <td>5324.0</td>\n",
       "      <td>4364.0</td>\n",
       "      <td>6188.0</td>\n",
       "      <td>6741.0</td>\n",
       "      <td>...</td>\n",
       "      <td>8808.0</td>\n",
       "      <td>8926.0</td>\n",
       "      <td>9306.0</td>\n",
       "      <td>9222.0</td>\n",
       "      <td>7147.0</td>\n",
       "      <td>5691.0</td>\n",
       "      <td>8532.0</td>\n",
       "      <td>8878.0</td>\n",
       "      <td>9133.0</td>\n",
       "      <td>9100.0</td>\n",
       "    </tr>\n",
       "    <tr>\n",
       "      <th>3</th>\n",
       "      <td>00:00 - 00:15</td>\n",
       "      <td>16.0</td>\n",
       "      <td>9.0</td>\n",
       "      <td>11.0</td>\n",
       "      <td>10.0</td>\n",
       "      <td>14.0</td>\n",
       "      <td>27.0</td>\n",
       "      <td>21.0</td>\n",
       "      <td>6.0</td>\n",
       "      <td>8.0</td>\n",
       "      <td>...</td>\n",
       "      <td>10.0</td>\n",
       "      <td>13.0</td>\n",
       "      <td>11.0</td>\n",
       "      <td>16.0</td>\n",
       "      <td>33.0</td>\n",
       "      <td>32.0</td>\n",
       "      <td>16.0</td>\n",
       "      <td>23.0</td>\n",
       "      <td>18.0</td>\n",
       "      <td>6.0</td>\n",
       "    </tr>\n",
       "    <tr>\n",
       "      <th>4</th>\n",
       "      <td>00:15 - 00:30</td>\n",
       "      <td>38.0</td>\n",
       "      <td>7.0</td>\n",
       "      <td>11.0</td>\n",
       "      <td>11.0</td>\n",
       "      <td>8.0</td>\n",
       "      <td>18.0</td>\n",
       "      <td>19.0</td>\n",
       "      <td>8.0</td>\n",
       "      <td>5.0</td>\n",
       "      <td>...</td>\n",
       "      <td>6.0</td>\n",
       "      <td>10.0</td>\n",
       "      <td>13.0</td>\n",
       "      <td>13.0</td>\n",
       "      <td>18.0</td>\n",
       "      <td>39.0</td>\n",
       "      <td>10.0</td>\n",
       "      <td>13.0</td>\n",
       "      <td>12.0</td>\n",
       "      <td>16.0</td>\n",
       "    </tr>\n",
       "  </tbody>\n",
       "</table>\n",
       "<p>5 rows × 304 columns</p>\n",
       "</div>"
      ],
      "text/plain": [
       "                        Row Labels  01 Jan 18  02 Jan 18  03 Jan 18  \\\n",
       "0  KwN Manning On (130) (H547@310)     3986.0     4988.0     5496.0   \n",
       "1                       0130KWN-OR        NaN        NaN        NaN   \n",
       "2                      0130KWN-OR1     3986.0     4988.0     5496.0   \n",
       "3                    00:00 - 00:15       16.0        9.0       11.0   \n",
       "4                    00:15 - 00:30       38.0        7.0       11.0   \n",
       "\n",
       "   04 Jan 18  05 Jan 18  06 Jan 18  07 Jan 18  08 Jan 18  09 Jan 18  ...  \\\n",
       "0     5685.0     5931.0     5324.0     4364.0     6188.0     6741.0  ...   \n",
       "1        NaN        NaN        NaN        NaN        NaN        NaN  ...   \n",
       "2     5685.0     5931.0     5324.0     4364.0     6188.0     6741.0  ...   \n",
       "3       10.0       14.0       27.0       21.0        6.0        8.0  ...   \n",
       "4       11.0        8.0       18.0       19.0        8.0        5.0  ...   \n",
       "\n",
       "   23 Oct 18  24 Oct 18  25 Oct 18  26 Oct 18  27 Oct 18  28 Oct 18  \\\n",
       "0     8808.0     8926.0     9306.0     9222.0     7147.0     5691.0   \n",
       "1        NaN        NaN        NaN        NaN        NaN        NaN   \n",
       "2     8808.0     8926.0     9306.0     9222.0     7147.0     5691.0   \n",
       "3       10.0       13.0       11.0       16.0       33.0       32.0   \n",
       "4        6.0       10.0       13.0       13.0       18.0       39.0   \n",
       "\n",
       "   29 Oct 18  30 Oct 18  31 Oct 18  01 Nov 18  \n",
       "0     8532.0     8878.0     9133.0     9100.0  \n",
       "1        NaN        NaN        NaN        NaN  \n",
       "2     8532.0     8878.0     9133.0     9100.0  \n",
       "3       16.0       23.0       18.0        6.0  \n",
       "4       10.0       13.0       12.0       16.0  \n",
       "\n",
       "[5 rows x 304 columns]"
      ]
     },
     "execution_count": 2,
     "metadata": {},
     "output_type": "execute_result"
    }
   ],
   "source": [
    "df = pd.read_excel(\"data/Smart Freeways Data 2018 - Ramps All Days.xlsx\",\n",
    "                   skiprows=3, header=0)\n",
    "df.head()"
   ]
  },
  {
   "cell_type": "code",
   "execution_count": 3,
   "id": "e5012db4",
   "metadata": {
    "ExecuteTime": {
     "end_time": "2022-03-05T04:47:54.330145Z",
     "start_time": "2022-03-05T04:47:48.731285Z"
    }
   },
   "outputs": [
    {
     "data": {
      "text/html": [
       "<div>\n",
       "<style scoped>\n",
       "    .dataframe tbody tr th:only-of-type {\n",
       "        vertical-align: middle;\n",
       "    }\n",
       "\n",
       "    .dataframe tbody tr th {\n",
       "        vertical-align: top;\n",
       "    }\n",
       "\n",
       "    .dataframe thead th {\n",
       "        text-align: right;\n",
       "    }\n",
       "</style>\n",
       "<table border=\"1\" class=\"dataframe\">\n",
       "  <thead>\n",
       "    <tr style=\"text-align: right;\">\n",
       "      <th></th>\n",
       "      <th>ID</th>\n",
       "      <th>DateTime</th>\n",
       "      <th>Length</th>\n",
       "      <th>Volume</th>\n",
       "      <th>Speed</th>\n",
       "      <th>Occupancy</th>\n",
       "    </tr>\n",
       "  </thead>\n",
       "  <tbody>\n",
       "    <tr>\n",
       "      <th>0</th>\n",
       "      <td>1</td>\n",
       "      <td>2018-01-01 00:00:00</td>\n",
       "      <td>960.0</td>\n",
       "      <td>7.0</td>\n",
       "      <td>96.000000</td>\n",
       "      <td>1.0</td>\n",
       "    </tr>\n",
       "    <tr>\n",
       "      <th>1</th>\n",
       "      <td>1</td>\n",
       "      <td>2018-01-01 00:01:00</td>\n",
       "      <td>960.0</td>\n",
       "      <td>6.0</td>\n",
       "      <td>94.999998</td>\n",
       "      <td>1.0</td>\n",
       "    </tr>\n",
       "    <tr>\n",
       "      <th>2</th>\n",
       "      <td>1</td>\n",
       "      <td>2018-01-01 00:02:00</td>\n",
       "      <td>960.0</td>\n",
       "      <td>5.0</td>\n",
       "      <td>90.999999</td>\n",
       "      <td>1.0</td>\n",
       "    </tr>\n",
       "    <tr>\n",
       "      <th>3</th>\n",
       "      <td>1</td>\n",
       "      <td>2018-01-01 00:03:00</td>\n",
       "      <td>960.0</td>\n",
       "      <td>5.0</td>\n",
       "      <td>94.999997</td>\n",
       "      <td>1.0</td>\n",
       "    </tr>\n",
       "    <tr>\n",
       "      <th>4</th>\n",
       "      <td>1</td>\n",
       "      <td>2018-01-01 00:04:00</td>\n",
       "      <td>960.0</td>\n",
       "      <td>5.0</td>\n",
       "      <td>92.999999</td>\n",
       "      <td>1.0</td>\n",
       "    </tr>\n",
       "  </tbody>\n",
       "</table>\n",
       "</div>"
      ],
      "text/plain": [
       "   ID            DateTime  Length  Volume      Speed  Occupancy\n",
       "0   1 2018-01-01 00:00:00   960.0     7.0  96.000000        1.0\n",
       "1   1 2018-01-01 00:01:00   960.0     6.0  94.999998        1.0\n",
       "2   1 2018-01-01 00:02:00   960.0     5.0  90.999999        1.0\n",
       "3   1 2018-01-01 00:03:00   960.0     5.0  94.999997        1.0\n",
       "4   1 2018-01-01 00:04:00   960.0     5.0  92.999999        1.0"
      ]
     },
     "execution_count": 3,
     "metadata": {},
     "output_type": "execute_result"
    }
   ],
   "source": [
    "df2 = pd.read_csv('data/clean/LAD.csv')\n",
    "df2.DateTime = pd.to_datetime(df2.DateTime)\n",
    "df2.head()"
   ]
  },
  {
   "cell_type": "markdown",
   "id": "86bff74b",
   "metadata": {},
   "source": [
    "## 27 Aug"
   ]
  },
  {
   "cell_type": "code",
   "execution_count": null,
   "id": "26fa4c0e",
   "metadata": {},
   "outputs": [],
   "source": [
    "df1 = df[['Row Labels', '27 Aug 18']]\n",
    "df1['Time'] = df1['Row Labels']\n",
    "df1 = df1[['Row Labels', 'Time', '27 Aug 18']]\n",
    "\n",
    "# For Row Labels, replace time format %H:%M - %H:%M with NaN\n",
    "# For DateTime, replace everything else as NaN\n",
    "\n",
    "df1['Row Labels'] = df1['Row Labels'].replace(\n",
    "    '([01]?[0-9]|2[0-4]):[0-5][0-9](:[0-5][0-9])?\\s-\\s([01]?[0-9]|2[0-4]):[0-5][0-9](:[0-5][0-9])?',\n",
    "    np.nan, regex=True)\n",
    "df1['Row Labels'] = df1['Row Labels'].ffill(axis=0)\n",
    "df1 = df1[~df1['Row Labels'].str.contains('KwN ', na=False)]\n",
    "df1 = df1[~df1['Row Labels'].str.contains('Grand Total', na=False)]\n",
    "df1['Row Labels'].unique()"
   ]
  },
  {
   "cell_type": "code",
   "execution_count": null,
   "id": "9b24d1db",
   "metadata": {},
   "outputs": [],
   "source": [
    "# 27 Aug\n",
    "OR_df = df1.copy()\n",
    "OR_df = OR_df[~OR_df['Row Labels'].str.contains('XR', na=False)]\n",
    "OR_df = OR_df[~OR_df['Row Labels'].str.contains('210', na=False)]\n",
    "OR_df = OR_df[OR_df['27 Aug 18'].notnull()]\n",
    "OR_df.Time = OR_df.Time.str[:5]\n",
    "OR_df = OR_df[OR_df.Time.str.contains(':', na=False)]\n",
    "OR_df = OR_df[~OR_df['Row Labels'].str.contains('T', na=False)]\n",
    "\n",
    "OR_df['Time'] = pd.to_datetime(OR_df['Time'], format='%H:%M')\n",
    "OR_df = OR_df.melt(id_vars=['Row Labels', 'Time'],\n",
    "                  var_name='DateTime', value_name='Volume')\n",
    "OR_df.DateTime = (pd.to_datetime(OR_df['DateTime']) +  \n",
    "              pd.to_timedelta(OR_df.pop('Time').dt.strftime('%H:%M:%S')))\n",
    "\n",
    "OR_df = OR_df.sort_values(['Row Labels', 'DateTime'], \n",
    "                          ascending=[True, True])\n",
    "OR_df.reset_index(drop=True, inplace=True)"
   ]
  },
  {
   "cell_type": "code",
   "execution_count": null,
   "id": "50c6b49b",
   "metadata": {},
   "outputs": [],
   "source": [
    "# new = OR_df[(OR_df.DateTime >= '2018-08-27 8:30:00') &\n",
    "#      (OR_df.DateTime <= '2018-08-27 13:30:00')]\n",
    "new = OR_df[(OR_df.DateTime >= '2018-08-27 8:30:00') &\n",
    "      (OR_df.DateTime <= '2018-08-27 09:30:00')]\n",
    "new = pd.pivot_table(new, values='Volume', index='DateTime',\n",
    "               columns='Row Labels').reset_index()\n",
    "\n",
    "g = new.set_index('DateTime')\n",
    "g['0084KWN-ORL'] = g['0084KWN-OR1L'] + g['0084KWN-OR2L']\n",
    "g['0089KWN-ORL'] = g['0089KWN-OR1L'] + g['0089KWN-OR2L']\n",
    "g = g[['0081KWN-OR1L', '0084KWN-ORL', '0089KWN-ORL', '0130KWN-OR1',\n",
    "       '0150KWN-OR1', '0160KWN-OR1L', '0200KWN-OR1L', '0702KWN-OR1L']]\n",
    "g.columns = ['H500', 'H549', 'H617', 'H547', 'H553', 'H554', 'H622', 'H558']\n",
    "# g = g*4\n",
    "g"
   ]
  },
  {
   "cell_type": "code",
   "execution_count": null,
   "id": "38c9fde6",
   "metadata": {},
   "outputs": [],
   "source": [
    "# g.to_csv('out_data/27Aug_OR.csv', index=True)"
   ]
  },
  {
   "cell_type": "code",
   "execution_count": null,
   "id": "b8f9acc0",
   "metadata": {},
   "outputs": [],
   "source": [
    "plt.rcParams.update({'font.size': 14})\n",
    "plt.rcParams.update({'lines.linewidth': 2})\n",
    "fig, ax = plt.subplots(figsize=(8,5))\n",
    "p = sns.lineplot(data=g, ax=ax, linewidth = 2)\n",
    "ax.legend(loc='upper right', \n",
    "               ncol=round(len(g.columns)/4)).set_title('')\n",
    "ax.xaxis.set_major_formatter(mdates.DateFormatter('%H:%M'))\n",
    "# ax.xaxis.set_major_locator(mdates.MinuteLocator(byminute=[30])) \n",
    "ax.set_ylabel('Volume (veh/hr)', fontsize=20)\n",
    "ax.set_xlabel('Time (HH:MM)', fontsize=18)\n",
    "ax.grid()\n",
    "#plt.savefig('fig/27Aug_Ramps_Volume', bbox_inches=\"tight\")\n",
    "plt.show()"
   ]
  },
  {
   "cell_type": "code",
   "execution_count": null,
   "id": "fee851f8",
   "metadata": {},
   "outputs": [],
   "source": [
    "dr = pd.date_range('2018-08-27 08:30:00', '2018-08-27 09:30:00', freq='1T')\n",
    "newg = g.reindex(dr).interpolate()"
   ]
  },
  {
   "cell_type": "code",
   "execution_count": null,
   "id": "a0ba6299",
   "metadata": {},
   "outputs": [],
   "source": [
    "plt.rcParams.update({'font.size': 14})\n",
    "plt.rcParams.update({'lines.linewidth': 2})\n",
    "fig, ax = plt.subplots(figsize=(8,5))\n",
    "p = sns.lineplot(data=newg, ax=ax, linewidth = 2)\n",
    "ax.legend(loc='upper right', \n",
    "               ncol=round(len(newg.columns)/4)).set_title('')\n",
    "ax.xaxis.set_major_formatter(mdates.DateFormatter('%H:%M'))\n",
    "# ax.xaxis.set_major_locator(mdates.MinuteLocator(byminute=[30])) \n",
    "ax.set_ylabel('Volume (veh/hr)', fontsize=20)\n",
    "ax.set_xlabel('Time (HH:MM)', fontsize=18)\n",
    "plt.savefig('fig/830-930_27Aug_Ramps_Volume', bbox_inches=\"tight\")\n",
    "plt.show()"
   ]
  },
  {
   "cell_type": "markdown",
   "id": "5f0134f0",
   "metadata": {},
   "source": [
    "### demand file"
   ]
  },
  {
   "cell_type": "code",
   "execution_count": null,
   "id": "977319b8",
   "metadata": {},
   "outputs": [],
   "source": [
    "df2 = df2[(df2.ID == 1) &\n",
    "          (df2.DateTime >= '2018-08-27 08:30:00') &\n",
    "          (df2.DateTime <= '2018-08-27 09:30:00')]\n",
    "\n",
    "df2['corridor_id'] = 'KWN'\n",
    "df2['demand'] = df2.Volume.astype(int)\n",
    "df2['volume'] = df2.Volume.astype(int)\n",
    "df2['speed'] = df2.Speed\n",
    "df2['time'] = (df2.DateTime - pd.to_datetime('2018-08-27 08:30:00')).astype('timedelta64[m]').astype(int)"
   ]
  },
  {
   "cell_type": "code",
   "execution_count": null,
   "id": "b8178a9b",
   "metadata": {},
   "outputs": [],
   "source": [
    "df3 = df2[['time', 'corridor_id', 'demand']]\n",
    "df3"
   ]
  },
  {
   "cell_type": "code",
   "execution_count": null,
   "id": "14ca0ebd",
   "metadata": {},
   "outputs": [],
   "source": [
    "dr = pd.date_range('2018-08-27 08:30:00', '2018-08-27 09:30:00', freq='1T')\n",
    "newg = g.reindex(dr).interpolate()"
   ]
  },
  {
   "cell_type": "code",
   "execution_count": null,
   "id": "5c9f9e8f",
   "metadata": {},
   "outputs": [],
   "source": [
    "# demand file\n",
    "newg = newg.unstack().reset_index(name='demand')\n",
    "newg.rename(columns={'level_0': 'corridor_id', 'level_1': 'dt'}, inplace=True)\n",
    "newg['time'] = (newg.dt - pd.to_datetime('2018-08-27 08:30:00')).astype('timedelta64[m]').astype(int)\n",
    "newg = newg[['time', 'corridor_id', 'demand']]\n",
    "newg.demand = np.ceil(newg.demand).astype(int)\n",
    "newg"
   ]
  },
  {
   "cell_type": "code",
   "execution_count": null,
   "id": "3ec0e704",
   "metadata": {},
   "outputs": [],
   "source": [
    "# demand file\n",
    "# pd.concat([df3, newg]).to_csv('out_data/CaseII_27Aug_demand.csv', index=False)"
   ]
  },
  {
   "cell_type": "markdown",
   "id": "54e47f7e",
   "metadata": {},
   "source": [
    "### supply file"
   ]
  },
  {
   "cell_type": "code",
   "execution_count": null,
   "id": "f95df402",
   "metadata": {},
   "outputs": [],
   "source": [
    "newg = g.reindex(dr).interpolate()"
   ]
  },
  {
   "cell_type": "code",
   "execution_count": null,
   "id": "594d50ff",
   "metadata": {},
   "outputs": [],
   "source": [
    "# supply file\n",
    "import datetime as dt\n",
    "newg = newg.unstack().reset_index(name='volume')\n",
    "newg.rename(columns={'level_0': 'corridor_id', 'level_1': 'dt'}, inplace=True)\n",
    "newg.volume = np.ceil(newg.volume).astype(int)\n",
    "\n",
    "newg['date'] = '27/08/2018'\n",
    "newg['time_period'] = newg['dt'].dt.strftime('%H%M_') + (newg['dt'] + dt.timedelta(minutes=1)).dt.strftime('%H%M')\n",
    "newg.time_period = newg.time_period.replace({'0930_0931':'0930_0830'})"
   ]
  },
  {
   "cell_type": "code",
   "execution_count": null,
   "id": "89b21574",
   "metadata": {},
   "outputs": [],
   "source": [
    "s = pd.read_csv('data1min/CaseII_supply27Aug1Min.csv')\n",
    "s.groupby(['link_id_tmc', 'corridor_id', 'corridor_link_order',\n",
    "           'from_node_id', 'to_node_id', 'geometry', \n",
    "           'num_of_lanes', 'reference_speed']).count()"
   ]
  },
  {
   "cell_type": "code",
   "execution_count": null,
   "id": "18b1f98e",
   "metadata": {},
   "outputs": [],
   "source": [
    "s.groupby(['link_id_tmc', 'corridor_id', 'corridor_link_order',\n",
    "           'from_node_id', 'to_node_id', 'geometry', \n",
    "           'num_of_lanes', 'reference_speed']).count().iloc[:,0].to_csv('out_data/test.csv')"
   ]
  },
  {
   "cell_type": "code",
   "execution_count": null,
   "id": "bb1be16e",
   "metadata": {},
   "outputs": [],
   "source": [
    "s = pd.read_csv('out_data/test.csv')\n",
    "s.head()"
   ]
  },
  {
   "cell_type": "code",
   "execution_count": null,
   "id": "fc29ed3a",
   "metadata": {
    "scrolled": true
   },
   "outputs": [],
   "source": [
    "from itertools import cycle, islice\n",
    "news = pd.DataFrame(np.repeat(s.values, 61, axis=0),columns=s.columns)\n",
    "\n",
    "tp = list(newg.time_period.unique())\n",
    "it = cycle(tp)\n",
    "news['time_period'] = list(islice(it, len(news)))\n",
    "\n",
    "news['date'] = '27/08/2018'\n",
    "news['travel_time'] = np.nan\n",
    "news['reference_speed'] = 60\n",
    "news['queue'] = np.nan\n",
    "news['notes'] = np.nan"
   ]
  },
  {
   "cell_type": "code",
   "execution_count": null,
   "id": "ef37fd0e",
   "metadata": {},
   "outputs": [],
   "source": [
    "newg = newg[['corridor_id', 'date', 'time_period', 'volume']]; newg"
   ]
  },
  {
   "cell_type": "code",
   "execution_count": null,
   "id": "8257d1ce",
   "metadata": {},
   "outputs": [],
   "source": [
    "df3 = df2[['time', 'corridor_id', 'volume', 'speed']]\n",
    "df3.reset_index(inplace=True)\n",
    "df3['time_period'] = tp\n",
    "df3['date'] = '27/08/2018'\n",
    "df3 = df3[['corridor_id', 'date', 'time_period', 'volume', 'speed']]\n",
    "df3"
   ]
  },
  {
   "cell_type": "code",
   "execution_count": null,
   "id": "6ec9e49c",
   "metadata": {},
   "outputs": [],
   "source": [
    "dat = pd.concat([newg, df3]); dat"
   ]
  },
  {
   "cell_type": "code",
   "execution_count": null,
   "id": "2e69edc4",
   "metadata": {},
   "outputs": [],
   "source": [
    "odf = news.merge(dat, on=['corridor_id', 'date', 'time_period'], how='left')"
   ]
  },
  {
   "cell_type": "code",
   "execution_count": null,
   "id": "2d52367c",
   "metadata": {},
   "outputs": [],
   "source": [
    "odf['density'] = np.nan\n",
    "odf = odf[['link_id_tmc', 'corridor_id', 'corridor_link_order',\n",
    "           'from_node_id', 'to_node_id', 'time_period', 'date',\n",
    "           'geometry', 'volume', 'num_of_lanes', 'travel_time',\n",
    "           'speed', 'reference_speed', 'density', 'queue', 'notes']]\n",
    "odf.volume = odf.volume.fillna(87)\n",
    "odf.info()"
   ]
  },
  {
   "cell_type": "code",
   "execution_count": null,
   "id": "fe98312a",
   "metadata": {},
   "outputs": [],
   "source": [
    "# odf.to_csv('out_data/CaseII_27Aug_Supply.csv', index=False)"
   ]
  },
  {
   "cell_type": "markdown",
   "id": "371eaee8",
   "metadata": {},
   "source": [
    "## 3 Sep"
   ]
  },
  {
   "cell_type": "code",
   "execution_count": null,
   "id": "e6b490ce",
   "metadata": {
    "ExecuteTime": {
     "end_time": "2022-02-18T15:44:22.926750Z",
     "start_time": "2022-02-18T15:44:22.912788Z"
    }
   },
   "outputs": [],
   "source": [
    "df1 = df[['Row Labels', '03 Sep 18']]\n",
    "df1['Time'] = df1['Row Labels']\n",
    "df1 = df1[['Row Labels', 'Time', '03 Sep 18']]\n",
    "df1.head()"
   ]
  },
  {
   "cell_type": "code",
   "execution_count": null,
   "id": "71b041e4",
   "metadata": {
    "ExecuteTime": {
     "end_time": "2022-02-18T15:44:24.678909Z",
     "start_time": "2022-02-18T15:44:24.655934Z"
    }
   },
   "outputs": [],
   "source": [
    "# For Row Labels, replace time format %H:%M - %H:%M with NaN\n",
    "# For DateTime, replace everything else as NaN\n",
    "\n",
    "df1['Row Labels'] = df1['Row Labels'].replace(\n",
    "    '([01]?[0-9]|2[0-4]):[0-5][0-9](:[0-5][0-9])?\\s-\\s([01]?[0-9]|2[0-4]):[0-5][0-9](:[0-5][0-9])?',\n",
    "    np.nan, regex=True)\n",
    "df1['Row Labels'] = df1['Row Labels'].ffill(axis=0)\n",
    "df1 = df1[~df1['Row Labels'].str.contains('KwN ', na=False)]\n",
    "df1 = df1[~df1['Row Labels'].str.contains('Grand Total', na=False)]\n",
    "df1['Row Labels'].unique()"
   ]
  },
  {
   "cell_type": "code",
   "execution_count": null,
   "id": "8cdce74b",
   "metadata": {
    "ExecuteTime": {
     "end_time": "2022-02-18T15:44:26.211495Z",
     "start_time": "2022-02-18T15:44:26.191548Z"
    }
   },
   "outputs": [],
   "source": [
    "# 3 Aug\n",
    "OR_df = df1.copy()\n",
    "OR_df = OR_df[~OR_df['Row Labels'].str.contains('XR', na=False)]\n",
    "OR_df = OR_df[~OR_df['Row Labels'].str.contains('210', na=False)]\n",
    "OR_df = OR_df[OR_df['03 Sep 18'].notnull()]\n",
    "OR_df.Time = OR_df.Time.str[:5]\n",
    "OR_df = OR_df[OR_df.Time.str.contains(':', na=False)]\n",
    "OR_df = OR_df[~OR_df['Row Labels'].str.contains('T', na=False)]"
   ]
  },
  {
   "cell_type": "code",
   "execution_count": null,
   "id": "8e8045e8",
   "metadata": {},
   "outputs": [],
   "source": [
    "OR_df['Row Labels'].value_counts().sort_index()"
   ]
  },
  {
   "cell_type": "code",
   "execution_count": null,
   "id": "d8df8383",
   "metadata": {},
   "outputs": [],
   "source": [
    "OR_df['Time'].value_counts().sort_index()"
   ]
  },
  {
   "cell_type": "code",
   "execution_count": null,
   "id": "481c697b",
   "metadata": {
    "ExecuteTime": {
     "end_time": "2022-02-18T15:44:28.573805Z",
     "start_time": "2022-02-18T15:44:28.551897Z"
    }
   },
   "outputs": [],
   "source": [
    "OR_df['Time'] = pd.to_datetime(OR_df['Time'], format='%H:%M')\n",
    "OR_df = OR_df.melt(id_vars=['Row Labels', 'Time'],\n",
    "                  var_name='DateTime', value_name='Volume')\n",
    "OR_df.DateTime = (pd.to_datetime(OR_df['DateTime']) +  \n",
    "              pd.to_timedelta(OR_df.pop('Time').dt.strftime('%H:%M:%S')))\n",
    "\n",
    "OR_df = OR_df.sort_values(['Row Labels', 'DateTime'], \n",
    "                          ascending=[True, True])\n",
    "OR_df.reset_index(drop=True, inplace=True)"
   ]
  },
  {
   "cell_type": "code",
   "execution_count": null,
   "id": "3d24cc6a",
   "metadata": {
    "ExecuteTime": {
     "end_time": "2022-02-18T15:45:02.235609Z",
     "start_time": "2022-02-18T15:45:02.201686Z"
    }
   },
   "outputs": [],
   "source": [
    "# new = OR_df[(OR_df.DateTime >= '2018-09-03 8:30:00') &\n",
    "#      (OR_df.DateTime <= '2018-09-03 13:30:00')]\n",
    "new = OR_df[(OR_df.DateTime >= '2018-09-03 8:30:00') &\n",
    "     (OR_df.DateTime <= '2018-09-03 09:30:00')]\n",
    "new = pd.pivot_table(new, values='Volume', index='DateTime',\n",
    "               columns='Row Labels').reset_index()\n",
    "\n",
    "g = new.set_index('DateTime')\n",
    "g['0084KWN-ORL'] = g['0084KWN-OR1L'] + g['0084KWN-OR2L']\n",
    "g['0089KWN-ORL'] = g['0089KWN-OR1L'] + g['0089KWN-OR2L']\n",
    "g = g[['0081KWN-OR1L', '0084KWN-ORL', '0089KWN-ORL', '0130KWN-OR1',\n",
    "       '0150KWN-OR1', '0160KWN-OR1L', '0200KWN-OR1L', '0702KWN-OR1L']]\n",
    "g.columns = ['H500', 'H549', 'H617', 'H547', 'H553', 'H554', 'H622', 'H558']\n",
    "# g = g*4\n",
    "g"
   ]
  },
  {
   "cell_type": "code",
   "execution_count": null,
   "id": "064bc79c",
   "metadata": {
    "ExecuteTime": {
     "end_time": "2022-02-18T15:46:34.762420Z",
     "start_time": "2022-02-18T15:46:34.488423Z"
    }
   },
   "outputs": [],
   "source": [
    "plt.rcParams.update({'font.size': 14})\n",
    "plt.rcParams.update({'lines.linewidth': 2})\n",
    "fig, ax = plt.subplots(figsize=(8,5))\n",
    "p = sns.lineplot(data=g, ax=ax, linewidth = 2)\n",
    "ax.legend(loc='upper right', \n",
    "               ncol=round(len(g.columns)/4)).set_title('')\n",
    "ax.xaxis.set_major_formatter(mdates.DateFormatter('%H:%M'))\n",
    "# ax.xaxis.set_major_locator(mdates.MinuteLocator(byminute=[30])) \n",
    "ax.set_ylabel('Volume (veh/hr)', fontsize=20)\n",
    "ax.set_xlabel('Time (HH:MM)', fontsize=18)\n",
    "plt.savefig('fig/3Sep/830-930_3Sep_Ramps_Volume', bbox_inches=\"tight\")\n",
    "plt.show()"
   ]
  },
  {
   "cell_type": "code",
   "execution_count": null,
   "id": "fddc7c85",
   "metadata": {},
   "outputs": [],
   "source": [
    "# g.to_csv('out_data/3Sep_OR.csv', index=True)"
   ]
  },
  {
   "cell_type": "markdown",
   "id": "f4f72f8a",
   "metadata": {},
   "source": [
    "### demand file"
   ]
  },
  {
   "cell_type": "code",
   "execution_count": null,
   "id": "aa35b082",
   "metadata": {
    "ExecuteTime": {
     "end_time": "2022-02-18T15:42:23.523630Z",
     "start_time": "2022-02-18T15:42:23.432871Z"
    }
   },
   "outputs": [],
   "source": [
    "df2 = df2[(df2.ID == 1) &\n",
    "          (df2.DateTime >= '2018-09-03 08:30:00') &\n",
    "          (df2.DateTime <= '2018-09-03 09:30:00')]\n",
    "\n",
    "df2['corridor_id'] = 'KWN'\n",
    "df2['demand'] = df2.Volume.astype(int)\n",
    "df2['volume'] = df2.Volume.astype(int)\n",
    "df2['speed'] = df2.Speed\n",
    "df2['time'] = (df2.DateTime - pd.to_datetime('2018-09-03 08:30:00')).astype('timedelta64[m]').astype(int)"
   ]
  },
  {
   "cell_type": "code",
   "execution_count": null,
   "id": "beaa6114",
   "metadata": {
    "ExecuteTime": {
     "end_time": "2022-02-18T15:42:41.596595Z",
     "start_time": "2022-02-18T15:42:41.576697Z"
    }
   },
   "outputs": [],
   "source": [
    "df3 = df2[['time', 'corridor_id', 'demand']]\n",
    "df3"
   ]
  },
  {
   "cell_type": "code",
   "execution_count": null,
   "id": "b8d006e2",
   "metadata": {
    "ExecuteTime": {
     "end_time": "2022-02-18T15:46:58.537783Z",
     "start_time": "2022-02-18T15:46:58.528787Z"
    }
   },
   "outputs": [],
   "source": [
    "dr = pd.date_range('2018-09-03 08:30:00', '2018-09-03 09:30:00', freq='1T')\n",
    "newg = g.reindex(dr).interpolate()"
   ]
  },
  {
   "cell_type": "code",
   "execution_count": null,
   "id": "c85a24a8",
   "metadata": {
    "ExecuteTime": {
     "end_time": "2022-02-18T15:47:09.507551Z",
     "start_time": "2022-02-18T15:47:09.479662Z"
    }
   },
   "outputs": [],
   "source": [
    "# demand file\n",
    "newg = newg.unstack().reset_index(name='demand')\n",
    "newg.rename(columns={'level_0': 'corridor_id', 'level_1': 'dt'}, inplace=True)\n",
    "newg['time'] = (newg.dt - pd.to_datetime('2018-09-03 08:30:00')).astype('timedelta64[m]').astype(int)\n",
    "newg = newg[['time', 'corridor_id', 'demand']]\n",
    "newg.demand = np.ceil(newg.demand).astype(int)\n",
    "newg"
   ]
  },
  {
   "cell_type": "code",
   "execution_count": null,
   "id": "440a448f",
   "metadata": {
    "ExecuteTime": {
     "end_time": "2022-02-18T15:50:33.573547Z",
     "start_time": "2022-02-18T15:50:33.553596Z"
    }
   },
   "outputs": [],
   "source": [
    "# demand file\n",
    "pd.concat([df3, newg]).to_csv('out_data/CaseII_3Sep_demand.csv', index=False)"
   ]
  },
  {
   "cell_type": "markdown",
   "id": "ba9b8249",
   "metadata": {},
   "source": [
    "### supply file"
   ]
  },
  {
   "cell_type": "code",
   "execution_count": null,
   "id": "129440b2",
   "metadata": {
    "ExecuteTime": {
     "end_time": "2022-02-18T16:09:18.400664Z",
     "start_time": "2022-02-18T16:09:18.391690Z"
    }
   },
   "outputs": [],
   "source": [
    "newg = g.reindex(dr).interpolate()"
   ]
  },
  {
   "cell_type": "code",
   "execution_count": null,
   "id": "ae66bd3c",
   "metadata": {
    "ExecuteTime": {
     "end_time": "2022-02-18T16:09:19.919776Z",
     "start_time": "2022-02-18T16:09:19.904812Z"
    }
   },
   "outputs": [],
   "source": [
    "# supply file\n",
    "import datetime as dt\n",
    "newg = newg.unstack().reset_index(name='volume')\n",
    "newg.rename(columns={'level_0': 'corridor_id', 'level_1': 'dt'}, inplace=True)\n",
    "newg.volume = np.ceil(newg.volume).astype(int)\n",
    "\n",
    "newg['date'] = '03/09/2018'\n",
    "newg['time_period'] = newg['dt'].dt.strftime('%H%M_') + (newg['dt'] + dt.timedelta(minutes=1)).dt.strftime('%H%M')\n",
    "newg.time_period = newg.time_period.replace({'0930_0931':'0930_0830'})"
   ]
  },
  {
   "cell_type": "code",
   "execution_count": null,
   "id": "3e323656",
   "metadata": {
    "ExecuteTime": {
     "end_time": "2022-02-18T16:09:21.575475Z",
     "start_time": "2022-02-18T16:09:21.560516Z"
    }
   },
   "outputs": [],
   "source": [
    "df3 = df2[['time', 'corridor_id', 'volume', 'speed']]\n",
    "df3.reset_index(inplace=True)\n",
    "df3['time_period'] = tp\n",
    "df3['date'] = '03/09/2018'\n",
    "df3 = df3[['corridor_id', 'date', 'time_period', 'volume', 'speed']]\n",
    "df3"
   ]
  },
  {
   "cell_type": "code",
   "execution_count": null,
   "id": "48a436e8",
   "metadata": {
    "ExecuteTime": {
     "end_time": "2022-02-18T16:09:23.868235Z",
     "start_time": "2022-02-18T16:09:23.856299Z"
    }
   },
   "outputs": [],
   "source": [
    "s = pd.read_csv('out_data/test.csv')\n",
    "s.head()"
   ]
  },
  {
   "cell_type": "code",
   "execution_count": null,
   "id": "de73d4de",
   "metadata": {
    "ExecuteTime": {
     "end_time": "2022-02-18T16:09:33.796969Z",
     "start_time": "2022-02-18T16:09:33.784012Z"
    }
   },
   "outputs": [],
   "source": [
    "from itertools import cycle, islice\n",
    "news = pd.DataFrame(np.repeat(s.values, 61, axis=0),columns=s.columns)\n",
    "\n",
    "tp = list(newg.time_period.unique())\n",
    "it = cycle(tp)\n",
    "news['time_period'] = list(islice(it, len(news)))\n",
    "\n",
    "news['date'] = '03/09/2018'\n",
    "news['travel_time'] = np.nan\n",
    "news['reference_speed'] = 60\n",
    "news['queue'] = np.nan\n",
    "news['notes'] = np.nan"
   ]
  },
  {
   "cell_type": "code",
   "execution_count": null,
   "id": "28953f49",
   "metadata": {
    "ExecuteTime": {
     "end_time": "2022-02-18T16:09:35.887328Z",
     "start_time": "2022-02-18T16:09:35.872369Z"
    }
   },
   "outputs": [],
   "source": [
    "newg = newg[['corridor_id', 'date', 'time_period', 'volume']]; newg"
   ]
  },
  {
   "cell_type": "code",
   "execution_count": null,
   "id": "cb527b28",
   "metadata": {
    "ExecuteTime": {
     "end_time": "2022-02-18T16:09:38.401819Z",
     "start_time": "2022-02-18T16:09:38.383843Z"
    }
   },
   "outputs": [],
   "source": [
    "df3 = df2[['time', 'corridor_id', 'volume', 'speed']]\n",
    "df3.reset_index(inplace=True)\n",
    "df3['time_period'] = tp\n",
    "df3['date'] = '03/09/2018'\n",
    "df3 = df3[['corridor_id', 'date', 'time_period', 'volume', 'speed']]\n",
    "df3"
   ]
  },
  {
   "cell_type": "code",
   "execution_count": null,
   "id": "b1ae0633",
   "metadata": {
    "ExecuteTime": {
     "end_time": "2022-02-18T16:09:42.738700Z",
     "start_time": "2022-02-18T16:09:42.728747Z"
    }
   },
   "outputs": [],
   "source": [
    "dat = pd.concat([newg, df3]); dat"
   ]
  },
  {
   "cell_type": "code",
   "execution_count": null,
   "id": "82fdae02",
   "metadata": {
    "ExecuteTime": {
     "end_time": "2022-02-18T16:09:47.474255Z",
     "start_time": "2022-02-18T16:09:47.455307Z"
    }
   },
   "outputs": [],
   "source": [
    "odf = news.merge(dat, on=['corridor_id', 'date', 'time_period'], how='left')"
   ]
  },
  {
   "cell_type": "code",
   "execution_count": null,
   "id": "481684f5",
   "metadata": {
    "ExecuteTime": {
     "end_time": "2022-02-18T16:09:48.917313Z",
     "start_time": "2022-02-18T16:09:48.896369Z"
    }
   },
   "outputs": [],
   "source": [
    "odf.info()"
   ]
  },
  {
   "cell_type": "code",
   "execution_count": null,
   "id": "5aa83b95",
   "metadata": {
    "ExecuteTime": {
     "end_time": "2022-02-18T16:09:55.750968Z",
     "start_time": "2022-02-18T16:09:55.737006Z"
    }
   },
   "outputs": [],
   "source": [
    "odf['density'] = np.nan\n",
    "odf = odf[['link_id_tmc', 'corridor_id', 'corridor_link_order',\n",
    "           'from_node_id', 'to_node_id', 'time_period', 'date',\n",
    "           'geometry', 'volume', 'num_of_lanes', 'travel_time',\n",
    "           'speed', 'reference_speed', 'density', 'queue', 'notes']]\n",
    "odf.volume = odf.volume.fillna(87)\n",
    "odf.info()"
   ]
  },
  {
   "cell_type": "code",
   "execution_count": null,
   "id": "dc2d174c",
   "metadata": {
    "ExecuteTime": {
     "end_time": "2022-02-18T16:10:22.549820Z",
     "start_time": "2022-02-18T16:10:22.503945Z"
    }
   },
   "outputs": [],
   "source": [
    "# odf.to_csv('out_data/CaseII_3Sep_Supply.csv', index=False)"
   ]
  },
  {
   "cell_type": "markdown",
   "id": "14f2b314",
   "metadata": {},
   "source": [
    "## Link7+8+Ramp554 (0160)"
   ]
  },
  {
   "cell_type": "code",
   "execution_count": null,
   "id": "d1911e19",
   "metadata": {
    "ExecuteTime": {
     "end_time": "2022-03-02T11:40:09.106551Z",
     "start_time": "2022-03-02T11:40:03.092440Z"
    }
   },
   "outputs": [],
   "source": [
    "df2 = pd.read_csv('data/clean/LAD.csv')\n",
    "df2.DateTime = pd.to_datetime(df2.DateTime)\n",
    "df2.head()"
   ]
  },
  {
   "cell_type": "code",
   "execution_count": null,
   "id": "5a333d16",
   "metadata": {
    "ExecuteTime": {
     "end_time": "2022-03-02T11:40:50.696063Z",
     "start_time": "2022-03-02T11:40:50.612296Z"
    }
   },
   "outputs": [],
   "source": [
    "df2 = df2[(df2.ID == 7) | (df2.ID == 8)]\n",
    "df2.ID.value_counts()"
   ]
  },
  {
   "cell_type": "code",
   "execution_count": null,
   "id": "ba9575c1",
   "metadata": {
    "ExecuteTime": {
     "end_time": "2022-03-02T11:47:36.351600Z",
     "start_time": "2022-03-02T11:47:33.346872Z"
    }
   },
   "outputs": [],
   "source": [
    "df2.to_csv('data/clean/L7+L8.csv', index=False)"
   ]
  },
  {
   "cell_type": "code",
   "execution_count": null,
   "id": "02ae70cf",
   "metadata": {
    "ExecuteTime": {
     "end_time": "2022-03-02T11:41:59.688440Z",
     "start_time": "2022-03-02T11:41:59.667529Z"
    }
   },
   "outputs": [],
   "source": [
    "df1 = pd.read_csv('data/clean/0160KWN-ORT.csv')\n",
    "df1.head()"
   ]
  },
  {
   "cell_type": "code",
   "execution_count": null,
   "id": "81bd1289",
   "metadata": {
    "ExecuteTime": {
     "end_time": "2022-03-02T11:44:56.971310Z",
     "start_time": "2022-03-02T11:44:56.948376Z"
    }
   },
   "outputs": [],
   "source": [
    "df1.info()"
   ]
  },
  {
   "cell_type": "code",
   "execution_count": null,
   "id": "7399eb3e",
   "metadata": {
    "ExecuteTime": {
     "end_time": "2022-03-02T11:45:39.947827Z",
     "start_time": "2022-03-02T11:45:39.747376Z"
    }
   },
   "outputs": [],
   "source": [
    "df1['Start Time'] = df1['Start Time'].str[:5]\n",
    "df1['Start Time'] = pd.to_datetime(df1['Start Time'], format='%H:%M')\n",
    "\n",
    "df1 = df1.melt(id_vars=['Start Time'],\n",
    "                  var_name='DateTime', value_name='Volume')\n",
    "df1.DateTime = (pd.to_datetime(df1['DateTime']) +  \n",
    "              pd.to_timedelta(df1.pop('Start Time').dt.strftime('%H:%M:%S')))"
   ]
  },
  {
   "cell_type": "code",
   "execution_count": null,
   "id": "cf5bf071",
   "metadata": {
    "ExecuteTime": {
     "end_time": "2022-03-02T11:46:01.386225Z",
     "start_time": "2022-03-02T11:46:01.363287Z"
    }
   },
   "outputs": [],
   "source": [
    "df1 = df1.sort_values(['DateTime'], ascending=[True])\n",
    "df1.reset_index(drop=True, inplace=True)\n",
    "df1.head()"
   ]
  },
  {
   "cell_type": "code",
   "execution_count": null,
   "id": "c4330c72",
   "metadata": {
    "ExecuteTime": {
     "end_time": "2022-03-02T11:46:15.450486Z",
     "start_time": "2022-03-02T11:46:15.426542Z"
    }
   },
   "outputs": [],
   "source": [
    "df1.info()"
   ]
  },
  {
   "cell_type": "code",
   "execution_count": null,
   "id": "35739917",
   "metadata": {
    "ExecuteTime": {
     "end_time": "2022-03-02T11:48:32.611371Z",
     "start_time": "2022-03-02T11:48:32.533112Z"
    }
   },
   "outputs": [],
   "source": [
    "df1.to_csv('data/clean/Ramp554.csv', index=False)"
   ]
  }
 ],
 "metadata": {
  "hide_input": false,
  "kernelspec": {
   "display_name": "Python 3 (ipykernel)",
   "language": "python",
   "name": "python3"
  },
  "language_info": {
   "codemirror_mode": {
    "name": "ipython",
    "version": 3
   },
   "file_extension": ".py",
   "mimetype": "text/x-python",
   "name": "python",
   "nbconvert_exporter": "python",
   "pygments_lexer": "ipython3",
   "version": "3.8.5"
  },
  "latex_envs": {
   "LaTeX_envs_menu_present": true,
   "autoclose": false,
   "autocomplete": true,
   "bibliofile": "biblio.bib",
   "cite_by": "apalike",
   "current_citInitial": 1,
   "eqLabelWithNumbers": true,
   "eqNumInitial": 1,
   "hotkeys": {
    "equation": "Ctrl-E",
    "itemize": "Ctrl-I"
   },
   "labels_anchors": false,
   "latex_user_defs": false,
   "report_style_numbering": false,
   "user_envs_cfg": false
  },
  "toc": {
   "base_numbering": 1,
   "nav_menu": {},
   "number_sections": true,
   "sideBar": true,
   "skip_h1_title": false,
   "title_cell": "Table of Contents",
   "title_sidebar": "Contents",
   "toc_cell": false,
   "toc_position": {},
   "toc_section_display": true,
   "toc_window_display": true
  },
  "varInspector": {
   "cols": {
    "lenName": 16,
    "lenType": 16,
    "lenVar": 40
   },
   "kernels_config": {
    "python": {
     "delete_cmd_postfix": "",
     "delete_cmd_prefix": "del ",
     "library": "var_list.py",
     "varRefreshCmd": "print(var_dic_list())"
    },
    "r": {
     "delete_cmd_postfix": ") ",
     "delete_cmd_prefix": "rm(",
     "library": "var_list.r",
     "varRefreshCmd": "cat(var_dic_list()) "
    }
   },
   "position": {
    "height": "309.855px",
    "left": "1167.14px",
    "right": "20px",
    "top": "120px",
    "width": "350px"
   },
   "types_to_exclude": [
    "module",
    "function",
    "builtin_function_or_method",
    "instance",
    "_Feature"
   ],
   "window_display": false
  }
 },
 "nbformat": 4,
 "nbformat_minor": 5
}
