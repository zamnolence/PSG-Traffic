{
 "cells": [
  {
   "cell_type": "code",
   "execution_count": null,
   "id": "79e4533b",
   "metadata": {
    "ExecuteTime": {
     "end_time": "2022-01-24T12:30:20.422082Z",
     "start_time": "2022-01-24T12:30:17.386159Z"
    }
   },
   "outputs": [],
   "source": [
    "# Python ≥3.5 is required\n",
    "import sys\n",
    "assert sys.version_info >= (3, 5)\n",
    "\n",
    "# Scikit-Learn ≥0.20 is required\n",
    "import sklearn\n",
    "assert sklearn.__version__ >= \"0.20\"\n",
    "\n",
    "from sklearn.preprocessing import MinMaxScaler\n",
    "from sklearn.model_selection import GridSearchCV\n",
    "from sklearn.metrics import mean_squared_error\n",
    "\n",
    "# tensorflow\n",
    "import tensorflow as tf\n",
    "from tensorflow import keras\n",
    "\n",
    "from keras import backend as K\n",
    "from keras.models import Sequential, load_model\n",
    "from keras.layers import Dense, LSTM, Dropout, Conv1D, RepeatVector, TimeDistributed\n",
    "from keras.callbacks import ModelCheckpoint, EarlyStopping\n",
    "from keras.wrappers.scikit_learn import KerasRegressor\n",
    "\n",
    "# Common imports\n",
    "import os\n",
    "import timeit\n",
    "import numpy as np\n",
    "import pandas as pd\n",
    "import seaborn as sns\n",
    "from math import sqrt\n",
    "from datetime import date\n",
    "import holidays\n",
    "sns.set()\n",
    "import warnings\n",
    "warnings.filterwarnings(\"ignore\")\n",
    "\n",
    "# To plot pretty figures\n",
    "import matplotlib as mpl\n",
    "import matplotlib.pyplot as plt\n",
    "import matplotlib.dates as mdates\n",
    "mpl.rcParams.update(mpl.rcParamsDefault)\n",
    "mpl.rcParams[\"font.family\"] = \"serif\"\n",
    "mpl.rcParams[\"font.sans-serif\"] = \"Verdana\""
   ]
  },
  {
   "cell_type": "code",
   "execution_count": null,
   "id": "ef2ec506",
   "metadata": {
    "ExecuteTime": {
     "end_time": "2022-01-24T12:30:28.611404Z",
     "start_time": "2022-01-24T12:30:21.944030Z"
    }
   },
   "outputs": [],
   "source": [
    "df = pd.read_excel(\"data/Smart Freeways Data 2018 - Ramps All Days.xlsx\",\n",
    "                   skiprows=3, header=0)\n",
    "df.head()"
   ]
  },
  {
   "cell_type": "code",
   "execution_count": null,
   "id": "26fa4c0e",
   "metadata": {
    "ExecuteTime": {
     "end_time": "2022-01-24T12:30:28.659304Z",
     "start_time": "2022-01-24T12:30:28.644349Z"
    }
   },
   "outputs": [],
   "source": [
    "df = df[['Row Labels', '27 Aug 18']]\n",
    "df['Time'] = df['Row Labels']\n",
    "df = df[['Row Labels', 'Time', '27 Aug 18']]\n",
    "df.head()"
   ]
  },
  {
   "cell_type": "code",
   "execution_count": null,
   "id": "cdbd3d21",
   "metadata": {
    "ExecuteTime": {
     "end_time": "2022-01-24T12:30:28.690109Z",
     "start_time": "2022-01-24T12:30:28.675124Z"
    }
   },
   "outputs": [],
   "source": [
    "# For Row Labels, replace time format %H:%M - %H:%M with NaN\n",
    "# For DateTime, replace everything else as NaN\n",
    "\n",
    "df['Row Labels'] = df['Row Labels'].replace(\n",
    "    '([01]?[0-9]|2[0-4]):[0-5][0-9](:[0-5][0-9])?\\s-\\s([01]?[0-9]|2[0-4]):[0-5][0-9](:[0-5][0-9])?',\n",
    "    np.nan, regex=True)\n",
    "df['Row Labels'] = df['Row Labels'].ffill(axis=0)\n",
    "df['Row Labels'].unique()"
   ]
  },
  {
   "cell_type": "markdown",
   "id": "b27de40d",
   "metadata": {},
   "source": [
    "- if *Row Labels* contain '[K][w][N]\\s', drop row"
   ]
  },
  {
   "cell_type": "code",
   "execution_count": null,
   "id": "81c9c1a0",
   "metadata": {
    "ExecuteTime": {
     "end_time": "2022-01-24T12:30:49.170797Z",
     "start_time": "2022-01-24T12:30:49.152843Z"
    }
   },
   "outputs": [],
   "source": [
    "df = df[~df['Row Labels'].str.contains('KwN ', na=False)]\n",
    "df = df[~df['Row Labels'].str.contains('Grand Total', na=False)]\n",
    "df['Row Labels'].unique()"
   ]
  },
  {
   "cell_type": "code",
   "execution_count": null,
   "id": "21c32be7",
   "metadata": {
    "ExecuteTime": {
     "end_time": "2022-01-24T10:21:22.691817Z",
     "start_time": "2022-01-24T10:21:22.677850Z"
    }
   },
   "outputs": [],
   "source": [
    "df"
   ]
  },
  {
   "cell_type": "code",
   "execution_count": null,
   "id": "f48c2fb0",
   "metadata": {
    "ExecuteTime": {
     "end_time": "2022-01-24T12:30:51.611743Z",
     "start_time": "2022-01-24T12:30:51.600774Z"
    }
   },
   "outputs": [],
   "source": [
    "OR_df = df.copy()"
   ]
  },
  {
   "cell_type": "code",
   "execution_count": null,
   "id": "9b24d1db",
   "metadata": {
    "ExecuteTime": {
     "end_time": "2022-01-24T12:30:53.441165Z",
     "start_time": "2022-01-24T12:30:53.424214Z"
    }
   },
   "outputs": [],
   "source": [
    "OR_df = OR_df[~OR_df['Row Labels'].str.contains('XR', na=False)]\n",
    "OR_df = OR_df[~OR_df['Row Labels'].str.contains('210', na=False)]\n",
    "OR_df = OR_df[OR_df['27 Aug 18'].notnull()]\n",
    "\n",
    "OR_df.Time = OR_df.Time.str[:5]\n",
    "OR_df = OR_df[OR_df.Time.str.contains(':', na=False)]"
   ]
  },
  {
   "cell_type": "code",
   "execution_count": null,
   "id": "ea68d1a7",
   "metadata": {
    "ExecuteTime": {
     "end_time": "2022-01-24T12:30:55.642172Z",
     "start_time": "2022-01-24T12:30:55.633229Z"
    }
   },
   "outputs": [],
   "source": [
    "OR_df = OR_df[~OR_df['Row Labels'].str.contains('T', na=False)]"
   ]
  },
  {
   "cell_type": "code",
   "execution_count": null,
   "id": "9f00e95b",
   "metadata": {
    "ExecuteTime": {
     "end_time": "2022-01-24T12:30:58.368671Z",
     "start_time": "2022-01-24T12:30:58.352751Z"
    }
   },
   "outputs": [],
   "source": [
    "OR_df['Row Labels'].value_counts().sort_index()"
   ]
  },
  {
   "cell_type": "code",
   "execution_count": null,
   "id": "56517697",
   "metadata": {
    "ExecuteTime": {
     "end_time": "2022-01-24T12:31:00.067969Z",
     "start_time": "2022-01-24T12:31:00.048057Z"
    }
   },
   "outputs": [],
   "source": [
    "OR_df.Time.value_counts()"
   ]
  },
  {
   "cell_type": "code",
   "execution_count": null,
   "id": "f3ae1f9b",
   "metadata": {
    "ExecuteTime": {
     "end_time": "2022-01-24T12:31:01.588290Z",
     "start_time": "2022-01-24T12:31:01.551846Z"
    }
   },
   "outputs": [],
   "source": [
    "OR_df['Time'] = pd.to_datetime(OR_df['Time'], format='%H:%M')\n",
    "OR_df = OR_df.melt(id_vars=['Row Labels', 'Time'],\n",
    "                  var_name='DateTime', value_name='Volume')\n",
    "OR_df.DateTime = (pd.to_datetime(OR_df['DateTime']) +  \n",
    "              pd.to_timedelta(OR_df.pop('Time').dt.strftime('%H:%M:%S')))\n",
    "\n",
    "OR_df = OR_df.sort_values(['Row Labels', 'DateTime'], \n",
    "                          ascending=[True, True])\n",
    "OR_df.reset_index(drop=True, inplace=True)\n",
    "OR_df"
   ]
  },
  {
   "cell_type": "code",
   "execution_count": null,
   "id": "50c6b49b",
   "metadata": {
    "ExecuteTime": {
     "end_time": "2022-01-24T12:31:03.394833Z",
     "start_time": "2022-01-24T12:31:03.376868Z"
    }
   },
   "outputs": [],
   "source": [
    "new = OR_df[(OR_df.DateTime >= '2018-08-27 8:30:00') &\n",
    "     (OR_df.DateTime <= '2018-08-27 13:30:00')]"
   ]
  },
  {
   "cell_type": "code",
   "execution_count": null,
   "id": "b9870d41",
   "metadata": {
    "ExecuteTime": {
     "end_time": "2022-01-24T12:31:06.481045Z",
     "start_time": "2022-01-24T12:31:06.280232Z"
    }
   },
   "outputs": [],
   "source": [
    "fig, ax = plt.subplots()\n",
    "p = sns.lineplot(data=new, x='DateTime', y='Volume', hue='Row Labels', ax=ax)\n",
    "ax.legend().set_title('')\n",
    "plt.show()"
   ]
  },
  {
   "cell_type": "code",
   "execution_count": null,
   "id": "a9cc3dbb",
   "metadata": {
    "ExecuteTime": {
     "end_time": "2022-01-24T12:31:08.244707Z",
     "start_time": "2022-01-24T12:31:08.231740Z"
    }
   },
   "outputs": [],
   "source": [
    "res = pd.pivot_table(new, values='Volume', index='DateTime',\n",
    "               columns='Row Labels').reset_index()"
   ]
  },
  {
   "cell_type": "code",
   "execution_count": null,
   "id": "7832f5ed",
   "metadata": {
    "ExecuteTime": {
     "end_time": "2022-01-24T11:22:33.859841Z",
     "start_time": "2022-01-24T11:22:33.843883Z"
    }
   },
   "outputs": [],
   "source": [
    "#res.to_csv('data/OR_df.csv', index=False)"
   ]
  },
  {
   "cell_type": "code",
   "execution_count": null,
   "id": "1d138862",
   "metadata": {
    "ExecuteTime": {
     "end_time": "2022-01-24T12:31:10.488201Z",
     "start_time": "2022-01-24T12:31:10.473203Z"
    }
   },
   "outputs": [],
   "source": [
    "g = res.set_index('DateTime')"
   ]
  },
  {
   "cell_type": "code",
   "execution_count": null,
   "id": "bde51fae",
   "metadata": {
    "ExecuteTime": {
     "end_time": "2022-01-24T12:31:19.703681Z",
     "start_time": "2022-01-24T12:31:19.673761Z"
    }
   },
   "outputs": [],
   "source": [
    "g['0084KWN-ORL'] = g['0084KWN-OR1L'] + g['0084KWN-OR2L']\n",
    "g['0089KWN-ORL'] = g['0089KWN-OR1L'] + g['0089KWN-OR2L']\n",
    "g = g[['0081KWN-OR1L', '0084KWN-ORL', '0089KWN-ORL', '0130KWN-OR1',\n",
    "       '0150KWN-OR1', '0160KWN-OR1L', '0200KWN-OR1L', '0702KWN-OR1L']]\n",
    "g.columns = ['H500', 'H549', 'H617', 'H547', 'H553', 'H554', 'H622', 'H558']\n",
    "g"
   ]
  },
  {
   "cell_type": "code",
   "execution_count": null,
   "id": "2d98ada9",
   "metadata": {
    "ExecuteTime": {
     "end_time": "2022-01-24T12:31:22.038105Z",
     "start_time": "2022-01-24T12:31:22.009178Z"
    }
   },
   "outputs": [],
   "source": [
    "g = g*4; g"
   ]
  },
  {
   "cell_type": "code",
   "execution_count": null,
   "id": "b8f9acc0",
   "metadata": {
    "ExecuteTime": {
     "end_time": "2022-01-24T12:31:42.188160Z",
     "start_time": "2022-01-24T12:31:41.920415Z"
    }
   },
   "outputs": [],
   "source": [
    "plt.rcParams.update({'font.size': 16})\n",
    "plt.rcParams.update({'lines.linewidth': 2})\n",
    "fig, ax = plt.subplots(figsize=(10,5))\n",
    "p = sns.lineplot(data=g, ax=ax, linewidth = 2)\n",
    "ax.legend(loc='upper right', \n",
    "               ncol=round(len(g.columns)/2)).set_title('')\n",
    "ax.xaxis.set_major_formatter(mdates.DateFormatter('%H:%M'))\n",
    "ax.xaxis.set_major_locator(mdates.MinuteLocator(byminute=[30])) \n",
    "ax.set_ylabel('Volume (veh/hr)', fontsize=20)\n",
    "ax.set_xlabel('Time (HH:MM)', fontsize=18)\n",
    "ax.grid()\n",
    "#plt.savefig('fig/Ramps_Volume', bbox_inches=\"tight\")\n",
    "plt.show()"
   ]
  },
  {
   "cell_type": "code",
   "execution_count": null,
   "id": "fadae630",
   "metadata": {
    "ExecuteTime": {
     "end_time": "2022-01-24T12:16:22.253705Z",
     "start_time": "2022-01-24T12:16:22.240750Z"
    }
   },
   "outputs": [],
   "source": [
    "g.to_csv('data/OR_df.csv', index=False)"
   ]
  }
 ],
 "metadata": {
  "hide_input": false,
  "kernelspec": {
   "display_name": "Python 3 (ipykernel)",
   "language": "python",
   "name": "python3"
  },
  "language_info": {
   "codemirror_mode": {
    "name": "ipython",
    "version": 3
   },
   "file_extension": ".py",
   "mimetype": "text/x-python",
   "name": "python",
   "nbconvert_exporter": "python",
   "pygments_lexer": "ipython3",
   "version": "3.8.5"
  },
  "latex_envs": {
   "LaTeX_envs_menu_present": true,
   "autoclose": false,
   "autocomplete": true,
   "bibliofile": "biblio.bib",
   "cite_by": "apalike",
   "current_citInitial": 1,
   "eqLabelWithNumbers": true,
   "eqNumInitial": 1,
   "hotkeys": {
    "equation": "Ctrl-E",
    "itemize": "Ctrl-I"
   },
   "labels_anchors": false,
   "latex_user_defs": false,
   "report_style_numbering": false,
   "user_envs_cfg": false
  },
  "toc": {
   "base_numbering": 1,
   "nav_menu": {},
   "number_sections": true,
   "sideBar": true,
   "skip_h1_title": false,
   "title_cell": "Table of Contents",
   "title_sidebar": "Contents",
   "toc_cell": false,
   "toc_position": {},
   "toc_section_display": true,
   "toc_window_display": false
  },
  "varInspector": {
   "cols": {
    "lenName": 16,
    "lenType": 16,
    "lenVar": 40
   },
   "kernels_config": {
    "python": {
     "delete_cmd_postfix": "",
     "delete_cmd_prefix": "del ",
     "library": "var_list.py",
     "varRefreshCmd": "print(var_dic_list())"
    },
    "r": {
     "delete_cmd_postfix": ") ",
     "delete_cmd_prefix": "rm(",
     "library": "var_list.r",
     "varRefreshCmd": "cat(var_dic_list()) "
    }
   },
   "types_to_exclude": [
    "module",
    "function",
    "builtin_function_or_method",
    "instance",
    "_Feature"
   ],
   "window_display": false
  }
 },
 "nbformat": 4,
 "nbformat_minor": 5
}
