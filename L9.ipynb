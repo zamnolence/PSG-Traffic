{
 "cells": [
  {
   "cell_type": "code",
   "execution_count": null,
   "id": "2a189629",
   "metadata": {
    "ExecuteTime": {
     "end_time": "2022-01-30T05:49:18.973260Z",
     "start_time": "2022-01-30T05:47:35.446612Z"
    }
   },
   "outputs": [],
   "source": [
    "# Python ≥3.5 is required\n",
    "import sys\n",
    "assert sys.version_info >= (3, 5)\n",
    "\n",
    "# Common imports\n",
    "import os\n",
    "import timeit\n",
    "import numpy as np\n",
    "import pandas as pd\n",
    "import seaborn as sns\n",
    "from math import sqrt\n",
    "from datetime import date\n",
    "import holidays\n",
    "sns.set()\n",
    "import warnings\n",
    "warnings.filterwarnings(\"ignore\")\n",
    "\n",
    "# To plot pretty figures\n",
    "import matplotlib as mpl\n",
    "import matplotlib.pyplot as plt\n",
    "import matplotlib.dates as mdates\n",
    "mpl.rcParams.update(mpl.rcParamsDefault)\n",
    "mpl.rcParams[\"font.family\"] = \"serif\"\n",
    "mpl.rcParams[\"font.sans-serif\"] = \"Verdana\""
   ]
  },
  {
   "cell_type": "code",
   "execution_count": null,
   "id": "eb58c034",
   "metadata": {
    "ExecuteTime": {
     "end_time": "2022-01-30T08:26:40.831832Z",
     "start_time": "2022-01-30T08:26:33.253050Z"
    }
   },
   "outputs": [],
   "source": [
    "df = pd.read_csv('data/clean/LAD+incident2.csv', index_col=0)\n",
    "df.DateTime = pd.to_datetime(df.DateTime)\n",
    "df.info()"
   ]
  },
  {
   "cell_type": "code",
   "execution_count": null,
   "id": "39661a12",
   "metadata": {
    "ExecuteTime": {
     "end_time": "2022-01-30T05:51:23.929914Z",
     "start_time": "2022-01-30T05:51:23.813787Z"
    }
   },
   "outputs": [],
   "source": [
    "df9 = df[df.ID==9]\n",
    "\n",
    "df9.drop('ID', axis=1, inplace=True)\n",
    "df9.drop('Length', axis=1, inplace=True)\n",
    "df9.drop('Congestion', axis=1, inplace=True)\n",
    "df9.drop('TrafficCondition', axis=1, inplace=True)\n",
    "df9 = df9.set_index('DateTime')\n",
    "df9.index = pd.to_datetime(df9.index)\n",
    "if not df9.index.is_monotonic:\n",
    "    df9 = df9.sort_index()\n",
    "\n",
    "df9.info()"
   ]
  },
  {
   "cell_type": "code",
   "execution_count": null,
   "id": "5b944381",
   "metadata": {
    "ExecuteTime": {
     "end_time": "2022-01-30T06:30:48.756971Z",
     "start_time": "2022-01-30T06:30:48.730039Z"
    }
   },
   "outputs": [],
   "source": [
    "df9['Incident'] = df9['Incident_Type'].notnull()\n",
    "df9.Incident.value_counts()"
   ]
  },
  {
   "cell_type": "code",
   "execution_count": null,
   "id": "cc853133",
   "metadata": {
    "ExecuteTime": {
     "end_time": "2022-01-30T05:55:22.567919Z",
     "start_time": "2022-01-30T05:55:22.556973Z"
    }
   },
   "outputs": [],
   "source": [
    "df9['Density'] = df9['Occupancy']*4000/700"
   ]
  },
  {
   "cell_type": "code",
   "execution_count": null,
   "id": "20759eb9",
   "metadata": {
    "ExecuteTime": {
     "end_time": "2022-01-30T06:01:01.338392Z",
     "start_time": "2022-01-30T06:00:48.341305Z"
    }
   },
   "outputs": [],
   "source": [
    "def fund_plot(df):\n",
    "    plt.rcParams[\"lines.markersize\"] = 12\n",
    "    plt.rcParams[\"font.size\"] = 20\n",
    "    temp = df\n",
    "    fig, ax = plt.subplots(nrows=1, ncols=3, figsize=(20,5))\n",
    "    ax[0].scatter(temp.Volume, temp.Speed, alpha=0.5)\n",
    "    ax[0].set_xlabel('Volume (veh/min)', fontsize=24)\n",
    "    ax[0].set_ylabel('Speed (km/hr)', fontsize=24)  \n",
    "\n",
    "    ax[1].scatter(temp.Density, temp.Volume, alpha=0.5)\n",
    "    ax[1].set_xlabel('Density (veh/km)', fontsize=24)\n",
    "    ax[1].set_ylabel('Volume (veh/min)', fontsize=24)\n",
    "\n",
    "    ax[2].scatter(temp.Density, temp.Speed, alpha=0.15)\n",
    "    ax[2].set_xlabel('Density (veh/km)', fontsize=24)\n",
    "    ax[2].set_ylabel('Speed (km/hr)', fontsize=24)\n",
    "    fig.tight_layout()\n",
    "    # plt.savefig('fig/L9/Fundamental_plot.png', bbox_inches='tight')\n",
    "    plt.show()\n",
    "\n",
    "fund_plot(df9)"
   ]
  },
  {
   "cell_type": "code",
   "execution_count": null,
   "id": "86986b0f",
   "metadata": {
    "ExecuteTime": {
     "end_time": "2022-01-30T08:27:17.009002Z",
     "start_time": "2022-01-30T08:27:16.977073Z"
    }
   },
   "outputs": [],
   "source": [
    "inc9 = pd.read_csv('data/clean/inc9_wide.csv', index_col=0)\n",
    "\n",
    "inc9.WST_Start = pd.to_datetime(inc9.WST_Start)\n",
    "inc9.WST_End = pd.to_datetime(inc9.WST_End)\n",
    "inc9.info()"
   ]
  },
  {
   "cell_type": "code",
   "execution_count": null,
   "id": "e15cc2c6",
   "metadata": {
    "ExecuteTime": {
     "end_time": "2022-01-30T08:09:11.616246Z",
     "start_time": "2022-01-30T08:09:11.602319Z"
    }
   },
   "outputs": [],
   "source": [
    "inc9.Incident_Type.value_counts()"
   ]
  },
  {
   "cell_type": "code",
   "execution_count": null,
   "id": "c59ecd0a",
   "metadata": {
    "ExecuteTime": {
     "end_time": "2022-01-30T08:27:21.052535Z",
     "start_time": "2022-01-30T08:27:21.041532Z"
    }
   },
   "outputs": [],
   "source": [
    "inc9.Incident_Type = inc9.Incident_Type.astype('category')\n",
    "inc9.Incident_Type.value_counts()"
   ]
  },
  {
   "cell_type": "code",
   "execution_count": null,
   "id": "a6216b98",
   "metadata": {
    "ExecuteTime": {
     "end_time": "2022-01-30T08:36:57.740218Z",
     "start_time": "2022-01-30T08:36:57.474050Z"
    }
   },
   "outputs": [],
   "source": [
    "inc9 = inc9.rename({'Incident_Type': 'Incident Type'}, axis=1)\n",
    "\n",
    "cmp = mpl.colors.ListedColormap(['#ddb310', '#00b25d', '#00beff', '#b51d14'])\n",
    "plt.rcParams[\"font.size\"] = 14\n",
    "p = inc9.plot(kind='scatter', x='Long', y='Lat', alpha=0.6,\n",
    "          c='Incident Type', s='Duration', label='Duration', \n",
    "          rot=45, cmap=cmp, colorbar=True)\n",
    "plt.ticklabel_format(useOffset=False)\n",
    "plt.xlabel('Longitude', fontsize=16)\n",
    "plt.ylabel('Latitude', fontsize=16)\n",
    "plt.savefig('fig/L9/L9_Lat_Lon.png', bbox_inches='tight')\n",
    "plt.show()"
   ]
  },
  {
   "cell_type": "code",
   "execution_count": null,
   "id": "d160128e",
   "metadata": {
    "ExecuteTime": {
     "end_time": "2022-01-30T08:33:43.033011Z",
     "start_time": "2022-01-30T08:33:43.025032Z"
    }
   },
   "outputs": [],
   "source": [
    "inc9['Incident Type'].value_counts().index"
   ]
  },
  {
   "cell_type": "code",
   "execution_count": null,
   "id": "aa508f51",
   "metadata": {
    "ExecuteTime": {
     "end_time": "2022-01-30T08:35:33.663421Z",
     "start_time": "2022-01-30T08:35:33.457153Z"
    }
   },
   "outputs": [],
   "source": [
    "def inc_bar(df):\n",
    "    plt.rcParams.update({'font.size': 16})\n",
    "    fig, ax = plt.subplots(figsize=(10,8))\n",
    "    ax = sns.barplot(x=df['Incident Type'].value_counts(),\n",
    "               y=df['Incident Type'].value_counts().index,\n",
    "               order=df['Incident Type'].value_counts().index,\n",
    "                    palette=['#ddb310', '#b51d14', '#00b25d', '#00beff'])\n",
    "    ax.set_ylabel('Incident Type', size=18)\n",
    "    ax.set_xlabel('Frequency', size=18)\n",
    "    ax.set_xlim(right=40)\n",
    "    for p in ax.patches:\n",
    "      width = p.get_width()\n",
    "      ax.text(width+3,\n",
    "              p.get_y() + p.get_height()/2,\n",
    "              str(int(width)) + '\\n(' + str(np.round(width/371*100, 1)) + '%)',\n",
    "              ha=\"center\",\n",
    "              va=\"center\")\n",
    "    plt.savefig('fig/L9/L9_incident_type.png', bbox_inches=\"tight\")\n",
    "    plt.show()\n",
    "\n",
    "inc_bar(inc9)"
   ]
  },
  {
   "cell_type": "code",
   "execution_count": null,
   "id": "29bb3ca2",
   "metadata": {
    "ExecuteTime": {
     "end_time": "2022-01-30T06:07:38.671703Z",
     "start_time": "2022-01-30T06:07:38.661732Z"
    }
   },
   "outputs": [],
   "source": [
    "# list of days that have incident(s)\n",
    "date_ls = inc9['WST_Start'].dt.date.unique()"
   ]
  },
  {
   "cell_type": "code",
   "execution_count": null,
   "id": "9c8b96ad",
   "metadata": {
    "ExecuteTime": {
     "end_time": "2022-01-30T07:48:44.699014Z",
     "start_time": "2022-01-30T07:48:43.771860Z"
    }
   },
   "outputs": [],
   "source": [
    "import datetime\n",
    "def day_plot2(df, idx):\n",
    "    plt.rcParams[\"lines.markersize\"] = 16\n",
    "    plt.rcParams[\"font.size\"] = 16\n",
    "    fig, ax = plt.subplots(nrows=3, ncols=1, figsize=(10,9), sharex=True)\n",
    "    ax[0].set_title(f'{date_ls[idx].strftime(\"%d %B %Y\")}',\n",
    "                 loc='right', fontsize=14)\n",
    "    ax[0].set_ylim(-10,120)\n",
    "    ax[1].set_ylim(-10,120)\n",
    "    ax[2].set_ylim(-20,300)\n",
    "\n",
    "    # Base plot (no incidents)\n",
    "    temp = df[(df.index.date == date_ls[idx])]\n",
    "    ax[0].plot(temp.Volume, color='k', zorder=1)\n",
    "    ax[1].plot(temp.Speed, color='k', zorder=1)\n",
    "    ax[2].plot(temp.Density, color='k', zorder=1)\n",
    "    \n",
    "    # Incident\n",
    "    temp1 = df[(df.index.date == date_ls[idx]) &\n",
    "               (df.index.time >= datetime.time(12,0)) & \n",
    "               (df.Incident == True)]\n",
    "    temp1 = temp1.reindex(pd.date_range(temp1.index.min(),\n",
    "                                    temp1.index.max(),\n",
    "                                    freq='1min'), fill_value=np.nan)\n",
    "    m1 = (temp1.loc[temp1['Incident'].shift(1) != temp1['Incident']]).dropna()\n",
    "\n",
    "    ax[0].plot(temp1.Volume, color='r',  zorder=1)\n",
    "    ax[1].plot(temp1.Speed, color='r',  zorder=1)\n",
    "    ax[2].plot(temp1.Density, color='r',  zorder=1)\n",
    "    \n",
    "    ax[0].scatter(m1.index, m1.Volume, color='red', marker=\"*\", zorder=2)\n",
    "    ax[0].annotate('Road Crash', \n",
    "            xy=(pd.to_datetime('2018-07-18 13:38:00'),20),\n",
    "            xytext=(pd.to_datetime('2018-07-18 13:38:00'),0), ha='center',\n",
    "            arrowprops=dict(color='darkred', arrowstyle=\"-[\", lw=2))\n",
    "    \n",
    "    ax[1].scatter(m1.index, m1.Speed, color='red', marker=\"*\", zorder=2)\n",
    "    ax[1].annotate('Road Crash', \n",
    "            xy=(pd.to_datetime('2018-07-18 13:38:00'),20),\n",
    "            xytext=(pd.to_datetime('2018-07-18 13:38:00'),0), ha='center',\n",
    "            arrowprops=dict(color='darkred', arrowstyle=\"-[\", lw=2))\n",
    "    \n",
    "    ax[2].scatter(m1.index, m1.Density, color='red', marker=\"*\", zorder=2)\n",
    "    ax[2].annotate('Road Crash', \n",
    "            xy=(pd.to_datetime('2018-07-18 13:38:00'),220),\n",
    "            xytext=(pd.to_datetime('2018-07-18 13:38:00'),240), ha='center',\n",
    "            arrowprops=dict(color='darkred', arrowstyle=\"-[\", lw=2))\n",
    "    \n",
    "    ax[0].set_ylabel('Flow Rate (veh/min)', fontsize=18)\n",
    "    ax[1].set_ylabel('Speed (km/hr)', fontsize=18)  \n",
    "    ax[2].set_ylabel('Density (veh/km)', fontsize=18)\n",
    "    ax[2].set_xlabel('Time', fontsize=18)\n",
    "    ax[0].xaxis.set_major_formatter(mdates.DateFormatter('%H:%M'))\n",
    "    \n",
    "    for i in range(0, 3):\n",
    "        ax[i].grid()\n",
    "    fig.tight_layout()\n",
    "    #plt.savefig('fig/L9/18Jul_traffic.png', bbox_inches='tight')\n",
    "    plt.show()\n",
    "\n",
    "day_plot2(df9, 31)"
   ]
  },
  {
   "cell_type": "code",
   "execution_count": null,
   "id": "78fa48b1",
   "metadata": {
    "ExecuteTime": {
     "end_time": "2022-01-30T06:54:03.620558Z",
     "start_time": "2022-01-30T06:54:03.601574Z"
    }
   },
   "outputs": [],
   "source": [
    "# Wednesday 18 Jul 2018\n",
    "inc9[(inc9['WST_Start'].dt.date == date_ls[31]) &\n",
    "     (inc9['WST_Start'].dt.time >= datetime.time(12,0))] "
   ]
  },
  {
   "cell_type": "code",
   "execution_count": null,
   "id": "dceb805c",
   "metadata": {
    "ExecuteTime": {
     "end_time": "2022-01-30T08:04:37.868961Z",
     "start_time": "2022-01-30T08:04:31.620551Z"
    }
   },
   "outputs": [],
   "source": [
    "# Normal Wednesday\n",
    "def normal_day(df):\n",
    "    df = df[['Volume', 'Speed', 'Density',\n",
    "             'Incident']]\n",
    "    df['Weekday'] = df.index.weekday # 0 = Monday ...\n",
    "    ndf = df[(df['Incident'] == False) & \n",
    "              (df['Weekday'] == 2)]  # 2 = Wednesday\n",
    "    ndf = ndf.sort_index(ascending=True)\n",
    "    avgn_df = ndf.groupby([ndf.index.time]).mean()\n",
    "#     time_ls = ['12AM', '03AM', '06AM', '09AM', '12PM',\n",
    "#            '03PM', '06PM', '09PM', '12AM']\n",
    "    time_ls = []\n",
    "    for i in range(0,10,3):\n",
    "        time_ls.append('0{}:00'.format(i))\n",
    "    for i in range(12,24,3):\n",
    "        time_ls.append('{}:00'.format(i))\n",
    "    time_ls.append('23:59')\n",
    "    \n",
    "    plt.rcParams[\"font.size\"] = 16\n",
    "    fig, ax = plt.subplots(nrows=3, ncols=1, figsize=(10,9), sharex=True)\n",
    "    labs = ['Flow Rate (veh/min)', 'Speed (km/hr)',  'Density (veh/min)']\n",
    "    ax[0].set_ylim(-10,120)\n",
    "    ax[1].set_ylim(-10,120)\n",
    "    ax[2].set_ylim(-20,300)\n",
    "    ax[2].set_xlabel('Time')\n",
    "    for r in range(0, 3):\n",
    "        pd.plotting.register_matplotlib_converters()\n",
    "        ax[r].plot(avgn_df.iloc[:,r], color='black', linewidth=3, zorder=2)\n",
    "        for key, grp in ndf.groupby([ndf.index.time]):\n",
    "            ax[r].plot(grp.index.time, grp.iloc[:,r], color='grey', zorder=1)\n",
    "        ax[r].set_ylabel(labs[r], size=18)\n",
    "        ax[r].xaxis.set_ticks(time_ls)\n",
    "        ax[r].grid()\n",
    "    \n",
    "    fig.tight_layout()\n",
    "    #plt.savefig('fig/L9/Wednesday_traffic.png', bbox_inches='tight')\n",
    "    plt.show()\n",
    "    \n",
    "normal_day(df9)"
   ]
  },
  {
   "cell_type": "code",
   "execution_count": null,
   "id": "e75b7794",
   "metadata": {
    "ExecuteTime": {
     "end_time": "2022-01-30T08:51:58.583421Z",
     "start_time": "2022-01-30T08:51:58.560480Z"
    }
   },
   "outputs": [],
   "source": [
    "df9.Incident_Type.value_counts()"
   ]
  },
  {
   "cell_type": "code",
   "execution_count": null,
   "id": "dc58eba9",
   "metadata": {
    "ExecuteTime": {
     "end_time": "2022-01-30T08:58:08.016552Z",
     "start_time": "2022-01-30T08:58:07.247202Z"
    }
   },
   "outputs": [],
   "source": [
    "def box_inc(df):\n",
    "    colors = ['#ddb310', '#b51d14', '#00b25d', '#00beff']\n",
    "    cmp = sns.set_palette(sns.color_palette(colors))\n",
    "    temp = df[df.Incident_Type != 'Debris /\\n Trees /\\n Lost Loads, Break Down /\\n Tow Away']\n",
    "    sns.set_palette(sns.color_palette(\"Paired\"))\n",
    "    plt.rcParams[\"font.size\"] = 16\n",
    "    fig, ax = plt.subplots(nrows=3, ncols=1, figsize=(10,9), sharex=True)\n",
    "    sns.boxplot(x='Incident_Type', y='Volume', data=temp, ax=ax[0], palette=colors)\n",
    "    sns.boxplot(x='Incident_Type', y='Speed', data=temp, ax=ax[1], palette=colors)\n",
    "    sns.boxplot(x='Incident_Type', y='Density', data=temp, ax=ax[2], palette=colors)\n",
    "    labs = ['Flow Rate (veh/min)', 'Speed (km/hr)',  'Density (veh/min)']\n",
    "    for r in range(0, 3):\n",
    "        ax[r].set_ylabel(labs[r], size=16)\n",
    "    ax[0].set_xlabel('')\n",
    "    ax[1].set_xlabel('')\n",
    "    ax[2].set_xlabel('Incident Type')\n",
    "    fig.tight_layout()\n",
    "    #plt.savefig('fig/L9/Incident_boxplot.png', bbox_inches='tight')\n",
    "    plt.show()\n",
    "\n",
    "box_inc(df9)"
   ]
  },
  {
   "cell_type": "code",
   "execution_count": null,
   "id": "959ecaab",
   "metadata": {
    "ExecuteTime": {
     "end_time": "2022-01-30T08:58:24.165561Z",
     "start_time": "2022-01-30T08:58:24.126975Z"
    }
   },
   "outputs": [],
   "source": [
    "df9.info()"
   ]
  },
  {
   "cell_type": "code",
   "execution_count": null,
   "id": "bf321d87",
   "metadata": {
    "ExecuteTime": {
     "end_time": "2022-01-30T06:36:43.823305Z",
     "start_time": "2022-01-30T06:36:43.812333Z"
    }
   },
   "outputs": [],
   "source": [
    "import calendar\n",
    "print(calendar.calendar(2018))"
   ]
  }
 ],
 "metadata": {
  "hide_input": false,
  "kernelspec": {
   "display_name": "Python 3 (ipykernel)",
   "language": "python",
   "name": "python3"
  },
  "language_info": {
   "codemirror_mode": {
    "name": "ipython",
    "version": 3
   },
   "file_extension": ".py",
   "mimetype": "text/x-python",
   "name": "python",
   "nbconvert_exporter": "python",
   "pygments_lexer": "ipython3",
   "version": "3.8.5"
  },
  "latex_envs": {
   "LaTeX_envs_menu_present": true,
   "autoclose": false,
   "autocomplete": true,
   "bibliofile": "biblio.bib",
   "cite_by": "apalike",
   "current_citInitial": 1,
   "eqLabelWithNumbers": true,
   "eqNumInitial": 1,
   "hotkeys": {
    "equation": "Ctrl-E",
    "itemize": "Ctrl-I"
   },
   "labels_anchors": false,
   "latex_user_defs": false,
   "report_style_numbering": false,
   "user_envs_cfg": false
  },
  "toc": {
   "base_numbering": 1,
   "nav_menu": {},
   "number_sections": true,
   "sideBar": true,
   "skip_h1_title": false,
   "title_cell": "Table of Contents",
   "title_sidebar": "Contents",
   "toc_cell": false,
   "toc_position": {},
   "toc_section_display": true,
   "toc_window_display": false
  },
  "varInspector": {
   "cols": {
    "lenName": 16,
    "lenType": 16,
    "lenVar": 40
   },
   "kernels_config": {
    "python": {
     "delete_cmd_postfix": "",
     "delete_cmd_prefix": "del ",
     "library": "var_list.py",
     "varRefreshCmd": "print(var_dic_list())"
    },
    "r": {
     "delete_cmd_postfix": ") ",
     "delete_cmd_prefix": "rm(",
     "library": "var_list.r",
     "varRefreshCmd": "cat(var_dic_list()) "
    }
   },
   "types_to_exclude": [
    "module",
    "function",
    "builtin_function_or_method",
    "instance",
    "_Feature"
   ],
   "window_display": false
  }
 },
 "nbformat": 4,
 "nbformat_minor": 5
}
