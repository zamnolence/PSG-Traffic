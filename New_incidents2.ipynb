{
 "cells": [
  {
   "cell_type": "markdown",
   "id": "f28d8a24",
   "metadata": {},
   "source": [
    "# EDA & Visualisation"
   ]
  },
  {
   "cell_type": "code",
   "execution_count": null,
   "id": "a6768f4f",
   "metadata": {},
   "outputs": [],
   "source": [
    "%reset"
   ]
  },
  {
   "cell_type": "code",
   "execution_count": 2,
   "id": "bd771912",
   "metadata": {
    "ExecuteTime": {
     "end_time": "2022-01-24T12:17:43.944648Z",
     "start_time": "2022-01-24T12:17:42.875871Z"
    }
   },
   "outputs": [],
   "source": [
    "# Python ≥3.5 is required\n",
    "import sys\n",
    "assert sys.version_info >= (3, 5)\n",
    "\n",
    "# Common imports\n",
    "import os\n",
    "import timeit\n",
    "import numpy as np\n",
    "import pandas as pd\n",
    "import seaborn as sns\n",
    "from math import sqrt\n",
    "from datetime import date\n",
    "import holidays\n",
    "sns.set()\n",
    "import warnings\n",
    "warnings.filterwarnings(\"ignore\")\n",
    "\n",
    "# To plot pretty figures\n",
    "import matplotlib as mpl\n",
    "import matplotlib.pyplot as plt\n",
    "import matplotlib.dates as mdates\n",
    "mpl.rcParams.update(mpl.rcParamsDefault)\n",
    "mpl.rcParams[\"font.family\"] = \"serif\"\n",
    "mpl.rcParams[\"font.sans-serif\"] = \"Verdana\"\n",
    "mpl.rcParams[\"lines.markersize\"] = 20"
   ]
  },
  {
   "cell_type": "markdown",
   "id": "5d61e91d",
   "metadata": {},
   "source": [
    "## Incident File\n",
    "\n",
    "Incident data of Kwinana Fwy (Inner) northbound from 2018-01-01 00:00:00 to 2018-10-25 23:59:00"
   ]
  },
  {
   "cell_type": "code",
   "execution_count": 3,
   "id": "355572e3",
   "metadata": {
    "ExecuteTime": {
     "end_time": "2022-01-24T07:45:54.364372Z",
     "start_time": "2022-01-24T07:45:54.343429Z"
    }
   },
   "outputs": [
    {
     "name": "stdout",
     "output_type": "stream",
     "text": [
      "<class 'pandas.core.frame.DataFrame'>\n",
      "RangeIndex: 371 entries, 0 to 370\n",
      "Data columns (total 9 columns):\n",
      " #   Column            Non-Null Count  Dtype         \n",
      "---  ------            --------------  -----         \n",
      " 0   OBJECTID          371 non-null    int64         \n",
      " 1   Lat               371 non-null    float64       \n",
      " 2   Long              371 non-null    float64       \n",
      " 3   WST_Start         371 non-null    datetime64[ns]\n",
      " 4   WST_End           371 non-null    datetime64[ns]\n",
      " 5   Incident_Type     371 non-null    object        \n",
      " 6   TrafficCondition  371 non-null    object        \n",
      " 7   Congestion        371 non-null    object        \n",
      " 8   Duration          371 non-null    float64       \n",
      "dtypes: datetime64[ns](2), float64(3), int64(1), object(3)\n",
      "memory usage: 26.2+ KB\n"
     ]
    }
   ],
   "source": [
    "df1 = pd.read_csv('data/Kwinana_Fwy_Historic_Incidents_2018_Wide.csv')\n",
    "df1 = df1[df1.Incident_Type != 'Duplicate Entry']\n",
    "df1 = df1.reset_index(drop=True)\n",
    "df1.WST_Start = pd.to_datetime(df1.WST_Start)\n",
    "df1.WST_End = pd.to_datetime(df1.WST_End)\n",
    "df1.Incident_Type = df1.Incident_Type.str.replace('/', '/\\n')\n",
    "df1.info()"
   ]
  },
  {
   "cell_type": "code",
   "execution_count": null,
   "id": "44061bb6",
   "metadata": {
    "ExecuteTime": {
     "end_time": "2022-01-23T03:29:11.871446Z",
     "start_time": "2022-01-23T03:29:11.635437Z"
    }
   },
   "outputs": [],
   "source": [
    "fig, ax = plt.subplots(figsize=(6,6))\n",
    "ax = sns.barplot(x=df1.Incident_Type.value_counts(),\n",
    "           y=df1.Incident_Type.value_counts().index)\n",
    "ax.set_xlabel('Frequency')\n",
    "ax.set_xlim(right=200)\n",
    "for p in ax.patches:\n",
    "  width = p.get_width()\n",
    "  ax.text(width + 1,\n",
    "          p.get_y() + p.get_height()/2,\n",
    "          int(width),\n",
    "          ha=\"left\",\n",
    "          va=\"center\")\n",
    "#plt.savefig('fig/incident_type_1.png', bbox_inches=\"tight\")\n",
    "plt.show()"
   ]
  },
  {
   "cell_type": "markdown",
   "id": "1d24427b",
   "metadata": {},
   "source": [
    "Since Special Event, Pothole / Road Surface Damage, and Hazmat (including spills) did not affect traffic congestion, these three categories are combined into one category called 'Special Event / Pothole / Hazmat'\n",
    "\n",
    "Also, Flooding and Storm are combined into one category called 'Flooding / Storm'"
   ]
  },
  {
   "cell_type": "code",
   "execution_count": 4,
   "id": "8ced3bf7",
   "metadata": {
    "ExecuteTime": {
     "end_time": "2022-01-24T07:45:58.403719Z",
     "start_time": "2022-01-24T07:45:58.390759Z"
    }
   },
   "outputs": [],
   "source": [
    "df1.Incident_Type=df1.Incident_Type.replace(['Special Event',\n",
    "                                            'Pothole /\\n Road Surface Damage',\n",
    "                                            'Hazmat (including spills)'],\n",
    "                                           'Special Event /\\nPothole / Hazmat')\n",
    "\n",
    "df1.Incident_Type=df1.Incident_Type.replace(['Flooding', 'Storm'],\n",
    "                                           'Flooding /\\nStorm')"
   ]
  },
  {
   "cell_type": "code",
   "execution_count": null,
   "id": "a0c80e08",
   "metadata": {
    "ExecuteTime": {
     "end_time": "2022-01-23T13:14:22.098326Z",
     "start_time": "2022-01-23T13:14:21.911997Z"
    },
    "scrolled": false
   },
   "outputs": [],
   "source": [
    "cmp = mpl.colors.ListedColormap(['#4053d3', '#00b25d', '#b51d14', '#ddb310'])\n",
    "\n",
    "plt.rcParams.update({'font.size': 16})\n",
    "fig, ax = plt.subplots(figsize=(10,8))\n",
    "ax = sns.barplot(x=df1.Incident_Type.value_counts(),\n",
    "           y=df1.Incident_Type.value_counts().index,\n",
    "                palette=['#4053d3', '#00b25d', '#b51d14', '#ddb310'])\n",
    "ax.set_ylabel('Incident Type', size=18)\n",
    "ax.set_xlabel('Frequency', size=18)\n",
    "ax.set_xlim(right=200)\n",
    "for p in ax.patches:\n",
    "  width = p.get_width()\n",
    "  ax.text(width + 12,\n",
    "          p.get_y() + p.get_height()/2,\n",
    "          str(int(width)) + '\\n(' + str(np.round(width/371*100, 1)) + '%)',\n",
    "          ha=\"center\",\n",
    "          va=\"center\")\n",
    "plt.savefig('fig/incident_type.png', bbox_inches=\"tight\")\n",
    "plt.show()"
   ]
  },
  {
   "cell_type": "code",
   "execution_count": 5,
   "id": "01414773",
   "metadata": {
    "ExecuteTime": {
     "end_time": "2022-01-24T07:46:01.279179Z",
     "start_time": "2022-01-24T07:46:01.262225Z"
    }
   },
   "outputs": [],
   "source": [
    "df1.Incident_Type = df1.Incident_Type.replace([\n",
    "    'Flooding /\\nStorm', 'Special Event /\\nPothole / Hazmat',\n",
    "    'Special Event /\\nPothole / Hazmat', 'Animal /\\n Livestock',\n",
    "    'Vehicle Fire'], 'Miscellaneous')"
   ]
  },
  {
   "cell_type": "code",
   "execution_count": null,
   "id": "2b420c8c",
   "metadata": {
    "ExecuteTime": {
     "end_time": "2022-01-23T13:20:22.070746Z",
     "start_time": "2022-01-23T13:20:21.791339Z"
    }
   },
   "outputs": [],
   "source": [
    "temp2 = df1.groupby(['Incident_Type', 'Congestion']).size().unstack()\n",
    "temp2['sum'] = temp2.sum(axis=1)\n",
    "\n",
    "plt.rcParams[\"figure.figsize\"] = (10,8)\n",
    "plt.rcParams.update({'font.size': 16})\n",
    "\n",
    "cmp = mpl.colors.ListedColormap(['#efe645', '#e1562c', '#537eff'])\n",
    "\n",
    "ax=(temp2.sort_values(by='sum').iloc[:,:-1]\n",
    "    .plot(kind='barh', stacked=True, width=0.7,\n",
    "          cmap=cmp))\n",
    "ax.set_xlim(right=200)\n",
    "ax.set_ylabel('Incident Type', size=18)\n",
    "ax.set_xlabel('Frequency', size=18)\n",
    "ax.legend(title='')\n",
    "for i, v in enumerate(temp2.sort_values('sum')['sum']):\n",
    "    ax.text(v+12, i, \n",
    "            str(int(v)) + '\\n(' + str(np.round(v/temp2['sum'].sum()*100, 1)) + '%)',\n",
    "            va = 'center', ha = 'center', fontsize = 14)\n",
    "    \n",
    "for n in temp2.iloc[:,:-1]: # for each column\n",
    "    for i, (cs, ab) in enumerate(zip(temp2.sort_values(by='sum').cumsum(1)[n], \n",
    "                                     temp2.sort_values(by='sum')[n])):\n",
    "        if ~np.isnan(cs) and ab > 4:\n",
    "            ax.text(cs - ab / 2, i,\n",
    "                 str(int(ab)) + '\\n(' + str(np.round(ab/temp2['sum'].sum()*100, 1)) + '%)', \n",
    "                 va = 'center', ha = 'center', rotation = 20, fontsize = 12)   \n",
    "\n",
    "plt.savefig('fig/incident_congestion_2.png', bbox_inches=\"tight\")\n",
    "plt.show()"
   ]
  },
  {
   "cell_type": "code",
   "execution_count": 6,
   "id": "012226bc",
   "metadata": {
    "ExecuteTime": {
     "end_time": "2022-01-24T07:46:03.817213Z",
     "start_time": "2022-01-24T07:46:03.807217Z"
    }
   },
   "outputs": [],
   "source": [
    "df1.TrafficCondition=df1.TrafficCondition.replace(['Left Emergency Lane Blocked',\n",
    "                                             'Right Emergency Lane Blocked'],\n",
    "                                             'Emergency Lane Blocked')\n",
    "\n",
    "df1.TrafficCondition=df1.TrafficCondition.replace(['Left Lane(s) Blocked',\n",
    "                                             'Right Lane(s) Blocked',\n",
    "                                             'Centre Lane(s) Blocked',\n",
    "                                             'Left Centre Lane(s) Blocked',\n",
    "                                             'Right Centre Lane(s) Blocked',\n",
    "                                             'Bus Lane Blocked'],\n",
    "                                             'Lane(s) Blocked')\n",
    "\n",
    "df1.TrafficCondition=df1.TrafficCondition.replace(['Left Turning Pocket Blocked',\n",
    "                                             'Right Turning Pocket Blocked'],\n",
    "                                             'Turning Pocket Blocked')"
   ]
  },
  {
   "cell_type": "code",
   "execution_count": null,
   "id": "164a5363",
   "metadata": {
    "ExecuteTime": {
     "end_time": "2022-01-23T13:21:30.751883Z",
     "start_time": "2022-01-23T13:21:30.447662Z"
    },
    "scrolled": false
   },
   "outputs": [],
   "source": [
    "temp2 = df1.groupby(['Incident_Type', 'TrafficCondition']).size().unstack()\n",
    "temp2['sum'] = temp2.sum(axis=1)\n",
    "\n",
    "plt.rcParams[\"figure.figsize\"] = (10,8)\n",
    "plt.rcParams.update({'font.size': 16})\n",
    "\n",
    "cmp = mpl.colors.ListedColormap(['#00cb85', '#efe645', '#537eff',\n",
    "                                '#e1562c', '#00e3ff'])\n",
    "\n",
    "ax=(temp2.sort_values(by='sum').iloc[:,:-1]\n",
    "    .plot(kind='barh', stacked=True, width=0.7,\n",
    "          cmap=cmp))\n",
    "ax.set_xlim(right=200)\n",
    "ax.set_ylabel('Incident Type', size=18)\n",
    "ax.set_xlabel('Frequency', size=18)\n",
    "ax.legend(title='Traffic Condition')\n",
    "for i, v in enumerate(temp2.sort_values('sum')['sum']):\n",
    "    ax.text(v+12, i, \n",
    "            str(int(v)) + '\\n(' + str(np.round(v/temp2['sum'].sum()*100, 1)) + '%)',\n",
    "            va = 'center', ha = 'center', fontsize = 14)\n",
    "    \n",
    "for n in temp2.iloc[:,:-1]: # for each column\n",
    "    for i, (cs, ab) in enumerate(zip(temp2.sort_values(by='sum').cumsum(1)[n], \n",
    "                                     temp2.sort_values(by='sum')[n])):\n",
    "        if ~np.isnan(cs) and ab > 6:\n",
    "            ax.text(cs - ab / 2, i,\n",
    "                 str(int(ab)) + '\\n(' + str(np.round(ab/temp2['sum'].sum()*100, 1)) + '%)', \n",
    "                 va = 'center', ha = 'center', rotation = 20, fontsize = 12)   \n",
    "\n",
    "#plt.savefig('fig/incident_condition_2.png', bbox_inches=\"tight\")\n",
    "plt.show()"
   ]
  },
  {
   "cell_type": "code",
   "execution_count": null,
   "id": "7b6f3cee",
   "metadata": {
    "ExecuteTime": {
     "end_time": "2022-01-23T11:24:21.792633Z",
     "start_time": "2022-01-23T11:24:21.485810Z"
    }
   },
   "outputs": [],
   "source": [
    "temp2 = df1.groupby(['TrafficCondition', 'Congestion']).size().unstack()\n",
    "temp2['sum'] = temp2.sum(axis=1)\n",
    "\n",
    "plt.rcParams[\"figure.figsize\"] = (10,8)\n",
    "plt.rcParams.update({'font.size': 16})\n",
    "\n",
    "cmp = mpl.colors.ListedColormap(['#efe645', '#e1562c', '#537eff'])\n",
    "\n",
    "ax=(temp2.sort_values(by='sum').iloc[:,:-1]\n",
    "    .plot(kind='barh', stacked=True, width=0.7,\n",
    "          cmap=cmp))\n",
    "ax.set_xlim(right=200)\n",
    "ax.set_ylabel('Traffic Condition', size=18)\n",
    "ax.set_xlabel('Frequency', size=18)\n",
    "ax.legend(title='')\n",
    "for i, v in enumerate(temp2.sort_values('sum')['sum']):\n",
    "    ax.text(v+12, i, \n",
    "            str(int(v)) + '\\n(' + str(np.round(v/temp2['sum'].sum()*100, 1)) + '%)',\n",
    "            va = 'center', ha = 'center', fontsize = 14)\n",
    "    \n",
    "for n in temp2.iloc[:,:-1]: # for each column\n",
    "    for i, (cs, ab) in enumerate(zip(temp2.sort_values(by='sum').cumsum(1)[n], \n",
    "                                     temp2.sort_values(by='sum')[n])):\n",
    "        if ~np.isnan(cs) and ab > 6:\n",
    "            ax.text(cs - ab / 2, i,\n",
    "                 str(int(ab)) + '\\n(' + str(np.round(ab/temp2['sum'].sum()*100, 1)) + '%)', \n",
    "                 va = 'center', ha = 'center', rotation = 20, fontsize = 12)   \n",
    "\n",
    "#plt.savefig('fig/condition_congestion.png', bbox_inches=\"tight\")\n",
    "plt.show()"
   ]
  },
  {
   "cell_type": "code",
   "execution_count": 7,
   "id": "8664ab39",
   "metadata": {
    "ExecuteTime": {
     "end_time": "2022-01-24T07:46:09.399804Z",
     "start_time": "2022-01-24T07:46:09.366863Z"
    },
    "scrolled": true
   },
   "outputs": [
    {
     "data": {
      "text/html": [
       "<div>\n",
       "<style scoped>\n",
       "    .dataframe tbody tr th:only-of-type {\n",
       "        vertical-align: middle;\n",
       "    }\n",
       "\n",
       "    .dataframe tbody tr th {\n",
       "        vertical-align: top;\n",
       "    }\n",
       "\n",
       "    .dataframe thead th {\n",
       "        text-align: right;\n",
       "    }\n",
       "</style>\n",
       "<table border=\"1\" class=\"dataframe\">\n",
       "  <thead>\n",
       "    <tr style=\"text-align: right;\">\n",
       "      <th></th>\n",
       "      <th>OBJECTID</th>\n",
       "      <th>Lat</th>\n",
       "      <th>Long</th>\n",
       "      <th>WST_Start</th>\n",
       "      <th>WST_End</th>\n",
       "      <th>Incident_Type</th>\n",
       "      <th>TrafficCondition</th>\n",
       "      <th>Congestion</th>\n",
       "      <th>Duration</th>\n",
       "      <th>ID</th>\n",
       "    </tr>\n",
       "  </thead>\n",
       "  <tbody>\n",
       "    <tr>\n",
       "      <th>0</th>\n",
       "      <td>11402</td>\n",
       "      <td>-31.967082</td>\n",
       "      <td>115.846103</td>\n",
       "      <td>2018-01-01 16:21:00</td>\n",
       "      <td>2018-01-01 16:59:00</td>\n",
       "      <td>Break Down /\\n Tow Away</td>\n",
       "      <td>Lane(s) Blocked</td>\n",
       "      <td>Congestion</td>\n",
       "      <td>38.0</td>\n",
       "      <td>13</td>\n",
       "    </tr>\n",
       "    <tr>\n",
       "      <th>1</th>\n",
       "      <td>11443</td>\n",
       "      <td>-32.033494</td>\n",
       "      <td>115.858312</td>\n",
       "      <td>2018-01-03 15:41:00</td>\n",
       "      <td>2018-01-03 15:56:00</td>\n",
       "      <td>Break Down /\\n Tow Away</td>\n",
       "      <td>Emergency Lane Blocked</td>\n",
       "      <td>No Known Congestion</td>\n",
       "      <td>15.0</td>\n",
       "      <td>8</td>\n",
       "    </tr>\n",
       "    <tr>\n",
       "      <th>2</th>\n",
       "      <td>11475</td>\n",
       "      <td>-32.025228</td>\n",
       "      <td>115.859856</td>\n",
       "      <td>2018-01-04 17:10:00</td>\n",
       "      <td>2018-01-04 19:20:00</td>\n",
       "      <td>Break Down /\\n Tow Away</td>\n",
       "      <td>Emergency Lane Blocked</td>\n",
       "      <td>No Known Congestion</td>\n",
       "      <td>130.0</td>\n",
       "      <td>9</td>\n",
       "    </tr>\n",
       "    <tr>\n",
       "      <th>3</th>\n",
       "      <td>11487</td>\n",
       "      <td>-32.043923</td>\n",
       "      <td>115.854653</td>\n",
       "      <td>2018-01-05 05:19:00</td>\n",
       "      <td>2018-01-05 05:58:00</td>\n",
       "      <td>Road Crash</td>\n",
       "      <td>Lane(s) Blocked</td>\n",
       "      <td>Congestion</td>\n",
       "      <td>39.0</td>\n",
       "      <td>6</td>\n",
       "    </tr>\n",
       "    <tr>\n",
       "      <th>4</th>\n",
       "      <td>11554</td>\n",
       "      <td>-32.011120</td>\n",
       "      <td>115.856484</td>\n",
       "      <td>2018-01-09 09:10:00</td>\n",
       "      <td>2018-01-09 09:40:00</td>\n",
       "      <td>Debris /\\n Trees /\\n Lost Loads</td>\n",
       "      <td>Lane(s) Blocked</td>\n",
       "      <td>No Known Congestion</td>\n",
       "      <td>30.0</td>\n",
       "      <td>10</td>\n",
       "    </tr>\n",
       "  </tbody>\n",
       "</table>\n",
       "</div>"
      ],
      "text/plain": [
       "   OBJECTID        Lat        Long           WST_Start             WST_End  \\\n",
       "0     11402 -31.967082  115.846103 2018-01-01 16:21:00 2018-01-01 16:59:00   \n",
       "1     11443 -32.033494  115.858312 2018-01-03 15:41:00 2018-01-03 15:56:00   \n",
       "2     11475 -32.025228  115.859856 2018-01-04 17:10:00 2018-01-04 19:20:00   \n",
       "3     11487 -32.043923  115.854653 2018-01-05 05:19:00 2018-01-05 05:58:00   \n",
       "4     11554 -32.011120  115.856484 2018-01-09 09:10:00 2018-01-09 09:40:00   \n",
       "\n",
       "                     Incident_Type        TrafficCondition  \\\n",
       "0          Break Down /\\n Tow Away         Lane(s) Blocked   \n",
       "1          Break Down /\\n Tow Away  Emergency Lane Blocked   \n",
       "2          Break Down /\\n Tow Away  Emergency Lane Blocked   \n",
       "3                       Road Crash         Lane(s) Blocked   \n",
       "4  Debris /\\n Trees /\\n Lost Loads         Lane(s) Blocked   \n",
       "\n",
       "            Congestion  Duration  ID  \n",
       "0           Congestion      38.0  13  \n",
       "1  No Known Congestion      15.0   8  \n",
       "2  No Known Congestion     130.0   9  \n",
       "3           Congestion      39.0   6  \n",
       "4  No Known Congestion      30.0  10  "
      ]
     },
     "execution_count": 7,
     "metadata": {},
     "output_type": "execute_result"
    }
   ],
   "source": [
    "def func2(a):\n",
    "    if -32.091154 <= a < -32.080696:\n",
    "        return \"1\"\n",
    "    elif -32.080696 <= a < -32.074042:\n",
    "        return \"2\"\n",
    "    elif -32.074042 <= a < -32.071075:\n",
    "        return \"3\"\n",
    "    elif -32.071075 <= a < -32.057092:\n",
    "        return \"4\"\n",
    "    elif -32.057092 <= a < -32.052286:\n",
    "        return \"5\"\n",
    "    elif -32.052286 <= a < -32.043637:\n",
    "        return \"6\"\n",
    "    elif -32.043637 <= a < -32.040758:\n",
    "        return \"7\"\n",
    "    elif -32.040758 <= a < -32.030254:\n",
    "        return \"8\"\n",
    "    elif -32.030254 <= a < -32.012242:\n",
    "        return \"9\"\n",
    "    elif -32.012242 <= a < -32.010690:\n",
    "        return \"10\"\n",
    "    elif -32.010690 <= a < -32.003147:\n",
    "        return \"11\"\n",
    "    elif -32.003147 <= a < -31.969905:\n",
    "        return \"12\"\n",
    "    elif -31.969905 <= a < -31.966753:\n",
    "        return \"13\"\n",
    "    elif a >= -31.966753 :\n",
    "        return \"14\"\n",
    "    else:\n",
    "        return \"Other\"\n",
    "\n",
    "df1['ID'] = df1['Lat'].apply(lambda x: func2(x))\n",
    "df1.ID = df1.ID.astype(int)\n",
    "df1.head()"
   ]
  },
  {
   "cell_type": "code",
   "execution_count": null,
   "id": "bb9747b9",
   "metadata": {
    "ExecuteTime": {
     "end_time": "2022-01-23T12:00:22.728010Z",
     "start_time": "2022-01-23T12:00:22.692142Z"
    }
   },
   "outputs": [],
   "source": [
    "df1.describe()"
   ]
  },
  {
   "cell_type": "code",
   "execution_count": null,
   "id": "eaa9707c",
   "metadata": {
    "ExecuteTime": {
     "end_time": "2022-01-23T13:17:43.488204Z",
     "start_time": "2022-01-23T13:17:42.951945Z"
    }
   },
   "outputs": [],
   "source": [
    "temp2 = df1.groupby(['ID', 'Incident_Type']).size().unstack()\n",
    "temp2['sum'] = temp2.sum(axis=1)\n",
    "\n",
    "plt.rcParams[\"figure.figsize\"] = (10,10)\n",
    "plt.rcParams.update({'font.size': 16})\n",
    "\n",
    "cmp = mpl.colors.ListedColormap(['#4053d3', '#00b25d', '#ddb310', '#b51d14'])\n",
    "\n",
    "ax=(temp2.sort_values(by='sum').iloc[:,:-1]\n",
    "    .plot(kind='barh', stacked=True, width=0.7,\n",
    "          cmap=cmp))\n",
    "ax.set_xlim(right=90)\n",
    "ax.set_ylabel('Link', size=18)\n",
    "ax.set_xlabel('Frequency', size=18)\n",
    "ax.legend(title='Incident Type')\n",
    "for i, v in enumerate(temp2.sort_values('sum')['sum']):\n",
    "    ax.text(v+5, i, \n",
    "            str(int(v)) + '\\n(' + str(np.round(v/temp2['sum'].sum()*100, 1)) + '%)',\n",
    "            va = 'center', ha = 'center', fontsize = 12)\n",
    "    \n",
    "for n in temp2.iloc[:,:-1]: # for each column\n",
    "    for i, (cs, ab) in enumerate(zip(temp2.sort_values(by='sum').cumsum(1)[n], \n",
    "                                     temp2.sort_values(by='sum')[n])):\n",
    "        if ~np.isnan(cs) and ab >= 5:\n",
    "            ax.text(cs - ab / 2, i-.01,\n",
    "                 str(int(ab)) + '\\n(' + str(np.round(ab/temp2['sum'].sum()*100, 1)) + '%)', \n",
    "                 va = 'center', ha = 'center', rotation=15, fontsize = 11)   \n",
    "\n",
    "#plt.savefig('fig/incident_link_2.png', bbox_inches=\"tight\")\n",
    "plt.show()"
   ]
  },
  {
   "cell_type": "code",
   "execution_count": null,
   "id": "881ac27b",
   "metadata": {
    "ExecuteTime": {
     "end_time": "2022-01-23T05:07:41.656497Z",
     "start_time": "2022-01-23T05:07:41.639364Z"
    }
   },
   "outputs": [],
   "source": [
    "del temp2"
   ]
  },
  {
   "cell_type": "code",
   "execution_count": null,
   "id": "61e1abbe",
   "metadata": {
    "ExecuteTime": {
     "end_time": "2022-01-23T05:08:03.356552Z",
     "start_time": "2022-01-23T05:08:03.158885Z"
    },
    "scrolled": false
   },
   "outputs": [],
   "source": [
    "import matplotlib.cm as cm\n",
    "import matplotlib.colors as mcolors\n",
    "\n",
    "def colorbar_index(ncolors, cmap):\n",
    "    cmap = cmap_discretize(cmap, ncolors)\n",
    "    mappable = cm.ScalarMappable(cmap=cmap)\n",
    "    mappable.set_array([])\n",
    "    mappable.set_clim(-0.5, ncolors+0.5)\n",
    "    colorbar = plt.colorbar(mappable)\n",
    "    colorbar.set_ticks(np.linspace(0, ncolors, ncolors))\n",
    "    colorbar.set_ticklabels(range(1, ncolors+1))\n",
    "    colorbar.set_label('Link')\n",
    "    \n",
    "def cmap_discretize(cmap, N):\n",
    "    \"\"\"Return a discrete colormap from the continuous colormap cmap.\n",
    "\n",
    "        cmap: colormap instance, eg. cm.jet. \n",
    "        N: number of colors.\n",
    "\n",
    "    Example\n",
    "        x = resize(arange(100), (5,100))\n",
    "        djet = cmap_discretize(cm.jet, 5)\n",
    "        imshow(x, cmap=djet)\n",
    "    \"\"\"\n",
    "\n",
    "    if type(cmap) == str:\n",
    "        cmap = plt.get_cmap(cmap)\n",
    "    colors_i = np.concatenate((np.linspace(0, 1., N), (0.,0.,0.,0.)))\n",
    "    colors_rgba = cmap(colors_i)\n",
    "    indices = np.linspace(0, 1., N+1)\n",
    "    cdict = {}\n",
    "    for ki,key in enumerate(('red','green','blue')):\n",
    "        cdict[key] = [ (indices[i], colors_rgba[i-1,ki], colors_rgba[i,ki])\n",
    "                       for i in range(N+1) ]\n",
    "    # Return colormap object.\n",
    "    return mcolors.LinearSegmentedColormap(cmap.name + \"_%d\"%N, cdict, 1024)\n",
    "\n",
    "\n",
    "cmp = mpl.colors.ListedColormap(['#ebac23', '#b80058', '#008cf9',\n",
    "                                 '#006e00', '#00bbad', '#d163e6',\n",
    "                                 '#b24502', '#ff9287', '#5954d6',\n",
    "                                 '#00c6f8', '#878500', '#00a76c',\n",
    "                                 '#bdbdbd', '#000078', '#b51d14'])\n",
    "df1.plot(kind='scatter', x='Long', y='Lat', alpha=0.5,\n",
    "        s='Duration', c='ID', label='Duration',\n",
    "        cmap=cmp, colorbar=False, rot=45)\n",
    "plt.ticklabel_format(useOffset=False)\n",
    "plt.xlabel('Longitude')\n",
    "plt.ylabel('Latitude')\n",
    "plt.legend(markerscale=0.2)\n",
    "colorbar_index(ncolors=14, cmap=cmp)\n",
    "#plt.savefig('fig/incident_loc_link_2.png', bbox_inches=\"tight\")\n",
    "plt.show()"
   ]
  },
  {
   "cell_type": "markdown",
   "id": "1a6348ca",
   "metadata": {},
   "source": [
    "## Traffic + Incident data"
   ]
  },
  {
   "cell_type": "code",
   "execution_count": 3,
   "id": "7715ae4e",
   "metadata": {
    "ExecuteTime": {
     "end_time": "2022-01-24T12:17:56.987275Z",
     "start_time": "2022-01-24T12:17:47.618059Z"
    }
   },
   "outputs": [
    {
     "name": "stdout",
     "output_type": "stream",
     "text": [
      "<class 'pandas.core.frame.DataFrame'>\n",
      "Int64Index: 6007680 entries, 0 to 6007679\n",
      "Data columns (total 9 columns):\n",
      " #   Column            Dtype         \n",
      "---  ------            -----         \n",
      " 0   ID                int64         \n",
      " 1   DateTime          datetime64[ns]\n",
      " 2   Length            float64       \n",
      " 3   Volume            float64       \n",
      " 4   Speed             float64       \n",
      " 5   Occupancy         float64       \n",
      " 6   Incident_Type     object        \n",
      " 7   TrafficCondition  object        \n",
      " 8   Congestion        object        \n",
      "dtypes: datetime64[ns](1), float64(4), int64(1), object(3)\n",
      "memory usage: 458.3+ MB\n"
     ]
    }
   ],
   "source": [
    "df = pd.read_csv('data/LAD+incident2.csv', index_col=0)\n",
    "df.DateTime = pd.to_datetime(df.DateTime)\n",
    "df.info()"
   ]
  },
  {
   "cell_type": "code",
   "execution_count": null,
   "id": "321fc6fb",
   "metadata": {
    "ExecuteTime": {
     "end_time": "2022-01-23T10:18:43.284625Z",
     "start_time": "2022-01-23T10:18:43.265638Z"
    },
    "scrolled": false
   },
   "outputs": [],
   "source": [
    "df.head()"
   ]
  },
  {
   "cell_type": "code",
   "execution_count": null,
   "id": "e354edd0",
   "metadata": {
    "ExecuteTime": {
     "end_time": "2022-01-24T04:02:39.953388Z",
     "start_time": "2022-01-24T04:02:39.518651Z"
    }
   },
   "outputs": [],
   "source": [
    "df.iloc[:,3:6] \\\n",
    "    .describe() \\\n",
    "    .apply(lambda s: s.apply('{0:.4f}'.format))"
   ]
  },
  {
   "cell_type": "code",
   "execution_count": null,
   "id": "a0390772",
   "metadata": {
    "ExecuteTime": {
     "end_time": "2022-01-24T04:02:40.327175Z",
     "start_time": "2022-01-24T04:02:39.985441Z"
    }
   },
   "outputs": [],
   "source": [
    "df.iloc[:,2:6].corr()"
   ]
  },
  {
   "cell_type": "markdown",
   "id": "f3b25849",
   "metadata": {
    "ExecuteTime": {
     "end_time": "2022-01-23T06:32:52.235209Z",
     "start_time": "2022-01-23T06:32:52.218255Z"
    }
   },
   "source": [
    "- Moderate positive correlation between volume and occupancy\n",
    "- High negative correlation between speed and occupancy"
   ]
  },
  {
   "cell_type": "code",
   "execution_count": null,
   "id": "a482899b",
   "metadata": {
    "ExecuteTime": {
     "end_time": "2022-01-23T10:10:16.059481Z",
     "start_time": "2022-01-23T10:07:50.848759Z"
    }
   },
   "outputs": [],
   "source": [
    "# pd.plotting.scatter_matrix(df.iloc[:,3:6], alpha=0.05)\n",
    "# plt.show()"
   ]
  },
  {
   "cell_type": "code",
   "execution_count": null,
   "id": "d81de2ee",
   "metadata": {
    "ExecuteTime": {
     "end_time": "2022-01-23T10:24:15.640816Z",
     "start_time": "2022-01-23T10:20:11.664405Z"
    }
   },
   "outputs": [],
   "source": [
    "# variables = ['Volume', 'Speed', 'Occupancy']\n",
    "# g = sns.PairGrid(df, hue=\"Volume\", vars=variables)\n",
    "# g.map_diag(sns.histplot, hue=None, color=\".3\")\n",
    "# g.map_offdiag(sns.scatterplot)\n",
    "# g.add_legend()"
   ]
  },
  {
   "cell_type": "code",
   "execution_count": null,
   "id": "434b4a17",
   "metadata": {
    "ExecuteTime": {
     "end_time": "2022-01-23T13:24:44.634755Z",
     "start_time": "2022-01-23T13:24:43.519450Z"
    }
   },
   "outputs": [],
   "source": [
    "# df.iloc[:,3:6].plot.box(figsize=(6,6))\n",
    "# plt.show()"
   ]
  },
  {
   "cell_type": "code",
   "execution_count": null,
   "id": "a5ce5445",
   "metadata": {
    "ExecuteTime": {
     "end_time": "2022-01-23T13:24:11.618280Z",
     "start_time": "2022-01-23T13:24:11.553825Z"
    }
   },
   "outputs": [],
   "source": [
    "# plt.rcParams.update({'font.size': 14,\n",
    "#                     'lines.markersize': 5})\n",
    "# fig, ax = plt.subplots(1, 3, figsize=(6,8))\n",
    "# ax.boxplot(df.Volume)\n",
    "# ax.boxplot(df.Speed)\n",
    "# ax.boxplot(df.Occupancy)\n",
    "\n",
    "# plt.show()"
   ]
  },
  {
   "cell_type": "markdown",
   "id": "4785ae06",
   "metadata": {},
   "source": [
    "### Prepare the data for deep learning algorithms"
   ]
  },
  {
   "cell_type": "code",
   "execution_count": 4,
   "id": "c9f427f7",
   "metadata": {
    "ExecuteTime": {
     "end_time": "2022-01-24T12:18:06.233142Z",
     "start_time": "2022-01-24T12:18:06.066843Z"
    }
   },
   "outputs": [],
   "source": [
    "# Drop Congestion column\n",
    "df.drop('Congestion', axis=1, inplace=True)"
   ]
  },
  {
   "cell_type": "code",
   "execution_count": null,
   "id": "6b87f515",
   "metadata": {
    "ExecuteTime": {
     "end_time": "2022-01-24T04:06:45.574450Z",
     "start_time": "2022-01-24T04:06:45.169563Z"
    }
   },
   "outputs": [],
   "source": [
    "# NaN TrafficCondition == 'All Lanes Open'\n",
    "\n",
    "df.TrafficCondition = df.TrafficCondition.replace({\n",
    "    np.nan: 'All Lanes Open',\n",
    "    'All Lanes Open, Emergency Lane Blocked': 'Emergency Lane Blocked',\n",
    "    'Lane Closures Unknown, Lane(s) Blocked': 'Lane(s) Blocked',\n",
    "    'Lane(s) Blocked, All Lanes Open': 'Lane(s) Blocked',\n",
    "    'All Lanes Open, Lane(s) Blocked': 'Lane(s) Blocked',\n",
    "    'Emergency Lane Blocked, Emergency Lane Blocked': 'Emergency Lane Blocked',\n",
    "    'Lane Closures Unknown, All Lanes Open': 'All Lanes Open',\n",
    "    'Lane(s) Blocked, Lane(s) Blocked': 'Lane(s) Blocked'\n",
    "})\n",
    "\n",
    "df.TrafficCondition.value_counts()"
   ]
  },
  {
   "cell_type": "code",
   "execution_count": null,
   "id": "1ee479e1",
   "metadata": {
    "ExecuteTime": {
     "end_time": "2022-01-23T10:24:32.062589Z",
     "start_time": "2022-01-23T10:24:31.967172Z"
    }
   },
   "outputs": [],
   "source": [
    "df.Incident_Type.value_counts()"
   ]
  },
  {
   "cell_type": "code",
   "execution_count": null,
   "id": "fbb9b064",
   "metadata": {
    "ExecuteTime": {
     "end_time": "2022-01-24T04:07:03.649871Z",
     "start_time": "2022-01-24T04:07:03.202105Z"
    }
   },
   "outputs": [],
   "source": [
    "df.Incident_Type = df.Incident_Type.replace([\n",
    "    'Flooding /\\nStorm', 'Special Event /\\nPothole / Hazmat',\n",
    "    'Special Event /\\nPothole / Hazmat', 'Animal /\\n Livestock',\n",
    "    'Vehicle Fire'], 'Miscellaneous')\n",
    "\n",
    "df.Incident_Type = df.Incident_Type.replace({\n",
    "    'Flooding /\\nStorm, Road Crash': 'Road Crash, Miscellaneous',\n",
    "    'Miscellaneous, Break Down /\\n Tow Away': 'Break Down /\\n Tow Away, Miscellaneous',\n",
    "    'Flooding /\\nStorm, Break Down /\\n Tow Away': 'Break Down /\\n Tow Away, Miscellaneous',\n",
    "})\n",
    "df.Incident_Type.value_counts()"
   ]
  },
  {
   "cell_type": "code",
   "execution_count": null,
   "id": "7c65a326",
   "metadata": {
    "ExecuteTime": {
     "end_time": "2022-01-24T04:07:16.745527Z",
     "start_time": "2022-01-24T04:07:16.097854Z"
    }
   },
   "outputs": [],
   "source": [
    "df['Num_Incidents'] = df.Incident_Type.str.count(', ')\n",
    "df['Num_Incidents'] = df['Num_Incidents'] + 1\n",
    "df['Num_Incidents'] = df['Num_Incidents'].replace(np.nan, 0)\n",
    "df['Num_Incidents'].value_counts()"
   ]
  },
  {
   "cell_type": "code",
   "execution_count": null,
   "id": "d5f77372",
   "metadata": {
    "ExecuteTime": {
     "end_time": "2022-01-24T04:07:39.291962Z",
     "start_time": "2022-01-24T04:07:32.041014Z"
    },
    "scrolled": true
   },
   "outputs": [],
   "source": [
    "df[['Incident_Type1','Incident_Type2']]=df['Incident_Type'].str.split(', ', 1, expand=True)"
   ]
  },
  {
   "cell_type": "code",
   "execution_count": null,
   "id": "07c5c272",
   "metadata": {
    "ExecuteTime": {
     "end_time": "2022-01-24T04:07:47.961090Z",
     "start_time": "2022-01-24T04:07:47.482145Z"
    }
   },
   "outputs": [],
   "source": [
    "df.Incident_Type1 = df.Incident_Type1.replace(np.nan, 'None')\n",
    "df.Incident_Type2 = df.Incident_Type2.replace(np.nan, 'None')\n",
    "\n",
    "df.Incident_Type1.value_counts()"
   ]
  },
  {
   "cell_type": "code",
   "execution_count": null,
   "id": "93c525c4",
   "metadata": {
    "ExecuteTime": {
     "end_time": "2022-01-24T04:07:50.029390Z",
     "start_time": "2022-01-24T04:07:49.842155Z"
    }
   },
   "outputs": [],
   "source": [
    "df.Incident_Type2.value_counts()"
   ]
  },
  {
   "cell_type": "code",
   "execution_count": null,
   "id": "5b379c05",
   "metadata": {
    "ExecuteTime": {
     "end_time": "2022-01-24T04:08:01.366328Z",
     "start_time": "2022-01-24T04:08:00.963253Z"
    }
   },
   "outputs": [],
   "source": [
    "# Drop Incident_Type column\n",
    "df.drop('Incident_Type', axis=1, inplace=True)"
   ]
  },
  {
   "cell_type": "code",
   "execution_count": null,
   "id": "a14795bb",
   "metadata": {
    "ExecuteTime": {
     "end_time": "2022-01-24T04:11:07.325094Z",
     "start_time": "2022-01-24T04:11:06.133553Z"
    },
    "scrolled": true
   },
   "outputs": [],
   "source": [
    "df.Incident_Type1 = df.Incident_Type1.replace({\n",
    "    'None':'None1',\n",
    "    'Break Down /\\n Tow Away':'BDTA1',\n",
    "    'Debris /\\n Trees /\\n Lost Loads':'DTLL1',\n",
    "    'Road Crash':'RC1',\n",
    "    'Miscellaneous':'Misc1'\n",
    "})\n",
    "df.Incident_Type2 = df.Incident_Type2.replace({\n",
    "    'None':'None2',\n",
    "    'Break Down /\\n Tow Away':'BDTA2',\n",
    "    'Debris /\\n Trees /\\n Lost Loads':'DTLL2',\n",
    "    'Road Crash':'RC2',\n",
    "    'Miscellaneous':'Misc2'\n",
    "})"
   ]
  },
  {
   "cell_type": "code",
   "execution_count": null,
   "id": "3b62ebf3",
   "metadata": {
    "ExecuteTime": {
     "end_time": "2022-01-24T04:11:12.781990Z",
     "start_time": "2022-01-24T04:11:12.602357Z"
    }
   },
   "outputs": [],
   "source": [
    "df.Incident_Type1.value_counts()"
   ]
  },
  {
   "cell_type": "code",
   "execution_count": null,
   "id": "c98eb4e1",
   "metadata": {
    "ExecuteTime": {
     "end_time": "2022-01-24T04:11:18.939548Z",
     "start_time": "2022-01-24T04:11:18.754377Z"
    }
   },
   "outputs": [],
   "source": [
    "df.Incident_Type2.value_counts()"
   ]
  },
  {
   "cell_type": "code",
   "execution_count": null,
   "id": "30ae3fb7",
   "metadata": {
    "ExecuteTime": {
     "end_time": "2022-01-24T04:12:08.333600Z",
     "start_time": "2022-01-24T04:12:08.321627Z"
    }
   },
   "outputs": [],
   "source": [
    "df.info()"
   ]
  },
  {
   "cell_type": "markdown",
   "id": "de8b1ae3",
   "metadata": {},
   "source": [
    "#### Link 11"
   ]
  },
  {
   "cell_type": "markdown",
   "id": "c62c8d8c",
   "metadata": {},
   "source": [
    "Consider\n",
    "\n",
    "- Link-11's full data and Link-12's incidents (downstream)\n",
    "- Incident_Type1, Incident_Type2\n",
    "    + No Incidents\n",
    "    + Break Down / Tow Away\n",
    "    + Debris / Trees / Lost Loads\n",
    "    + Road Crash\n",
    "    + miscellaneous: everything else"
   ]
  },
  {
   "cell_type": "code",
   "execution_count": null,
   "id": "3941cc42",
   "metadata": {
    "ExecuteTime": {
     "end_time": "2022-01-24T04:20:26.788990Z",
     "start_time": "2022-01-24T04:20:26.713704Z"
    }
   },
   "outputs": [],
   "source": [
    "df11 = df[df.ID==11]\n",
    "df12 = df[df.ID==12]"
   ]
  },
  {
   "cell_type": "code",
   "execution_count": null,
   "id": "909f1f65",
   "metadata": {
    "ExecuteTime": {
     "end_time": "2022-01-24T04:20:28.144795Z",
     "start_time": "2022-01-24T04:20:28.056911Z"
    }
   },
   "outputs": [],
   "source": [
    "df11.drop('ID', axis=1, inplace=True)\n",
    "df11 = df11.set_index('DateTime')\n",
    "df11.index = pd.to_datetime(df11.index)\n",
    "if not df11.index.is_monotonic:\n",
    "    df11 = df11.sort_index()\n",
    "\n",
    "df11.info()"
   ]
  },
  {
   "cell_type": "code",
   "execution_count": null,
   "id": "0dd79966",
   "metadata": {
    "ExecuteTime": {
     "end_time": "2022-01-24T04:20:31.904626Z",
     "start_time": "2022-01-24T04:20:30.568449Z"
    },
    "scrolled": false
   },
   "outputs": [],
   "source": [
    "from sklearn.preprocessing import LabelBinarizer\n",
    "\n",
    "cond_enc = LabelBinarizer()\n",
    "inc1_enc = LabelBinarizer()\n",
    "\n",
    "df11 = df11.join(pd.DataFrame(cond_enc.fit_transform(df11['TrafficCondition']),\n",
    "                             columns=cond_enc.classes_,\n",
    "                             index=df11.index))\n",
    "\n",
    "df11 = df11.join(pd.DataFrame(inc1_enc.fit_transform(df11['Incident_Type1']),\n",
    "                             columns=inc1_enc.classes_,\n",
    "                             index=df11.index))"
   ]
  },
  {
   "cell_type": "code",
   "execution_count": null,
   "id": "9b304fa1",
   "metadata": {
    "ExecuteTime": {
     "end_time": "2022-01-24T04:27:18.527942Z",
     "start_time": "2022-01-24T04:27:18.484154Z"
    }
   },
   "outputs": [],
   "source": [
    "df11['RC2'] = df11.Incident_Type2 == 'RC2'\n",
    "df11['RC2'] = df11['RC2'].astype(int)\n",
    "df11.RC2.value_counts()"
   ]
  },
  {
   "cell_type": "code",
   "execution_count": null,
   "id": "84376e75",
   "metadata": {
    "ExecuteTime": {
     "end_time": "2022-01-24T04:16:41.579312Z",
     "start_time": "2022-01-24T04:16:41.538877Z"
    }
   },
   "outputs": [],
   "source": [
    "df11.Incident_Type1.value_counts()"
   ]
  },
  {
   "cell_type": "code",
   "execution_count": null,
   "id": "c48ca611",
   "metadata": {
    "ExecuteTime": {
     "end_time": "2022-01-24T04:27:46.935540Z",
     "start_time": "2022-01-24T04:27:46.865630Z"
    }
   },
   "outputs": [],
   "source": [
    "df11.info()"
   ]
  },
  {
   "cell_type": "code",
   "execution_count": null,
   "id": "1d3d690f",
   "metadata": {
    "ExecuteTime": {
     "end_time": "2022-01-24T05:37:13.566359Z",
     "start_time": "2022-01-24T05:37:13.495573Z"
    }
   },
   "outputs": [],
   "source": [
    "df12.info()"
   ]
  },
  {
   "cell_type": "code",
   "execution_count": null,
   "id": "7f7d611e",
   "metadata": {
    "ExecuteTime": {
     "end_time": "2022-01-24T05:20:57.493000Z",
     "start_time": "2022-01-24T05:20:57.454929Z"
    }
   },
   "outputs": [],
   "source": [
    "df12.Incident_Type1.value_counts()"
   ]
  },
  {
   "cell_type": "code",
   "execution_count": null,
   "id": "c66bc795",
   "metadata": {
    "ExecuteTime": {
     "end_time": "2022-01-24T05:34:47.692496Z",
     "start_time": "2022-01-24T05:34:47.646537Z"
    }
   },
   "outputs": [],
   "source": [
    "df12['Downstream_Incident'] = (df12.Incident_Type1 != 'None1').astype(int)\n",
    "df12.Downstream_Incident.value_counts()"
   ]
  },
  {
   "cell_type": "code",
   "execution_count": null,
   "id": "0d43fcf3",
   "metadata": {
    "ExecuteTime": {
     "end_time": "2022-01-24T05:42:00.301896Z",
     "start_time": "2022-01-24T05:42:00.270981Z"
    }
   },
   "outputs": [],
   "source": [
    "import datetime\n",
    "df12.DateTime = df12.DateTime - datetime.timedelta(minutes=2)\n",
    "df12.head()"
   ]
  },
  {
   "cell_type": "code",
   "execution_count": null,
   "id": "4338e574",
   "metadata": {
    "ExecuteTime": {
     "end_time": "2022-01-24T06:10:16.738056Z",
     "start_time": "2022-01-24T06:10:16.711123Z"
    }
   },
   "outputs": [],
   "source": [
    "df12 = df12[['DateTime', 'Downstream_Incident']]\n",
    "df12.info()"
   ]
  },
  {
   "cell_type": "code",
   "execution_count": null,
   "id": "174a5aef",
   "metadata": {
    "ExecuteTime": {
     "end_time": "2022-01-24T06:15:41.999357Z",
     "start_time": "2022-01-24T06:15:41.829950Z"
    }
   },
   "outputs": [],
   "source": [
    "df11ds = pd.merge(df11, df12, how='left', on=['DateTime'])\n",
    "df11ds.Downstream_Incident.value_counts()"
   ]
  },
  {
   "cell_type": "code",
   "execution_count": null,
   "id": "fbdb208b",
   "metadata": {
    "ExecuteTime": {
     "end_time": "2022-01-24T06:15:54.466991Z",
     "start_time": "2022-01-24T06:15:52.251629Z"
    }
   },
   "outputs": [],
   "source": [
    "df11ds.to_csv('data/df11ds.csv')"
   ]
  },
  {
   "cell_type": "markdown",
   "id": "64d77f25",
   "metadata": {},
   "source": [
    "##### Explore Link 11"
   ]
  },
  {
   "cell_type": "code",
   "execution_count": 9,
   "id": "e5caaa78",
   "metadata": {
    "ExecuteTime": {
     "end_time": "2022-01-24T07:47:34.874423Z",
     "start_time": "2022-01-24T07:47:34.855475Z"
    }
   },
   "outputs": [],
   "source": [
    "inc11 = df1[df1.ID == 11]"
   ]
  },
  {
   "cell_type": "code",
   "execution_count": 17,
   "id": "313d3356",
   "metadata": {
    "ExecuteTime": {
     "end_time": "2022-01-24T07:52:03.918799Z",
     "start_time": "2022-01-24T07:52:03.902847Z"
    }
   },
   "outputs": [
    {
     "name": "stdout",
     "output_type": "stream",
     "text": [
      "<class 'pandas.core.frame.DataFrame'>\n",
      "Int64Index: 56 entries, 10 to 363\n",
      "Data columns (total 10 columns):\n",
      " #   Column            Non-Null Count  Dtype         \n",
      "---  ------            --------------  -----         \n",
      " 0   OBJECTID          56 non-null     int64         \n",
      " 1   Lat               56 non-null     float64       \n",
      " 2   Long              56 non-null     float64       \n",
      " 3   WST_Start         56 non-null     datetime64[ns]\n",
      " 4   WST_End           56 non-null     datetime64[ns]\n",
      " 5   Incident_Type     56 non-null     object        \n",
      " 6   TrafficCondition  56 non-null     object        \n",
      " 7   Congestion        56 non-null     object        \n",
      " 8   Duration          56 non-null     float64       \n",
      " 9   ID                56 non-null     int32         \n",
      "dtypes: datetime64[ns](2), float64(3), int32(1), int64(1), object(3)\n",
      "memory usage: 4.6+ KB\n"
     ]
    }
   ],
   "source": [
    "inc11.info()"
   ]
  },
  {
   "cell_type": "code",
   "execution_count": 40,
   "id": "022a1de9",
   "metadata": {
    "ExecuteTime": {
     "end_time": "2022-01-24T07:57:42.687554Z",
     "start_time": "2022-01-24T07:57:42.678574Z"
    }
   },
   "outputs": [
    {
     "data": {
      "text/plain": [
       "(47,)"
      ]
     },
     "execution_count": 40,
     "metadata": {},
     "output_type": "execute_result"
    }
   ],
   "source": [
    "inc11['WST_Start'].dt.date.unique().shape"
   ]
  },
  {
   "cell_type": "markdown",
   "id": "3e5f9b4a",
   "metadata": {},
   "source": [
    "- There are 56 incidents occurred on link 11\n",
    "- 47 days that incidents(s) occurred between 1 Jan 2018 - 25 Oct 2018"
   ]
  },
  {
   "cell_type": "code",
   "execution_count": 81,
   "id": "2f0d3a65",
   "metadata": {
    "ExecuteTime": {
     "end_time": "2022-01-24T10:38:56.068342Z",
     "start_time": "2022-01-24T10:38:56.047506Z"
    }
   },
   "outputs": [
    {
     "data": {
      "text/html": [
       "<div>\n",
       "<style scoped>\n",
       "    .dataframe tbody tr th:only-of-type {\n",
       "        vertical-align: middle;\n",
       "    }\n",
       "\n",
       "    .dataframe tbody tr th {\n",
       "        vertical-align: top;\n",
       "    }\n",
       "\n",
       "    .dataframe thead th {\n",
       "        text-align: right;\n",
       "    }\n",
       "</style>\n",
       "<table border=\"1\" class=\"dataframe\">\n",
       "  <thead>\n",
       "    <tr style=\"text-align: right;\">\n",
       "      <th></th>\n",
       "      <th>OBJECTID</th>\n",
       "      <th>Lat</th>\n",
       "      <th>Long</th>\n",
       "      <th>WST_Start</th>\n",
       "      <th>WST_End</th>\n",
       "      <th>Incident_Type</th>\n",
       "      <th>TrafficCondition</th>\n",
       "      <th>Congestion</th>\n",
       "      <th>Duration</th>\n",
       "      <th>ID</th>\n",
       "    </tr>\n",
       "  </thead>\n",
       "  <tbody>\n",
       "    <tr>\n",
       "      <th>291</th>\n",
       "      <td>17130</td>\n",
       "      <td>-31.985795</td>\n",
       "      <td>115.851867</td>\n",
       "      <td>2018-08-24 10:20:00</td>\n",
       "      <td>2018-08-24 10:50:00</td>\n",
       "      <td>Break Down /\\n Tow Away</td>\n",
       "      <td>Emergency Lane Blocked</td>\n",
       "      <td>No Known Congestion</td>\n",
       "      <td>30.0</td>\n",
       "      <td>12</td>\n",
       "    </tr>\n",
       "    <tr>\n",
       "      <th>294</th>\n",
       "      <td>17202</td>\n",
       "      <td>-31.975624</td>\n",
       "      <td>115.847940</td>\n",
       "      <td>2018-08-27 09:08:00</td>\n",
       "      <td>2018-08-27 10:31:00</td>\n",
       "      <td>Road Crash</td>\n",
       "      <td>Emergency Lane Blocked</td>\n",
       "      <td>Heavy Congestion</td>\n",
       "      <td>83.0</td>\n",
       "      <td>12</td>\n",
       "    </tr>\n",
       "    <tr>\n",
       "      <th>295</th>\n",
       "      <td>17210</td>\n",
       "      <td>-31.993950</td>\n",
       "      <td>115.855075</td>\n",
       "      <td>2018-08-27 11:19:00</td>\n",
       "      <td>2018-08-27 11:37:00</td>\n",
       "      <td>Break Down /\\n Tow Away</td>\n",
       "      <td>Emergency Lane Blocked</td>\n",
       "      <td>No Known Congestion</td>\n",
       "      <td>18.0</td>\n",
       "      <td>12</td>\n",
       "    </tr>\n",
       "    <tr>\n",
       "      <th>298</th>\n",
       "      <td>17280</td>\n",
       "      <td>-31.998825</td>\n",
       "      <td>115.854729</td>\n",
       "      <td>2018-08-29 07:35:00</td>\n",
       "      <td>2018-08-29 08:31:00</td>\n",
       "      <td>Miscellaneous</td>\n",
       "      <td>All Lanes Open</td>\n",
       "      <td>Congestion</td>\n",
       "      <td>56.0</td>\n",
       "      <td>12</td>\n",
       "    </tr>\n",
       "    <tr>\n",
       "      <th>300</th>\n",
       "      <td>17302</td>\n",
       "      <td>-31.982177</td>\n",
       "      <td>115.849986</td>\n",
       "      <td>2018-08-29 13:50:00</td>\n",
       "      <td>2018-08-29 14:09:00</td>\n",
       "      <td>Break Down /\\n Tow Away</td>\n",
       "      <td>Lane(s) Blocked</td>\n",
       "      <td>Heavy Congestion</td>\n",
       "      <td>19.0</td>\n",
       "      <td>12</td>\n",
       "    </tr>\n",
       "    <tr>\n",
       "      <th>303</th>\n",
       "      <td>17357</td>\n",
       "      <td>-31.970108</td>\n",
       "      <td>115.846784</td>\n",
       "      <td>2018-08-31 08:31:00</td>\n",
       "      <td>2018-08-31 09:06:00</td>\n",
       "      <td>Break Down /\\n Tow Away</td>\n",
       "      <td>Lane(s) Blocked</td>\n",
       "      <td>Congestion</td>\n",
       "      <td>35.0</td>\n",
       "      <td>12</td>\n",
       "    </tr>\n",
       "    <tr>\n",
       "      <th>310</th>\n",
       "      <td>17506</td>\n",
       "      <td>-31.980067</td>\n",
       "      <td>115.848541</td>\n",
       "      <td>2018-09-06 07:28:00</td>\n",
       "      <td>2018-09-06 07:42:00</td>\n",
       "      <td>Break Down /\\n Tow Away</td>\n",
       "      <td>Emergency Lane Blocked</td>\n",
       "      <td>Congestion</td>\n",
       "      <td>14.0</td>\n",
       "      <td>12</td>\n",
       "    </tr>\n",
       "    <tr>\n",
       "      <th>313</th>\n",
       "      <td>17652</td>\n",
       "      <td>-31.997180</td>\n",
       "      <td>115.854951</td>\n",
       "      <td>2018-09-11 14:59:00</td>\n",
       "      <td>2018-09-11 15:12:00</td>\n",
       "      <td>Miscellaneous</td>\n",
       "      <td>All Lanes Open</td>\n",
       "      <td>Heavy Congestion</td>\n",
       "      <td>13.0</td>\n",
       "      <td>12</td>\n",
       "    </tr>\n",
       "    <tr>\n",
       "      <th>316</th>\n",
       "      <td>17822</td>\n",
       "      <td>-31.987938</td>\n",
       "      <td>115.853117</td>\n",
       "      <td>2018-09-18 15:15:00</td>\n",
       "      <td>2018-09-18 15:28:00</td>\n",
       "      <td>Road Crash</td>\n",
       "      <td>Lane(s) Blocked</td>\n",
       "      <td>Heavy Congestion</td>\n",
       "      <td>13.0</td>\n",
       "      <td>12</td>\n",
       "    </tr>\n",
       "    <tr>\n",
       "      <th>319</th>\n",
       "      <td>17870</td>\n",
       "      <td>-31.971104</td>\n",
       "      <td>115.847188</td>\n",
       "      <td>2018-09-20 08:18:00</td>\n",
       "      <td>2018-09-20 09:00:00</td>\n",
       "      <td>Road Crash</td>\n",
       "      <td>Lane(s) Blocked</td>\n",
       "      <td>Congestion</td>\n",
       "      <td>42.0</td>\n",
       "      <td>12</td>\n",
       "    </tr>\n",
       "    <tr>\n",
       "      <th>329</th>\n",
       "      <td>18037</td>\n",
       "      <td>-31.970879</td>\n",
       "      <td>115.847079</td>\n",
       "      <td>2018-09-26 18:24:00</td>\n",
       "      <td>2018-09-26 18:45:00</td>\n",
       "      <td>Break Down /\\n Tow Away</td>\n",
       "      <td>Emergency Lane Blocked</td>\n",
       "      <td>No Known Congestion</td>\n",
       "      <td>21.0</td>\n",
       "      <td>12</td>\n",
       "    </tr>\n",
       "    <tr>\n",
       "      <th>343</th>\n",
       "      <td>18275</td>\n",
       "      <td>-31.970558</td>\n",
       "      <td>115.847027</td>\n",
       "      <td>2018-10-06 14:44:00</td>\n",
       "      <td>2018-10-06 14:59:00</td>\n",
       "      <td>Debris /\\n Trees /\\n Lost Loads</td>\n",
       "      <td>Lane(s) Blocked</td>\n",
       "      <td>Congestion</td>\n",
       "      <td>15.0</td>\n",
       "      <td>12</td>\n",
       "    </tr>\n",
       "    <tr>\n",
       "      <th>352</th>\n",
       "      <td>18387</td>\n",
       "      <td>-31.971302</td>\n",
       "      <td>115.847201</td>\n",
       "      <td>2018-10-11 07:45:00</td>\n",
       "      <td>2018-10-11 08:29:00</td>\n",
       "      <td>Road Crash</td>\n",
       "      <td>Lane(s) Blocked</td>\n",
       "      <td>Congestion</td>\n",
       "      <td>44.0</td>\n",
       "      <td>12</td>\n",
       "    </tr>\n",
       "    <tr>\n",
       "      <th>365</th>\n",
       "      <td>18614</td>\n",
       "      <td>-31.993892</td>\n",
       "      <td>115.855082</td>\n",
       "      <td>2018-10-21 07:34:00</td>\n",
       "      <td>2018-10-21 07:40:00</td>\n",
       "      <td>Break Down /\\n Tow Away</td>\n",
       "      <td>Emergency Lane Blocked</td>\n",
       "      <td>No Known Congestion</td>\n",
       "      <td>6.0</td>\n",
       "      <td>12</td>\n",
       "    </tr>\n",
       "    <tr>\n",
       "      <th>366</th>\n",
       "      <td>18622</td>\n",
       "      <td>-31.997337</td>\n",
       "      <td>115.854986</td>\n",
       "      <td>2018-10-21 16:57:00</td>\n",
       "      <td>2018-10-21 17:25:00</td>\n",
       "      <td>Road Crash</td>\n",
       "      <td>Lane(s) Blocked</td>\n",
       "      <td>Congestion</td>\n",
       "      <td>28.0</td>\n",
       "      <td>12</td>\n",
       "    </tr>\n",
       "    <tr>\n",
       "      <th>367</th>\n",
       "      <td>18635</td>\n",
       "      <td>-31.984470</td>\n",
       "      <td>115.851317</td>\n",
       "      <td>2018-10-22 08:25:00</td>\n",
       "      <td>2018-10-22 09:42:00</td>\n",
       "      <td>Debris /\\n Trees /\\n Lost Loads</td>\n",
       "      <td>All Lanes Open</td>\n",
       "      <td>No Known Congestion</td>\n",
       "      <td>77.0</td>\n",
       "      <td>12</td>\n",
       "    </tr>\n",
       "  </tbody>\n",
       "</table>\n",
       "</div>"
      ],
      "text/plain": [
       "     OBJECTID        Lat        Long           WST_Start             WST_End  \\\n",
       "291     17130 -31.985795  115.851867 2018-08-24 10:20:00 2018-08-24 10:50:00   \n",
       "294     17202 -31.975624  115.847940 2018-08-27 09:08:00 2018-08-27 10:31:00   \n",
       "295     17210 -31.993950  115.855075 2018-08-27 11:19:00 2018-08-27 11:37:00   \n",
       "298     17280 -31.998825  115.854729 2018-08-29 07:35:00 2018-08-29 08:31:00   \n",
       "300     17302 -31.982177  115.849986 2018-08-29 13:50:00 2018-08-29 14:09:00   \n",
       "303     17357 -31.970108  115.846784 2018-08-31 08:31:00 2018-08-31 09:06:00   \n",
       "310     17506 -31.980067  115.848541 2018-09-06 07:28:00 2018-09-06 07:42:00   \n",
       "313     17652 -31.997180  115.854951 2018-09-11 14:59:00 2018-09-11 15:12:00   \n",
       "316     17822 -31.987938  115.853117 2018-09-18 15:15:00 2018-09-18 15:28:00   \n",
       "319     17870 -31.971104  115.847188 2018-09-20 08:18:00 2018-09-20 09:00:00   \n",
       "329     18037 -31.970879  115.847079 2018-09-26 18:24:00 2018-09-26 18:45:00   \n",
       "343     18275 -31.970558  115.847027 2018-10-06 14:44:00 2018-10-06 14:59:00   \n",
       "352     18387 -31.971302  115.847201 2018-10-11 07:45:00 2018-10-11 08:29:00   \n",
       "365     18614 -31.993892  115.855082 2018-10-21 07:34:00 2018-10-21 07:40:00   \n",
       "366     18622 -31.997337  115.854986 2018-10-21 16:57:00 2018-10-21 17:25:00   \n",
       "367     18635 -31.984470  115.851317 2018-10-22 08:25:00 2018-10-22 09:42:00   \n",
       "\n",
       "                       Incident_Type        TrafficCondition  \\\n",
       "291          Break Down /\\n Tow Away  Emergency Lane Blocked   \n",
       "294                       Road Crash  Emergency Lane Blocked   \n",
       "295          Break Down /\\n Tow Away  Emergency Lane Blocked   \n",
       "298                    Miscellaneous          All Lanes Open   \n",
       "300          Break Down /\\n Tow Away         Lane(s) Blocked   \n",
       "303          Break Down /\\n Tow Away         Lane(s) Blocked   \n",
       "310          Break Down /\\n Tow Away  Emergency Lane Blocked   \n",
       "313                    Miscellaneous          All Lanes Open   \n",
       "316                       Road Crash         Lane(s) Blocked   \n",
       "319                       Road Crash         Lane(s) Blocked   \n",
       "329          Break Down /\\n Tow Away  Emergency Lane Blocked   \n",
       "343  Debris /\\n Trees /\\n Lost Loads         Lane(s) Blocked   \n",
       "352                       Road Crash         Lane(s) Blocked   \n",
       "365          Break Down /\\n Tow Away  Emergency Lane Blocked   \n",
       "366                       Road Crash         Lane(s) Blocked   \n",
       "367  Debris /\\n Trees /\\n Lost Loads          All Lanes Open   \n",
       "\n",
       "              Congestion  Duration  ID  \n",
       "291  No Known Congestion      30.0  12  \n",
       "294     Heavy Congestion      83.0  12  \n",
       "295  No Known Congestion      18.0  12  \n",
       "298           Congestion      56.0  12  \n",
       "300     Heavy Congestion      19.0  12  \n",
       "303           Congestion      35.0  12  \n",
       "310           Congestion      14.0  12  \n",
       "313     Heavy Congestion      13.0  12  \n",
       "316     Heavy Congestion      13.0  12  \n",
       "319           Congestion      42.0  12  \n",
       "329  No Known Congestion      21.0  12  \n",
       "343           Congestion      15.0  12  \n",
       "352           Congestion      44.0  12  \n",
       "365  No Known Congestion       6.0  12  \n",
       "366           Congestion      28.0  12  \n",
       "367  No Known Congestion      77.0  12  "
      ]
     },
     "execution_count": 81,
     "metadata": {},
     "output_type": "execute_result"
    }
   ],
   "source": [
    "inc12 = df1[df1.ID == 12]\n",
    "inc12.tail(16)"
   ]
  },
  {
   "cell_type": "code",
   "execution_count": 13,
   "id": "54243a7e",
   "metadata": {
    "ExecuteTime": {
     "end_time": "2022-01-24T07:48:23.140897Z",
     "start_time": "2022-01-24T07:48:23.119947Z"
    }
   },
   "outputs": [
    {
     "data": {
      "text/html": [
       "<div>\n",
       "<style scoped>\n",
       "    .dataframe tbody tr th:only-of-type {\n",
       "        vertical-align: middle;\n",
       "    }\n",
       "\n",
       "    .dataframe tbody tr th {\n",
       "        vertical-align: top;\n",
       "    }\n",
       "\n",
       "    .dataframe thead th {\n",
       "        text-align: right;\n",
       "    }\n",
       "</style>\n",
       "<table border=\"1\" class=\"dataframe\">\n",
       "  <thead>\n",
       "    <tr style=\"text-align: right;\">\n",
       "      <th></th>\n",
       "      <th>OBJECTID</th>\n",
       "      <th>Lat</th>\n",
       "      <th>Long</th>\n",
       "      <th>WST_Start</th>\n",
       "      <th>WST_End</th>\n",
       "      <th>Incident_Type</th>\n",
       "      <th>TrafficCondition</th>\n",
       "      <th>Congestion</th>\n",
       "      <th>Duration</th>\n",
       "      <th>ID</th>\n",
       "    </tr>\n",
       "  </thead>\n",
       "  <tbody>\n",
       "    <tr>\n",
       "      <th>289</th>\n",
       "      <td>17103</td>\n",
       "      <td>-32.003310</td>\n",
       "      <td>115.853584</td>\n",
       "      <td>2018-08-23 14:20:00</td>\n",
       "      <td>2018-08-23 15:03:00</td>\n",
       "      <td>Debris /\\n Trees /\\n Lost Loads</td>\n",
       "      <td>All Lanes Open</td>\n",
       "      <td>No Known Congestion</td>\n",
       "      <td>43.0</td>\n",
       "      <td>11</td>\n",
       "    </tr>\n",
       "    <tr>\n",
       "      <th>296</th>\n",
       "      <td>17213</td>\n",
       "      <td>-32.007125</td>\n",
       "      <td>115.854750</td>\n",
       "      <td>2018-08-27 12:02:00</td>\n",
       "      <td>2018-08-27 12:26:00</td>\n",
       "      <td>Road Crash</td>\n",
       "      <td>Lane(s) Blocked</td>\n",
       "      <td>Heavy Congestion</td>\n",
       "      <td>24.0</td>\n",
       "      <td>11</td>\n",
       "    </tr>\n",
       "    <tr>\n",
       "      <th>297</th>\n",
       "      <td>17215</td>\n",
       "      <td>-32.006326</td>\n",
       "      <td>115.854393</td>\n",
       "      <td>2018-08-27 12:50:00</td>\n",
       "      <td>2018-08-27 13:30:00</td>\n",
       "      <td>Miscellaneous</td>\n",
       "      <td>All Lanes Open</td>\n",
       "      <td>No Known Congestion</td>\n",
       "      <td>40.0</td>\n",
       "      <td>11</td>\n",
       "    </tr>\n",
       "    <tr>\n",
       "      <th>301</th>\n",
       "      <td>17320</td>\n",
       "      <td>-32.008052</td>\n",
       "      <td>115.855026</td>\n",
       "      <td>2018-08-29 21:50:00</td>\n",
       "      <td>2018-08-29 22:27:00</td>\n",
       "      <td>Debris /\\n Trees /\\n Lost Loads</td>\n",
       "      <td>Emergency Lane Blocked</td>\n",
       "      <td>No Known Congestion</td>\n",
       "      <td>37.0</td>\n",
       "      <td>11</td>\n",
       "    </tr>\n",
       "    <tr>\n",
       "      <th>309</th>\n",
       "      <td>17505</td>\n",
       "      <td>-32.006220</td>\n",
       "      <td>115.854366</td>\n",
       "      <td>2018-09-06 07:12:00</td>\n",
       "      <td>2018-09-06 07:27:00</td>\n",
       "      <td>Break Down /\\n Tow Away</td>\n",
       "      <td>Emergency Lane Blocked</td>\n",
       "      <td>No Known Congestion</td>\n",
       "      <td>15.0</td>\n",
       "      <td>11</td>\n",
       "    </tr>\n",
       "    <tr>\n",
       "      <th>326</th>\n",
       "      <td>18010</td>\n",
       "      <td>-32.007614</td>\n",
       "      <td>115.854915</td>\n",
       "      <td>2018-09-25 20:33:00</td>\n",
       "      <td>2018-09-25 20:38:00</td>\n",
       "      <td>Break Down /\\n Tow Away</td>\n",
       "      <td>Lane(s) Blocked</td>\n",
       "      <td>No Known Congestion</td>\n",
       "      <td>5.0</td>\n",
       "      <td>11</td>\n",
       "    </tr>\n",
       "    <tr>\n",
       "      <th>346</th>\n",
       "      <td>18301</td>\n",
       "      <td>-32.007443</td>\n",
       "      <td>115.854917</td>\n",
       "      <td>2018-10-08 08:38:00</td>\n",
       "      <td>2018-10-08 09:07:00</td>\n",
       "      <td>Debris /\\n Trees /\\n Lost Loads</td>\n",
       "      <td>All Lanes Open</td>\n",
       "      <td>Heavy Congestion</td>\n",
       "      <td>29.0</td>\n",
       "      <td>11</td>\n",
       "    </tr>\n",
       "    <tr>\n",
       "      <th>347</th>\n",
       "      <td>18302</td>\n",
       "      <td>-32.006892</td>\n",
       "      <td>115.854599</td>\n",
       "      <td>2018-10-08 08:46:00</td>\n",
       "      <td>2018-10-08 08:55:00</td>\n",
       "      <td>Road Crash</td>\n",
       "      <td>Emergency Lane Blocked</td>\n",
       "      <td>Heavy Congestion</td>\n",
       "      <td>9.0</td>\n",
       "      <td>11</td>\n",
       "    </tr>\n",
       "    <tr>\n",
       "      <th>362</th>\n",
       "      <td>18572</td>\n",
       "      <td>-32.003492</td>\n",
       "      <td>115.853576</td>\n",
       "      <td>2018-10-19 08:58:00</td>\n",
       "      <td>2018-10-19 08:58:00</td>\n",
       "      <td>Break Down /\\n Tow Away</td>\n",
       "      <td>Emergency Lane Blocked</td>\n",
       "      <td>Congestion</td>\n",
       "      <td>0.0</td>\n",
       "      <td>11</td>\n",
       "    </tr>\n",
       "    <tr>\n",
       "      <th>363</th>\n",
       "      <td>18580</td>\n",
       "      <td>-32.009027</td>\n",
       "      <td>115.855259</td>\n",
       "      <td>2018-10-19 13:59:00</td>\n",
       "      <td>2018-10-19 15:10:00</td>\n",
       "      <td>Debris /\\n Trees /\\n Lost Loads</td>\n",
       "      <td>All Lanes Open</td>\n",
       "      <td>No Known Congestion</td>\n",
       "      <td>71.0</td>\n",
       "      <td>11</td>\n",
       "    </tr>\n",
       "  </tbody>\n",
       "</table>\n",
       "</div>"
      ],
      "text/plain": [
       "     OBJECTID        Lat        Long           WST_Start             WST_End  \\\n",
       "289     17103 -32.003310  115.853584 2018-08-23 14:20:00 2018-08-23 15:03:00   \n",
       "296     17213 -32.007125  115.854750 2018-08-27 12:02:00 2018-08-27 12:26:00   \n",
       "297     17215 -32.006326  115.854393 2018-08-27 12:50:00 2018-08-27 13:30:00   \n",
       "301     17320 -32.008052  115.855026 2018-08-29 21:50:00 2018-08-29 22:27:00   \n",
       "309     17505 -32.006220  115.854366 2018-09-06 07:12:00 2018-09-06 07:27:00   \n",
       "326     18010 -32.007614  115.854915 2018-09-25 20:33:00 2018-09-25 20:38:00   \n",
       "346     18301 -32.007443  115.854917 2018-10-08 08:38:00 2018-10-08 09:07:00   \n",
       "347     18302 -32.006892  115.854599 2018-10-08 08:46:00 2018-10-08 08:55:00   \n",
       "362     18572 -32.003492  115.853576 2018-10-19 08:58:00 2018-10-19 08:58:00   \n",
       "363     18580 -32.009027  115.855259 2018-10-19 13:59:00 2018-10-19 15:10:00   \n",
       "\n",
       "                       Incident_Type        TrafficCondition  \\\n",
       "289  Debris /\\n Trees /\\n Lost Loads          All Lanes Open   \n",
       "296                       Road Crash         Lane(s) Blocked   \n",
       "297                    Miscellaneous          All Lanes Open   \n",
       "301  Debris /\\n Trees /\\n Lost Loads  Emergency Lane Blocked   \n",
       "309          Break Down /\\n Tow Away  Emergency Lane Blocked   \n",
       "326          Break Down /\\n Tow Away         Lane(s) Blocked   \n",
       "346  Debris /\\n Trees /\\n Lost Loads          All Lanes Open   \n",
       "347                       Road Crash  Emergency Lane Blocked   \n",
       "362          Break Down /\\n Tow Away  Emergency Lane Blocked   \n",
       "363  Debris /\\n Trees /\\n Lost Loads          All Lanes Open   \n",
       "\n",
       "              Congestion  Duration  ID  \n",
       "289  No Known Congestion      43.0  11  \n",
       "296     Heavy Congestion      24.0  11  \n",
       "297  No Known Congestion      40.0  11  \n",
       "301  No Known Congestion      37.0  11  \n",
       "309  No Known Congestion      15.0  11  \n",
       "326  No Known Congestion       5.0  11  \n",
       "346     Heavy Congestion      29.0  11  \n",
       "347     Heavy Congestion       9.0  11  \n",
       "362           Congestion       0.0  11  \n",
       "363  No Known Congestion      71.0  11  "
      ]
     },
     "execution_count": 13,
     "metadata": {},
     "output_type": "execute_result"
    }
   ],
   "source": [
    "inc11.tail(10)"
   ]
  },
  {
   "cell_type": "code",
   "execution_count": null,
   "id": "b1ab0025",
   "metadata": {
    "ExecuteTime": {
     "end_time": "2022-01-24T07:46:59.914420Z",
     "start_time": "2022-01-24T07:46:59.330538Z"
    },
    "scrolled": true
   },
   "outputs": [],
   "source": [
    "df = pd.read_csv('data/df11ds.csv', index_col=0)\n",
    "df.info()"
   ]
  },
  {
   "cell_type": "code",
   "execution_count": 42,
   "id": "a024603a",
   "metadata": {
    "ExecuteTime": {
     "end_time": "2022-01-24T08:02:13.247657Z",
     "start_time": "2022-01-24T08:02:13.046131Z"
    }
   },
   "outputs": [],
   "source": [
    "df.DateTime = pd.to_datetime(df.DateTime, format=\"%Y-%m-%d %H:%M:%S\")\n",
    "# Set DateTime as index and sort\n",
    "df = df.set_index('DateTime')\n",
    "df.index = pd.to_datetime(df.index)\n",
    "if not df.index.is_monotonic:\n",
    "    df = df.sort_index()"
   ]
  },
  {
   "cell_type": "code",
   "execution_count": 43,
   "id": "c8d85903",
   "metadata": {
    "ExecuteTime": {
     "end_time": "2022-01-24T08:02:47.293226Z",
     "start_time": "2022-01-24T08:02:47.214197Z"
    }
   },
   "outputs": [
    {
     "name": "stdout",
     "output_type": "stream",
     "text": [
      "<class 'pandas.core.frame.DataFrame'>\n",
      "DatetimeIndex: 429120 entries, 2018-01-01 00:00:00 to 2018-10-25 23:59:00\n",
      "Data columns (total 20 columns):\n",
      " #   Column                  Non-Null Count   Dtype  \n",
      "---  ------                  --------------   -----  \n",
      " 0   Length                  429120 non-null  float64\n",
      " 1   Volume                  429120 non-null  float64\n",
      " 2   Speed                   429120 non-null  float64\n",
      " 3   Occupancy               429120 non-null  float64\n",
      " 4   TrafficCondition        429120 non-null  object \n",
      " 5   Num_Incidents           429120 non-null  float64\n",
      " 6   Incident_Type1          429120 non-null  object \n",
      " 7   Incident_Type2          429120 non-null  object \n",
      " 8   All Lanes Open          429120 non-null  int64  \n",
      " 9   Emergency Lane Blocked  429120 non-null  int64  \n",
      " 10  Lane Closures Unknown   429120 non-null  int64  \n",
      " 11  Lane(s) Blocked         429120 non-null  int64  \n",
      " 12  Turning Pocket Blocked  429120 non-null  int64  \n",
      " 13  BDTA1                   429120 non-null  int64  \n",
      " 14  DTLL1                   429120 non-null  int64  \n",
      " 15  Misc1                   429120 non-null  int64  \n",
      " 16  None1                   429120 non-null  int64  \n",
      " 17  RC1                     429120 non-null  int64  \n",
      " 18  RC2                     429120 non-null  int64  \n",
      " 19  Downstream_Incident     429118 non-null  float64\n",
      "dtypes: float64(6), int64(11), object(3)\n",
      "memory usage: 68.8+ MB\n"
     ]
    }
   ],
   "source": [
    "df.info()"
   ]
  },
  {
   "cell_type": "code",
   "execution_count": 50,
   "id": "09febf00",
   "metadata": {
    "ExecuteTime": {
     "end_time": "2022-01-24T08:04:46.106374Z",
     "start_time": "2022-01-24T08:04:46.096397Z"
    }
   },
   "outputs": [
    {
     "data": {
      "text/plain": [
       "array([datetime.date(2018, 1, 15), datetime.date(2018, 1, 22),\n",
       "       datetime.date(2018, 2, 6), datetime.date(2018, 2, 7),\n",
       "       datetime.date(2018, 2, 16), datetime.date(2018, 2, 19),\n",
       "       datetime.date(2018, 3, 4), datetime.date(2018, 3, 12),\n",
       "       datetime.date(2018, 3, 15), datetime.date(2018, 3, 20),\n",
       "       datetime.date(2018, 3, 28), datetime.date(2018, 4, 3),\n",
       "       datetime.date(2018, 4, 4), datetime.date(2018, 4, 6),\n",
       "       datetime.date(2018, 4, 9), datetime.date(2018, 4, 17),\n",
       "       datetime.date(2018, 4, 18), datetime.date(2018, 4, 19),\n",
       "       datetime.date(2018, 4, 24), datetime.date(2018, 4, 25),\n",
       "       datetime.date(2018, 4, 27), datetime.date(2018, 4, 30),\n",
       "       datetime.date(2018, 5, 1), datetime.date(2018, 5, 7),\n",
       "       datetime.date(2018, 5, 13), datetime.date(2018, 5, 14),\n",
       "       datetime.date(2018, 5, 15), datetime.date(2018, 5, 21),\n",
       "       datetime.date(2018, 5, 24), datetime.date(2018, 6, 4),\n",
       "       datetime.date(2018, 6, 6), datetime.date(2018, 6, 20),\n",
       "       datetime.date(2018, 7, 2), datetime.date(2018, 7, 3),\n",
       "       datetime.date(2018, 7, 4), datetime.date(2018, 7, 13),\n",
       "       datetime.date(2018, 7, 23), datetime.date(2018, 8, 2),\n",
       "       datetime.date(2018, 8, 6), datetime.date(2018, 8, 17),\n",
       "       datetime.date(2018, 8, 23), datetime.date(2018, 8, 27),\n",
       "       datetime.date(2018, 8, 29), datetime.date(2018, 9, 6),\n",
       "       datetime.date(2018, 9, 25), datetime.date(2018, 10, 8),\n",
       "       datetime.date(2018, 10, 19)], dtype=object)"
      ]
     },
     "execution_count": 50,
     "metadata": {},
     "output_type": "execute_result"
    }
   ],
   "source": [
    "date_ls = inc11['WST_Start'].dt.date.unique()\n",
    "date_ls"
   ]
  },
  {
   "cell_type": "markdown",
   "id": "0f9bbbdc",
   "metadata": {},
   "source": [
    "For days that have incidents, plot traffic data."
   ]
  },
  {
   "cell_type": "code",
   "execution_count": 57,
   "id": "1a195676",
   "metadata": {
    "ExecuteTime": {
     "end_time": "2022-01-24T08:07:24.255653Z",
     "start_time": "2022-01-24T08:07:24.141969Z"
    },
    "collapsed": true
   },
   "outputs": [
    {
     "data": {
      "text/html": [
       "<div>\n",
       "<style scoped>\n",
       "    .dataframe tbody tr th:only-of-type {\n",
       "        vertical-align: middle;\n",
       "    }\n",
       "\n",
       "    .dataframe tbody tr th {\n",
       "        vertical-align: top;\n",
       "    }\n",
       "\n",
       "    .dataframe thead th {\n",
       "        text-align: right;\n",
       "    }\n",
       "</style>\n",
       "<table border=\"1\" class=\"dataframe\">\n",
       "  <thead>\n",
       "    <tr style=\"text-align: right;\">\n",
       "      <th></th>\n",
       "      <th>Length</th>\n",
       "      <th>Volume</th>\n",
       "      <th>Speed</th>\n",
       "      <th>Occupancy</th>\n",
       "      <th>TrafficCondition</th>\n",
       "      <th>Num_Incidents</th>\n",
       "      <th>Incident_Type1</th>\n",
       "      <th>Incident_Type2</th>\n",
       "      <th>All Lanes Open</th>\n",
       "      <th>Emergency Lane Blocked</th>\n",
       "      <th>Lane Closures Unknown</th>\n",
       "      <th>Lane(s) Blocked</th>\n",
       "      <th>Turning Pocket Blocked</th>\n",
       "      <th>BDTA1</th>\n",
       "      <th>DTLL1</th>\n",
       "      <th>Misc1</th>\n",
       "      <th>None1</th>\n",
       "      <th>RC1</th>\n",
       "      <th>RC2</th>\n",
       "      <th>Downstream_Incident</th>\n",
       "    </tr>\n",
       "    <tr>\n",
       "      <th>DateTime</th>\n",
       "      <th></th>\n",
       "      <th></th>\n",
       "      <th></th>\n",
       "      <th></th>\n",
       "      <th></th>\n",
       "      <th></th>\n",
       "      <th></th>\n",
       "      <th></th>\n",
       "      <th></th>\n",
       "      <th></th>\n",
       "      <th></th>\n",
       "      <th></th>\n",
       "      <th></th>\n",
       "      <th></th>\n",
       "      <th></th>\n",
       "      <th></th>\n",
       "      <th></th>\n",
       "      <th></th>\n",
       "      <th></th>\n",
       "      <th></th>\n",
       "    </tr>\n",
       "  </thead>\n",
       "  <tbody>\n",
       "    <tr>\n",
       "      <th>2018-01-15 00:00:00</th>\n",
       "      <td>405.0</td>\n",
       "      <td>4.0</td>\n",
       "      <td>99.999995</td>\n",
       "      <td>0.0</td>\n",
       "      <td>All Lanes Open</td>\n",
       "      <td>0.0</td>\n",
       "      <td>None1</td>\n",
       "      <td>None2</td>\n",
       "      <td>1</td>\n",
       "      <td>0</td>\n",
       "      <td>0</td>\n",
       "      <td>0</td>\n",
       "      <td>0</td>\n",
       "      <td>0</td>\n",
       "      <td>0</td>\n",
       "      <td>0</td>\n",
       "      <td>1</td>\n",
       "      <td>0</td>\n",
       "      <td>0</td>\n",
       "      <td>0.0</td>\n",
       "    </tr>\n",
       "    <tr>\n",
       "      <th>2018-01-15 00:01:00</th>\n",
       "      <td>405.0</td>\n",
       "      <td>3.0</td>\n",
       "      <td>87.000001</td>\n",
       "      <td>0.0</td>\n",
       "      <td>All Lanes Open</td>\n",
       "      <td>0.0</td>\n",
       "      <td>None1</td>\n",
       "      <td>None2</td>\n",
       "      <td>1</td>\n",
       "      <td>0</td>\n",
       "      <td>0</td>\n",
       "      <td>0</td>\n",
       "      <td>0</td>\n",
       "      <td>0</td>\n",
       "      <td>0</td>\n",
       "      <td>0</td>\n",
       "      <td>1</td>\n",
       "      <td>0</td>\n",
       "      <td>0</td>\n",
       "      <td>0.0</td>\n",
       "    </tr>\n",
       "    <tr>\n",
       "      <th>2018-01-15 00:02:00</th>\n",
       "      <td>405.0</td>\n",
       "      <td>3.0</td>\n",
       "      <td>95.000001</td>\n",
       "      <td>0.0</td>\n",
       "      <td>All Lanes Open</td>\n",
       "      <td>0.0</td>\n",
       "      <td>None1</td>\n",
       "      <td>None2</td>\n",
       "      <td>1</td>\n",
       "      <td>0</td>\n",
       "      <td>0</td>\n",
       "      <td>0</td>\n",
       "      <td>0</td>\n",
       "      <td>0</td>\n",
       "      <td>0</td>\n",
       "      <td>0</td>\n",
       "      <td>1</td>\n",
       "      <td>0</td>\n",
       "      <td>0</td>\n",
       "      <td>0.0</td>\n",
       "    </tr>\n",
       "    <tr>\n",
       "      <th>2018-01-15 00:03:00</th>\n",
       "      <td>405.0</td>\n",
       "      <td>3.0</td>\n",
       "      <td>97.000001</td>\n",
       "      <td>0.0</td>\n",
       "      <td>All Lanes Open</td>\n",
       "      <td>0.0</td>\n",
       "      <td>None1</td>\n",
       "      <td>None2</td>\n",
       "      <td>1</td>\n",
       "      <td>0</td>\n",
       "      <td>0</td>\n",
       "      <td>0</td>\n",
       "      <td>0</td>\n",
       "      <td>0</td>\n",
       "      <td>0</td>\n",
       "      <td>0</td>\n",
       "      <td>1</td>\n",
       "      <td>0</td>\n",
       "      <td>0</td>\n",
       "      <td>0.0</td>\n",
       "    </tr>\n",
       "    <tr>\n",
       "      <th>2018-01-15 00:04:00</th>\n",
       "      <td>405.0</td>\n",
       "      <td>3.0</td>\n",
       "      <td>88.999998</td>\n",
       "      <td>0.0</td>\n",
       "      <td>All Lanes Open</td>\n",
       "      <td>0.0</td>\n",
       "      <td>None1</td>\n",
       "      <td>None2</td>\n",
       "      <td>1</td>\n",
       "      <td>0</td>\n",
       "      <td>0</td>\n",
       "      <td>0</td>\n",
       "      <td>0</td>\n",
       "      <td>0</td>\n",
       "      <td>0</td>\n",
       "      <td>0</td>\n",
       "      <td>1</td>\n",
       "      <td>0</td>\n",
       "      <td>0</td>\n",
       "      <td>0.0</td>\n",
       "    </tr>\n",
       "    <tr>\n",
       "      <th>...</th>\n",
       "      <td>...</td>\n",
       "      <td>...</td>\n",
       "      <td>...</td>\n",
       "      <td>...</td>\n",
       "      <td>...</td>\n",
       "      <td>...</td>\n",
       "      <td>...</td>\n",
       "      <td>...</td>\n",
       "      <td>...</td>\n",
       "      <td>...</td>\n",
       "      <td>...</td>\n",
       "      <td>...</td>\n",
       "      <td>...</td>\n",
       "      <td>...</td>\n",
       "      <td>...</td>\n",
       "      <td>...</td>\n",
       "      <td>...</td>\n",
       "      <td>...</td>\n",
       "      <td>...</td>\n",
       "      <td>...</td>\n",
       "    </tr>\n",
       "    <tr>\n",
       "      <th>2018-01-15 23:55:00</th>\n",
       "      <td>405.0</td>\n",
       "      <td>4.0</td>\n",
       "      <td>83.000001</td>\n",
       "      <td>0.0</td>\n",
       "      <td>All Lanes Open</td>\n",
       "      <td>0.0</td>\n",
       "      <td>None1</td>\n",
       "      <td>None2</td>\n",
       "      <td>1</td>\n",
       "      <td>0</td>\n",
       "      <td>0</td>\n",
       "      <td>0</td>\n",
       "      <td>0</td>\n",
       "      <td>0</td>\n",
       "      <td>0</td>\n",
       "      <td>0</td>\n",
       "      <td>1</td>\n",
       "      <td>0</td>\n",
       "      <td>0</td>\n",
       "      <td>0.0</td>\n",
       "    </tr>\n",
       "    <tr>\n",
       "      <th>2018-01-15 23:56:00</th>\n",
       "      <td>405.0</td>\n",
       "      <td>3.0</td>\n",
       "      <td>86.000001</td>\n",
       "      <td>0.0</td>\n",
       "      <td>All Lanes Open</td>\n",
       "      <td>0.0</td>\n",
       "      <td>None1</td>\n",
       "      <td>None2</td>\n",
       "      <td>1</td>\n",
       "      <td>0</td>\n",
       "      <td>0</td>\n",
       "      <td>0</td>\n",
       "      <td>0</td>\n",
       "      <td>0</td>\n",
       "      <td>0</td>\n",
       "      <td>0</td>\n",
       "      <td>1</td>\n",
       "      <td>0</td>\n",
       "      <td>0</td>\n",
       "      <td>0.0</td>\n",
       "    </tr>\n",
       "    <tr>\n",
       "      <th>2018-01-15 23:57:00</th>\n",
       "      <td>405.0</td>\n",
       "      <td>4.0</td>\n",
       "      <td>85.000004</td>\n",
       "      <td>0.0</td>\n",
       "      <td>All Lanes Open</td>\n",
       "      <td>0.0</td>\n",
       "      <td>None1</td>\n",
       "      <td>None2</td>\n",
       "      <td>1</td>\n",
       "      <td>0</td>\n",
       "      <td>0</td>\n",
       "      <td>0</td>\n",
       "      <td>0</td>\n",
       "      <td>0</td>\n",
       "      <td>0</td>\n",
       "      <td>0</td>\n",
       "      <td>1</td>\n",
       "      <td>0</td>\n",
       "      <td>0</td>\n",
       "      <td>0.0</td>\n",
       "    </tr>\n",
       "    <tr>\n",
       "      <th>2018-01-15 23:58:00</th>\n",
       "      <td>405.0</td>\n",
       "      <td>3.0</td>\n",
       "      <td>93.000000</td>\n",
       "      <td>0.0</td>\n",
       "      <td>All Lanes Open</td>\n",
       "      <td>0.0</td>\n",
       "      <td>None1</td>\n",
       "      <td>None2</td>\n",
       "      <td>1</td>\n",
       "      <td>0</td>\n",
       "      <td>0</td>\n",
       "      <td>0</td>\n",
       "      <td>0</td>\n",
       "      <td>0</td>\n",
       "      <td>0</td>\n",
       "      <td>0</td>\n",
       "      <td>1</td>\n",
       "      <td>0</td>\n",
       "      <td>0</td>\n",
       "      <td>0.0</td>\n",
       "    </tr>\n",
       "    <tr>\n",
       "      <th>2018-01-15 23:59:00</th>\n",
       "      <td>405.0</td>\n",
       "      <td>3.0</td>\n",
       "      <td>88.999998</td>\n",
       "      <td>0.0</td>\n",
       "      <td>All Lanes Open</td>\n",
       "      <td>0.0</td>\n",
       "      <td>None1</td>\n",
       "      <td>None2</td>\n",
       "      <td>1</td>\n",
       "      <td>0</td>\n",
       "      <td>0</td>\n",
       "      <td>0</td>\n",
       "      <td>0</td>\n",
       "      <td>0</td>\n",
       "      <td>0</td>\n",
       "      <td>0</td>\n",
       "      <td>1</td>\n",
       "      <td>0</td>\n",
       "      <td>0</td>\n",
       "      <td>0.0</td>\n",
       "    </tr>\n",
       "  </tbody>\n",
       "</table>\n",
       "<p>1440 rows × 20 columns</p>\n",
       "</div>"
      ],
      "text/plain": [
       "                     Length  Volume      Speed  Occupancy TrafficCondition  \\\n",
       "DateTime                                                                     \n",
       "2018-01-15 00:00:00   405.0     4.0  99.999995        0.0   All Lanes Open   \n",
       "2018-01-15 00:01:00   405.0     3.0  87.000001        0.0   All Lanes Open   \n",
       "2018-01-15 00:02:00   405.0     3.0  95.000001        0.0   All Lanes Open   \n",
       "2018-01-15 00:03:00   405.0     3.0  97.000001        0.0   All Lanes Open   \n",
       "2018-01-15 00:04:00   405.0     3.0  88.999998        0.0   All Lanes Open   \n",
       "...                     ...     ...        ...        ...              ...   \n",
       "2018-01-15 23:55:00   405.0     4.0  83.000001        0.0   All Lanes Open   \n",
       "2018-01-15 23:56:00   405.0     3.0  86.000001        0.0   All Lanes Open   \n",
       "2018-01-15 23:57:00   405.0     4.0  85.000004        0.0   All Lanes Open   \n",
       "2018-01-15 23:58:00   405.0     3.0  93.000000        0.0   All Lanes Open   \n",
       "2018-01-15 23:59:00   405.0     3.0  88.999998        0.0   All Lanes Open   \n",
       "\n",
       "                     Num_Incidents Incident_Type1 Incident_Type2  \\\n",
       "DateTime                                                           \n",
       "2018-01-15 00:00:00            0.0          None1          None2   \n",
       "2018-01-15 00:01:00            0.0          None1          None2   \n",
       "2018-01-15 00:02:00            0.0          None1          None2   \n",
       "2018-01-15 00:03:00            0.0          None1          None2   \n",
       "2018-01-15 00:04:00            0.0          None1          None2   \n",
       "...                            ...            ...            ...   \n",
       "2018-01-15 23:55:00            0.0          None1          None2   \n",
       "2018-01-15 23:56:00            0.0          None1          None2   \n",
       "2018-01-15 23:57:00            0.0          None1          None2   \n",
       "2018-01-15 23:58:00            0.0          None1          None2   \n",
       "2018-01-15 23:59:00            0.0          None1          None2   \n",
       "\n",
       "                     All Lanes Open  Emergency Lane Blocked  \\\n",
       "DateTime                                                      \n",
       "2018-01-15 00:00:00               1                       0   \n",
       "2018-01-15 00:01:00               1                       0   \n",
       "2018-01-15 00:02:00               1                       0   \n",
       "2018-01-15 00:03:00               1                       0   \n",
       "2018-01-15 00:04:00               1                       0   \n",
       "...                             ...                     ...   \n",
       "2018-01-15 23:55:00               1                       0   \n",
       "2018-01-15 23:56:00               1                       0   \n",
       "2018-01-15 23:57:00               1                       0   \n",
       "2018-01-15 23:58:00               1                       0   \n",
       "2018-01-15 23:59:00               1                       0   \n",
       "\n",
       "                     Lane Closures Unknown  Lane(s) Blocked  \\\n",
       "DateTime                                                      \n",
       "2018-01-15 00:00:00                      0                0   \n",
       "2018-01-15 00:01:00                      0                0   \n",
       "2018-01-15 00:02:00                      0                0   \n",
       "2018-01-15 00:03:00                      0                0   \n",
       "2018-01-15 00:04:00                      0                0   \n",
       "...                                    ...              ...   \n",
       "2018-01-15 23:55:00                      0                0   \n",
       "2018-01-15 23:56:00                      0                0   \n",
       "2018-01-15 23:57:00                      0                0   \n",
       "2018-01-15 23:58:00                      0                0   \n",
       "2018-01-15 23:59:00                      0                0   \n",
       "\n",
       "                     Turning Pocket Blocked  BDTA1  DTLL1  Misc1  None1  RC1  \\\n",
       "DateTime                                                                       \n",
       "2018-01-15 00:00:00                       0      0      0      0      1    0   \n",
       "2018-01-15 00:01:00                       0      0      0      0      1    0   \n",
       "2018-01-15 00:02:00                       0      0      0      0      1    0   \n",
       "2018-01-15 00:03:00                       0      0      0      0      1    0   \n",
       "2018-01-15 00:04:00                       0      0      0      0      1    0   \n",
       "...                                     ...    ...    ...    ...    ...  ...   \n",
       "2018-01-15 23:55:00                       0      0      0      0      1    0   \n",
       "2018-01-15 23:56:00                       0      0      0      0      1    0   \n",
       "2018-01-15 23:57:00                       0      0      0      0      1    0   \n",
       "2018-01-15 23:58:00                       0      0      0      0      1    0   \n",
       "2018-01-15 23:59:00                       0      0      0      0      1    0   \n",
       "\n",
       "                     RC2  Downstream_Incident  \n",
       "DateTime                                       \n",
       "2018-01-15 00:00:00    0                  0.0  \n",
       "2018-01-15 00:01:00    0                  0.0  \n",
       "2018-01-15 00:02:00    0                  0.0  \n",
       "2018-01-15 00:03:00    0                  0.0  \n",
       "2018-01-15 00:04:00    0                  0.0  \n",
       "...                  ...                  ...  \n",
       "2018-01-15 23:55:00    0                  0.0  \n",
       "2018-01-15 23:56:00    0                  0.0  \n",
       "2018-01-15 23:57:00    0                  0.0  \n",
       "2018-01-15 23:58:00    0                  0.0  \n",
       "2018-01-15 23:59:00    0                  0.0  \n",
       "\n",
       "[1440 rows x 20 columns]"
      ]
     },
     "execution_count": 57,
     "metadata": {},
     "output_type": "execute_result"
    }
   ],
   "source": [
    "df[df.index.date == date_ls[0]]"
   ]
  },
  {
   "cell_type": "code",
   "execution_count": 78,
   "id": "33026b3b",
   "metadata": {
    "ExecuteTime": {
     "end_time": "2022-01-24T10:37:18.592964Z",
     "start_time": "2022-01-24T10:37:17.722155Z"
    }
   },
   "outputs": [
    {
     "data": {
      "image/png": "[encoded data removed]",
      "text/plain": [
       "<Figure size 1000x300 with 1 Axes>"
      ]
     },
     "metadata": {},
     "output_type": "display_data"
    }
   ],
   "source": [
    "mpl.rcParams[\"lines.markersize\"] = 2\n",
    "def day_plot(df, idx):\n",
    "    temp = df[df.index.date == date_ls[idx]]\n",
    "    fig, ax = plt.subplots(figsize=(10,3))\n",
    "    # Base Volume plot\n",
    "    ax.plot(temp.Volume, zorder=1)\n",
    "    ax.set_title(f'{date_ls[idx]}')\n",
    "    ax.xaxis.set_major_formatter(mdates.DateFormatter('%H:%M'))\n",
    "    for i in range(0, len(temp)):\n",
    "        if temp.Incident_Type1[i] != 'None1':\n",
    "            ax.scatter(temp.index[i], temp.iloc[i, 1], zorder=2,\n",
    "                      color = 'red', marker='.', label='Incident')\n",
    "        elif temp.Incident_Type2[i] != 'None2':\n",
    "            ax.scatter(temp.index[i], temp.iloc[i, 1], zorder=2,\n",
    "                      color = 'red', marker='.', label='Incident')\n",
    "        elif temp.Downstream_Incident[i] == 1:\n",
    "            ax.scatter(temp.index[i], temp.iloc[i, 1], zorder=2,\n",
    "                      color = 'green', marker='.')\n",
    "    \n",
    "    plt.show()\n",
    "\n",
    "day_plot(df, 41)"
   ]
  },
  {
   "cell_type": "code",
   "execution_count": 68,
   "id": "de29cf99",
   "metadata": {
    "ExecuteTime": {
     "end_time": "2022-01-24T08:20:06.012211Z",
     "start_time": "2022-01-24T08:20:06.004271Z"
    }
   },
   "outputs": [
    {
     "data": {
      "text/plain": [
       "11.0"
      ]
     },
     "execution_count": 68,
     "metadata": {},
     "output_type": "execute_result"
    }
   ],
   "source": [
    "#     for i in range(0, len(temp)):\n",
    "#         if temp.Incident_Type1[i] != 'None1':\n",
    "#             ax.scatter(temp.index[i], temp.iloc[i, 1], zorder=2,\n",
    "#                       color = 'red', marker='*', label='Incident')\n",
    "#         elif temp.Incident_Type2[i] != 'None2':\n",
    "#             ax.scatter(temp.index[i], temp.iloc[i, 1], zorder=2,\n",
    "#                       color = 'red', marker='*', label='Incident')"
   ]
  },
  {
   "cell_type": "markdown",
   "id": "892746eb",
   "metadata": {},
   "source": [
    "#### Link 1"
   ]
  },
  {
   "cell_type": "code",
   "execution_count": 15,
   "id": "5dafbd1b",
   "metadata": {
    "ExecuteTime": {
     "end_time": "2022-01-24T12:22:09.642293Z",
     "start_time": "2022-01-24T12:22:09.601402Z"
    }
   },
   "outputs": [],
   "source": [
    "df1 = df[df.ID==1]"
   ]
  },
  {
   "cell_type": "code",
   "execution_count": 16,
   "id": "383cf8c6",
   "metadata": {
    "ExecuteTime": {
     "end_time": "2022-01-24T12:22:10.989102Z",
     "start_time": "2022-01-24T12:22:10.882381Z"
    }
   },
   "outputs": [
    {
     "name": "stdout",
     "output_type": "stream",
     "text": [
      "<class 'pandas.core.frame.DataFrame'>\n",
      "DatetimeIndex: 429120 entries, 2018-01-01 00:00:00 to 2018-10-25 23:59:00\n",
      "Data columns (total 6 columns):\n",
      " #   Column            Non-Null Count   Dtype  \n",
      "---  ------            --------------   -----  \n",
      " 0   Length            429120 non-null  float64\n",
      " 1   Volume            429120 non-null  float64\n",
      " 2   Speed             429120 non-null  float64\n",
      " 3   Occupancy         429120 non-null  float64\n",
      " 4   Incident_Type     1301 non-null    object \n",
      " 5   TrafficCondition  1301 non-null    object \n",
      "dtypes: float64(4), object(2)\n",
      "memory usage: 22.9+ MB\n"
     ]
    }
   ],
   "source": [
    "df1.drop('ID', axis=1, inplace=True)\n",
    "df1 = df1.set_index('DateTime')\n",
    "df1.index = pd.to_datetime(df1.index)\n",
    "if not df1.index.is_monotonic:\n",
    "    df1 = df1.sort_index()\n",
    "\n",
    "df1.info()"
   ]
  },
  {
   "cell_type": "code",
   "execution_count": 20,
   "id": "346c1c09",
   "metadata": {
    "ExecuteTime": {
     "end_time": "2022-01-24T12:23:54.804767Z",
     "start_time": "2022-01-24T12:23:54.795793Z"
    }
   },
   "outputs": [],
   "source": [
    "df1 = df1.loc['2018-08-27 08:30:00':'2018-08-27 13:30:00']"
   ]
  },
  {
   "cell_type": "code",
   "execution_count": 22,
   "id": "194517d4",
   "metadata": {
    "ExecuteTime": {
     "end_time": "2022-01-24T12:24:48.034304Z",
     "start_time": "2022-01-24T12:24:48.026376Z"
    }
   },
   "outputs": [],
   "source": [
    "df1 = df1[['Volume']]"
   ]
  },
  {
   "cell_type": "code",
   "execution_count": 25,
   "id": "41e7ce57",
   "metadata": {
    "ExecuteTime": {
     "end_time": "2022-01-24T12:25:38.676169Z",
     "start_time": "2022-01-24T12:25:38.658216Z"
    }
   },
   "outputs": [],
   "source": [
    "df1 = df1.groupby(df1.index.floor('15T').time).sum()"
   ]
  },
  {
   "cell_type": "code",
   "execution_count": 26,
   "id": "484fbf80",
   "metadata": {
    "ExecuteTime": {
     "end_time": "2022-01-24T12:25:42.691040Z",
     "start_time": "2022-01-24T12:25:42.667106Z"
    }
   },
   "outputs": [
    {
     "data": {
      "text/html": [
       "<div>\n",
       "<style scoped>\n",
       "    .dataframe tbody tr th:only-of-type {\n",
       "        vertical-align: middle;\n",
       "    }\n",
       "\n",
       "    .dataframe tbody tr th {\n",
       "        vertical-align: top;\n",
       "    }\n",
       "\n",
       "    .dataframe thead th {\n",
       "        text-align: right;\n",
       "    }\n",
       "</style>\n",
       "<table border=\"1\" class=\"dataframe\">\n",
       "  <thead>\n",
       "    <tr style=\"text-align: right;\">\n",
       "      <th></th>\n",
       "      <th>Volume</th>\n",
       "    </tr>\n",
       "  </thead>\n",
       "  <tbody>\n",
       "    <tr>\n",
       "      <th>08:30:00</th>\n",
       "      <td>577.0</td>\n",
       "    </tr>\n",
       "    <tr>\n",
       "      <th>08:45:00</th>\n",
       "      <td>588.0</td>\n",
       "    </tr>\n",
       "    <tr>\n",
       "      <th>09:00:00</th>\n",
       "      <td>585.0</td>\n",
       "    </tr>\n",
       "    <tr>\n",
       "      <th>09:15:00</th>\n",
       "      <td>598.0</td>\n",
       "    </tr>\n",
       "    <tr>\n",
       "      <th>09:30:00</th>\n",
       "      <td>600.0</td>\n",
       "    </tr>\n",
       "    <tr>\n",
       "      <th>09:45:00</th>\n",
       "      <td>601.0</td>\n",
       "    </tr>\n",
       "    <tr>\n",
       "      <th>10:00:00</th>\n",
       "      <td>592.0</td>\n",
       "    </tr>\n",
       "    <tr>\n",
       "      <th>10:15:00</th>\n",
       "      <td>602.0</td>\n",
       "    </tr>\n",
       "    <tr>\n",
       "      <th>10:30:00</th>\n",
       "      <td>583.0</td>\n",
       "    </tr>\n",
       "    <tr>\n",
       "      <th>10:45:00</th>\n",
       "      <td>613.0</td>\n",
       "    </tr>\n",
       "    <tr>\n",
       "      <th>11:00:00</th>\n",
       "      <td>539.0</td>\n",
       "    </tr>\n",
       "    <tr>\n",
       "      <th>11:15:00</th>\n",
       "      <td>577.0</td>\n",
       "    </tr>\n",
       "    <tr>\n",
       "      <th>11:30:00</th>\n",
       "      <td>535.0</td>\n",
       "    </tr>\n",
       "    <tr>\n",
       "      <th>11:45:00</th>\n",
       "      <td>598.0</td>\n",
       "    </tr>\n",
       "    <tr>\n",
       "      <th>12:00:00</th>\n",
       "      <td>587.0</td>\n",
       "    </tr>\n",
       "    <tr>\n",
       "      <th>12:15:00</th>\n",
       "      <td>593.0</td>\n",
       "    </tr>\n",
       "    <tr>\n",
       "      <th>12:30:00</th>\n",
       "      <td>577.0</td>\n",
       "    </tr>\n",
       "    <tr>\n",
       "      <th>12:45:00</th>\n",
       "      <td>588.0</td>\n",
       "    </tr>\n",
       "    <tr>\n",
       "      <th>13:00:00</th>\n",
       "      <td>558.0</td>\n",
       "    </tr>\n",
       "    <tr>\n",
       "      <th>13:15:00</th>\n",
       "      <td>594.0</td>\n",
       "    </tr>\n",
       "    <tr>\n",
       "      <th>13:30:00</th>\n",
       "      <td>39.0</td>\n",
       "    </tr>\n",
       "  </tbody>\n",
       "</table>\n",
       "</div>"
      ],
      "text/plain": [
       "          Volume\n",
       "08:30:00   577.0\n",
       "08:45:00   588.0\n",
       "09:00:00   585.0\n",
       "09:15:00   598.0\n",
       "09:30:00   600.0\n",
       "09:45:00   601.0\n",
       "10:00:00   592.0\n",
       "10:15:00   602.0\n",
       "10:30:00   583.0\n",
       "10:45:00   613.0\n",
       "11:00:00   539.0\n",
       "11:15:00   577.0\n",
       "11:30:00   535.0\n",
       "11:45:00   598.0\n",
       "12:00:00   587.0\n",
       "12:15:00   593.0\n",
       "12:30:00   577.0\n",
       "12:45:00   588.0\n",
       "13:00:00   558.0\n",
       "13:15:00   594.0\n",
       "13:30:00    39.0"
      ]
     },
     "execution_count": 26,
     "metadata": {},
     "output_type": "execute_result"
    }
   ],
   "source": [
    "df1"
   ]
  },
  {
   "cell_type": "code",
   "execution_count": 27,
   "id": "6a19c5cc",
   "metadata": {
    "ExecuteTime": {
     "end_time": "2022-01-24T12:26:13.698442Z",
     "start_time": "2022-01-24T12:26:13.690464Z"
    }
   },
   "outputs": [],
   "source": [
    "df1.to_csv('data/Link1_vol.csv')"
   ]
  }
 ],
 "metadata": {
  "hide_input": false,
  "kernelspec": {
   "display_name": "Python 3 (ipykernel)",
   "language": "python",
   "name": "python3"
  },
  "language_info": {
   "codemirror_mode": {
    "name": "ipython",
    "version": 3
   },
   "file_extension": ".py",
   "mimetype": "text/x-python",
   "name": "python",
   "nbconvert_exporter": "python",
   "pygments_lexer": "ipython3",
   "version": "3.8.5"
  },
  "latex_envs": {
   "LaTeX_envs_menu_present": true,
   "autoclose": false,
   "autocomplete": true,
   "bibliofile": "biblio.bib",
   "cite_by": "apalike",
   "current_citInitial": 1,
   "eqLabelWithNumbers": true,
   "eqNumInitial": 1,
   "hotkeys": {
    "equation": "Ctrl-E",
    "itemize": "Ctrl-I"
   },
   "labels_anchors": false,
   "latex_user_defs": false,
   "report_style_numbering": false,
   "user_envs_cfg": false
  },
  "toc": {
   "base_numbering": 1,
   "nav_menu": {},
   "number_sections": true,
   "sideBar": true,
   "skip_h1_title": false,
   "title_cell": "Table of Contents",
   "title_sidebar": "Contents",
   "toc_cell": false,
   "toc_position": {
    "height": "calc(100% - 180px)",
    "left": "10px",
    "top": "150px",
    "width": "179.42px"
   },
   "toc_section_display": true,
   "toc_window_display": true
  },
  "varInspector": {
   "cols": {
    "lenName": 16,
    "lenType": 16,
    "lenVar": 40
   },
   "kernels_config": {
    "python": {
     "delete_cmd_postfix": "",
     "delete_cmd_prefix": "del ",
     "library": "var_list.py",
     "varRefreshCmd": "print(var_dic_list())"
    },
    "r": {
     "delete_cmd_postfix": ") ",
     "delete_cmd_prefix": "rm(",
     "library": "var_list.r",
     "varRefreshCmd": "cat(var_dic_list()) "
    }
   },
   "position": {
    "height": "269.855px",
    "left": "543.136px",
    "right": "20px",
    "top": "120px",
    "width": "334.007px"
   },
   "types_to_exclude": [
    "module",
    "function",
    "builtin_function_or_method",
    "instance",
    "_Feature"
   ],
   "window_display": false
  }
 },
 "nbformat": 4,
 "nbformat_minor": 5
}
