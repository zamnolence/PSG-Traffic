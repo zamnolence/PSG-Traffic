{
 "cells": [
  {
   "cell_type": "markdown",
   "id": "f28d8a24",
   "metadata": {},
   "source": [
    "# EDA & Visualisation"
   ]
  },
  {
   "cell_type": "code",
   "execution_count": null,
   "id": "a6768f4f",
   "metadata": {
    "ExecuteTime": {
     "end_time": "2022-01-25T06:57:31.097749Z",
     "start_time": "2022-01-25T06:57:29.056807Z"
    }
   },
   "outputs": [],
   "source": [
    "%reset"
   ]
  },
  {
   "cell_type": "code",
   "execution_count": null,
   "id": "bd771912",
   "metadata": {
    "ExecuteTime": {
     "end_time": "2022-01-25T13:20:20.590298Z",
     "start_time": "2022-01-25T13:20:19.013345Z"
    }
   },
   "outputs": [],
   "source": [
    "# Python ≥3.5 is required\n",
    "import sys\n",
    "assert sys.version_info >= (3, 5)\n",
    "\n",
    "# Common imports\n",
    "import os\n",
    "import timeit\n",
    "import numpy as np\n",
    "import pandas as pd\n",
    "import seaborn as sns\n",
    "from math import sqrt\n",
    "from datetime import date\n",
    "import holidays\n",
    "sns.set()\n",
    "import warnings\n",
    "warnings.filterwarnings(\"ignore\")\n",
    "\n",
    "# To plot pretty figures\n",
    "import matplotlib as mpl\n",
    "import matplotlib.pyplot as plt\n",
    "import matplotlib.dates as mdates\n",
    "mpl.rcParams.update(mpl.rcParamsDefault)\n",
    "mpl.rcParams[\"font.family\"] = \"serif\"\n",
    "mpl.rcParams[\"font.sans-serif\"] = \"Verdana\"\n",
    "# mpl.rcParams[\"lines.markersize\"] = 20"
   ]
  },
  {
   "cell_type": "markdown",
   "id": "5d61e91d",
   "metadata": {
    "heading_collapsed": true
   },
   "source": [
    "## Incident File\n",
    "\n",
    "Incident data of Kwinana Fwy (Inner) northbound from 2018-01-01 00:00:00 to 2018-10-25 23:59:00"
   ]
  },
  {
   "cell_type": "code",
   "execution_count": null,
   "id": "355572e3",
   "metadata": {
    "ExecuteTime": {
     "end_time": "2022-01-24T07:45:54.364372Z",
     "start_time": "2022-01-24T07:45:54.343429Z"
    },
    "hidden": true
   },
   "outputs": [],
   "source": [
    "df1 = pd.read_csv('data/Kwinana_Fwy_Historic_Incidents_2018_Wide.csv')\n",
    "df1 = df1[df1.Incident_Type != 'Duplicate Entry']\n",
    "df1 = df1.reset_index(drop=True)\n",
    "df1.WST_Start = pd.to_datetime(df1.WST_Start)\n",
    "df1.WST_End = pd.to_datetime(df1.WST_End)\n",
    "df1.Incident_Type = df1.Incident_Type.str.replace('/', '/\\n')\n",
    "df1.info()"
   ]
  },
  {
   "cell_type": "code",
   "execution_count": null,
   "id": "44061bb6",
   "metadata": {
    "ExecuteTime": {
     "end_time": "2022-01-23T03:29:11.871446Z",
     "start_time": "2022-01-23T03:29:11.635437Z"
    },
    "hidden": true
   },
   "outputs": [],
   "source": [
    "fig, ax = plt.subplots(figsize=(6,6))\n",
    "ax = sns.barplot(x=df1.Incident_Type.value_counts(),\n",
    "           y=df1.Incident_Type.value_counts().index)\n",
    "ax.set_xlabel('Frequency')\n",
    "ax.set_xlim(right=200)\n",
    "for p in ax.patches:\n",
    "  width = p.get_width()\n",
    "  ax.text(width + 1,\n",
    "          p.get_y() + p.get_height()/2,\n",
    "          int(width),\n",
    "          ha=\"left\",\n",
    "          va=\"center\")\n",
    "#plt.savefig('fig/incident_type_1.png', bbox_inches=\"tight\")\n",
    "plt.show()"
   ]
  },
  {
   "cell_type": "markdown",
   "id": "1d24427b",
   "metadata": {
    "hidden": true
   },
   "source": [
    "Since Special Event, Pothole / Road Surface Damage, and Hazmat (including spills) did not affect traffic congestion, these three categories are combined into one category called 'Special Event / Pothole / Hazmat'\n",
    "\n",
    "Also, Flooding and Storm are combined into one category called 'Flooding / Storm'"
   ]
  },
  {
   "cell_type": "code",
   "execution_count": null,
   "id": "8ced3bf7",
   "metadata": {
    "ExecuteTime": {
     "end_time": "2022-01-24T07:45:58.403719Z",
     "start_time": "2022-01-24T07:45:58.390759Z"
    },
    "hidden": true
   },
   "outputs": [],
   "source": [
    "df1.Incident_Type=df1.Incident_Type.replace(['Special Event',\n",
    "                                            'Pothole /\\n Road Surface Damage',\n",
    "                                            'Hazmat (including spills)'],\n",
    "                                           'Special Event /\\nPothole / Hazmat')\n",
    "\n",
    "df1.Incident_Type=df1.Incident_Type.replace(['Flooding', 'Storm'],\n",
    "                                           'Flooding /\\nStorm')"
   ]
  },
  {
   "cell_type": "code",
   "execution_count": null,
   "id": "a0c80e08",
   "metadata": {
    "ExecuteTime": {
     "end_time": "2022-01-23T13:14:22.098326Z",
     "start_time": "2022-01-23T13:14:21.911997Z"
    },
    "hidden": true,
    "scrolled": false
   },
   "outputs": [],
   "source": [
    "cmp = mpl.colors.ListedColormap(['#4053d3', '#00b25d', '#b51d14', '#ddb310'])\n",
    "\n",
    "plt.rcParams.update({'font.size': 16})\n",
    "fig, ax = plt.subplots(figsize=(10,8))\n",
    "ax = sns.barplot(x=df1.Incident_Type.value_counts(),\n",
    "           y=df1.Incident_Type.value_counts().index,\n",
    "                palette=['#4053d3', '#00b25d', '#b51d14', '#ddb310'])\n",
    "ax.set_ylabel('Incident Type', size=18)\n",
    "ax.set_xlabel('Frequency', size=18)\n",
    "ax.set_xlim(right=200)\n",
    "for p in ax.patches:\n",
    "  width = p.get_width()\n",
    "  ax.text(width + 12,\n",
    "          p.get_y() + p.get_height()/2,\n",
    "          str(int(width)) + '\\n(' + str(np.round(width/371*100, 1)) + '%)',\n",
    "          ha=\"center\",\n",
    "          va=\"center\")\n",
    "plt.savefig('fig/incident_type.png', bbox_inches=\"tight\")\n",
    "plt.show()"
   ]
  },
  {
   "cell_type": "code",
   "execution_count": null,
   "id": "01414773",
   "metadata": {
    "ExecuteTime": {
     "end_time": "2022-01-24T07:46:01.279179Z",
     "start_time": "2022-01-24T07:46:01.262225Z"
    },
    "hidden": true
   },
   "outputs": [],
   "source": [
    "df1.Incident_Type = df1.Incident_Type.replace([\n",
    "    'Flooding /\\nStorm', 'Special Event /\\nPothole / Hazmat',\n",
    "    'Special Event /\\nPothole / Hazmat', 'Animal /\\n Livestock',\n",
    "    'Vehicle Fire'], 'Miscellaneous')"
   ]
  },
  {
   "cell_type": "code",
   "execution_count": null,
   "id": "2b420c8c",
   "metadata": {
    "ExecuteTime": {
     "end_time": "2022-01-23T13:20:22.070746Z",
     "start_time": "2022-01-23T13:20:21.791339Z"
    },
    "hidden": true
   },
   "outputs": [],
   "source": [
    "temp2 = df1.groupby(['Incident_Type', 'Congestion']).size().unstack()\n",
    "temp2['sum'] = temp2.sum(axis=1)\n",
    "\n",
    "plt.rcParams[\"figure.figsize\"] = (10,8)\n",
    "plt.rcParams.update({'font.size': 16})\n",
    "\n",
    "cmp = mpl.colors.ListedColormap(['#efe645', '#e1562c', '#537eff'])\n",
    "\n",
    "ax=(temp2.sort_values(by='sum').iloc[:,:-1]\n",
    "    .plot(kind='barh', stacked=True, width=0.7,\n",
    "          cmap=cmp))\n",
    "ax.set_xlim(right=200)\n",
    "ax.set_ylabel('Incident Type', size=18)\n",
    "ax.set_xlabel('Frequency', size=18)\n",
    "ax.legend(title='')\n",
    "for i, v in enumerate(temp2.sort_values('sum')['sum']):\n",
    "    ax.text(v+12, i, \n",
    "            str(int(v)) + '\\n(' + str(np.round(v/temp2['sum'].sum()*100, 1)) + '%)',\n",
    "            va = 'center', ha = 'center', fontsize = 14)\n",
    "    \n",
    "for n in temp2.iloc[:,:-1]: # for each column\n",
    "    for i, (cs, ab) in enumerate(zip(temp2.sort_values(by='sum').cumsum(1)[n], \n",
    "                                     temp2.sort_values(by='sum')[n])):\n",
    "        if ~np.isnan(cs) and ab > 4:\n",
    "            ax.text(cs - ab / 2, i,\n",
    "                 str(int(ab)) + '\\n(' + str(np.round(ab/temp2['sum'].sum()*100, 1)) + '%)', \n",
    "                 va = 'center', ha = 'center', rotation = 20, fontsize = 12)   \n",
    "\n",
    "plt.savefig('fig/incident_congestion_2.png', bbox_inches=\"tight\")\n",
    "plt.show()"
   ]
  },
  {
   "cell_type": "code",
   "execution_count": null,
   "id": "012226bc",
   "metadata": {
    "ExecuteTime": {
     "end_time": "2022-01-24T07:46:03.817213Z",
     "start_time": "2022-01-24T07:46:03.807217Z"
    },
    "hidden": true
   },
   "outputs": [],
   "source": [
    "df1.TrafficCondition=df1.TrafficCondition.replace(['Left Emergency Lane Blocked',\n",
    "                                             'Right Emergency Lane Blocked'],\n",
    "                                             'Emergency Lane Blocked')\n",
    "\n",
    "df1.TrafficCondition=df1.TrafficCondition.replace(['Left Lane(s) Blocked',\n",
    "                                             'Right Lane(s) Blocked',\n",
    "                                             'Centre Lane(s) Blocked',\n",
    "                                             'Left Centre Lane(s) Blocked',\n",
    "                                             'Right Centre Lane(s) Blocked',\n",
    "                                             'Bus Lane Blocked'],\n",
    "                                             'Lane(s) Blocked')\n",
    "\n",
    "df1.TrafficCondition=df1.TrafficCondition.replace(['Left Turning Pocket Blocked',\n",
    "                                             'Right Turning Pocket Blocked'],\n",
    "                                             'Turning Pocket Blocked')"
   ]
  },
  {
   "cell_type": "code",
   "execution_count": null,
   "id": "164a5363",
   "metadata": {
    "ExecuteTime": {
     "end_time": "2022-01-23T13:21:30.751883Z",
     "start_time": "2022-01-23T13:21:30.447662Z"
    },
    "hidden": true,
    "scrolled": false
   },
   "outputs": [],
   "source": [
    "temp2 = df1.groupby(['Incident_Type', 'TrafficCondition']).size().unstack()\n",
    "temp2['sum'] = temp2.sum(axis=1)\n",
    "\n",
    "plt.rcParams[\"figure.figsize\"] = (10,8)\n",
    "plt.rcParams.update({'font.size': 16})\n",
    "\n",
    "cmp = mpl.colors.ListedColormap(['#00cb85', '#efe645', '#537eff',\n",
    "                                '#e1562c', '#00e3ff'])\n",
    "\n",
    "ax=(temp2.sort_values(by='sum').iloc[:,:-1]\n",
    "    .plot(kind='barh', stacked=True, width=0.7,\n",
    "          cmap=cmp))\n",
    "ax.set_xlim(right=200)\n",
    "ax.set_ylabel('Incident Type', size=18)\n",
    "ax.set_xlabel('Frequency', size=18)\n",
    "ax.legend(title='Traffic Condition')\n",
    "for i, v in enumerate(temp2.sort_values('sum')['sum']):\n",
    "    ax.text(v+12, i, \n",
    "            str(int(v)) + '\\n(' + str(np.round(v/temp2['sum'].sum()*100, 1)) + '%)',\n",
    "            va = 'center', ha = 'center', fontsize = 14)\n",
    "    \n",
    "for n in temp2.iloc[:,:-1]: # for each column\n",
    "    for i, (cs, ab) in enumerate(zip(temp2.sort_values(by='sum').cumsum(1)[n], \n",
    "                                     temp2.sort_values(by='sum')[n])):\n",
    "        if ~np.isnan(cs) and ab > 6:\n",
    "            ax.text(cs - ab / 2, i,\n",
    "                 str(int(ab)) + '\\n(' + str(np.round(ab/temp2['sum'].sum()*100, 1)) + '%)', \n",
    "                 va = 'center', ha = 'center', rotation = 20, fontsize = 12)   \n",
    "\n",
    "#plt.savefig('fig/incident_condition_2.png', bbox_inches=\"tight\")\n",
    "plt.show()"
   ]
  },
  {
   "cell_type": "code",
   "execution_count": null,
   "id": "7b6f3cee",
   "metadata": {
    "ExecuteTime": {
     "end_time": "2022-01-23T11:24:21.792633Z",
     "start_time": "2022-01-23T11:24:21.485810Z"
    },
    "hidden": true
   },
   "outputs": [],
   "source": [
    "temp2 = df1.groupby(['TrafficCondition', 'Congestion']).size().unstack()\n",
    "temp2['sum'] = temp2.sum(axis=1)\n",
    "\n",
    "plt.rcParams[\"figure.figsize\"] = (10,8)\n",
    "plt.rcParams.update({'font.size': 16})\n",
    "\n",
    "cmp = mpl.colors.ListedColormap(['#efe645', '#e1562c', '#537eff'])\n",
    "\n",
    "ax=(temp2.sort_values(by='sum').iloc[:,:-1]\n",
    "    .plot(kind='barh', stacked=True, width=0.7,\n",
    "          cmap=cmp))\n",
    "ax.set_xlim(right=200)\n",
    "ax.set_ylabel('Traffic Condition', size=18)\n",
    "ax.set_xlabel('Frequency', size=18)\n",
    "ax.legend(title='')\n",
    "for i, v in enumerate(temp2.sort_values('sum')['sum']):\n",
    "    ax.text(v+12, i, \n",
    "            str(int(v)) + '\\n(' + str(np.round(v/temp2['sum'].sum()*100, 1)) + '%)',\n",
    "            va = 'center', ha = 'center', fontsize = 14)\n",
    "    \n",
    "for n in temp2.iloc[:,:-1]: # for each column\n",
    "    for i, (cs, ab) in enumerate(zip(temp2.sort_values(by='sum').cumsum(1)[n], \n",
    "                                     temp2.sort_values(by='sum')[n])):\n",
    "        if ~np.isnan(cs) and ab > 6:\n",
    "            ax.text(cs - ab / 2, i,\n",
    "                 str(int(ab)) + '\\n(' + str(np.round(ab/temp2['sum'].sum()*100, 1)) + '%)', \n",
    "                 va = 'center', ha = 'center', rotation = 20, fontsize = 12)   \n",
    "\n",
    "#plt.savefig('fig/condition_congestion.png', bbox_inches=\"tight\")\n",
    "plt.show()"
   ]
  },
  {
   "cell_type": "code",
   "execution_count": null,
   "id": "8664ab39",
   "metadata": {
    "ExecuteTime": {
     "end_time": "2022-01-24T07:46:09.399804Z",
     "start_time": "2022-01-24T07:46:09.366863Z"
    },
    "hidden": true,
    "scrolled": true
   },
   "outputs": [],
   "source": [
    "def func2(a):\n",
    "    if -32.091154 <= a < -32.080696:\n",
    "        return \"1\"\n",
    "    elif -32.080696 <= a < -32.074042:\n",
    "        return \"2\"\n",
    "    elif -32.074042 <= a < -32.071075:\n",
    "        return \"3\"\n",
    "    elif -32.071075 <= a < -32.057092:\n",
    "        return \"4\"\n",
    "    elif -32.057092 <= a < -32.052286:\n",
    "        return \"5\"\n",
    "    elif -32.052286 <= a < -32.043637:\n",
    "        return \"6\"\n",
    "    elif -32.043637 <= a < -32.040758:\n",
    "        return \"7\"\n",
    "    elif -32.040758 <= a < -32.030254:\n",
    "        return \"8\"\n",
    "    elif -32.030254 <= a < -32.012242:\n",
    "        return \"9\"\n",
    "    elif -32.012242 <= a < -32.010690:\n",
    "        return \"10\"\n",
    "    elif -32.010690 <= a < -32.003147:\n",
    "        return \"11\"\n",
    "    elif -32.003147 <= a < -31.969905:\n",
    "        return \"12\"\n",
    "    elif -31.969905 <= a < -31.966753:\n",
    "        return \"13\"\n",
    "    elif a >= -31.966753 :\n",
    "        return \"14\"\n",
    "    else:\n",
    "        return \"Other\"\n",
    "\n",
    "df1['ID'] = df1['Lat'].apply(lambda x: func2(x))\n",
    "df1.ID = df1.ID.astype(int)\n",
    "df1.head()"
   ]
  },
  {
   "cell_type": "code",
   "execution_count": null,
   "id": "bb9747b9",
   "metadata": {
    "ExecuteTime": {
     "end_time": "2022-01-23T12:00:22.728010Z",
     "start_time": "2022-01-23T12:00:22.692142Z"
    },
    "hidden": true
   },
   "outputs": [],
   "source": [
    "df1.describe()"
   ]
  },
  {
   "cell_type": "code",
   "execution_count": null,
   "id": "eaa9707c",
   "metadata": {
    "ExecuteTime": {
     "end_time": "2022-01-23T13:17:43.488204Z",
     "start_time": "2022-01-23T13:17:42.951945Z"
    },
    "hidden": true
   },
   "outputs": [],
   "source": [
    "temp2 = df1.groupby(['ID', 'Incident_Type']).size().unstack()\n",
    "temp2['sum'] = temp2.sum(axis=1)\n",
    "\n",
    "plt.rcParams[\"figure.figsize\"] = (10,10)\n",
    "plt.rcParams.update({'font.size': 16})\n",
    "\n",
    "cmp = mpl.colors.ListedColormap(['#4053d3', '#00b25d', '#ddb310', '#b51d14'])\n",
    "\n",
    "ax=(temp2.sort_values(by='sum').iloc[:,:-1]\n",
    "    .plot(kind='barh', stacked=True, width=0.7,\n",
    "          cmap=cmp))\n",
    "ax.set_xlim(right=90)\n",
    "ax.set_ylabel('Link', size=18)\n",
    "ax.set_xlabel('Frequency', size=18)\n",
    "ax.legend(title='Incident Type')\n",
    "for i, v in enumerate(temp2.sort_values('sum')['sum']):\n",
    "    ax.text(v+5, i, \n",
    "            str(int(v)) + '\\n(' + str(np.round(v/temp2['sum'].sum()*100, 1)) + '%)',\n",
    "            va = 'center', ha = 'center', fontsize = 12)\n",
    "    \n",
    "for n in temp2.iloc[:,:-1]: # for each column\n",
    "    for i, (cs, ab) in enumerate(zip(temp2.sort_values(by='sum').cumsum(1)[n], \n",
    "                                     temp2.sort_values(by='sum')[n])):\n",
    "        if ~np.isnan(cs) and ab >= 5:\n",
    "            ax.text(cs - ab / 2, i-.01,\n",
    "                 str(int(ab)) + '\\n(' + str(np.round(ab/temp2['sum'].sum()*100, 1)) + '%)', \n",
    "                 va = 'center', ha = 'center', rotation=15, fontsize = 11)   \n",
    "\n",
    "#plt.savefig('fig/incident_link_2.png', bbox_inches=\"tight\")\n",
    "plt.show()"
   ]
  },
  {
   "cell_type": "code",
   "execution_count": null,
   "id": "881ac27b",
   "metadata": {
    "ExecuteTime": {
     "end_time": "2022-01-23T05:07:41.656497Z",
     "start_time": "2022-01-23T05:07:41.639364Z"
    },
    "hidden": true
   },
   "outputs": [],
   "source": [
    "del temp2"
   ]
  },
  {
   "cell_type": "code",
   "execution_count": null,
   "id": "61e1abbe",
   "metadata": {
    "ExecuteTime": {
     "end_time": "2022-01-23T05:08:03.356552Z",
     "start_time": "2022-01-23T05:08:03.158885Z"
    },
    "hidden": true,
    "scrolled": false
   },
   "outputs": [],
   "source": [
    "import matplotlib.cm as cm\n",
    "import matplotlib.colors as mcolors\n",
    "\n",
    "def colorbar_index(ncolors, cmap):\n",
    "    cmap = cmap_discretize(cmap, ncolors)\n",
    "    mappable = cm.ScalarMappable(cmap=cmap)\n",
    "    mappable.set_array([])\n",
    "    mappable.set_clim(-0.5, ncolors+0.5)\n",
    "    colorbar = plt.colorbar(mappable)\n",
    "    colorbar.set_ticks(np.linspace(0, ncolors, ncolors))\n",
    "    colorbar.set_ticklabels(range(1, ncolors+1))\n",
    "    colorbar.set_label('Link')\n",
    "    \n",
    "def cmap_discretize(cmap, N):\n",
    "    \"\"\"Return a discrete colormap from the continuous colormap cmap.\n",
    "\n",
    "        cmap: colormap instance, eg. cm.jet. \n",
    "        N: number of colors.\n",
    "\n",
    "    Example\n",
    "        x = resize(arange(100), (5,100))\n",
    "        djet = cmap_discretize(cm.jet, 5)\n",
    "        imshow(x, cmap=djet)\n",
    "    \"\"\"\n",
    "\n",
    "    if type(cmap) == str:\n",
    "        cmap = plt.get_cmap(cmap)\n",
    "    colors_i = np.concatenate((np.linspace(0, 1., N), (0.,0.,0.,0.)))\n",
    "    colors_rgba = cmap(colors_i)\n",
    "    indices = np.linspace(0, 1., N+1)\n",
    "    cdict = {}\n",
    "    for ki,key in enumerate(('red','green','blue')):\n",
    "        cdict[key] = [ (indices[i], colors_rgba[i-1,ki], colors_rgba[i,ki])\n",
    "                       for i in range(N+1) ]\n",
    "    # Return colormap object.\n",
    "    return mcolors.LinearSegmentedColormap(cmap.name + \"_%d\"%N, cdict, 1024)\n",
    "\n",
    "\n",
    "cmp = mpl.colors.ListedColormap(['#ebac23', '#b80058', '#008cf9',\n",
    "                                 '#006e00', '#00bbad', '#d163e6',\n",
    "                                 '#b24502', '#ff9287', '#5954d6',\n",
    "                                 '#00c6f8', '#878500', '#00a76c',\n",
    "                                 '#bdbdbd', '#000078', '#b51d14'])\n",
    "df1.plot(kind='scatter', x='Long', y='Lat', alpha=0.5,\n",
    "        s='Duration', c='ID', label='Duration',\n",
    "        cmap=cmp, colorbar=False, rot=45)\n",
    "plt.ticklabel_format(useOffset=False)\n",
    "plt.xlabel('Longitude')\n",
    "plt.ylabel('Latitude')\n",
    "plt.legend(markerscale=0.2)\n",
    "colorbar_index(ncolors=14, cmap=cmp)\n",
    "#plt.savefig('fig/incident_loc_link_2.png', bbox_inches=\"tight\")\n",
    "plt.show()"
   ]
  },
  {
   "cell_type": "markdown",
   "id": "1a6348ca",
   "metadata": {},
   "source": [
    "## Traffic + Incident data"
   ]
  },
  {
   "cell_type": "code",
   "execution_count": null,
   "id": "7715ae4e",
   "metadata": {
    "ExecuteTime": {
     "end_time": "2022-01-25T13:20:49.990809Z",
     "start_time": "2022-01-25T13:20:40.919332Z"
    }
   },
   "outputs": [],
   "source": [
    "df = pd.read_csv('data/clean/LAD+incident2.csv', index_col=0)\n",
    "df.DateTime = pd.to_datetime(df.DateTime)\n",
    "df.info()"
   ]
  },
  {
   "cell_type": "code",
   "execution_count": null,
   "id": "e354edd0",
   "metadata": {
    "ExecuteTime": {
     "end_time": "2022-01-25T05:16:38.590060Z",
     "start_time": "2022-01-25T05:16:38.191517Z"
    }
   },
   "outputs": [],
   "source": [
    "df.iloc[:,3:6] \\\n",
    "    .describe() \\\n",
    "    .apply(lambda s: s.apply('{0:.4f}'.format))"
   ]
  },
  {
   "cell_type": "code",
   "execution_count": null,
   "id": "a0390772",
   "metadata": {
    "ExecuteTime": {
     "end_time": "2022-01-25T05:16:40.564518Z",
     "start_time": "2022-01-25T05:16:40.229891Z"
    }
   },
   "outputs": [],
   "source": [
    "df.iloc[:,2:6].corr()"
   ]
  },
  {
   "cell_type": "markdown",
   "id": "f3b25849",
   "metadata": {
    "ExecuteTime": {
     "end_time": "2022-01-23T06:32:52.235209Z",
     "start_time": "2022-01-23T06:32:52.218255Z"
    }
   },
   "source": [
    "- Moderate positive correlation between volume and occupancy\n",
    "- High negative correlation between speed and occupancy"
   ]
  },
  {
   "cell_type": "markdown",
   "id": "29ad35f9",
   "metadata": {},
   "source": [
    "### All Link Volume on 27 Aug 18 (8.30 - 13.30)"
   ]
  },
  {
   "cell_type": "code",
   "execution_count": null,
   "id": "60d70188",
   "metadata": {
    "ExecuteTime": {
     "end_time": "2022-01-25T13:20:50.162170Z",
     "start_time": "2022-01-25T13:20:50.024719Z"
    }
   },
   "outputs": [],
   "source": [
    "v = df[['ID', 'DateTime', 'Volume', 'Speed', 'Occupancy']]; v.head()\n",
    "v = v[(v.DateTime >= '2018-08-27 08:30:00') &\n",
    "   (v.DateTime <= '2018-08-27 13:30:00')]\n",
    "v.ID = v.ID.astype(int)\n",
    "v['Start'] = '2018-08-27 08:30:00'\n",
    "v.Start = pd.to_datetime(v.Start)\n",
    "v['Minutes'] = (v['DateTime'] - v['Start']).dt.total_seconds()/60"
   ]
  },
  {
   "cell_type": "markdown",
   "id": "b57232c9",
   "metadata": {},
   "source": [
    "#### Plot 1"
   ]
  },
  {
   "cell_type": "code",
   "execution_count": null,
   "id": "5006f783",
   "metadata": {
    "ExecuteTime": {
     "end_time": "2022-01-25T08:25:03.588171Z",
     "start_time": "2022-01-25T08:25:02.428921Z"
    }
   },
   "outputs": [],
   "source": [
    "# 3D plot Volume 1\n",
    "from mpl_toolkits.mplot3d import Axes3D\n",
    "plt.rcParams.update({'font.size': 14})\n",
    "fig = plt.figure(figsize=(10,8))\n",
    "ax = plt.axes(projection='3d')\n",
    "surf = ax.plot_trisurf(v['ID'], v['Minutes'], v['Volume'], cmap='jet')\n",
    "ax.set_yticks(np.arange(0,301,60),\n",
    "             ['8:30', '9:30', '10:30', '11:30', '12:30', '13:30'])\n",
    "ax.set_xticks(np.arange(1,15,1),\n",
    "              ['1', '2', '3', '4', '5', '6', '7',\n",
    "               '8', '9', '10', '11', '12', '13', '14'])\n",
    "ax.set_ylabel('\\nTime (HH:MM)', fontsize=16, linespacing=1.5)\n",
    "ax.set_xlabel('\\nLink', fontsize=16, linespacing=1.5)\n",
    "ax.set_zlabel('Volume (veh/min)', fontsize=16)\n",
    "ax.invert_xaxis()\n",
    "\n",
    "ax.get_proj = lambda: np.dot(Axes3D.get_proj(ax),\n",
    "                             np.diag([1.2, 0.8, 1, 1]))\n",
    "\n",
    "ax.view_init(30, 60)\n",
    "fig.colorbar(surf, shrink=.45, aspect=10, anchor=(-0.1,0.55))\n",
    "#plt.savefig('fig/vol_3d_1.png', bbox_inches=\"tight\")\n",
    "plt.show()"
   ]
  },
  {
   "cell_type": "code",
   "execution_count": null,
   "id": "29aa31a4",
   "metadata": {
    "ExecuteTime": {
     "end_time": "2022-01-25T09:40:56.025347Z",
     "start_time": "2022-01-25T09:40:54.816581Z"
    }
   },
   "outputs": [],
   "source": [
    "# 3D plot Speed 1\n",
    "from mpl_toolkits.mplot3d import Axes3D\n",
    "plt.rcParams.update({'font.size': 14})\n",
    "fig = plt.figure(figsize=(10,8))\n",
    "ax = plt.axes(projection='3d')\n",
    "surf = ax.plot_trisurf(v['ID'], v['Minutes'], v['Speed'], cmap='jet')\n",
    "ax.set_yticks(np.arange(0,301,60),\n",
    "             ['8:30', '9:30', '10:30', '11:30', '12:30', '13:30'])\n",
    "ax.set_xticks(np.arange(1,15,1),\n",
    "              ['1', '2', '3', '4', '5', '6', '7',\n",
    "               '8', '9', '10', '11', '12', '13', '14'])\n",
    "ax.set_ylabel('\\nTime (HH:MM)', fontsize=16)\n",
    "ax.set_xlabel('\\nLink', fontsize=16, linespacing=1.5)\n",
    "ax.set_zlabel('Speed (km/hr)', fontsize=16)\n",
    "ax.invert_xaxis()\n",
    "\n",
    "ax.get_proj = lambda: np.dot(Axes3D.get_proj(ax),\n",
    "                             np.diag([1.2, 0.8, 1, 1]))\n",
    "\n",
    "ax.view_init(30, 60)\n",
    "fig.colorbar(surf, shrink=.6, aspect=10, anchor=(-0.1,0.55))\n",
    "#plt.savefig('fig/speed_3d_1.png', bbox_inches=\"tight\")\n",
    "plt.show()"
   ]
  },
  {
   "cell_type": "code",
   "execution_count": null,
   "id": "7e0096ce",
   "metadata": {
    "ExecuteTime": {
     "end_time": "2022-01-25T09:39:18.710537Z",
     "start_time": "2022-01-25T09:39:17.458848Z"
    }
   },
   "outputs": [],
   "source": [
    "# 3D plot Occupancy 1\n",
    "from mpl_toolkits.mplot3d import Axes3D\n",
    "plt.rcParams.update({'font.size': 14})\n",
    "fig = plt.figure(figsize=(10,8))\n",
    "ax = plt.axes(projection='3d')\n",
    "surf = ax.plot_trisurf(v['ID'], v['Minutes'], v['Occupancy']/100, cmap='jet')\n",
    "ax.set_yticks(np.arange(0,301,60),\n",
    "             ['8:30', '9:30', '10:30', '11:30', '12:30', '13:30'])\n",
    "ax.set_xticks(np.arange(1,15,1),\n",
    "              ['1', '2', '3', '4', '5', '6', '7',\n",
    "               '8', '9', '10', '11', '12', '13', '14'])\n",
    "ax.set_ylabel('\\nTime (HH:MM)', fontsize=16)\n",
    "ax.set_xlabel('\\nLink', fontsize=16, linespacing=1.5)\n",
    "ax.set_zlabel('\\nOccupancy (veh$\\cdot$km$\\cdot$100/area)', fontsize=16)\n",
    "ax.invert_xaxis()\n",
    "\n",
    "ax.get_proj = lambda: np.dot(Axes3D.get_proj(ax),\n",
    "                             np.diag([1.2, 0.8, 1, 1]))\n",
    "\n",
    "ax.view_init(30, 60)\n",
    "fig.colorbar(surf, shrink=.45, aspect=10, anchor=(-0.1,0.55))\n",
    "#plt.savefig('fig/occupancy_3d_1.png', bbox_inches=\"tight\")\n",
    "plt.show()"
   ]
  },
  {
   "cell_type": "code",
   "execution_count": null,
   "id": "71dbe1f7",
   "metadata": {
    "ExecuteTime": {
     "end_time": "2022-01-25T13:24:33.582073Z",
     "start_time": "2022-01-25T13:24:32.408674Z"
    }
   },
   "outputs": [],
   "source": [
    "# 3D plot Density 1\n",
    "from mpl_toolkits.mplot3d import Axes3D\n",
    "plt.rcParams.update({'font.size': 14})\n",
    "fig = plt.figure(figsize=(10,8))\n",
    "ax = plt.axes(projection='3d')\n",
    "surf = ax.plot_trisurf(v['ID'], v['Minutes'], v['Occupancy']/700*1000, cmap='jet')\n",
    "ax.set_yticks(np.arange(0,301,60),\n",
    "             ['8:30', '9:30', '10:30', '11:30', '12:30', '13:30'])\n",
    "ax.set_xticks(np.arange(1,15,1),\n",
    "              ['1', '2', '3', '4', '5', '6', '7',\n",
    "               '8', '9', '10', '11', '12', '13', '14'])\n",
    "ax.set_ylabel('\\nTime (HH:MM)', fontsize=16)\n",
    "ax.set_xlabel('\\nLink', fontsize=16, linespacing=1.5)\n",
    "ax.set_zlabel('\\nDensity (veh/km)', fontsize=16)\n",
    "ax.invert_xaxis()\n",
    "\n",
    "ax.get_proj = lambda: np.dot(Axes3D.get_proj(ax),\n",
    "                             np.diag([1.2, 0.8, 1, 1]))\n",
    "\n",
    "ax.view_init(30, 60)\n",
    "fig.colorbar(surf, shrink=.45, aspect=10, anchor=(-0.1,0.55))\n",
    "#plt.savefig('fig/density_3d_1.png', bbox_inches=\"tight\")\n",
    "plt.show()"
   ]
  },
  {
   "cell_type": "markdown",
   "id": "cf2968a0",
   "metadata": {},
   "source": [
    "#### Plot 2"
   ]
  },
  {
   "cell_type": "code",
   "execution_count": null,
   "id": "8801b678",
   "metadata": {
    "ExecuteTime": {
     "end_time": "2022-01-25T09:49:19.217168Z",
     "start_time": "2022-01-25T09:49:18.641069Z"
    }
   },
   "outputs": [],
   "source": [
    "# 3D plot Volume 2\n",
    "from mpl_toolkits.mplot3d import Axes3D\n",
    "plt.rcParams.update({'font.size': 14})\n",
    "fig = plt.figure(figsize=(10,8))\n",
    "ax = plt.axes(projection='3d')\n",
    "surf = ax.plot_trisurf(v['ID'], v['Minutes'], v['Volume'], cmap='jet')\n",
    "ax.set_yticks(np.arange(0,301,60),\n",
    "             ['8:30', '9:30', '10:30', '11:30', '12:30', '13:30'])\n",
    "ax.set_xticks(np.arange(1,15,1),\n",
    "              ['1', '2', '3', '4', '5', '6', '7',\n",
    "               '8', '9', '10', '11', '12', '13', '14'])\n",
    "ax.set_ylabel('\\nTime (HH:MM)', fontsize=16, linespacing=1.5)\n",
    "ax.set_xlabel('\\nLink', fontsize=16, linespacing=1.5)\n",
    "ax.set_zlabel('Volume (veh/min)', fontsize=16)\n",
    "\n",
    "ax.get_proj = lambda: np.dot(Axes3D.get_proj(ax),\n",
    "                             np.diag([1.2, 0.8, 1, 1]))\n",
    "\n",
    "ax.view_init(25, 45)\n",
    "fig.colorbar(surf, shrink=.45, aspect=8, anchor=(-1.2,0.5))\n",
    "#plt.savefig('fig/vol_3d_2.png', bbox_inches=\"tight\")\n",
    "plt.show()"
   ]
  },
  {
   "cell_type": "code",
   "execution_count": null,
   "id": "cd810cd6",
   "metadata": {
    "ExecuteTime": {
     "end_time": "2022-01-25T09:49:13.783514Z",
     "start_time": "2022-01-25T09:49:13.296512Z"
    }
   },
   "outputs": [],
   "source": [
    "# 3D plot Speed 2\n",
    "plt.rcParams.update({'font.size': 14})\n",
    "from mpl_toolkits.mplot3d import Axes3D\n",
    "fig = plt.figure(figsize=(10,8))\n",
    "ax = plt.axes(projection='3d')\n",
    "surf = ax.plot_trisurf(v['ID'], v['Minutes'], v['Speed'], cmap='jet')\n",
    "ax.set_yticks(np.arange(0,301,60),\n",
    "             ['8:30', '9:30', '10:30', '11:30', '12:30', '13:30'])\n",
    "ax.set_xticks(np.arange(1,15,1),\n",
    "              ['1', '2', '3', '4', '5', '6', '7',\n",
    "               '8', '9', '10', '11', '12', '13', '14'])\n",
    "ax.set_ylabel('\\nTime (HH:MM)', fontsize=16, linespacing=1.5)\n",
    "ax.set_xlabel('\\nLink', fontsize=16, linespacing=1.5)\n",
    "ax.set_zlabel('Speed (km/hr)', fontsize=16)\n",
    "\n",
    "ax.get_proj = lambda: np.dot(Axes3D.get_proj(ax),\n",
    "                             np.diag([1.2, 0.8, 1, 1]))\n",
    "\n",
    "ax.view_init(25, 45)\n",
    "fig.colorbar(surf, shrink=.55, aspect=8, anchor=(-1.2,0.5))\n",
    "#plt.savefig('fig/speed_3d_2.png', bbox_inches=\"tight\")\n",
    "plt.show()"
   ]
  },
  {
   "cell_type": "code",
   "execution_count": null,
   "id": "92068720",
   "metadata": {
    "ExecuteTime": {
     "end_time": "2022-01-25T09:50:13.941380Z",
     "start_time": "2022-01-25T09:50:13.369915Z"
    }
   },
   "outputs": [],
   "source": [
    "# 3D plot Occupancy 2\n",
    "plt.rcParams.update({'font.size': 14})\n",
    "from mpl_toolkits.mplot3d import Axes3D\n",
    "fig = plt.figure(figsize=(10,8))\n",
    "ax = plt.axes(projection='3d')\n",
    "surf = ax.plot_trisurf(v['ID'], v['Minutes'], v['Occupancy']/100, cmap='jet')\n",
    "ax.set_yticks(np.arange(0,301,60),\n",
    "             ['8:30', '9:30', '10:30', '11:30', '12:30', '13:30'])\n",
    "ax.set_xticks(np.arange(1,15,1),\n",
    "              ['1', '2', '3', '4', '5', '6', '7',\n",
    "               '8', '9', '10', '11', '12', '13', '14'])\n",
    "ax.set_ylabel('\\nTime (HH:MM)', fontsize=16, linespacing=1.5)\n",
    "ax.set_xlabel('\\nLink', fontsize=16, linespacing=1.5)\n",
    "ax.set_zlabel('\\nOccupancy (veh$\\cdot$km$\\cdot$100/area)', fontsize=16)\n",
    "\n",
    "ax.get_proj = lambda: np.dot(Axes3D.get_proj(ax),\n",
    "                             np.diag([1.2, 0.8, 1, 1]))\n",
    "\n",
    "ax.view_init(25, 45)\n",
    "fig.colorbar(surf, shrink=.5, aspect=8, anchor=(-1,0.5))\n",
    "#plt.savefig('fig/occupancy_3d_2.png', bbox_inches=\"tight\")\n",
    "plt.show()"
   ]
  },
  {
   "cell_type": "code",
   "execution_count": null,
   "id": "988ca678",
   "metadata": {
    "ExecuteTime": {
     "end_time": "2022-01-25T09:59:12.299316Z",
     "start_time": "2022-01-25T09:59:12.017195Z"
    },
    "scrolled": true
   },
   "outputs": [],
   "source": [
    "# 2D plot Volume\n",
    "plt.rcParams.update({'font.size': 12})\n",
    "fig, ax = plt.subplots(figsize=(12,6))\n",
    "p = sns.lineplot(data=v, x='DateTime', y='Volume', hue=v.ID.astype(str))\n",
    "ax.legend(loc='upper right', ncol=7).set_title('')\n",
    "ax.xaxis.set_major_formatter(mdates.DateFormatter('%H:%M'))\n",
    "ax.xaxis.set_major_locator(mdates.MinuteLocator(byminute=[30])) \n",
    "ax.set_ylabel('Volume (veh/min)', fontsize=16)\n",
    "ax.set_xlabel('Time (HH:MM)', fontsize=16)\n",
    "ax.grid()\n",
    "plt.show()"
   ]
  },
  {
   "cell_type": "markdown",
   "id": "ea82616c",
   "metadata": {},
   "source": [
    "#### Heat map"
   ]
  },
  {
   "cell_type": "code",
   "execution_count": null,
   "id": "871f74a5",
   "metadata": {
    "ExecuteTime": {
     "end_time": "2022-01-25T13:20:56.829206Z",
     "start_time": "2022-01-25T13:20:56.591971Z"
    }
   },
   "outputs": [],
   "source": [
    "# Volume\n",
    "piv = pd.pivot_table(v[['ID', 'DateTime', 'Volume']],\n",
    "                     index='DateTime', columns='ID', values='Volume')\n",
    "\n",
    "fig, ax = plt.subplots()\n",
    "hmap = ax.pcolormesh(piv.T, cmap='jet', vmin=0, vmax=v.Volume.max())\n",
    "ax.set_xticks(np.arange(0,301,60),\n",
    "             ['8:30', '9:30', '10:30', '11:30', '12:30', '13:30'])\n",
    "ax.set_yticks(np.arange(1,15,1)-0.5,\n",
    "              ['1', '2', '3', '4', '5', '6', '7',\n",
    "               '8', '9', '10', '11', '12', '13', '14'])\n",
    "ax.set_xlabel('Time (HH:MM)', fontsize=14)\n",
    "ax.set_ylabel('Link', fontsize=14)\n",
    "plt.colorbar(hmap)\n",
    "#plt.savefig('fig/volume_hmap.png', bbox_inches=\"tight\")\n",
    "plt.show()"
   ]
  },
  {
   "cell_type": "code",
   "execution_count": null,
   "id": "dfa2ce3a",
   "metadata": {
    "ExecuteTime": {
     "end_time": "2022-01-25T13:20:59.008330Z",
     "start_time": "2022-01-25T13:20:58.878996Z"
    }
   },
   "outputs": [],
   "source": [
    "# Speed\n",
    "piv = pd.pivot_table(v[['ID', 'DateTime', 'Speed']],\n",
    "                     index='DateTime', columns='ID', values='Speed')\n",
    "\n",
    "fig, ax = plt.subplots()\n",
    "hmap = ax.pcolormesh(piv.T, cmap='jet', vmin=0, vmax=v.Speed.max())\n",
    "ax.set_xticks(np.arange(0,301,60),\n",
    "             ['8:30', '9:30', '10:30', '11:30', '12:30', '13:30'])\n",
    "ax.set_yticks(np.arange(1,15,1)-0.5,\n",
    "              ['1', '2', '3', '4', '5', '6', '7',\n",
    "               '8', '9', '10', '11', '12', '13', '14'])\n",
    "ax.set_xlabel('Time (HH:MM)', fontsize=14)\n",
    "ax.set_ylabel('Link', fontsize=14)\n",
    "plt.colorbar(hmap)\n",
    "#plt.savefig('fig/speed_hmap.png', bbox_inches=\"tight\")\n",
    "plt.show()"
   ]
  },
  {
   "cell_type": "code",
   "execution_count": null,
   "id": "5734d589",
   "metadata": {
    "ExecuteTime": {
     "end_time": "2022-01-25T13:22:06.602637Z",
     "start_time": "2022-01-25T13:22:06.390701Z"
    }
   },
   "outputs": [],
   "source": [
    "# Density\n",
    "piv = pd.pivot_table(v[['ID', 'DateTime', 'Occupancy']],\n",
    "                     index='DateTime', columns='ID', values='Occupancy')\n",
    "\n",
    "piv = piv/700 * 1000\n",
    "fig, ax = plt.subplots()\n",
    "hmap = ax.pcolormesh(piv.T, cmap='jet', vmin=0, vmax=v.Occupancy.max()/700 *1000)\n",
    "ax.set_xticks(np.arange(0,301,60),\n",
    "             ['8:30', '9:30', '10:30', '11:30', '12:30', '13:30'])\n",
    "ax.set_yticks(np.arange(1,15,1)-0.5,\n",
    "              ['1', '2', '3', '4', '5', '6', '7',\n",
    "               '8', '9', '10', '11', '12', '13', '14'])\n",
    "ax.set_xlabel('Time (HH:MM)', fontsize=14)\n",
    "ax.set_ylabel('Link', fontsize=14)\n",
    "plt.colorbar(hmap)\n",
    "plt.savefig('fig/density_hmap.png', bbox_inches=\"tight\")\n",
    "plt.show()"
   ]
  },
  {
   "cell_type": "code",
   "execution_count": null,
   "id": "a482899b",
   "metadata": {
    "ExecuteTime": {
     "end_time": "2022-01-23T10:10:16.059481Z",
     "start_time": "2022-01-23T10:07:50.848759Z"
    }
   },
   "outputs": [],
   "source": [
    "# pd.plotting.scatter_matrix(df.iloc[:,3:6], alpha=0.05)\n",
    "# plt.show()"
   ]
  },
  {
   "cell_type": "code",
   "execution_count": null,
   "id": "d81de2ee",
   "metadata": {
    "ExecuteTime": {
     "end_time": "2022-01-23T10:24:15.640816Z",
     "start_time": "2022-01-23T10:20:11.664405Z"
    }
   },
   "outputs": [],
   "source": [
    "# variables = ['Volume', 'Speed', 'Occupancy']\n",
    "# g = sns.PairGrid(df, hue=\"Volume\", vars=variables)\n",
    "# g.map_diag(sns.histplot, hue=None, color=\".3\")\n",
    "# g.map_offdiag(sns.scatterplot)\n",
    "# g.add_legend()"
   ]
  },
  {
   "cell_type": "code",
   "execution_count": null,
   "id": "434b4a17",
   "metadata": {
    "ExecuteTime": {
     "end_time": "2022-01-23T13:24:44.634755Z",
     "start_time": "2022-01-23T13:24:43.519450Z"
    }
   },
   "outputs": [],
   "source": [
    "# df.iloc[:,3:6].plot.box(figsize=(6,6))\n",
    "# plt.show()"
   ]
  },
  {
   "cell_type": "code",
   "execution_count": null,
   "id": "a5ce5445",
   "metadata": {
    "ExecuteTime": {
     "end_time": "2022-01-23T13:24:11.618280Z",
     "start_time": "2022-01-23T13:24:11.553825Z"
    }
   },
   "outputs": [],
   "source": [
    "# plt.rcParams.update({'font.size': 14,\n",
    "#                     'lines.markersize': 5})\n",
    "# fig, ax = plt.subplots(1, 3, figsize=(6,8))\n",
    "# ax.boxplot(df.Volume)\n",
    "# ax.boxplot(df.Speed)\n",
    "# ax.boxplot(df.Occupancy)\n",
    "\n",
    "# plt.show()"
   ]
  },
  {
   "cell_type": "markdown",
   "id": "4785ae06",
   "metadata": {},
   "source": [
    "### Prepare the data for deep learning algorithms"
   ]
  },
  {
   "cell_type": "code",
   "execution_count": null,
   "id": "c9f427f7",
   "metadata": {
    "ExecuteTime": {
     "end_time": "2022-01-24T12:18:06.233142Z",
     "start_time": "2022-01-24T12:18:06.066843Z"
    }
   },
   "outputs": [],
   "source": [
    "# Drop Congestion column\n",
    "df.drop('Congestion', axis=1, inplace=True)"
   ]
  },
  {
   "cell_type": "code",
   "execution_count": null,
   "id": "6b87f515",
   "metadata": {
    "ExecuteTime": {
     "end_time": "2022-01-24T04:06:45.574450Z",
     "start_time": "2022-01-24T04:06:45.169563Z"
    }
   },
   "outputs": [],
   "source": [
    "# NaN TrafficCondition == 'All Lanes Open'\n",
    "# Replace duplicate conditions with sth more reasonable\n",
    "df.TrafficCondition = df.TrafficCondition.replace({\n",
    "    np.nan: 'All Lanes Open',\n",
    "    'All Lanes Open, Emergency Lane Blocked': 'Emergency Lane Blocked',\n",
    "    'Lane Closures Unknown, Lane(s) Blocked': 'Lane(s) Blocked',\n",
    "    'Lane(s) Blocked, All Lanes Open': 'Lane(s) Blocked',\n",
    "    'All Lanes Open, Lane(s) Blocked': 'Lane(s) Blocked',\n",
    "    'Emergency Lane Blocked, Emergency Lane Blocked': 'Emergency Lane Blocked',\n",
    "    'Lane Closures Unknown, All Lanes Open': 'All Lanes Open',\n",
    "    'Lane(s) Blocked, Lane(s) Blocked': 'Lane(s) Blocked'\n",
    "})\n",
    "\n",
    "df.TrafficCondition.value_counts()"
   ]
  },
  {
   "cell_type": "code",
   "execution_count": null,
   "id": "fbb9b064",
   "metadata": {
    "ExecuteTime": {
     "end_time": "2022-01-24T04:07:03.649871Z",
     "start_time": "2022-01-24T04:07:03.202105Z"
    }
   },
   "outputs": [],
   "source": [
    "# Replace everything else other than BDTA, DTLL and RC as Misc\n",
    "df.Incident_Type = df.Incident_Type.replace([\n",
    "    'Flooding /\\nStorm', 'Special Event /\\nPothole / Hazmat',\n",
    "    'Special Event /\\nPothole / Hazmat', 'Animal /\\n Livestock',\n",
    "    'Vehicle Fire'], 'Miscellaneous')\n",
    "\n",
    "df.Incident_Type = df.Incident_Type.replace({\n",
    "    'Flooding /\\nStorm, Road Crash': 'Road Crash, Miscellaneous',\n",
    "    'Miscellaneous, Break Down /\\n Tow Away': 'Break Down /\\n Tow Away, Miscellaneous',\n",
    "    'Flooding /\\nStorm, Break Down /\\n Tow Away': 'Break Down /\\n Tow Away, Miscellaneous',\n",
    "})\n",
    "df.Incident_Type.value_counts()"
   ]
  },
  {
   "cell_type": "code",
   "execution_count": null,
   "id": "7c65a326",
   "metadata": {
    "ExecuteTime": {
     "end_time": "2022-01-24T04:07:16.745527Z",
     "start_time": "2022-01-24T04:07:16.097854Z"
    }
   },
   "outputs": [],
   "source": [
    "# Count number of incidents by ', ' + 1\n",
    "df['Num_Incidents'] = df.Incident_Type.str.count(', ')\n",
    "df['Num_Incidents'] = df['Num_Incidents'] + 1\n",
    "df['Num_Incidents'] = df['Num_Incidents'].replace(np.nan, 0)\n",
    "df['Num_Incidents'].value_counts()"
   ]
  },
  {
   "cell_type": "code",
   "execution_count": null,
   "id": "d5f77372",
   "metadata": {
    "ExecuteTime": {
     "end_time": "2022-01-24T04:07:39.291962Z",
     "start_time": "2022-01-24T04:07:32.041014Z"
    },
    "scrolled": true
   },
   "outputs": [],
   "source": [
    "# Split string incident type into two columns by ', '\n",
    "df[['Incident_Type1','Incident_Type2']]=df['Incident_Type'].str.split(', ', 1, expand=True)"
   ]
  },
  {
   "cell_type": "code",
   "execution_count": null,
   "id": "5b379c05",
   "metadata": {
    "ExecuteTime": {
     "end_time": "2022-01-24T04:08:01.366328Z",
     "start_time": "2022-01-24T04:08:00.963253Z"
    }
   },
   "outputs": [],
   "source": [
    "# Drop Incident_Type column\n",
    "df.drop('Incident_Type', axis=1, inplace=True)"
   ]
  },
  {
   "cell_type": "code",
   "execution_count": null,
   "id": "a14795bb",
   "metadata": {
    "ExecuteTime": {
     "end_time": "2022-01-24T04:11:07.325094Z",
     "start_time": "2022-01-24T04:11:06.133553Z"
    },
    "scrolled": true
   },
   "outputs": [],
   "source": [
    "# Replace Incident_Type name for easier access\n",
    "\n",
    "df.Incident_Type1 = df.Incident_Type1.replace({\n",
    "    np.nan:'None1',\n",
    "    'Break Down /\\n Tow Away':'BDTA1',\n",
    "    'Debris /\\n Trees /\\n Lost Loads':'DTLL1',\n",
    "    'Road Crash':'RC1',\n",
    "    'Miscellaneous':'Misc1'\n",
    "})\n",
    "\n",
    "df.Incident_Type2 = df.Incident_Type2.replace({\n",
    "    np.nan:'None2',\n",
    "    'Break Down /\\n Tow Away':'BDTA2',\n",
    "    'Debris /\\n Trees /\\n Lost Loads':'DTLL2',\n",
    "    'Road Crash':'RC2',\n",
    "    'Miscellaneous':'Misc2'\n",
    "})"
   ]
  },
  {
   "cell_type": "code",
   "execution_count": null,
   "id": "3b62ebf3",
   "metadata": {
    "ExecuteTime": {
     "end_time": "2022-01-24T04:11:12.781990Z",
     "start_time": "2022-01-24T04:11:12.602357Z"
    }
   },
   "outputs": [],
   "source": [
    "df.Incident_Type1.value_counts()"
   ]
  },
  {
   "cell_type": "code",
   "execution_count": null,
   "id": "c98eb4e1",
   "metadata": {
    "ExecuteTime": {
     "end_time": "2022-01-24T04:11:18.939548Z",
     "start_time": "2022-01-24T04:11:18.754377Z"
    }
   },
   "outputs": [],
   "source": [
    "df.Incident_Type2.value_counts()"
   ]
  },
  {
   "cell_type": "code",
   "execution_count": null,
   "id": "30ae3fb7",
   "metadata": {
    "ExecuteTime": {
     "end_time": "2022-01-24T04:12:08.333600Z",
     "start_time": "2022-01-24T04:12:08.321627Z"
    }
   },
   "outputs": [],
   "source": [
    "df.info()"
   ]
  },
  {
   "cell_type": "markdown",
   "id": "de8b1ae3",
   "metadata": {},
   "source": [
    "#### Link 11"
   ]
  },
  {
   "cell_type": "markdown",
   "id": "c62c8d8c",
   "metadata": {},
   "source": [
    "Consider\n",
    "\n",
    "- Link-11's full data and Link-12's incidents (downstream) lagged by 2 minutes\n",
    "- Incident_Type1, Incident_Type2\n",
    "    + No Incidents\n",
    "    + Break Down / Tow Away\n",
    "    + Debris / Trees / Lost Loads\n",
    "    + Road Crash\n",
    "    + miscellaneous: everything else"
   ]
  },
  {
   "cell_type": "code",
   "execution_count": null,
   "id": "3941cc42",
   "metadata": {
    "ExecuteTime": {
     "end_time": "2022-01-24T04:20:26.788990Z",
     "start_time": "2022-01-24T04:20:26.713704Z"
    }
   },
   "outputs": [],
   "source": [
    "df11 = df[df.ID==11]\n",
    "df12 = df[df.ID==12]\n",
    "\n",
    "df11.drop('ID', axis=1, inplace=True)\n",
    "df11 = df11.set_index('DateTime')\n",
    "df11.index = pd.to_datetime(df11.index)\n",
    "if not df11.index.is_monotonic:\n",
    "    df11 = df11.sort_index()\n",
    "\n",
    "df11.info()"
   ]
  },
  {
   "cell_type": "code",
   "execution_count": null,
   "id": "0dd79966",
   "metadata": {
    "ExecuteTime": {
     "end_time": "2022-01-24T04:20:31.904626Z",
     "start_time": "2022-01-24T04:20:30.568449Z"
    },
    "scrolled": false
   },
   "outputs": [],
   "source": [
    "# Convert string columns to binary\n",
    "from sklearn.preprocessing import LabelBinarizer\n",
    "\n",
    "cond_enc = LabelBinarizer()\n",
    "inc1_enc = LabelBinarizer()\n",
    "\n",
    "df11 = df11.join(pd.DataFrame(cond_enc.fit_transform(df11['TrafficCondition']),\n",
    "                             columns=cond_enc.classes_,\n",
    "                             index=df11.index))\n",
    "\n",
    "df11 = df11.join(pd.DataFrame(inc1_enc.fit_transform(df11['Incident_Type1']),\n",
    "                             columns=inc1_enc.classes_,\n",
    "                             index=df11.index))\n",
    "\n",
    "df11['RC2'] = df11.Incident_Type2 == 'RC2'\n",
    "df11['RC2'] = df11['RC2'].astype(int)"
   ]
  },
  {
   "cell_type": "code",
   "execution_count": null,
   "id": "c66bc795",
   "metadata": {
    "ExecuteTime": {
     "end_time": "2022-01-24T05:34:47.692496Z",
     "start_time": "2022-01-24T05:34:47.646537Z"
    }
   },
   "outputs": [],
   "source": [
    "# Downstream incident\n",
    "import datetime\n",
    "df12['Downstream_Incident'] = (df12.Incident_Type1 != 'None1').astype(int)\n",
    "\n",
    "# DateTime column lag by 2 minutes\n",
    "df12.DateTime = df12.DateTime - datetime.timedelta(minutes=2)\n",
    "df12 = df12[['DateTime', 'Downstream_Incident']]\n",
    "\n",
    "# Merge data file\n",
    "df11ds = pd.merge(df11, df12, how='left', on=['DateTime'])"
   ]
  },
  {
   "cell_type": "code",
   "execution_count": null,
   "id": "fbdb208b",
   "metadata": {
    "ExecuteTime": {
     "end_time": "2022-01-24T06:15:54.466991Z",
     "start_time": "2022-01-24T06:15:52.251629Z"
    }
   },
   "outputs": [],
   "source": [
    "df11ds.to_csv('data/df11ds.csv')"
   ]
  },
  {
   "cell_type": "markdown",
   "id": "64d77f25",
   "metadata": {},
   "source": [
    "##### Explore Link 11"
   ]
  },
  {
   "cell_type": "code",
   "execution_count": null,
   "id": "e5caaa78",
   "metadata": {
    "ExecuteTime": {
     "end_time": "2022-01-24T07:47:34.874423Z",
     "start_time": "2022-01-24T07:47:34.855475Z"
    }
   },
   "outputs": [],
   "source": [
    "inc11 = df1[df1.ID == 11]"
   ]
  },
  {
   "cell_type": "code",
   "execution_count": null,
   "id": "313d3356",
   "metadata": {
    "ExecuteTime": {
     "end_time": "2022-01-24T07:52:03.918799Z",
     "start_time": "2022-01-24T07:52:03.902847Z"
    }
   },
   "outputs": [],
   "source": [
    "inc11.info()"
   ]
  },
  {
   "cell_type": "code",
   "execution_count": null,
   "id": "022a1de9",
   "metadata": {
    "ExecuteTime": {
     "end_time": "2022-01-24T07:57:42.687554Z",
     "start_time": "2022-01-24T07:57:42.678574Z"
    }
   },
   "outputs": [],
   "source": [
    "inc11['WST_Start'].dt.date.unique().shape"
   ]
  },
  {
   "cell_type": "markdown",
   "id": "3e5f9b4a",
   "metadata": {},
   "source": [
    "- There are 56 incidents occurred on link 11\n",
    "- 47 days that incidents(s) occurred between 1 Jan 2018 - 25 Oct 2018"
   ]
  },
  {
   "cell_type": "code",
   "execution_count": null,
   "id": "2f0d3a65",
   "metadata": {
    "ExecuteTime": {
     "end_time": "2022-01-24T10:38:56.068342Z",
     "start_time": "2022-01-24T10:38:56.047506Z"
    }
   },
   "outputs": [],
   "source": [
    "inc12 = df1[df1.ID == 12]\n",
    "inc12.tail(16)"
   ]
  },
  {
   "cell_type": "code",
   "execution_count": null,
   "id": "54243a7e",
   "metadata": {
    "ExecuteTime": {
     "end_time": "2022-01-24T07:48:23.140897Z",
     "start_time": "2022-01-24T07:48:23.119947Z"
    }
   },
   "outputs": [],
   "source": [
    "inc11.tail(10)"
   ]
  },
  {
   "cell_type": "code",
   "execution_count": null,
   "id": "b1ab0025",
   "metadata": {
    "ExecuteTime": {
     "end_time": "2022-01-24T07:46:59.914420Z",
     "start_time": "2022-01-24T07:46:59.330538Z"
    },
    "scrolled": true
   },
   "outputs": [],
   "source": [
    "df = pd.read_csv('data/df11ds.csv', index_col=0)\n",
    "df.info()"
   ]
  },
  {
   "cell_type": "code",
   "execution_count": null,
   "id": "a024603a",
   "metadata": {
    "ExecuteTime": {
     "end_time": "2022-01-24T08:02:13.247657Z",
     "start_time": "2022-01-24T08:02:13.046131Z"
    }
   },
   "outputs": [],
   "source": [
    "df.DateTime = pd.to_datetime(df.DateTime, format=\"%Y-%m-%d %H:%M:%S\")\n",
    "# Set DateTime as index and sort\n",
    "df = df.set_index('DateTime')\n",
    "df.index = pd.to_datetime(df.index)\n",
    "if not df.index.is_monotonic:\n",
    "    df = df.sort_index()"
   ]
  },
  {
   "cell_type": "code",
   "execution_count": null,
   "id": "c8d85903",
   "metadata": {
    "ExecuteTime": {
     "end_time": "2022-01-24T08:02:47.293226Z",
     "start_time": "2022-01-24T08:02:47.214197Z"
    }
   },
   "outputs": [],
   "source": [
    "df.info()"
   ]
  },
  {
   "cell_type": "code",
   "execution_count": null,
   "id": "09febf00",
   "metadata": {
    "ExecuteTime": {
     "end_time": "2022-01-24T08:04:46.106374Z",
     "start_time": "2022-01-24T08:04:46.096397Z"
    }
   },
   "outputs": [],
   "source": [
    "date_ls = inc11['WST_Start'].dt.date.unique()\n",
    "date_ls"
   ]
  },
  {
   "cell_type": "markdown",
   "id": "0f9bbbdc",
   "metadata": {},
   "source": [
    "For days that have incidents, plot traffic data."
   ]
  },
  {
   "cell_type": "code",
   "execution_count": null,
   "id": "1a195676",
   "metadata": {
    "ExecuteTime": {
     "end_time": "2022-01-24T08:07:24.255653Z",
     "start_time": "2022-01-24T08:07:24.141969Z"
    }
   },
   "outputs": [],
   "source": [
    "df[df.index.date == date_ls[0]]"
   ]
  },
  {
   "cell_type": "code",
   "execution_count": null,
   "id": "33026b3b",
   "metadata": {
    "ExecuteTime": {
     "end_time": "2022-01-24T10:37:18.592964Z",
     "start_time": "2022-01-24T10:37:17.722155Z"
    }
   },
   "outputs": [],
   "source": [
    "mpl.rcParams[\"lines.markersize\"] = 2\n",
    "def day_plot(df, idx):\n",
    "    temp = df[df.index.date == date_ls[idx]]\n",
    "    fig, ax = plt.subplots(figsize=(10,3))\n",
    "    # Base Volume plot\n",
    "    ax.plot(temp.Volume, zorder=1)\n",
    "    ax.set_title(f'{date_ls[idx]}')\n",
    "    ax.xaxis.set_major_formatter(mdates.DateFormatter('%H:%M'))\n",
    "    for i in range(0, len(temp)):\n",
    "        if temp.Incident_Type1[i] != 'None1':\n",
    "            ax.scatter(temp.index[i], temp.iloc[i, 1], zorder=2,\n",
    "                      color = 'red', marker='.', label='Incident')\n",
    "        elif temp.Incident_Type2[i] != 'None2':\n",
    "            ax.scatter(temp.index[i], temp.iloc[i, 1], zorder=2,\n",
    "                      color = 'red', marker='.', label='Incident')\n",
    "        elif temp.Downstream_Incident[i] == 1:\n",
    "            ax.scatter(temp.index[i], temp.iloc[i, 1], zorder=2,\n",
    "                      color = 'green', marker='.')\n",
    "    \n",
    "    plt.show()\n",
    "\n",
    "day_plot(df, 41)"
   ]
  },
  {
   "cell_type": "markdown",
   "id": "892746eb",
   "metadata": {},
   "source": [
    "#### Link 1"
   ]
  },
  {
   "cell_type": "code",
   "execution_count": null,
   "id": "383cf8c6",
   "metadata": {
    "ExecuteTime": {
     "end_time": "2022-01-24T12:22:10.989102Z",
     "start_time": "2022-01-24T12:22:10.882381Z"
    }
   },
   "outputs": [],
   "source": [
    "df1 = df[df.ID==1]\n",
    "df1.drop('ID', axis=1, inplace=True)\n",
    "df1 = df1.set_index('DateTime')\n",
    "df1.index = pd.to_datetime(df1.index)\n",
    "if not df1.index.is_monotonic:\n",
    "    df1 = df1.sort_index()\n",
    "    \n",
    "df1 = df1[['Volume']]\n",
    "df1 = df1.loc['2018-08-27 08:30:00':'2018-08-27 13:30:00']\n",
    "df1 = df1.groupby(df1.index.floor('15T').time).sum()\n",
    "\n",
    "df1.info()"
   ]
  },
  {
   "cell_type": "code",
   "execution_count": null,
   "id": "6a19c5cc",
   "metadata": {
    "ExecuteTime": {
     "end_time": "2022-01-24T12:26:13.698442Z",
     "start_time": "2022-01-24T12:26:13.690464Z"
    }
   },
   "outputs": [],
   "source": [
    "df1.to_csv('data/Link1_vol.csv')"
   ]
  }
 ],
 "metadata": {
  "hide_input": false,
  "kernelspec": {
   "display_name": "Python 3 (ipykernel)",
   "language": "python",
   "name": "python3"
  },
  "language_info": {
   "codemirror_mode": {
    "name": "ipython",
    "version": 3
   },
   "file_extension": ".py",
   "mimetype": "text/x-python",
   "name": "python",
   "nbconvert_exporter": "python",
   "pygments_lexer": "ipython3",
   "version": "3.8.5"
  },
  "latex_envs": {
   "LaTeX_envs_menu_present": true,
   "autoclose": false,
   "autocomplete": true,
   "bibliofile": "biblio.bib",
   "cite_by": "apalike",
   "current_citInitial": 1,
   "eqLabelWithNumbers": true,
   "eqNumInitial": 1,
   "hotkeys": {
    "equation": "Ctrl-E",
    "itemize": "Ctrl-I"
   },
   "labels_anchors": false,
   "latex_user_defs": false,
   "report_style_numbering": false,
   "user_envs_cfg": false
  },
  "toc": {
   "base_numbering": 1,
   "nav_menu": {},
   "number_sections": true,
   "sideBar": true,
   "skip_h1_title": false,
   "title_cell": "Table of Contents",
   "title_sidebar": "Contents",
   "toc_cell": false,
   "toc_position": {
    "height": "calc(100% - 180px)",
    "left": "10px",
    "top": "150px",
    "width": "179.42px"
   },
   "toc_section_display": true,
   "toc_window_display": true
  },
  "varInspector": {
   "cols": {
    "lenName": 16,
    "lenType": 16,
    "lenVar": 40
   },
   "kernels_config": {
    "python": {
     "delete_cmd_postfix": "",
     "delete_cmd_prefix": "del ",
     "library": "var_list.py",
     "varRefreshCmd": "print(var_dic_list())"
    },
    "r": {
     "delete_cmd_postfix": ") ",
     "delete_cmd_prefix": "rm(",
     "library": "var_list.r",
     "varRefreshCmd": "cat(var_dic_list()) "
    }
   },
   "position": {
    "height": "269.855px",
    "left": "543.136px",
    "right": "20px",
    "top": "120px",
    "width": "334.007px"
   },
   "types_to_exclude": [
    "module",
    "function",
    "builtin_function_or_method",
    "instance",
    "_Feature"
   ],
   "window_display": false
  }
 },
 "nbformat": 4,
 "nbformat_minor": 5
}
